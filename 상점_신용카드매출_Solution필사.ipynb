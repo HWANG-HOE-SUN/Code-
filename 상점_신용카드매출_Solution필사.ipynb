{
  "nbformat": 4,
  "nbformat_minor": 0,
  "metadata": {
    "colab": {
      "name": "상점_신용카드매출_Solution필사.ipynb",
      "provenance": [],
      "collapsed_sections": [],
      "authorship_tag": "ABX9TyOWABcVwc5XzpR3X7v1hsT9",
      "include_colab_link": true
    },
    "kernelspec": {
      "name": "python3",
      "display_name": "Python 3"
    },
    "language_info": {
      "name": "python"
    }
  },
  "cells": [
    {
      "cell_type": "markdown",
      "metadata": {
        "id": "view-in-github",
        "colab_type": "text"
      },
      "source": [
        "<a href=\"https://colab.research.google.com/github/HWANG-HOE-SUN/Code-/blob/main/%EC%83%81%EC%A0%90_%EC%8B%A0%EC%9A%A9%EC%B9%B4%EB%93%9C%EB%A7%A4%EC%B6%9C_Solution%ED%95%84%EC%82%AC.ipynb\" target=\"_parent\"><img src=\"https://colab.research.google.com/assets/colab-badge.svg\" alt=\"Open In Colab\"/></a>"
      ]
    },
    {
      "cell_type": "code",
      "metadata": {
        "id": "FupXGesHxz4Z"
      },
      "source": [
        "import pandas as pd\n",
        "import os\n",
        "import warnings\n",
        "\n",
        "warnings.filterwarnings('ignore')"
      ],
      "execution_count": 1,
      "outputs": []
    },
    {
      "cell_type": "code",
      "metadata": {
        "id": "f66fd-BF2hvk"
      },
      "source": [
        "train = pd.read_csv('/content/funda_train.csv')\n",
        "submission = pd.read_csv('/content/submission.csv')"
      ],
      "execution_count": 17,
      "outputs": []
    },
    {
      "cell_type": "code",
      "metadata": {
        "colab": {
          "base_uri": "https://localhost:8080/"
        },
        "id": "BBVJ6fQg11Wm",
        "outputId": "b21ac601-afa1-41ff-faea-c8f6f0f75fd9"
      },
      "source": [
        "train.shape"
      ],
      "execution_count": 18,
      "outputs": [
        {
          "output_type": "execute_result",
          "data": {
            "text/plain": [
              "(365125, 9)"
            ]
          },
          "metadata": {},
          "execution_count": 18
        }
      ]
    },
    {
      "cell_type": "code",
      "metadata": {
        "colab": {
          "base_uri": "https://localhost:8080/",
          "height": 224
        },
        "id": "l9z9dxTT13OG",
        "outputId": "3974af75-a6a2-4c60-ef00-8fcbd0551d7f"
      },
      "source": [
        "train.tail()"
      ],
      "execution_count": 19,
      "outputs": [
        {
          "output_type": "execute_result",
          "data": {
            "text/html": [
              "<div>\n",
              "<style scoped>\n",
              "    .dataframe tbody tr th:only-of-type {\n",
              "        vertical-align: middle;\n",
              "    }\n",
              "\n",
              "    .dataframe tbody tr th {\n",
              "        vertical-align: top;\n",
              "    }\n",
              "\n",
              "    .dataframe thead th {\n",
              "        text-align: right;\n",
              "    }\n",
              "</style>\n",
              "<table border=\"1\" class=\"dataframe\">\n",
              "  <thead>\n",
              "    <tr style=\"text-align: right;\">\n",
              "      <th></th>\n",
              "      <th>store_id</th>\n",
              "      <th>card_id</th>\n",
              "      <th>card_company</th>\n",
              "      <th>transacted_date</th>\n",
              "      <th>transacted_time</th>\n",
              "      <th>installment_term</th>\n",
              "      <th>region</th>\n",
              "      <th>type_of_business</th>\n",
              "      <th>amount</th>\n",
              "    </tr>\n",
              "  </thead>\n",
              "  <tbody>\n",
              "    <tr>\n",
              "      <th>365120</th>\n",
              "      <td>102</td>\n",
              "      <td>254609</td>\n",
              "      <td>a</td>\n",
              "      <td>2017-08-14</td>\n",
              "      <td>20:25</td>\n",
              "      <td>0</td>\n",
              "      <td>NaN</td>\n",
              "      <td>NaN</td>\n",
              "      <td>7142.857143</td>\n",
              "    </tr>\n",
              "    <tr>\n",
              "      <th>365121</th>\n",
              "      <td>102</td>\n",
              "      <td>254610</td>\n",
              "      <td>c</td>\n",
              "      <td>2017-08-15</td>\n",
              "      <td>14:27</td>\n",
              "      <td>0</td>\n",
              "      <td>NaN</td>\n",
              "      <td>NaN</td>\n",
              "      <td>3571.428571</td>\n",
              "    </tr>\n",
              "    <tr>\n",
              "      <th>365122</th>\n",
              "      <td>102</td>\n",
              "      <td>254611</td>\n",
              "      <td>b</td>\n",
              "      <td>2017-08-15</td>\n",
              "      <td>17:42</td>\n",
              "      <td>0</td>\n",
              "      <td>NaN</td>\n",
              "      <td>NaN</td>\n",
              "      <td>2857.142857</td>\n",
              "    </tr>\n",
              "    <tr>\n",
              "      <th>365123</th>\n",
              "      <td>102</td>\n",
              "      <td>254501</td>\n",
              "      <td>g</td>\n",
              "      <td>2017-08-15</td>\n",
              "      <td>19:01</td>\n",
              "      <td>0</td>\n",
              "      <td>NaN</td>\n",
              "      <td>NaN</td>\n",
              "      <td>1428.571429</td>\n",
              "    </tr>\n",
              "    <tr>\n",
              "      <th>365124</th>\n",
              "      <td>102</td>\n",
              "      <td>254612</td>\n",
              "      <td>g</td>\n",
              "      <td>2017-08-15</td>\n",
              "      <td>19:14</td>\n",
              "      <td>0</td>\n",
              "      <td>NaN</td>\n",
              "      <td>NaN</td>\n",
              "      <td>35.000000</td>\n",
              "    </tr>\n",
              "  </tbody>\n",
              "</table>\n",
              "</div>"
            ],
            "text/plain": [
              "        store_id  card_id card_company  ... region type_of_business       amount\n",
              "365120       102   254609            a  ...    NaN              NaN  7142.857143\n",
              "365121       102   254610            c  ...    NaN              NaN  3571.428571\n",
              "365122       102   254611            b  ...    NaN              NaN  2857.142857\n",
              "365123       102   254501            g  ...    NaN              NaN  1428.571429\n",
              "365124       102   254612            g  ...    NaN              NaN    35.000000\n",
              "\n",
              "[5 rows x 9 columns]"
            ]
          },
          "metadata": {},
          "execution_count": 19
        }
      ]
    },
    {
      "cell_type": "code",
      "metadata": {
        "colab": {
          "base_uri": "https://localhost:8080/"
        },
        "id": "95sRDM8eewqR",
        "outputId": "e1faa635-7f50-47c0-cc70-f34b02f0ebd3"
      },
      "source": [
        "train.info()"
      ],
      "execution_count": 21,
      "outputs": [
        {
          "output_type": "stream",
          "text": [
            "<class 'pandas.core.frame.DataFrame'>\n",
            "RangeIndex: 365125 entries, 0 to 365124\n",
            "Data columns (total 9 columns):\n",
            " #   Column            Non-Null Count   Dtype  \n",
            "---  ------            --------------   -----  \n",
            " 0   store_id          365125 non-null  int64  \n",
            " 1   card_id           365125 non-null  int64  \n",
            " 2   card_company      365125 non-null  object \n",
            " 3   transacted_date   365125 non-null  object \n",
            " 4   transacted_time   365125 non-null  object \n",
            " 5   installment_term  365125 non-null  int64  \n",
            " 6   region            269959 non-null  object \n",
            " 7   type_of_business  138857 non-null  object \n",
            " 8   amount            365125 non-null  float64\n",
            "dtypes: float64(1), int64(3), object(5)\n",
            "memory usage: 25.1+ MB\n"
          ],
          "name": "stdout"
        }
      ]
    },
    {
      "cell_type": "code",
      "metadata": {
        "colab": {
          "base_uri": "https://localhost:8080/",
          "height": 297
        },
        "id": "yT1qqLJc2vuf",
        "outputId": "2f4e629a-bd4a-479e-8a18-5451662a5f5b"
      },
      "source": [
        "train.describe()"
      ],
      "execution_count": 22,
      "outputs": [
        {
          "output_type": "execute_result",
          "data": {
            "text/html": [
              "<div>\n",
              "<style scoped>\n",
              "    .dataframe tbody tr th:only-of-type {\n",
              "        vertical-align: middle;\n",
              "    }\n",
              "\n",
              "    .dataframe tbody tr th {\n",
              "        vertical-align: top;\n",
              "    }\n",
              "\n",
              "    .dataframe thead th {\n",
              "        text-align: right;\n",
              "    }\n",
              "</style>\n",
              "<table border=\"1\" class=\"dataframe\">\n",
              "  <thead>\n",
              "    <tr style=\"text-align: right;\">\n",
              "      <th></th>\n",
              "      <th>store_id</th>\n",
              "      <th>card_id</th>\n",
              "      <th>installment_term</th>\n",
              "      <th>amount</th>\n",
              "    </tr>\n",
              "  </thead>\n",
              "  <tbody>\n",
              "    <tr>\n",
              "      <th>count</th>\n",
              "      <td>365125.000000</td>\n",
              "      <td>365125.000000</td>\n",
              "      <td>365125.000000</td>\n",
              "      <td>3.651250e+05</td>\n",
              "    </tr>\n",
              "    <tr>\n",
              "      <th>mean</th>\n",
              "      <td>51.212116</td>\n",
              "      <td>130567.754977</td>\n",
              "      <td>0.147059</td>\n",
              "      <td>9.925018e+03</td>\n",
              "    </tr>\n",
              "    <tr>\n",
              "      <th>std</th>\n",
              "      <td>29.723009</td>\n",
              "      <td>72060.215885</td>\n",
              "      <td>1.266552</td>\n",
              "      <td>2.824067e+04</td>\n",
              "    </tr>\n",
              "    <tr>\n",
              "      <th>min</th>\n",
              "      <td>0.000000</td>\n",
              "      <td>0.000000</td>\n",
              "      <td>0.000000</td>\n",
              "      <td>-1.016298e+06</td>\n",
              "    </tr>\n",
              "    <tr>\n",
              "      <th>25%</th>\n",
              "      <td>27.000000</td>\n",
              "      <td>67269.000000</td>\n",
              "      <td>0.000000</td>\n",
              "      <td>1.714286e+03</td>\n",
              "    </tr>\n",
              "    <tr>\n",
              "      <th>50%</th>\n",
              "      <td>50.000000</td>\n",
              "      <td>131658.000000</td>\n",
              "      <td>0.000000</td>\n",
              "      <td>3.714286e+03</td>\n",
              "    </tr>\n",
              "    <tr>\n",
              "      <th>75%</th>\n",
              "      <td>80.000000</td>\n",
              "      <td>196139.000000</td>\n",
              "      <td>0.000000</td>\n",
              "      <td>8.142857e+03</td>\n",
              "    </tr>\n",
              "    <tr>\n",
              "      <th>max</th>\n",
              "      <td>102.000000</td>\n",
              "      <td>254612.000000</td>\n",
              "      <td>60.000000</td>\n",
              "      <td>1.214286e+06</td>\n",
              "    </tr>\n",
              "  </tbody>\n",
              "</table>\n",
              "</div>"
            ],
            "text/plain": [
              "            store_id        card_id  installment_term        amount\n",
              "count  365125.000000  365125.000000     365125.000000  3.651250e+05\n",
              "mean       51.212116  130567.754977          0.147059  9.925018e+03\n",
              "std        29.723009   72060.215885          1.266552  2.824067e+04\n",
              "min         0.000000       0.000000          0.000000 -1.016298e+06\n",
              "25%        27.000000   67269.000000          0.000000  1.714286e+03\n",
              "50%        50.000000  131658.000000          0.000000  3.714286e+03\n",
              "75%        80.000000  196139.000000          0.000000  8.142857e+03\n",
              "max       102.000000  254612.000000         60.000000  1.214286e+06"
            ]
          },
          "metadata": {},
          "execution_count": 22
        }
      ]
    },
    {
      "cell_type": "markdown",
      "metadata": {
        "id": "itO3YGuo5HYz"
      },
      "source": [
        "### 자체 개발 EDA"
      ]
    },
    {
      "cell_type": "code",
      "metadata": {
        "id": "dUe7Jvnw3Sqk"
      },
      "source": [
        "def calcul_column_len(df,colname): # unique 데이터 갯수 반환\n",
        "  df_col = df[colname]\n",
        "  cols = df_col.unique()\n",
        "  return len(cols)"
      ],
      "execution_count": 6,
      "outputs": []
    },
    {
      "cell_type": "code",
      "metadata": {
        "colab": {
          "base_uri": "https://localhost:8080/"
        },
        "id": "_W5DUaNwewoN",
        "outputId": "ff0de36e-10ae-4cbd-c186-bf9b15e9a6f8"
      },
      "source": [
        "for i in train.columns:\n",
        "  result_str = f'{i} 수: ' + str(calcul_column_len(train,i))\n",
        "  print(result_str)"
      ],
      "execution_count": 7,
      "outputs": [
        {
          "output_type": "stream",
          "text": [
            "store_id 수: 6\n",
            "card_id 수: 10002\n",
            "card_company 수: 8\n",
            "transacted_date 수: 996\n",
            "transacted_time 수: 848\n",
            "installment_term 수: 9\n",
            "region 수: 3\n",
            "type_of_business 수: 3\n",
            "amount 수: 374\n"
          ],
          "name": "stdout"
        }
      ]
    },
    {
      "cell_type": "markdown",
      "metadata": {
        "id": "6Lhfr7WG5xKG"
      },
      "source": [
        "## 분석 환경 설정 ( 1등 알고리즘 ) "
      ]
    },
    {
      "cell_type": "code",
      "metadata": {
        "id": "A-wJNsze5zRc",
        "colab": {
          "base_uri": "https://localhost:8080/"
        },
        "outputId": "b0629814-79a3-4326-efff-bbcc7851e748"
      },
      "source": [
        "pip install tzlocal"
      ],
      "execution_count": 8,
      "outputs": [
        {
          "output_type": "stream",
          "text": [
            "Requirement already satisfied: tzlocal in /usr/local/lib/python3.7/dist-packages (1.5.1)\n",
            "Requirement already satisfied: pytz in /usr/local/lib/python3.7/dist-packages (from tzlocal) (2018.9)\n"
          ],
          "name": "stdout"
        }
      ]
    },
    {
      "cell_type": "code",
      "metadata": {
        "id": "Kar_ov3FflpB",
        "colab": {
          "base_uri": "https://localhost:8080/"
        },
        "outputId": "91382f4f-c0d7-4607-e237-bc0d368cab87"
      },
      "source": [
        "pip install pmdarima"
      ],
      "execution_count": 9,
      "outputs": [
        {
          "output_type": "stream",
          "text": [
            "Collecting pmdarima\n",
            "  Downloading pmdarima-1.8.2-cp37-cp37m-manylinux1_x86_64.whl (1.5 MB)\n",
            "\u001b[K     |████████████████████████████████| 1.5 MB 4.5 MB/s \n",
            "\u001b[?25hRequirement already satisfied: urllib3 in /usr/local/lib/python3.7/dist-packages (from pmdarima) (1.24.3)\n",
            "Requirement already satisfied: scikit-learn>=0.22 in /usr/local/lib/python3.7/dist-packages (from pmdarima) (0.22.2.post1)\n",
            "Requirement already satisfied: numpy~=1.19.0 in /usr/local/lib/python3.7/dist-packages (from pmdarima) (1.19.5)\n",
            "Requirement already satisfied: scipy>=1.3.2 in /usr/local/lib/python3.7/dist-packages (from pmdarima) (1.4.1)\n",
            "Requirement already satisfied: Cython!=0.29.18,>=0.29 in /usr/local/lib/python3.7/dist-packages (from pmdarima) (0.29.24)\n",
            "Requirement already satisfied: joblib>=0.11 in /usr/local/lib/python3.7/dist-packages (from pmdarima) (1.0.1)\n",
            "Collecting statsmodels!=0.12.0,>=0.11\n",
            "  Downloading statsmodels-0.12.2-cp37-cp37m-manylinux1_x86_64.whl (9.5 MB)\n",
            "\u001b[K     |████████████████████████████████| 9.5 MB 44.2 MB/s \n",
            "\u001b[?25hRequirement already satisfied: setuptools!=50.0.0,>=38.6.0 in /usr/local/lib/python3.7/dist-packages (from pmdarima) (57.4.0)\n",
            "Requirement already satisfied: pandas>=0.19 in /usr/local/lib/python3.7/dist-packages (from pmdarima) (1.1.5)\n",
            "Requirement already satisfied: python-dateutil>=2.7.3 in /usr/local/lib/python3.7/dist-packages (from pandas>=0.19->pmdarima) (2.8.2)\n",
            "Requirement already satisfied: pytz>=2017.2 in /usr/local/lib/python3.7/dist-packages (from pandas>=0.19->pmdarima) (2018.9)\n",
            "Requirement already satisfied: six>=1.5 in /usr/local/lib/python3.7/dist-packages (from python-dateutil>=2.7.3->pandas>=0.19->pmdarima) (1.15.0)\n",
            "Requirement already satisfied: patsy>=0.5 in /usr/local/lib/python3.7/dist-packages (from statsmodels!=0.12.0,>=0.11->pmdarima) (0.5.1)\n",
            "Installing collected packages: statsmodels, pmdarima\n",
            "  Attempting uninstall: statsmodels\n",
            "    Found existing installation: statsmodels 0.10.2\n",
            "    Uninstalling statsmodels-0.10.2:\n",
            "      Successfully uninstalled statsmodels-0.10.2\n",
            "Successfully installed pmdarima-1.8.2 statsmodels-0.12.2\n"
          ],
          "name": "stdout"
        }
      ]
    },
    {
      "cell_type": "code",
      "metadata": {
        "colab": {
          "base_uri": "https://localhost:8080/"
        },
        "id": "mjXLa1Z9f3ct",
        "outputId": "f2291c9c-6cd7-494e-bdc1-c4597e65bd18"
      },
      "source": [
        "pip install statsmodels"
      ],
      "execution_count": 10,
      "outputs": [
        {
          "output_type": "stream",
          "text": [
            "Requirement already satisfied: statsmodels in /usr/local/lib/python3.7/dist-packages (0.12.2)\n",
            "Requirement already satisfied: numpy>=1.15 in /usr/local/lib/python3.7/dist-packages (from statsmodels) (1.19.5)\n",
            "Requirement already satisfied: pandas>=0.21 in /usr/local/lib/python3.7/dist-packages (from statsmodels) (1.1.5)\n",
            "Requirement already satisfied: patsy>=0.5 in /usr/local/lib/python3.7/dist-packages (from statsmodels) (0.5.1)\n",
            "Requirement already satisfied: scipy>=1.1 in /usr/local/lib/python3.7/dist-packages (from statsmodels) (1.4.1)\n",
            "Requirement already satisfied: pytz>=2017.2 in /usr/local/lib/python3.7/dist-packages (from pandas>=0.21->statsmodels) (2018.9)\n",
            "Requirement already satisfied: python-dateutil>=2.7.3 in /usr/local/lib/python3.7/dist-packages (from pandas>=0.21->statsmodels) (2.8.2)\n",
            "Requirement already satisfied: six in /usr/local/lib/python3.7/dist-packages (from patsy>=0.5->statsmodels) (1.15.0)\n"
          ],
          "name": "stdout"
        }
      ]
    },
    {
      "cell_type": "code",
      "metadata": {
        "colab": {
          "base_uri": "https://localhost:8080/"
        },
        "id": "E_IvQwNPf3bC",
        "outputId": "814e9215-1e76-4e18-9f71-0abb894aaeaf"
      },
      "source": [
        "pip install tqdm"
      ],
      "execution_count": 11,
      "outputs": [
        {
          "output_type": "stream",
          "text": [
            "Requirement already satisfied: tqdm in /usr/local/lib/python3.7/dist-packages (4.62.0)\n"
          ],
          "name": "stdout"
        }
      ]
    },
    {
      "cell_type": "code",
      "metadata": {
        "id": "iLQ7QwcgfOK-"
      },
      "source": [
        "import rpy2"
      ],
      "execution_count": 12,
      "outputs": []
    },
    {
      "cell_type": "code",
      "metadata": {
        "colab": {
          "base_uri": "https://localhost:8080/",
          "height": 35
        },
        "id": "Wdrng1i0fQXm",
        "outputId": "fd3ef69d-5cb4-4322-adb3-7816725e044c"
      },
      "source": [
        "rpy2.__version__"
      ],
      "execution_count": 13,
      "outputs": [
        {
          "output_type": "execute_result",
          "data": {
            "application/vnd.google.colaboratory.intrinsic+json": {
              "type": "string"
            },
            "text/plain": [
              "'3.4.5'"
            ]
          },
          "metadata": {},
          "execution_count": 13
        }
      ]
    },
    {
      "cell_type": "code",
      "metadata": {
        "colab": {
          "base_uri": "https://localhost:8080/"
        },
        "id": "MZbGf9D8fRta",
        "outputId": "5d367518-a3a9-4cde-c32d-58b56db6641d"
      },
      "source": [
        "import pandas as pd\n",
        "import numpy as np\n",
        "\n",
        "pd.__version__, np.__version__"
      ],
      "execution_count": 14,
      "outputs": [
        {
          "output_type": "execute_result",
          "data": {
            "text/plain": [
              "('1.1.5', '1.19.5')"
            ]
          },
          "metadata": {},
          "execution_count": 14
        }
      ]
    },
    {
      "cell_type": "code",
      "metadata": {
        "colab": {
          "base_uri": "https://localhost:8080/",
          "height": 35
        },
        "id": "eE9d9Pq5fZcW",
        "outputId": "90344fdf-7ab8-4ee6-8c87-5833ef3a8c24"
      },
      "source": [
        "import pmdarima\n",
        "\n",
        "pmdarima.__version__"
      ],
      "execution_count": 15,
      "outputs": [
        {
          "output_type": "execute_result",
          "data": {
            "application/vnd.google.colaboratory.intrinsic+json": {
              "type": "string"
            },
            "text/plain": [
              "'1.8.2'"
            ]
          },
          "metadata": {},
          "execution_count": 15
        }
      ]
    },
    {
      "cell_type": "code",
      "metadata": {
        "colab": {
          "base_uri": "https://localhost:8080/"
        },
        "id": "tnDIha4xfjzE",
        "outputId": "bf890530-de8c-4834-91a4-c8e9a852ba22"
      },
      "source": [
        "import statsmodels\n",
        "import tqdm\n",
        "import seaborn as sns\n",
        "\n",
        "statsmodels.__version__, tqdm.__version__, sns.__version__"
      ],
      "execution_count": 16,
      "outputs": [
        {
          "output_type": "execute_result",
          "data": {
            "text/plain": [
              "('0.12.2', '4.62.0', '0.11.1')"
            ]
          },
          "metadata": {},
          "execution_count": 16
        }
      ]
    },
    {
      "cell_type": "markdown",
      "metadata": {
        "id": "mo2CTgsJqwr3"
      },
      "source": [
        "### 시작"
      ]
    },
    {
      "cell_type": "code",
      "metadata": {
        "id": "9flBTFlOqxdp",
        "colab": {
          "base_uri": "https://localhost:8080/",
          "height": 224
        },
        "outputId": "a639540e-e8a8-4f9f-cc60-b9893223ade1"
      },
      "source": [
        "from tqdm import tqdm \n",
        "train.head()"
      ],
      "execution_count": 23,
      "outputs": [
        {
          "output_type": "execute_result",
          "data": {
            "text/html": [
              "<div>\n",
              "<style scoped>\n",
              "    .dataframe tbody tr th:only-of-type {\n",
              "        vertical-align: middle;\n",
              "    }\n",
              "\n",
              "    .dataframe tbody tr th {\n",
              "        vertical-align: top;\n",
              "    }\n",
              "\n",
              "    .dataframe thead th {\n",
              "        text-align: right;\n",
              "    }\n",
              "</style>\n",
              "<table border=\"1\" class=\"dataframe\">\n",
              "  <thead>\n",
              "    <tr style=\"text-align: right;\">\n",
              "      <th></th>\n",
              "      <th>store_id</th>\n",
              "      <th>card_id</th>\n",
              "      <th>card_company</th>\n",
              "      <th>transacted_date</th>\n",
              "      <th>transacted_time</th>\n",
              "      <th>installment_term</th>\n",
              "      <th>region</th>\n",
              "      <th>type_of_business</th>\n",
              "      <th>amount</th>\n",
              "    </tr>\n",
              "  </thead>\n",
              "  <tbody>\n",
              "    <tr>\n",
              "      <th>0</th>\n",
              "      <td>0</td>\n",
              "      <td>0</td>\n",
              "      <td>b</td>\n",
              "      <td>2016-06-01</td>\n",
              "      <td>13:13</td>\n",
              "      <td>0</td>\n",
              "      <td>NaN</td>\n",
              "      <td>기타 미용업</td>\n",
              "      <td>1857.142857</td>\n",
              "    </tr>\n",
              "    <tr>\n",
              "      <th>1</th>\n",
              "      <td>0</td>\n",
              "      <td>1</td>\n",
              "      <td>h</td>\n",
              "      <td>2016-06-01</td>\n",
              "      <td>18:12</td>\n",
              "      <td>0</td>\n",
              "      <td>NaN</td>\n",
              "      <td>기타 미용업</td>\n",
              "      <td>857.142857</td>\n",
              "    </tr>\n",
              "    <tr>\n",
              "      <th>2</th>\n",
              "      <td>0</td>\n",
              "      <td>2</td>\n",
              "      <td>c</td>\n",
              "      <td>2016-06-01</td>\n",
              "      <td>18:52</td>\n",
              "      <td>0</td>\n",
              "      <td>NaN</td>\n",
              "      <td>기타 미용업</td>\n",
              "      <td>2000.000000</td>\n",
              "    </tr>\n",
              "    <tr>\n",
              "      <th>3</th>\n",
              "      <td>0</td>\n",
              "      <td>3</td>\n",
              "      <td>a</td>\n",
              "      <td>2016-06-01</td>\n",
              "      <td>20:22</td>\n",
              "      <td>0</td>\n",
              "      <td>NaN</td>\n",
              "      <td>기타 미용업</td>\n",
              "      <td>7857.142857</td>\n",
              "    </tr>\n",
              "    <tr>\n",
              "      <th>4</th>\n",
              "      <td>0</td>\n",
              "      <td>4</td>\n",
              "      <td>c</td>\n",
              "      <td>2016-06-02</td>\n",
              "      <td>11:06</td>\n",
              "      <td>0</td>\n",
              "      <td>NaN</td>\n",
              "      <td>기타 미용업</td>\n",
              "      <td>2000.000000</td>\n",
              "    </tr>\n",
              "  </tbody>\n",
              "</table>\n",
              "</div>"
            ],
            "text/plain": [
              "   store_id  card_id card_company  ... region type_of_business       amount\n",
              "0         0        0            b  ...    NaN           기타 미용업  1857.142857\n",
              "1         0        1            h  ...    NaN           기타 미용업   857.142857\n",
              "2         0        2            c  ...    NaN           기타 미용업  2000.000000\n",
              "3         0        3            a  ...    NaN           기타 미용업  7857.142857\n",
              "4         0        4            c  ...    NaN           기타 미용업  2000.000000\n",
              "\n",
              "[5 rows x 9 columns]"
            ]
          },
          "metadata": {},
          "execution_count": 23
        }
      ]
    },
    {
      "cell_type": "code",
      "metadata": {
        "colab": {
          "base_uri": "https://localhost:8080/",
          "height": 298
        },
        "id": "IIVe5WfHymGC",
        "outputId": "284af770-fb94-4338-b0d4-cd79cedb2e77"
      },
      "source": [
        "import matplotlib.pyplot as plt\n",
        "plt.figure(figsize=(13,4))\n",
        "plt.bar(train.columns, train.isnull().sum())\n",
        "plt.xticks(rotation=45)"
      ],
      "execution_count": 25,
      "outputs": [
        {
          "output_type": "execute_result",
          "data": {
            "text/plain": [
              "([0, 1, 2, 3, 4, 5, 6, 7, 8], <a list of 9 Text major ticklabel objects>)"
            ]
          },
          "metadata": {},
          "execution_count": 25
        },
        {
          "output_type": "display_data",
          "data": {
            "image/png": "[encoded data removed]",
            "text/plain": [
              "<Figure size 936x288 with 1 Axes>"
            ]
          },
          "metadata": {
            "needs_background": "light"
          }
        }
      ]
    },
    {
      "cell_type": "code",
      "metadata": {
        "id": "svGfjlMty5GG"
      },
      "source": [
        "### 열 전체 제거"
      ],
      "execution_count": 26,
      "outputs": []
    },
    {
      "cell_type": "code",
      "metadata": {
        "colab": {
          "base_uri": "https://localhost:8080/",
          "height": 224
        },
        "id": "ieUq7cOUzFUi",
        "outputId": "a5a12f3e-3720-4648-fdfe-395e8700b0fd"
      },
      "source": [
        "train = train.drop(['region','type_of_business'],axis=1)\n",
        "train.head()"
      ],
      "execution_count": 27,
      "outputs": [
        {
          "output_type": "execute_result",
          "data": {
            "text/html": [
              "<div>\n",
              "<style scoped>\n",
              "    .dataframe tbody tr th:only-of-type {\n",
              "        vertical-align: middle;\n",
              "    }\n",
              "\n",
              "    .dataframe tbody tr th {\n",
              "        vertical-align: top;\n",
              "    }\n",
              "\n",
              "    .dataframe thead th {\n",
              "        text-align: right;\n",
              "    }\n",
              "</style>\n",
              "<table border=\"1\" class=\"dataframe\">\n",
              "  <thead>\n",
              "    <tr style=\"text-align: right;\">\n",
              "      <th></th>\n",
              "      <th>store_id</th>\n",
              "      <th>card_id</th>\n",
              "      <th>card_company</th>\n",
              "      <th>transacted_date</th>\n",
              "      <th>transacted_time</th>\n",
              "      <th>installment_term</th>\n",
              "      <th>amount</th>\n",
              "    </tr>\n",
              "  </thead>\n",
              "  <tbody>\n",
              "    <tr>\n",
              "      <th>0</th>\n",
              "      <td>0</td>\n",
              "      <td>0</td>\n",
              "      <td>b</td>\n",
              "      <td>2016-06-01</td>\n",
              "      <td>13:13</td>\n",
              "      <td>0</td>\n",
              "      <td>1857.142857</td>\n",
              "    </tr>\n",
              "    <tr>\n",
              "      <th>1</th>\n",
              "      <td>0</td>\n",
              "      <td>1</td>\n",
              "      <td>h</td>\n",
              "      <td>2016-06-01</td>\n",
              "      <td>18:12</td>\n",
              "      <td>0</td>\n",
              "      <td>857.142857</td>\n",
              "    </tr>\n",
              "    <tr>\n",
              "      <th>2</th>\n",
              "      <td>0</td>\n",
              "      <td>2</td>\n",
              "      <td>c</td>\n",
              "      <td>2016-06-01</td>\n",
              "      <td>18:52</td>\n",
              "      <td>0</td>\n",
              "      <td>2000.000000</td>\n",
              "    </tr>\n",
              "    <tr>\n",
              "      <th>3</th>\n",
              "      <td>0</td>\n",
              "      <td>3</td>\n",
              "      <td>a</td>\n",
              "      <td>2016-06-01</td>\n",
              "      <td>20:22</td>\n",
              "      <td>0</td>\n",
              "      <td>7857.142857</td>\n",
              "    </tr>\n",
              "    <tr>\n",
              "      <th>4</th>\n",
              "      <td>0</td>\n",
              "      <td>4</td>\n",
              "      <td>c</td>\n",
              "      <td>2016-06-02</td>\n",
              "      <td>11:06</td>\n",
              "      <td>0</td>\n",
              "      <td>2000.000000</td>\n",
              "    </tr>\n",
              "  </tbody>\n",
              "</table>\n",
              "</div>"
            ],
            "text/plain": [
              "   store_id  card_id  ... installment_term       amount\n",
              "0         0        0  ...                0  1857.142857\n",
              "1         0        1  ...                0   857.142857\n",
              "2         0        2  ...                0  2000.000000\n",
              "3         0        3  ...                0  7857.142857\n",
              "4         0        4  ...                0  2000.000000\n",
              "\n",
              "[5 rows x 7 columns]"
            ]
          },
          "metadata": {},
          "execution_count": 27
        }
      ]
    },
    {
      "cell_type": "code",
      "metadata": {
        "colab": {
          "base_uri": "https://localhost:8080/",
          "height": 297
        },
        "id": "f6Sv0lLgzJvQ",
        "outputId": "5cc8dd26-2ca6-4f6d-f493-fc1a2162e691"
      },
      "source": [
        "### 매출액 이상치 확인\n",
        "\n",
        "plt.figure(figsize=(8,4))\n",
        "sns.boxplot(train['amount'])"
      ],
      "execution_count": 28,
      "outputs": [
        {
          "output_type": "execute_result",
          "data": {
            "text/plain": [
              "<matplotlib.axes._subplots.AxesSubplot at 0x7fdb856b6b50>"
            ]
          },
          "metadata": {},
          "execution_count": 28
        },
        {
          "output_type": "display_data",
          "data": {
            "image/png": "[encoded data removed]",
            "text/plain": [
              "<Figure size 576x288 with 1 Axes>"
            ]
          },
          "metadata": {
            "needs_background": "light"
          }
        }
      ]
    },
    {
      "cell_type": "code",
      "metadata": {
        "colab": {
          "base_uri": "https://localhost:8080/",
          "height": 224
        },
        "id": "EiBiUfthzQYp",
        "outputId": "609a2cae-cee8-4496-9480-8dbda38f8526"
      },
      "source": [
        "### 매출액<0 , 환불 일어난 행\n",
        "train[train['amount']<0].head()"
      ],
      "execution_count": 29,
      "outputs": [
        {
          "output_type": "execute_result",
          "data": {
            "text/html": [
              "<div>\n",
              "<style scoped>\n",
              "    .dataframe tbody tr th:only-of-type {\n",
              "        vertical-align: middle;\n",
              "    }\n",
              "\n",
              "    .dataframe tbody tr th {\n",
              "        vertical-align: top;\n",
              "    }\n",
              "\n",
              "    .dataframe thead th {\n",
              "        text-align: right;\n",
              "    }\n",
              "</style>\n",
              "<table border=\"1\" class=\"dataframe\">\n",
              "  <thead>\n",
              "    <tr style=\"text-align: right;\">\n",
              "      <th></th>\n",
              "      <th>store_id</th>\n",
              "      <th>card_id</th>\n",
              "      <th>card_company</th>\n",
              "      <th>transacted_date</th>\n",
              "      <th>transacted_time</th>\n",
              "      <th>installment_term</th>\n",
              "      <th>amount</th>\n",
              "    </tr>\n",
              "  </thead>\n",
              "  <tbody>\n",
              "    <tr>\n",
              "      <th>41</th>\n",
              "      <td>0</td>\n",
              "      <td>40</td>\n",
              "      <td>a</td>\n",
              "      <td>2016-06-10</td>\n",
              "      <td>17:26</td>\n",
              "      <td>2</td>\n",
              "      <td>-8571.428571</td>\n",
              "    </tr>\n",
              "    <tr>\n",
              "      <th>347</th>\n",
              "      <td>0</td>\n",
              "      <td>285</td>\n",
              "      <td>a</td>\n",
              "      <td>2016-08-04</td>\n",
              "      <td>17:52</td>\n",
              "      <td>0</td>\n",
              "      <td>-1857.142857</td>\n",
              "    </tr>\n",
              "    <tr>\n",
              "      <th>731</th>\n",
              "      <td>0</td>\n",
              "      <td>473</td>\n",
              "      <td>g</td>\n",
              "      <td>2016-10-17</td>\n",
              "      <td>10:32</td>\n",
              "      <td>0</td>\n",
              "      <td>-2000.000000</td>\n",
              "    </tr>\n",
              "    <tr>\n",
              "      <th>831</th>\n",
              "      <td>0</td>\n",
              "      <td>230</td>\n",
              "      <td>b</td>\n",
              "      <td>2016-11-03</td>\n",
              "      <td>15:36</td>\n",
              "      <td>0</td>\n",
              "      <td>-85.714286</td>\n",
              "    </tr>\n",
              "    <tr>\n",
              "      <th>944</th>\n",
              "      <td>0</td>\n",
              "      <td>138</td>\n",
              "      <td>a</td>\n",
              "      <td>2016-11-28</td>\n",
              "      <td>13:21</td>\n",
              "      <td>0</td>\n",
              "      <td>-57.142857</td>\n",
              "    </tr>\n",
              "  </tbody>\n",
              "</table>\n",
              "</div>"
            ],
            "text/plain": [
              "     store_id  card_id  ... installment_term       amount\n",
              "41          0       40  ...                2 -8571.428571\n",
              "347         0      285  ...                0 -1857.142857\n",
              "731         0      473  ...                0 -2000.000000\n",
              "831         0      230  ...                0   -85.714286\n",
              "944         0      138  ...                0   -57.142857\n",
              "\n",
              "[5 rows x 7 columns]"
            ]
          },
          "metadata": {},
          "execution_count": 29
        }
      ]
    },
    {
      "cell_type": "code",
      "metadata": {
        "id": "_rWNdg8MzfT-"
      },
      "source": [
        ""
      ],
      "execution_count": null,
      "outputs": []
    },
    {
      "cell_type": "code",
      "metadata": {
        "id": "BLFlyLIQzbw0"
      },
      "source": [
        ""
      ],
      "execution_count": null,
      "outputs": []
    }
  ]
}