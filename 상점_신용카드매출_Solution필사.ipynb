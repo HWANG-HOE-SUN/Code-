{
  "nbformat": 4,
  "nbformat_minor": 0,
  "metadata": {
    "colab": {
      "name": "상점_신용카드매출_Solution필사.ipynb",
      "provenance": [],
      "authorship_tag": "ABX9TyOvJHE6+FD0FqJn2PjsoA+1",
      "include_colab_link": true
    },
    "kernelspec": {
      "name": "python3",
      "display_name": "Python 3"
    },
    "language_info": {
      "name": "python"
    }
  },
  "cells": [
    {
      "cell_type": "markdown",
      "metadata": {
        "id": "view-in-github",
        "colab_type": "text"
      },
      "source": [
        "<a href=\"https://colab.research.google.com/github/HWANG-HOE-SUN/Code-/blob/main/%EC%83%81%EC%A0%90_%EC%8B%A0%EC%9A%A9%EC%B9%B4%EB%93%9C%EB%A7%A4%EC%B6%9C_Solution%ED%95%84%EC%82%AC.ipynb\" target=\"_parent\"><img src=\"https://colab.research.google.com/assets/colab-badge.svg\" alt=\"Open In Colab\"/></a>"
      ]
    },
    {
      "cell_type": "code",
      "metadata": {
        "id": "FupXGesHxz4Z"
      },
      "source": [
        "import pandas as pd\n",
        "import os\n",
        "import warnings\n",
        "\n",
        "warnings.filterwarnings('ignore')\n",
        "\n"
      ],
      "execution_count": 34,
      "outputs": []
    },
    {
      "cell_type": "code",
      "metadata": {
        "id": "f66fd-BF2hvk"
      },
      "source": [
        "train = pd.read_csv('/content/funda_train.csv')\n",
        "submission = pd.read_csv('/content/submission.csv')"
      ],
      "execution_count": 32,
      "outputs": []
    },
    {
      "cell_type": "code",
      "metadata": {
        "colab": {
          "base_uri": "https://localhost:8080/"
        },
        "id": "BBVJ6fQg11Wm",
        "outputId": "d37090fb-4935-41df-9344-22329a9d0ea0"
      },
      "source": [
        "train.shape"
      ],
      "execution_count": 35,
      "outputs": [
        {
          "output_type": "execute_result",
          "data": {
            "text/plain": [
              "(6556613, 9)"
            ]
          },
          "metadata": {
            "tags": []
          },
          "execution_count": 35
        }
      ]
    },
    {
      "cell_type": "code",
      "metadata": {
        "colab": {
          "base_uri": "https://localhost:8080/",
          "height": 200
        },
        "id": "l9z9dxTT13OG",
        "outputId": "108014e4-be3e-414d-c717-02437db4bcb9"
      },
      "source": [
        "train.tail()"
      ],
      "execution_count": 33,
      "outputs": [
        {
          "output_type": "execute_result",
          "data": {
            "text/html": [
              "<div>\n",
              "<style scoped>\n",
              "    .dataframe tbody tr th:only-of-type {\n",
              "        vertical-align: middle;\n",
              "    }\n",
              "\n",
              "    .dataframe tbody tr th {\n",
              "        vertical-align: top;\n",
              "    }\n",
              "\n",
              "    .dataframe thead th {\n",
              "        text-align: right;\n",
              "    }\n",
              "</style>\n",
              "<table border=\"1\" class=\"dataframe\">\n",
              "  <thead>\n",
              "    <tr style=\"text-align: right;\">\n",
              "      <th></th>\n",
              "      <th>store_id</th>\n",
              "      <th>card_id</th>\n",
              "      <th>card_company</th>\n",
              "      <th>transacted_date</th>\n",
              "      <th>transacted_time</th>\n",
              "      <th>installment_term</th>\n",
              "      <th>region</th>\n",
              "      <th>type_of_business</th>\n",
              "      <th>amount</th>\n",
              "    </tr>\n",
              "  </thead>\n",
              "  <tbody>\n",
              "    <tr>\n",
              "      <th>6556608</th>\n",
              "      <td>2136</td>\n",
              "      <td>4663855</td>\n",
              "      <td>d</td>\n",
              "      <td>2019-02-28</td>\n",
              "      <td>23:20</td>\n",
              "      <td>0</td>\n",
              "      <td>제주 제주시</td>\n",
              "      <td>기타 주점업</td>\n",
              "      <td>-4500.000000</td>\n",
              "    </tr>\n",
              "    <tr>\n",
              "      <th>6556609</th>\n",
              "      <td>2136</td>\n",
              "      <td>4663855</td>\n",
              "      <td>d</td>\n",
              "      <td>2019-02-28</td>\n",
              "      <td>23:24</td>\n",
              "      <td>0</td>\n",
              "      <td>제주 제주시</td>\n",
              "      <td>기타 주점업</td>\n",
              "      <td>4142.857143</td>\n",
              "    </tr>\n",
              "    <tr>\n",
              "      <th>6556610</th>\n",
              "      <td>2136</td>\n",
              "      <td>4663489</td>\n",
              "      <td>a</td>\n",
              "      <td>2019-02-28</td>\n",
              "      <td>23:24</td>\n",
              "      <td>0</td>\n",
              "      <td>제주 제주시</td>\n",
              "      <td>기타 주점업</td>\n",
              "      <td>4500.000000</td>\n",
              "    </tr>\n",
              "    <tr>\n",
              "      <th>6556611</th>\n",
              "      <td>2136</td>\n",
              "      <td>4663856</td>\n",
              "      <td>d</td>\n",
              "      <td>2019-02-28</td>\n",
              "      <td>23:27</td>\n",
              "      <td>0</td>\n",
              "      <td>제주 제주시</td>\n",
              "      <td>기타 주점업</td>\n",
              "      <td>571.428571</td>\n",
              "    </tr>\n",
              "    <tr>\n",
              "      <th>6556612</th>\n",
              "      <td>2136</td>\n",
              "      <td>4658616</td>\n",
              "      <td>c</td>\n",
              "      <td>2019-02-28</td>\n",
              "      <td>23:54</td>\n",
              "      <td>0</td>\n",
              "      <td>제주 제주시</td>\n",
              "      <td>기타 주점업</td>\n",
              "      <td>5857.142857</td>\n",
              "    </tr>\n",
              "  </tbody>\n",
              "</table>\n",
              "</div>"
            ],
            "text/plain": [
              "         store_id  card_id card_company  ...  region type_of_business       amount\n",
              "6556608      2136  4663855            d  ...  제주 제주시           기타 주점업 -4500.000000\n",
              "6556609      2136  4663855            d  ...  제주 제주시           기타 주점업  4142.857143\n",
              "6556610      2136  4663489            a  ...  제주 제주시           기타 주점업  4500.000000\n",
              "6556611      2136  4663856            d  ...  제주 제주시           기타 주점업   571.428571\n",
              "6556612      2136  4658616            c  ...  제주 제주시           기타 주점업  5857.142857\n",
              "\n",
              "[5 rows x 9 columns]"
            ]
          },
          "metadata": {
            "tags": []
          },
          "execution_count": 33
        }
      ]
    },
    {
      "cell_type": "code",
      "metadata": {
        "id": "95sRDM8eewqR"
      },
      "source": [
        ""
      ],
      "execution_count": null,
      "outputs": []
    },
    {
      "cell_type": "code",
      "metadata": {
        "id": "_W5DUaNwewoN"
      },
      "source": [
        ""
      ],
      "execution_count": null,
      "outputs": []
    },
    {
      "cell_type": "code",
      "metadata": {
        "id": "wiVSTrd2ewlO"
      },
      "source": [
        ""
      ],
      "execution_count": null,
      "outputs": []
    },
    {
      "cell_type": "code",
      "metadata": {
        "id": "EJwVz5uAewjA"
      },
      "source": [
        ""
      ],
      "execution_count": null,
      "outputs": []
    }
  ]
}