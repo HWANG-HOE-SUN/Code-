{
  "nbformat": 4,
  "nbformat_minor": 0,
  "metadata": {
    "colab": {
      "name": "상점_신용카드매출_Solution필사.ipynb",
      "provenance": [],
      "collapsed_sections": [],
      "authorship_tag": "ABX9TyOI/1O48OGVr6JQI4g2t/Jl",
      "include_colab_link": true
    },
    "kernelspec": {
      "name": "python3",
      "display_name": "Python 3"
    },
    "language_info": {
      "name": "python"
    }
  },
  "cells": [
    {
      "cell_type": "markdown",
      "metadata": {
        "id": "view-in-github",
        "colab_type": "text"
      },
      "source": [
        "<a href=\"https://colab.research.google.com/github/HWANG-HOE-SUN/Code-/blob/main/%EC%83%81%EC%A0%90_%EC%8B%A0%EC%9A%A9%EC%B9%B4%EB%93%9C%EB%A7%A4%EC%B6%9C_Solution%ED%95%84%EC%82%AC.ipynb\" target=\"_parent\"><img src=\"https://colab.research.google.com/assets/colab-badge.svg\" alt=\"Open In Colab\"/></a>"
      ]
    },
    {
      "cell_type": "code",
      "metadata": {
        "id": "FupXGesHxz4Z"
      },
      "source": [
        "import pandas as pd\n",
        "import os\n",
        "import warnings\n",
        "\n",
        "warnings.filterwarnings('ignore')\n",
        "\n"
      ],
      "execution_count": 1,
      "outputs": []
    },
    {
      "cell_type": "code",
      "metadata": {
        "id": "f66fd-BF2hvk"
      },
      "source": [
        "train = pd.read_csv('/content/funda_train.csv')\n",
        "submission = pd.read_csv('/content/submission.csv')"
      ],
      "execution_count": 2,
      "outputs": []
    },
    {
      "cell_type": "code",
      "metadata": {
        "colab": {
          "base_uri": "https://localhost:8080/"
        },
        "id": "BBVJ6fQg11Wm",
        "outputId": "4b7b1f6f-6628-4796-b4d3-25b6290d7ebe"
      },
      "source": [
        "train.shape"
      ],
      "execution_count": null,
      "outputs": [
        {
          "output_type": "execute_result",
          "data": {
            "text/plain": [
              "(1020208, 9)"
            ]
          },
          "metadata": {
            "tags": []
          },
          "execution_count": 11
        }
      ]
    },
    {
      "cell_type": "code",
      "metadata": {
        "colab": {
          "base_uri": "https://localhost:8080/",
          "height": 200
        },
        "id": "l9z9dxTT13OG",
        "outputId": "108014e4-be3e-414d-c717-02437db4bcb9"
      },
      "source": [
        "train.tail()"
      ],
      "execution_count": null,
      "outputs": [
        {
          "output_type": "execute_result",
          "data": {
            "text/html": [
              "<div>\n",
              "<style scoped>\n",
              "    .dataframe tbody tr th:only-of-type {\n",
              "        vertical-align: middle;\n",
              "    }\n",
              "\n",
              "    .dataframe tbody tr th {\n",
              "        vertical-align: top;\n",
              "    }\n",
              "\n",
              "    .dataframe thead th {\n",
              "        text-align: right;\n",
              "    }\n",
              "</style>\n",
              "<table border=\"1\" class=\"dataframe\">\n",
              "  <thead>\n",
              "    <tr style=\"text-align: right;\">\n",
              "      <th></th>\n",
              "      <th>store_id</th>\n",
              "      <th>card_id</th>\n",
              "      <th>card_company</th>\n",
              "      <th>transacted_date</th>\n",
              "      <th>transacted_time</th>\n",
              "      <th>installment_term</th>\n",
              "      <th>region</th>\n",
              "      <th>type_of_business</th>\n",
              "      <th>amount</th>\n",
              "    </tr>\n",
              "  </thead>\n",
              "  <tbody>\n",
              "    <tr>\n",
              "      <th>6556608</th>\n",
              "      <td>2136</td>\n",
              "      <td>4663855</td>\n",
              "      <td>d</td>\n",
              "      <td>2019-02-28</td>\n",
              "      <td>23:20</td>\n",
              "      <td>0</td>\n",
              "      <td>제주 제주시</td>\n",
              "      <td>기타 주점업</td>\n",
              "      <td>-4500.000000</td>\n",
              "    </tr>\n",
              "    <tr>\n",
              "      <th>6556609</th>\n",
              "      <td>2136</td>\n",
              "      <td>4663855</td>\n",
              "      <td>d</td>\n",
              "      <td>2019-02-28</td>\n",
              "      <td>23:24</td>\n",
              "      <td>0</td>\n",
              "      <td>제주 제주시</td>\n",
              "      <td>기타 주점업</td>\n",
              "      <td>4142.857143</td>\n",
              "    </tr>\n",
              "    <tr>\n",
              "      <th>6556610</th>\n",
              "      <td>2136</td>\n",
              "      <td>4663489</td>\n",
              "      <td>a</td>\n",
              "      <td>2019-02-28</td>\n",
              "      <td>23:24</td>\n",
              "      <td>0</td>\n",
              "      <td>제주 제주시</td>\n",
              "      <td>기타 주점업</td>\n",
              "      <td>4500.000000</td>\n",
              "    </tr>\n",
              "    <tr>\n",
              "      <th>6556611</th>\n",
              "      <td>2136</td>\n",
              "      <td>4663856</td>\n",
              "      <td>d</td>\n",
              "      <td>2019-02-28</td>\n",
              "      <td>23:27</td>\n",
              "      <td>0</td>\n",
              "      <td>제주 제주시</td>\n",
              "      <td>기타 주점업</td>\n",
              "      <td>571.428571</td>\n",
              "    </tr>\n",
              "    <tr>\n",
              "      <th>6556612</th>\n",
              "      <td>2136</td>\n",
              "      <td>4658616</td>\n",
              "      <td>c</td>\n",
              "      <td>2019-02-28</td>\n",
              "      <td>23:54</td>\n",
              "      <td>0</td>\n",
              "      <td>제주 제주시</td>\n",
              "      <td>기타 주점업</td>\n",
              "      <td>5857.142857</td>\n",
              "    </tr>\n",
              "  </tbody>\n",
              "</table>\n",
              "</div>"
            ],
            "text/plain": [
              "         store_id  card_id card_company  ...  region type_of_business       amount\n",
              "6556608      2136  4663855            d  ...  제주 제주시           기타 주점업 -4500.000000\n",
              "6556609      2136  4663855            d  ...  제주 제주시           기타 주점업  4142.857143\n",
              "6556610      2136  4663489            a  ...  제주 제주시           기타 주점업  4500.000000\n",
              "6556611      2136  4663856            d  ...  제주 제주시           기타 주점업   571.428571\n",
              "6556612      2136  4658616            c  ...  제주 제주시           기타 주점업  5857.142857\n",
              "\n",
              "[5 rows x 9 columns]"
            ]
          },
          "metadata": {
            "tags": []
          },
          "execution_count": 33
        }
      ]
    },
    {
      "cell_type": "code",
      "metadata": {
        "colab": {
          "base_uri": "https://localhost:8080/"
        },
        "id": "95sRDM8eewqR",
        "outputId": "1c0f3f59-9cbe-4852-c55b-17b9a0817c98"
      },
      "source": [
        "train.info()"
      ],
      "execution_count": null,
      "outputs": [
        {
          "output_type": "stream",
          "text": [
            "<class 'pandas.core.frame.DataFrame'>\n",
            "RangeIndex: 6556613 entries, 0 to 6556612\n",
            "Data columns (total 9 columns):\n",
            " #   Column            Dtype  \n",
            "---  ------            -----  \n",
            " 0   store_id          int64  \n",
            " 1   card_id           int64  \n",
            " 2   card_company      object \n",
            " 3   transacted_date   object \n",
            " 4   transacted_time   object \n",
            " 5   installment_term  int64  \n",
            " 6   region            object \n",
            " 7   type_of_business  object \n",
            " 8   amount            float64\n",
            "dtypes: float64(1), int64(3), object(5)\n",
            "memory usage: 450.2+ MB\n"
          ],
          "name": "stdout"
        }
      ]
    },
    {
      "cell_type": "code",
      "metadata": {
        "colab": {
          "base_uri": "https://localhost:8080/",
          "height": 290
        },
        "id": "yT1qqLJc2vuf",
        "outputId": "6620db36-0ee0-4cba-fb27-5f9205b521f7"
      },
      "source": [
        "train.describe()"
      ],
      "execution_count": null,
      "outputs": [
        {
          "output_type": "execute_result",
          "data": {
            "text/html": [
              "<div>\n",
              "<style scoped>\n",
              "    .dataframe tbody tr th:only-of-type {\n",
              "        vertical-align: middle;\n",
              "    }\n",
              "\n",
              "    .dataframe tbody tr th {\n",
              "        vertical-align: top;\n",
              "    }\n",
              "\n",
              "    .dataframe thead th {\n",
              "        text-align: right;\n",
              "    }\n",
              "</style>\n",
              "<table border=\"1\" class=\"dataframe\">\n",
              "  <thead>\n",
              "    <tr style=\"text-align: right;\">\n",
              "      <th></th>\n",
              "      <th>store_id</th>\n",
              "      <th>card_id</th>\n",
              "      <th>installment_term</th>\n",
              "      <th>amount</th>\n",
              "    </tr>\n",
              "  </thead>\n",
              "  <tbody>\n",
              "    <tr>\n",
              "      <th>count</th>\n",
              "      <td>6.556613e+06</td>\n",
              "      <td>6.556613e+06</td>\n",
              "      <td>6.556613e+06</td>\n",
              "      <td>6.556613e+06</td>\n",
              "    </tr>\n",
              "    <tr>\n",
              "      <th>mean</th>\n",
              "      <td>1.084930e+03</td>\n",
              "      <td>2.268127e+06</td>\n",
              "      <td>1.382017e-01</td>\n",
              "      <td>1.043511e+04</td>\n",
              "    </tr>\n",
              "    <tr>\n",
              "      <th>std</th>\n",
              "      <td>6.152183e+02</td>\n",
              "      <td>1.351058e+06</td>\n",
              "      <td>1.188152e+00</td>\n",
              "      <td>3.104031e+04</td>\n",
              "    </tr>\n",
              "    <tr>\n",
              "      <th>min</th>\n",
              "      <td>0.000000e+00</td>\n",
              "      <td>0.000000e+00</td>\n",
              "      <td>0.000000e+00</td>\n",
              "      <td>-2.771429e+06</td>\n",
              "    </tr>\n",
              "    <tr>\n",
              "      <th>25%</th>\n",
              "      <td>5.860000e+02</td>\n",
              "      <td>1.088828e+06</td>\n",
              "      <td>0.000000e+00</td>\n",
              "      <td>2.142857e+03</td>\n",
              "    </tr>\n",
              "    <tr>\n",
              "      <th>50%</th>\n",
              "      <td>1.074000e+03</td>\n",
              "      <td>2.239304e+06</td>\n",
              "      <td>0.000000e+00</td>\n",
              "      <td>4.285714e+03</td>\n",
              "    </tr>\n",
              "    <tr>\n",
              "      <th>75%</th>\n",
              "      <td>1.615000e+03</td>\n",
              "      <td>3.438488e+06</td>\n",
              "      <td>0.000000e+00</td>\n",
              "      <td>8.571429e+03</td>\n",
              "    </tr>\n",
              "    <tr>\n",
              "      <th>max</th>\n",
              "      <td>2.136000e+03</td>\n",
              "      <td>4.663856e+06</td>\n",
              "      <td>9.300000e+01</td>\n",
              "      <td>5.571429e+06</td>\n",
              "    </tr>\n",
              "  </tbody>\n",
              "</table>\n",
              "</div>"
            ],
            "text/plain": [
              "           store_id       card_id  installment_term        amount\n",
              "count  6.556613e+06  6.556613e+06      6.556613e+06  6.556613e+06\n",
              "mean   1.084930e+03  2.268127e+06      1.382017e-01  1.043511e+04\n",
              "std    6.152183e+02  1.351058e+06      1.188152e+00  3.104031e+04\n",
              "min    0.000000e+00  0.000000e+00      0.000000e+00 -2.771429e+06\n",
              "25%    5.860000e+02  1.088828e+06      0.000000e+00  2.142857e+03\n",
              "50%    1.074000e+03  2.239304e+06      0.000000e+00  4.285714e+03\n",
              "75%    1.615000e+03  3.438488e+06      0.000000e+00  8.571429e+03\n",
              "max    2.136000e+03  4.663856e+06      9.300000e+01  5.571429e+06"
            ]
          },
          "metadata": {
            "tags": []
          },
          "execution_count": 38
        }
      ]
    },
    {
      "cell_type": "markdown",
      "metadata": {
        "id": "itO3YGuo5HYz"
      },
      "source": [
        "### 자체 개발 EDA"
      ]
    },
    {
      "cell_type": "code",
      "metadata": {
        "id": "dUe7Jvnw3Sqk"
      },
      "source": [
        "def calcul_column_len(df,colname): # unique 데이터 갯수 반환\n",
        "  df_col = df[colname]\n",
        "  cols = df_col.unique()\n",
        "  return len(cols)"
      ],
      "execution_count": 3,
      "outputs": []
    },
    {
      "cell_type": "code",
      "metadata": {
        "colab": {
          "base_uri": "https://localhost:8080/"
        },
        "id": "_W5DUaNwewoN",
        "outputId": "765cad6a-c0ae-4ad8-9d3a-3ca2f57f3917"
      },
      "source": [
        "for i in train.columns:\n",
        "  result_str = f'{i} 수: ' + str(calcul_column_len(train,i))\n",
        "  print(result_str)"
      ],
      "execution_count": 4,
      "outputs": [
        {
          "output_type": "stream",
          "text": [
            "store_id 수: 457\n",
            "card_id 수: 780151\n",
            "card_company 수: 8\n",
            "transacted_date 수: 1004\n",
            "transacted_time 수: 1441\n",
            "installment_term 수: 24\n",
            "region 수: 89\n",
            "type_of_business 수: 78\n",
            "amount 수: 14707\n"
          ],
          "name": "stdout"
        }
      ]
    },
    {
      "cell_type": "markdown",
      "metadata": {
        "id": "6Lhfr7WG5xKG"
      },
      "source": [
        "## 분석 환경 설정 ( 1등 알고리즘 ) "
      ]
    },
    {
      "cell_type": "code",
      "metadata": {
        "id": "A-wJNsze5zRc",
        "colab": {
          "base_uri": "https://localhost:8080/"
        },
        "outputId": "6753b798-4e04-49a5-b625-d4a972baed63"
      },
      "source": [
        "pip install tzlocal"
      ],
      "execution_count": 6,
      "outputs": [
        {
          "output_type": "stream",
          "text": [
            "Requirement already satisfied: tzlocal in /usr/local/lib/python3.7/dist-packages (1.5.1)\n",
            "Requirement already satisfied: pytz in /usr/local/lib/python3.7/dist-packages (from tzlocal) (2018.9)\n"
          ],
          "name": "stdout"
        }
      ]
    },
    {
      "cell_type": "code",
      "metadata": {
        "id": "Kar_ov3FflpB"
      },
      "source": [
        "pip install pmdarima"
      ],
      "execution_count": null,
      "outputs": []
    },
    {
      "cell_type": "code",
      "metadata": {
        "colab": {
          "base_uri": "https://localhost:8080/"
        },
        "id": "mjXLa1Z9f3ct",
        "outputId": "fdd936a5-b94b-4199-8f9d-24220fd7e494"
      },
      "source": [
        "pip install statsmodels"
      ],
      "execution_count": 21,
      "outputs": [
        {
          "output_type": "stream",
          "text": [
            "Requirement already satisfied: statsmodels in /usr/local/lib/python3.7/dist-packages (0.12.2)\n",
            "Requirement already satisfied: patsy>=0.5 in /usr/local/lib/python3.7/dist-packages (from statsmodels) (0.5.1)\n",
            "Requirement already satisfied: scipy>=1.1 in /usr/local/lib/python3.7/dist-packages (from statsmodels) (1.4.1)\n",
            "Requirement already satisfied: pandas>=0.21 in /usr/local/lib/python3.7/dist-packages (from statsmodels) (1.1.5)\n",
            "Requirement already satisfied: numpy>=1.15 in /usr/local/lib/python3.7/dist-packages (from statsmodels) (1.19.5)\n",
            "Requirement already satisfied: python-dateutil>=2.7.3 in /usr/local/lib/python3.7/dist-packages (from pandas>=0.21->statsmodels) (2.8.2)\n",
            "Requirement already satisfied: pytz>=2017.2 in /usr/local/lib/python3.7/dist-packages (from pandas>=0.21->statsmodels) (2018.9)\n",
            "Requirement already satisfied: six in /usr/local/lib/python3.7/dist-packages (from patsy>=0.5->statsmodels) (1.15.0)\n"
          ],
          "name": "stdout"
        }
      ]
    },
    {
      "cell_type": "code",
      "metadata": {
        "colab": {
          "base_uri": "https://localhost:8080/"
        },
        "id": "E_IvQwNPf3bC",
        "outputId": "29c31b0c-f1e4-43ad-be72-d1e44b7c9d1d"
      },
      "source": [
        "pip install tqdm"
      ],
      "execution_count": 22,
      "outputs": [
        {
          "output_type": "stream",
          "text": [
            "Requirement already satisfied: tqdm in /usr/local/lib/python3.7/dist-packages (4.62.0)\n"
          ],
          "name": "stdout"
        }
      ]
    },
    {
      "cell_type": "code",
      "metadata": {
        "id": "iLQ7QwcgfOK-"
      },
      "source": [
        "import rpy2"
      ],
      "execution_count": 7,
      "outputs": []
    },
    {
      "cell_type": "code",
      "metadata": {
        "colab": {
          "base_uri": "https://localhost:8080/",
          "height": 35
        },
        "id": "Wdrng1i0fQXm",
        "outputId": "78c3bc76-cd26-4cb2-b00b-760f39eeee4c"
      },
      "source": [
        "rpy2.__version__"
      ],
      "execution_count": 8,
      "outputs": [
        {
          "output_type": "execute_result",
          "data": {
            "application/vnd.google.colaboratory.intrinsic+json": {
              "type": "string"
            },
            "text/plain": [
              "'3.4.5'"
            ]
          },
          "metadata": {
            "tags": []
          },
          "execution_count": 8
        }
      ]
    },
    {
      "cell_type": "code",
      "metadata": {
        "colab": {
          "base_uri": "https://localhost:8080/"
        },
        "id": "MZbGf9D8fRta",
        "outputId": "cb7e3608-c2fa-4ff5-acda-f4941e264bdb"
      },
      "source": [
        "import pandas as pd\n",
        "import numpy as np\n",
        "\n",
        "pd.__version__, np.__version__"
      ],
      "execution_count": 12,
      "outputs": [
        {
          "output_type": "execute_result",
          "data": {
            "text/plain": [
              "('1.1.5', '1.19.5')"
            ]
          },
          "metadata": {
            "tags": []
          },
          "execution_count": 12
        }
      ]
    },
    {
      "cell_type": "code",
      "metadata": {
        "colab": {
          "base_uri": "https://localhost:8080/",
          "height": 35
        },
        "id": "eE9d9Pq5fZcW",
        "outputId": "155a3a05-fbea-4575-b11e-d8b6ed4b5906"
      },
      "source": [
        "import pmdarima\n",
        "\n",
        "pmdarima.__version__"
      ],
      "execution_count": 17,
      "outputs": [
        {
          "output_type": "execute_result",
          "data": {
            "application/vnd.google.colaboratory.intrinsic+json": {
              "type": "string"
            },
            "text/plain": [
              "'1.8.2'"
            ]
          },
          "metadata": {
            "tags": []
          },
          "execution_count": 17
        }
      ]
    },
    {
      "cell_type": "code",
      "metadata": {
        "colab": {
          "base_uri": "https://localhost:8080/"
        },
        "id": "tnDIha4xfjzE",
        "outputId": "e2e25df0-4dd8-4184-dd8d-b4721697b175"
      },
      "source": [
        "import statsmodels\n",
        "import tqdm\n",
        "import seaborn as sns\n",
        "\n",
        "statsmodels.__version__, tqdm.__version__, sns.__version__"
      ],
      "execution_count": 24,
      "outputs": [
        {
          "output_type": "execute_result",
          "data": {
            "text/plain": [
              "('0.12.2', '4.62.0', '0.11.1')"
            ]
          },
          "metadata": {
            "tags": []
          },
          "execution_count": 24
        }
      ]
    }
  ]
}