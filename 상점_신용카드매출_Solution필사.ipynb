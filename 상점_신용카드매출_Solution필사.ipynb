{
  "nbformat": 4,
  "nbformat_minor": 0,
  "metadata": {
    "colab": {
      "name": "상점_신용카드매출_Solution필사.ipynb",
      "provenance": [],
      "collapsed_sections": [],
      "authorship_tag": "ABX9TyNxVNmXq5CKNxyMPb3ytf7y",
      "include_colab_link": true
    },
    "kernelspec": {
      "name": "python3",
      "display_name": "Python 3"
    },
    "language_info": {
      "name": "python"
    }
  },
  "cells": [
    {
      "cell_type": "markdown",
      "metadata": {
        "id": "view-in-github",
        "colab_type": "text"
      },
      "source": [
        "<a href=\"https://colab.research.google.com/github/HWANG-HOE-SUN/Code-/blob/main/%EC%83%81%EC%A0%90_%EC%8B%A0%EC%9A%A9%EC%B9%B4%EB%93%9C%EB%A7%A4%EC%B6%9C_Solution%ED%95%84%EC%82%AC.ipynb\" target=\"_parent\"><img src=\"https://colab.research.google.com/assets/colab-badge.svg\" alt=\"Open In Colab\"/></a>"
      ]
    },
    {
      "cell_type": "code",
      "metadata": {
        "id": "FupXGesHxz4Z"
      },
      "source": [
        "import pandas as pd\n",
        "import os\n",
        "import warnings\n",
        "\n",
        "warnings.filterwarnings('ignore')"
      ],
      "execution_count": null,
      "outputs": []
    },
    {
      "cell_type": "code",
      "metadata": {
        "id": "f66fd-BF2hvk"
      },
      "source": [
        "train = pd.read_csv('/content/funda_train.csv')\n",
        "submission = pd.read_csv('/content/submission.csv')"
      ],
      "execution_count": null,
      "outputs": []
    },
    {
      "cell_type": "code",
      "metadata": {
        "colab": {
          "base_uri": "https://localhost:8080/"
        },
        "id": "BBVJ6fQg11Wm",
        "outputId": "a2cf15ff-fb28-4c88-bc13-c519140ea986"
      },
      "source": [
        "train.shape"
      ],
      "execution_count": null,
      "outputs": [
        {
          "output_type": "execute_result",
          "data": {
            "text/plain": [
              "(6556613, 9)"
            ]
          },
          "metadata": {},
          "execution_count": 4
        }
      ]
    },
    {
      "cell_type": "code",
      "metadata": {
        "colab": {
          "base_uri": "https://localhost:8080/",
          "height": 309
        },
        "id": "l9z9dxTT13OG",
        "outputId": "db08b7fa-e1cf-4418-aeef-a68ed645ada5"
      },
      "source": [
        "train.tail()"
      ],
      "execution_count": null,
      "outputs": [
        {
          "output_type": "execute_result",
          "data": {
            "text/html": [
              "<div>\n",
              "<style scoped>\n",
              "    .dataframe tbody tr th:only-of-type {\n",
              "        vertical-align: middle;\n",
              "    }\n",
              "\n",
              "    .dataframe tbody tr th {\n",
              "        vertical-align: top;\n",
              "    }\n",
              "\n",
              "    .dataframe thead th {\n",
              "        text-align: right;\n",
              "    }\n",
              "</style>\n",
              "<table border=\"1\" class=\"dataframe\">\n",
              "  <thead>\n",
              "    <tr style=\"text-align: right;\">\n",
              "      <th></th>\n",
              "      <th>store_id</th>\n",
              "      <th>card_id</th>\n",
              "      <th>card_company</th>\n",
              "      <th>transacted_date</th>\n",
              "      <th>transacted_time</th>\n",
              "      <th>installment_term</th>\n",
              "      <th>region</th>\n",
              "      <th>type_of_business</th>\n",
              "      <th>amount</th>\n",
              "    </tr>\n",
              "  </thead>\n",
              "  <tbody>\n",
              "    <tr>\n",
              "      <th>6556608</th>\n",
              "      <td>2136</td>\n",
              "      <td>4663855</td>\n",
              "      <td>d</td>\n",
              "      <td>2019-02-28</td>\n",
              "      <td>23:20</td>\n",
              "      <td>0</td>\n",
              "      <td>제주 제주시</td>\n",
              "      <td>기타 주점업</td>\n",
              "      <td>-4500.000000</td>\n",
              "    </tr>\n",
              "    <tr>\n",
              "      <th>6556609</th>\n",
              "      <td>2136</td>\n",
              "      <td>4663855</td>\n",
              "      <td>d</td>\n",
              "      <td>2019-02-28</td>\n",
              "      <td>23:24</td>\n",
              "      <td>0</td>\n",
              "      <td>제주 제주시</td>\n",
              "      <td>기타 주점업</td>\n",
              "      <td>4142.857143</td>\n",
              "    </tr>\n",
              "    <tr>\n",
              "      <th>6556610</th>\n",
              "      <td>2136</td>\n",
              "      <td>4663489</td>\n",
              "      <td>a</td>\n",
              "      <td>2019-02-28</td>\n",
              "      <td>23:24</td>\n",
              "      <td>0</td>\n",
              "      <td>제주 제주시</td>\n",
              "      <td>기타 주점업</td>\n",
              "      <td>4500.000000</td>\n",
              "    </tr>\n",
              "    <tr>\n",
              "      <th>6556611</th>\n",
              "      <td>2136</td>\n",
              "      <td>4663856</td>\n",
              "      <td>d</td>\n",
              "      <td>2019-02-28</td>\n",
              "      <td>23:27</td>\n",
              "      <td>0</td>\n",
              "      <td>제주 제주시</td>\n",
              "      <td>기타 주점업</td>\n",
              "      <td>571.428571</td>\n",
              "    </tr>\n",
              "    <tr>\n",
              "      <th>6556612</th>\n",
              "      <td>2136</td>\n",
              "      <td>4658616</td>\n",
              "      <td>c</td>\n",
              "      <td>2019-02-28</td>\n",
              "      <td>23:54</td>\n",
              "      <td>0</td>\n",
              "      <td>제주 제주시</td>\n",
              "      <td>기타 주점업</td>\n",
              "      <td>5857.142857</td>\n",
              "    </tr>\n",
              "  </tbody>\n",
              "</table>\n",
              "</div>"
            ],
            "text/plain": [
              "         store_id  card_id card_company  ...  region type_of_business       amount\n",
              "6556608      2136  4663855            d  ...  제주 제주시           기타 주점업 -4500.000000\n",
              "6556609      2136  4663855            d  ...  제주 제주시           기타 주점업  4142.857143\n",
              "6556610      2136  4663489            a  ...  제주 제주시           기타 주점업  4500.000000\n",
              "6556611      2136  4663856            d  ...  제주 제주시           기타 주점업   571.428571\n",
              "6556612      2136  4658616            c  ...  제주 제주시           기타 주점업  5857.142857\n",
              "\n",
              "[5 rows x 9 columns]"
            ]
          },
          "metadata": {},
          "execution_count": 5
        }
      ]
    },
    {
      "cell_type": "code",
      "metadata": {
        "colab": {
          "base_uri": "https://localhost:8080/"
        },
        "id": "95sRDM8eewqR",
        "outputId": "70863c7a-bd03-4a8b-cefb-456fd884cb1b"
      },
      "source": [
        "train.info()"
      ],
      "execution_count": null,
      "outputs": [
        {
          "output_type": "stream",
          "text": [
            "<class 'pandas.core.frame.DataFrame'>\n",
            "RangeIndex: 6556613 entries, 0 to 6556612\n",
            "Data columns (total 9 columns):\n",
            " #   Column            Dtype  \n",
            "---  ------            -----  \n",
            " 0   store_id          int64  \n",
            " 1   card_id           int64  \n",
            " 2   card_company      object \n",
            " 3   transacted_date   object \n",
            " 4   transacted_time   object \n",
            " 5   installment_term  int64  \n",
            " 6   region            object \n",
            " 7   type_of_business  object \n",
            " 8   amount            float64\n",
            "dtypes: float64(1), int64(3), object(5)\n",
            "memory usage: 450.2+ MB\n"
          ],
          "name": "stdout"
        }
      ]
    },
    {
      "cell_type": "code",
      "metadata": {
        "colab": {
          "base_uri": "https://localhost:8080/",
          "height": 297
        },
        "id": "yT1qqLJc2vuf",
        "outputId": "fd881db0-a043-4bf8-fd45-25e554923b34"
      },
      "source": [
        "train.describe()"
      ],
      "execution_count": null,
      "outputs": [
        {
          "output_type": "execute_result",
          "data": {
            "text/html": [
              "<div>\n",
              "<style scoped>\n",
              "    .dataframe tbody tr th:only-of-type {\n",
              "        vertical-align: middle;\n",
              "    }\n",
              "\n",
              "    .dataframe tbody tr th {\n",
              "        vertical-align: top;\n",
              "    }\n",
              "\n",
              "    .dataframe thead th {\n",
              "        text-align: right;\n",
              "    }\n",
              "</style>\n",
              "<table border=\"1\" class=\"dataframe\">\n",
              "  <thead>\n",
              "    <tr style=\"text-align: right;\">\n",
              "      <th></th>\n",
              "      <th>store_id</th>\n",
              "      <th>card_id</th>\n",
              "      <th>installment_term</th>\n",
              "      <th>amount</th>\n",
              "    </tr>\n",
              "  </thead>\n",
              "  <tbody>\n",
              "    <tr>\n",
              "      <th>count</th>\n",
              "      <td>6.556613e+06</td>\n",
              "      <td>6.556613e+06</td>\n",
              "      <td>6.556613e+06</td>\n",
              "      <td>6.556613e+06</td>\n",
              "    </tr>\n",
              "    <tr>\n",
              "      <th>mean</th>\n",
              "      <td>1.084930e+03</td>\n",
              "      <td>2.268127e+06</td>\n",
              "      <td>1.382017e-01</td>\n",
              "      <td>1.043511e+04</td>\n",
              "    </tr>\n",
              "    <tr>\n",
              "      <th>std</th>\n",
              "      <td>6.152183e+02</td>\n",
              "      <td>1.351058e+06</td>\n",
              "      <td>1.188152e+00</td>\n",
              "      <td>3.104031e+04</td>\n",
              "    </tr>\n",
              "    <tr>\n",
              "      <th>min</th>\n",
              "      <td>0.000000e+00</td>\n",
              "      <td>0.000000e+00</td>\n",
              "      <td>0.000000e+00</td>\n",
              "      <td>-2.771429e+06</td>\n",
              "    </tr>\n",
              "    <tr>\n",
              "      <th>25%</th>\n",
              "      <td>5.860000e+02</td>\n",
              "      <td>1.088828e+06</td>\n",
              "      <td>0.000000e+00</td>\n",
              "      <td>2.142857e+03</td>\n",
              "    </tr>\n",
              "    <tr>\n",
              "      <th>50%</th>\n",
              "      <td>1.074000e+03</td>\n",
              "      <td>2.239304e+06</td>\n",
              "      <td>0.000000e+00</td>\n",
              "      <td>4.285714e+03</td>\n",
              "    </tr>\n",
              "    <tr>\n",
              "      <th>75%</th>\n",
              "      <td>1.615000e+03</td>\n",
              "      <td>3.438488e+06</td>\n",
              "      <td>0.000000e+00</td>\n",
              "      <td>8.571429e+03</td>\n",
              "    </tr>\n",
              "    <tr>\n",
              "      <th>max</th>\n",
              "      <td>2.136000e+03</td>\n",
              "      <td>4.663856e+06</td>\n",
              "      <td>9.300000e+01</td>\n",
              "      <td>5.571429e+06</td>\n",
              "    </tr>\n",
              "  </tbody>\n",
              "</table>\n",
              "</div>"
            ],
            "text/plain": [
              "           store_id       card_id  installment_term        amount\n",
              "count  6.556613e+06  6.556613e+06      6.556613e+06  6.556613e+06\n",
              "mean   1.084930e+03  2.268127e+06      1.382017e-01  1.043511e+04\n",
              "std    6.152183e+02  1.351058e+06      1.188152e+00  3.104031e+04\n",
              "min    0.000000e+00  0.000000e+00      0.000000e+00 -2.771429e+06\n",
              "25%    5.860000e+02  1.088828e+06      0.000000e+00  2.142857e+03\n",
              "50%    1.074000e+03  2.239304e+06      0.000000e+00  4.285714e+03\n",
              "75%    1.615000e+03  3.438488e+06      0.000000e+00  8.571429e+03\n",
              "max    2.136000e+03  4.663856e+06      9.300000e+01  5.571429e+06"
            ]
          },
          "metadata": {},
          "execution_count": 7
        }
      ]
    },
    {
      "cell_type": "markdown",
      "metadata": {
        "id": "itO3YGuo5HYz"
      },
      "source": [
        "### 자체 개발 EDA"
      ]
    },
    {
      "cell_type": "code",
      "metadata": {
        "id": "dUe7Jvnw3Sqk"
      },
      "source": [
        "def calcul_column_len(df,colname): # unique 데이터 갯수 반환\n",
        "  df_col = df[colname]\n",
        "  cols = df_col.unique()\n",
        "  return len(cols)"
      ],
      "execution_count": null,
      "outputs": []
    },
    {
      "cell_type": "code",
      "metadata": {
        "colab": {
          "base_uri": "https://localhost:8080/"
        },
        "id": "_W5DUaNwewoN",
        "outputId": "ed80b144-80bb-4f54-cad3-ee40850a5d16"
      },
      "source": [
        "for i in train.columns:\n",
        "  result_str = f'{i} 수: ' + str(calcul_column_len(train,i))\n",
        "  print(result_str)"
      ],
      "execution_count": null,
      "outputs": [
        {
          "output_type": "stream",
          "text": [
            "store_id 수: 1967\n",
            "card_id 수: 3950001\n",
            "card_company 수: 8\n",
            "transacted_date 수: 1003\n",
            "transacted_time 수: 1440\n",
            "installment_term 수: 34\n",
            "region 수: 181\n",
            "type_of_business 수: 146\n",
            "amount 수: 30551\n"
          ],
          "name": "stdout"
        }
      ]
    },
    {
      "cell_type": "markdown",
      "metadata": {
        "id": "6Lhfr7WG5xKG"
      },
      "source": [
        "## 분석 환경 설정 ( 1등 알고리즘 ) "
      ]
    },
    {
      "cell_type": "code",
      "metadata": {
        "id": "A-wJNsze5zRc",
        "colab": {
          "base_uri": "https://localhost:8080/"
        },
        "outputId": "7d17ae5f-c184-4ac4-e600-b9e8690137da"
      },
      "source": [
        "pip install tzlocal"
      ],
      "execution_count": null,
      "outputs": [
        {
          "output_type": "stream",
          "text": [
            "Requirement already satisfied: tzlocal in /usr/local/lib/python3.7/dist-packages (1.5.1)\n",
            "Requirement already satisfied: pytz in /usr/local/lib/python3.7/dist-packages (from tzlocal) (2018.9)\n"
          ],
          "name": "stdout"
        }
      ]
    },
    {
      "cell_type": "code",
      "metadata": {
        "id": "Kar_ov3FflpB",
        "colab": {
          "base_uri": "https://localhost:8080/"
        },
        "outputId": "bc45f036-25a1-4144-ca10-0823952bc435"
      },
      "source": [
        "pip install pmdarima"
      ],
      "execution_count": null,
      "outputs": [
        {
          "output_type": "stream",
          "text": [
            "Collecting pmdarima\n",
            "  Downloading pmdarima-1.8.2-cp37-cp37m-manylinux1_x86_64.whl (1.5 MB)\n",
            "\u001b[K     |████████████████████████████████| 1.5 MB 6.6 MB/s \n",
            "\u001b[?25hRequirement already satisfied: Cython!=0.29.18,>=0.29 in /usr/local/lib/python3.7/dist-packages (from pmdarima) (0.29.24)\n",
            "Requirement already satisfied: scipy>=1.3.2 in /usr/local/lib/python3.7/dist-packages (from pmdarima) (1.4.1)\n",
            "Requirement already satisfied: pandas>=0.19 in /usr/local/lib/python3.7/dist-packages (from pmdarima) (1.1.5)\n",
            "Requirement already satisfied: scikit-learn>=0.22 in /usr/local/lib/python3.7/dist-packages (from pmdarima) (0.22.2.post1)\n",
            "Collecting statsmodels!=0.12.0,>=0.11\n",
            "  Downloading statsmodels-0.12.2-cp37-cp37m-manylinux1_x86_64.whl (9.5 MB)\n",
            "\u001b[K     |████████████████████████████████| 9.5 MB 38.6 MB/s \n",
            "\u001b[?25hRequirement already satisfied: urllib3 in /usr/local/lib/python3.7/dist-packages (from pmdarima) (1.24.3)\n",
            "Requirement already satisfied: joblib>=0.11 in /usr/local/lib/python3.7/dist-packages (from pmdarima) (1.0.1)\n",
            "Requirement already satisfied: setuptools!=50.0.0,>=38.6.0 in /usr/local/lib/python3.7/dist-packages (from pmdarima) (57.4.0)\n",
            "Requirement already satisfied: numpy~=1.19.0 in /usr/local/lib/python3.7/dist-packages (from pmdarima) (1.19.5)\n",
            "Requirement already satisfied: pytz>=2017.2 in /usr/local/lib/python3.7/dist-packages (from pandas>=0.19->pmdarima) (2018.9)\n",
            "Requirement already satisfied: python-dateutil>=2.7.3 in /usr/local/lib/python3.7/dist-packages (from pandas>=0.19->pmdarima) (2.8.2)\n",
            "Requirement already satisfied: six>=1.5 in /usr/local/lib/python3.7/dist-packages (from python-dateutil>=2.7.3->pandas>=0.19->pmdarima) (1.15.0)\n",
            "Requirement already satisfied: patsy>=0.5 in /usr/local/lib/python3.7/dist-packages (from statsmodels!=0.12.0,>=0.11->pmdarima) (0.5.1)\n",
            "Installing collected packages: statsmodels, pmdarima\n",
            "  Attempting uninstall: statsmodels\n",
            "    Found existing installation: statsmodels 0.10.2\n",
            "    Uninstalling statsmodels-0.10.2:\n",
            "      Successfully uninstalled statsmodels-0.10.2\n",
            "Successfully installed pmdarima-1.8.2 statsmodels-0.12.2\n"
          ],
          "name": "stdout"
        }
      ]
    },
    {
      "cell_type": "code",
      "metadata": {
        "colab": {
          "base_uri": "https://localhost:8080/"
        },
        "id": "mjXLa1Z9f3ct",
        "outputId": "5cd1d1b3-f950-4170-ce67-ef2b09a49006"
      },
      "source": [
        "pip install statsmodels"
      ],
      "execution_count": null,
      "outputs": [
        {
          "output_type": "stream",
          "text": [
            "Requirement already satisfied: statsmodels in /usr/local/lib/python3.7/dist-packages (0.12.2)\n",
            "Requirement already satisfied: patsy>=0.5 in /usr/local/lib/python3.7/dist-packages (from statsmodels) (0.5.1)\n",
            "Requirement already satisfied: scipy>=1.1 in /usr/local/lib/python3.7/dist-packages (from statsmodels) (1.4.1)\n",
            "Requirement already satisfied: pandas>=0.21 in /usr/local/lib/python3.7/dist-packages (from statsmodels) (1.1.5)\n",
            "Requirement already satisfied: numpy>=1.15 in /usr/local/lib/python3.7/dist-packages (from statsmodels) (1.19.5)\n",
            "Requirement already satisfied: python-dateutil>=2.7.3 in /usr/local/lib/python3.7/dist-packages (from pandas>=0.21->statsmodels) (2.8.2)\n",
            "Requirement already satisfied: pytz>=2017.2 in /usr/local/lib/python3.7/dist-packages (from pandas>=0.21->statsmodels) (2018.9)\n",
            "Requirement already satisfied: six in /usr/local/lib/python3.7/dist-packages (from patsy>=0.5->statsmodels) (1.15.0)\n"
          ],
          "name": "stdout"
        }
      ]
    },
    {
      "cell_type": "code",
      "metadata": {
        "colab": {
          "base_uri": "https://localhost:8080/"
        },
        "id": "E_IvQwNPf3bC",
        "outputId": "1238d460-0f85-4772-f881-3054fba13a52"
      },
      "source": [
        "pip install tqdm"
      ],
      "execution_count": null,
      "outputs": [
        {
          "output_type": "stream",
          "text": [
            "Requirement already satisfied: tqdm in /usr/local/lib/python3.7/dist-packages (4.62.0)\n"
          ],
          "name": "stdout"
        }
      ]
    },
    {
      "cell_type": "code",
      "metadata": {
        "id": "iLQ7QwcgfOK-"
      },
      "source": [
        "import rpy2"
      ],
      "execution_count": null,
      "outputs": []
    },
    {
      "cell_type": "code",
      "metadata": {
        "colab": {
          "base_uri": "https://localhost:8080/",
          "height": 35
        },
        "id": "Wdrng1i0fQXm",
        "outputId": "2b8c10a1-60f1-4f1a-cce6-1968c2421f98"
      },
      "source": [
        "rpy2.__version__"
      ],
      "execution_count": null,
      "outputs": [
        {
          "output_type": "execute_result",
          "data": {
            "application/vnd.google.colaboratory.intrinsic+json": {
              "type": "string"
            },
            "text/plain": [
              "'3.4.5'"
            ]
          },
          "metadata": {},
          "execution_count": 15
        }
      ]
    },
    {
      "cell_type": "code",
      "metadata": {
        "colab": {
          "base_uri": "https://localhost:8080/"
        },
        "id": "MZbGf9D8fRta",
        "outputId": "4d959461-085f-4be8-a1b6-083d7d8fb709"
      },
      "source": [
        "import pandas as pd\n",
        "import numpy as np\n",
        "\n",
        "pd.__version__, np.__version__"
      ],
      "execution_count": null,
      "outputs": [
        {
          "output_type": "execute_result",
          "data": {
            "text/plain": [
              "('1.1.5', '1.19.5')"
            ]
          },
          "metadata": {},
          "execution_count": 16
        }
      ]
    },
    {
      "cell_type": "code",
      "metadata": {
        "colab": {
          "base_uri": "https://localhost:8080/",
          "height": 35
        },
        "id": "eE9d9Pq5fZcW",
        "outputId": "0eba90e0-c46b-4969-b719-db959c8876d6"
      },
      "source": [
        "import pmdarima\n",
        "\n",
        "pmdarima.__version__"
      ],
      "execution_count": null,
      "outputs": [
        {
          "output_type": "execute_result",
          "data": {
            "application/vnd.google.colaboratory.intrinsic+json": {
              "type": "string"
            },
            "text/plain": [
              "'1.8.2'"
            ]
          },
          "metadata": {},
          "execution_count": 17
        }
      ]
    },
    {
      "cell_type": "code",
      "metadata": {
        "colab": {
          "base_uri": "https://localhost:8080/"
        },
        "id": "tnDIha4xfjzE",
        "outputId": "0801274d-c5fc-40dd-e20e-a9a426ea7888"
      },
      "source": [
        "import statsmodels\n",
        "import tqdm\n",
        "import seaborn as sns\n",
        "\n",
        "statsmodels.__version__, tqdm.__version__, sns.__version__"
      ],
      "execution_count": null,
      "outputs": [
        {
          "output_type": "execute_result",
          "data": {
            "text/plain": [
              "('0.12.2', '4.62.0', '0.11.1')"
            ]
          },
          "metadata": {},
          "execution_count": 18
        }
      ]
    },
    {
      "cell_type": "markdown",
      "metadata": {
        "id": "mo2CTgsJqwr3"
      },
      "source": [
        "## 4.2 데이터 전처리"
      ]
    },
    {
      "cell_type": "code",
      "metadata": {
        "id": "9flBTFlOqxdp",
        "colab": {
          "base_uri": "https://localhost:8080/",
          "height": 224
        },
        "outputId": "e3caee3a-59cc-4134-a8c4-2e904548cd38"
      },
      "source": [
        "from tqdm import tqdm \n",
        "train.head()"
      ],
      "execution_count": null,
      "outputs": [
        {
          "output_type": "execute_result",
          "data": {
            "text/html": [
              "<div>\n",
              "<style scoped>\n",
              "    .dataframe tbody tr th:only-of-type {\n",
              "        vertical-align: middle;\n",
              "    }\n",
              "\n",
              "    .dataframe tbody tr th {\n",
              "        vertical-align: top;\n",
              "    }\n",
              "\n",
              "    .dataframe thead th {\n",
              "        text-align: right;\n",
              "    }\n",
              "</style>\n",
              "<table border=\"1\" class=\"dataframe\">\n",
              "  <thead>\n",
              "    <tr style=\"text-align: right;\">\n",
              "      <th></th>\n",
              "      <th>store_id</th>\n",
              "      <th>card_id</th>\n",
              "      <th>card_company</th>\n",
              "      <th>transacted_date</th>\n",
              "      <th>transacted_time</th>\n",
              "      <th>installment_term</th>\n",
              "      <th>region</th>\n",
              "      <th>type_of_business</th>\n",
              "      <th>amount</th>\n",
              "    </tr>\n",
              "  </thead>\n",
              "  <tbody>\n",
              "    <tr>\n",
              "      <th>0</th>\n",
              "      <td>0</td>\n",
              "      <td>0</td>\n",
              "      <td>b</td>\n",
              "      <td>2016-06-01</td>\n",
              "      <td>13:13</td>\n",
              "      <td>0</td>\n",
              "      <td>NaN</td>\n",
              "      <td>기타 미용업</td>\n",
              "      <td>1857.142857</td>\n",
              "    </tr>\n",
              "    <tr>\n",
              "      <th>1</th>\n",
              "      <td>0</td>\n",
              "      <td>1</td>\n",
              "      <td>h</td>\n",
              "      <td>2016-06-01</td>\n",
              "      <td>18:12</td>\n",
              "      <td>0</td>\n",
              "      <td>NaN</td>\n",
              "      <td>기타 미용업</td>\n",
              "      <td>857.142857</td>\n",
              "    </tr>\n",
              "    <tr>\n",
              "      <th>2</th>\n",
              "      <td>0</td>\n",
              "      <td>2</td>\n",
              "      <td>c</td>\n",
              "      <td>2016-06-01</td>\n",
              "      <td>18:52</td>\n",
              "      <td>0</td>\n",
              "      <td>NaN</td>\n",
              "      <td>기타 미용업</td>\n",
              "      <td>2000.000000</td>\n",
              "    </tr>\n",
              "    <tr>\n",
              "      <th>3</th>\n",
              "      <td>0</td>\n",
              "      <td>3</td>\n",
              "      <td>a</td>\n",
              "      <td>2016-06-01</td>\n",
              "      <td>20:22</td>\n",
              "      <td>0</td>\n",
              "      <td>NaN</td>\n",
              "      <td>기타 미용업</td>\n",
              "      <td>7857.142857</td>\n",
              "    </tr>\n",
              "    <tr>\n",
              "      <th>4</th>\n",
              "      <td>0</td>\n",
              "      <td>4</td>\n",
              "      <td>c</td>\n",
              "      <td>2016-06-02</td>\n",
              "      <td>11:06</td>\n",
              "      <td>0</td>\n",
              "      <td>NaN</td>\n",
              "      <td>기타 미용업</td>\n",
              "      <td>2000.000000</td>\n",
              "    </tr>\n",
              "  </tbody>\n",
              "</table>\n",
              "</div>"
            ],
            "text/plain": [
              "   store_id  card_id card_company  ... region type_of_business       amount\n",
              "0         0        0            b  ...    NaN           기타 미용업  1857.142857\n",
              "1         0        1            h  ...    NaN           기타 미용업   857.142857\n",
              "2         0        2            c  ...    NaN           기타 미용업  2000.000000\n",
              "3         0        3            a  ...    NaN           기타 미용업  7857.142857\n",
              "4         0        4            c  ...    NaN           기타 미용업  2000.000000\n",
              "\n",
              "[5 rows x 9 columns]"
            ]
          },
          "metadata": {},
          "execution_count": 19
        }
      ]
    },
    {
      "cell_type": "markdown",
      "metadata": {
        "id": "vyq7PVxf16Uy"
      },
      "source": [
        "### tqdm이란??\n",
        "\n",
        "> 파이썬으로 어떤 작업을 수행중인데, 프로그램이 내가 의도한 데로 돌아가고 있는 중인가, 진행상황이 궁금할 때가 있다. 시간이 걸리는 작업의 경우에 더 이런 상태 확인이 필요하다. \n",
        "파이썬 모듈중에 tqdm이라는 것이 이 용도로 쓰이고 있다.\n",
        "\n",
        "> 출처: https://skillmemory.tistory.com/17 [세상탐험대 블로그]"
      ]
    },
    {
      "cell_type": "code",
      "metadata": {
        "colab": {
          "base_uri": "https://localhost:8080/",
          "height": 297
        },
        "id": "IIVe5WfHymGC",
        "outputId": "adec5021-a5c2-4ed3-959d-e97ffd55a788"
      },
      "source": [
        "import matplotlib.pyplot as plt\n",
        "plt.figure(figsize=(13,4))\n",
        "plt.bar(train.columns, train.isnull().sum())\n",
        "plt.xticks(rotation=45)"
      ],
      "execution_count": null,
      "outputs": [
        {
          "output_type": "execute_result",
          "data": {
            "text/plain": [
              "([0, 1, 2, 3, 4, 5, 6, 7, 8], <a list of 9 Text major ticklabel objects>)"
            ]
          },
          "metadata": {},
          "execution_count": 20
        },
        {
          "output_type": "display_data",
          "data": {
            "image/png": "[encoded data removed]",
            "text/plain": [
              "<Figure size 936x288 with 1 Axes>"
            ]
          },
          "metadata": {
            "needs_background": "light"
          }
        }
      ]
    },
    {
      "cell_type": "code",
      "metadata": {
        "id": "svGfjlMty5GG"
      },
      "source": [
        "### 열 전체 제거"
      ],
      "execution_count": null,
      "outputs": []
    },
    {
      "cell_type": "code",
      "metadata": {
        "colab": {
          "base_uri": "https://localhost:8080/",
          "height": 224
        },
        "id": "ieUq7cOUzFUi",
        "outputId": "ef8f4d9e-46fd-4d1e-b082-3197b729b4ef"
      },
      "source": [
        "train = train.drop(['region','type_of_business'],axis=1)\n",
        "train.head()"
      ],
      "execution_count": null,
      "outputs": [
        {
          "output_type": "execute_result",
          "data": {
            "text/html": [
              "<div>\n",
              "<style scoped>\n",
              "    .dataframe tbody tr th:only-of-type {\n",
              "        vertical-align: middle;\n",
              "    }\n",
              "\n",
              "    .dataframe tbody tr th {\n",
              "        vertical-align: top;\n",
              "    }\n",
              "\n",
              "    .dataframe thead th {\n",
              "        text-align: right;\n",
              "    }\n",
              "</style>\n",
              "<table border=\"1\" class=\"dataframe\">\n",
              "  <thead>\n",
              "    <tr style=\"text-align: right;\">\n",
              "      <th></th>\n",
              "      <th>store_id</th>\n",
              "      <th>card_id</th>\n",
              "      <th>card_company</th>\n",
              "      <th>transacted_date</th>\n",
              "      <th>transacted_time</th>\n",
              "      <th>installment_term</th>\n",
              "      <th>amount</th>\n",
              "    </tr>\n",
              "  </thead>\n",
              "  <tbody>\n",
              "    <tr>\n",
              "      <th>0</th>\n",
              "      <td>0</td>\n",
              "      <td>0</td>\n",
              "      <td>b</td>\n",
              "      <td>2016-06-01</td>\n",
              "      <td>13:13</td>\n",
              "      <td>0</td>\n",
              "      <td>1857.142857</td>\n",
              "    </tr>\n",
              "    <tr>\n",
              "      <th>1</th>\n",
              "      <td>0</td>\n",
              "      <td>1</td>\n",
              "      <td>h</td>\n",
              "      <td>2016-06-01</td>\n",
              "      <td>18:12</td>\n",
              "      <td>0</td>\n",
              "      <td>857.142857</td>\n",
              "    </tr>\n",
              "    <tr>\n",
              "      <th>2</th>\n",
              "      <td>0</td>\n",
              "      <td>2</td>\n",
              "      <td>c</td>\n",
              "      <td>2016-06-01</td>\n",
              "      <td>18:52</td>\n",
              "      <td>0</td>\n",
              "      <td>2000.000000</td>\n",
              "    </tr>\n",
              "    <tr>\n",
              "      <th>3</th>\n",
              "      <td>0</td>\n",
              "      <td>3</td>\n",
              "      <td>a</td>\n",
              "      <td>2016-06-01</td>\n",
              "      <td>20:22</td>\n",
              "      <td>0</td>\n",
              "      <td>7857.142857</td>\n",
              "    </tr>\n",
              "    <tr>\n",
              "      <th>4</th>\n",
              "      <td>0</td>\n",
              "      <td>4</td>\n",
              "      <td>c</td>\n",
              "      <td>2016-06-02</td>\n",
              "      <td>11:06</td>\n",
              "      <td>0</td>\n",
              "      <td>2000.000000</td>\n",
              "    </tr>\n",
              "  </tbody>\n",
              "</table>\n",
              "</div>"
            ],
            "text/plain": [
              "   store_id  card_id  ... installment_term       amount\n",
              "0         0        0  ...                0  1857.142857\n",
              "1         0        1  ...                0   857.142857\n",
              "2         0        2  ...                0  2000.000000\n",
              "3         0        3  ...                0  7857.142857\n",
              "4         0        4  ...                0  2000.000000\n",
              "\n",
              "[5 rows x 7 columns]"
            ]
          },
          "metadata": {},
          "execution_count": 22
        }
      ]
    },
    {
      "cell_type": "code",
      "metadata": {
        "colab": {
          "base_uri": "https://localhost:8080/",
          "height": 297
        },
        "id": "f6Sv0lLgzJvQ",
        "outputId": "1309dec3-ef15-4b69-d071-e31a4ad137df"
      },
      "source": [
        "### 매출액 이상치 확인\n",
        "\n",
        "plt.figure(figsize=(8,4))\n",
        "sns.boxplot(train['amount'])"
      ],
      "execution_count": null,
      "outputs": [
        {
          "output_type": "execute_result",
          "data": {
            "text/plain": [
              "<matplotlib.axes._subplots.AxesSubplot at 0x7f8216597fd0>"
            ]
          },
          "metadata": {},
          "execution_count": 23
        },
        {
          "output_type": "display_data",
          "data": {
            "image/png": "[encoded data removed]",
            "text/plain": [
              "<Figure size 576x288 with 1 Axes>"
            ]
          },
          "metadata": {
            "needs_background": "light"
          }
        }
      ]
    },
    {
      "cell_type": "code",
      "metadata": {
        "colab": {
          "base_uri": "https://localhost:8080/",
          "height": 224
        },
        "id": "EiBiUfthzQYp",
        "outputId": "1f047a73-fb2a-478b-e02e-18814f39d761"
      },
      "source": [
        "### 매출액<0 , 환불 일어난 행\n",
        "train[train['amount']<0].head()"
      ],
      "execution_count": null,
      "outputs": [
        {
          "output_type": "execute_result",
          "data": {
            "text/html": [
              "<div>\n",
              "<style scoped>\n",
              "    .dataframe tbody tr th:only-of-type {\n",
              "        vertical-align: middle;\n",
              "    }\n",
              "\n",
              "    .dataframe tbody tr th {\n",
              "        vertical-align: top;\n",
              "    }\n",
              "\n",
              "    .dataframe thead th {\n",
              "        text-align: right;\n",
              "    }\n",
              "</style>\n",
              "<table border=\"1\" class=\"dataframe\">\n",
              "  <thead>\n",
              "    <tr style=\"text-align: right;\">\n",
              "      <th></th>\n",
              "      <th>store_id</th>\n",
              "      <th>card_id</th>\n",
              "      <th>card_company</th>\n",
              "      <th>transacted_date</th>\n",
              "      <th>transacted_time</th>\n",
              "      <th>installment_term</th>\n",
              "      <th>amount</th>\n",
              "    </tr>\n",
              "  </thead>\n",
              "  <tbody>\n",
              "    <tr>\n",
              "      <th>41</th>\n",
              "      <td>0</td>\n",
              "      <td>40</td>\n",
              "      <td>a</td>\n",
              "      <td>2016-06-10</td>\n",
              "      <td>17:26</td>\n",
              "      <td>2</td>\n",
              "      <td>-8571.428571</td>\n",
              "    </tr>\n",
              "    <tr>\n",
              "      <th>347</th>\n",
              "      <td>0</td>\n",
              "      <td>285</td>\n",
              "      <td>a</td>\n",
              "      <td>2016-08-04</td>\n",
              "      <td>17:52</td>\n",
              "      <td>0</td>\n",
              "      <td>-1857.142857</td>\n",
              "    </tr>\n",
              "    <tr>\n",
              "      <th>731</th>\n",
              "      <td>0</td>\n",
              "      <td>473</td>\n",
              "      <td>g</td>\n",
              "      <td>2016-10-17</td>\n",
              "      <td>10:32</td>\n",
              "      <td>0</td>\n",
              "      <td>-2000.000000</td>\n",
              "    </tr>\n",
              "    <tr>\n",
              "      <th>831</th>\n",
              "      <td>0</td>\n",
              "      <td>230</td>\n",
              "      <td>b</td>\n",
              "      <td>2016-11-03</td>\n",
              "      <td>15:36</td>\n",
              "      <td>0</td>\n",
              "      <td>-85.714286</td>\n",
              "    </tr>\n",
              "    <tr>\n",
              "      <th>944</th>\n",
              "      <td>0</td>\n",
              "      <td>138</td>\n",
              "      <td>a</td>\n",
              "      <td>2016-11-28</td>\n",
              "      <td>13:21</td>\n",
              "      <td>0</td>\n",
              "      <td>-57.142857</td>\n",
              "    </tr>\n",
              "  </tbody>\n",
              "</table>\n",
              "</div>"
            ],
            "text/plain": [
              "     store_id  card_id  ... installment_term       amount\n",
              "41          0       40  ...                2 -8571.428571\n",
              "347         0      285  ...                0 -1857.142857\n",
              "731         0      473  ...                0 -2000.000000\n",
              "831         0      230  ...                0   -85.714286\n",
              "944         0      138  ...                0   -57.142857\n",
              "\n",
              "[5 rows x 7 columns]"
            ]
          },
          "metadata": {},
          "execution_count": 24
        }
      ]
    },
    {
      "cell_type": "markdown",
      "metadata": {
        "id": "Vo680ZhV1Ord"
      },
      "source": [
        "### 주요 전처리 모듈 1. 양수 이전 매출액 + 음수 환불 액 제거"
      ]
    },
    {
      "cell_type": "code",
      "metadata": {
        "id": "wChwg5_F1VbH"
      },
      "source": [
        "train['datetime'] = pd.to_datetime(train.transacted_date+\" \"+train.transacted_time,format='%Y-%m-%d %H:%M:%S')"
      ],
      "execution_count": null,
      "outputs": []
    },
    {
      "cell_type": "code",
      "metadata": {
        "id": "8-GspFdN1pj7"
      },
      "source": [
        "def remove_refund(df):\n",
        "  refund = df[df['amount']<0] # 매출액 음숫값 데이터 추출\n",
        "  non_refund = df[df['amount']>0]\n",
        "  removed_data = pd.DataFrame()\n",
        "  for i in tqdm(df.store_id.unique()):\n",
        "    # 매출액이 양숫값인 데이터를 상점별로 나눈다.\n",
        "    divided_data = non_refund[non_refund['store_id']==i]\n",
        "    # 매출액이 음숫값인 데이터를 상점별로 나눈다.\n",
        "    divided_data2 = refund[refund['store_id']==i]\n",
        "    \n",
        "    # i(상점)별로 밑의 코드 실행\n",
        "\n",
        "    for neg in divided_data2.to_records()[:]: # 환불 데이터를 차례대로 검사한다.\n",
        "      refund_store = neg['store_id'] # 음숫값인 상점의 store_id를 불러온다.\n",
        "      refund_id = neg['card_id'] # 음숫값인 상점에서 환불한 카드 아이디 추출\n",
        "      refund_datetime = neg['datetime'] # 환불 시간을 추출한다. (년월일 시분초)\n",
        "      refund_amount = abs(neg['amount']) # 매출 음숫값의 절댓값을 구한다.\n",
        "\n",
        "      # neg(환불상점의 거래)별로 밑의 코드 실행\n",
        "\n",
        "      # 환불 시간 이전의 데이터 중 카드 아이디와 환불액이 같은 후보 리스트를 추출\n",
        "      refund_pay_list = divided_data[divided_data['datetime']<refund_datetime] # 양수중 환불 이전 시간\n",
        "      refund_pay_list = refund_pay_list[refund_pay_list['card_id']==refund_id] # 환불거래와 카드id 동일\n",
        "      refund_pay_list = refund_pay_list[refund_pay_list['amount']==refund_amount] # # 환불거래와 액수 동일\n",
        "      \n",
        "      # 후보 리스트가 있으면 카드 아이디, 환불액이 같으면서 가장 최근시간을\n",
        "      # 제거 한다.\n",
        "      if len(refund_pay_list)!=0:\n",
        "        # 가장 최근 시간\n",
        "        refund_datetime = max(refund_pay_list['datetime'])\n",
        "        # 가장 최근 환불 양수 리스트\n",
        "        noise_list = divided_data[divided_data['datetime']==refund_datetime]\n",
        "        # 환불 양수 카드 id도 동일\n",
        "        noise_list = noise_list[noise_list['card_id']==refund_id]\n",
        "        # 환불 액수\n",
        "        noise_list = noise_list[noise_list['amount']==refund_amount]\n",
        "        # 인덱스를 통해 제거\n",
        "        divided_data = divided_data.drop(index=noise_list.index)\n",
        "      # 제거한 데이터를 최종 결과 df에 추가\n",
        "      removed_data = pd.concat([removed_data,divided_data],axis=0)\n",
        "    return removed_data"
      ],
      "execution_count": null,
      "outputs": []
    },
    {
      "cell_type": "code",
      "metadata": {
        "colab": {
          "base_uri": "https://localhost:8080/",
          "height": 315
        },
        "id": "zSxmY-qi6KUz",
        "outputId": "8ddc887e-dc87-4612-e58e-3ba23d62b78e"
      },
      "source": [
        "positive_data = remove_refund(train)\n",
        "plt.figure(figsize=(8,4))\n",
        "sns.boxplot(positive_data['amount'])"
      ],
      "execution_count": null,
      "outputs": [
        {
          "output_type": "stream",
          "text": [
            "  0%|          | 0/1967 [00:00<?, ?it/s]\n"
          ],
          "name": "stderr"
        },
        {
          "output_type": "execute_result",
          "data": {
            "text/plain": [
              "<matplotlib.axes._subplots.AxesSubplot at 0x7f8237f2d5d0>"
            ]
          },
          "metadata": {},
          "execution_count": 27
        },
        {
          "output_type": "display_data",
          "data": {
            "image/png": "[encoded data removed]",
            "text/plain": [
              "<Figure size 576x288 with 1 Axes>"
            ]
          },
          "metadata": {
            "needs_background": "light"
          }
        }
      ]
    },
    {
      "cell_type": "markdown",
      "metadata": {
        "id": "SQhZGz1ACbCY"
      },
      "source": [
        "### 다운 샘플링\n",
        "\n",
        "> 목적 : 향후 3개월간 상점 매출의 '총합'구하기. 시간 간격을 좁게하여 예측의 불확실성을 줄이겠음"
      ]
    },
    {
      "cell_type": "code",
      "metadata": {
        "id": "mgZCtfVbCiV5"
      },
      "source": [
        "positive_data.head()"
      ],
      "execution_count": null,
      "outputs": []
    },
    {
      "cell_type": "code",
      "metadata": {
        "id": "R35RpEoJ6URM"
      },
      "source": [
        "## 월 단위 다운 샘플링 함수 정의\n",
        "def month_resampling(df):\n",
        "  new_data = pd.DataFrame()\n",
        "  # 년도와 월을 합친 변수\n",
        "  df['year_month'] = df['transacted_date'].str.slice(stop=7)\n",
        "  # 데이터의 전체 기간\n",
        "  year_month = df['year_month'].drop_duplicates()\n",
        "  # 상점 아이디별로 월 단위 매출액 총합을 구한다.\n",
        "  downsampling_data = df.groupby(['store_id','year_month']).amount.sum()\n",
        "  downsampling_data = pd.DataFrame(downsampling_data)\n",
        "  downsampling_data = downsampling_data.reset_index(drop=False,inplace=False)\n",
        "\n",
        "  for i in tqdm(df.store_id.unique()):\n",
        "    # 상점별로 데이터를 처리한다.\n",
        "    store = downsampling_data[downsampling_data['store_id']==i]\n",
        "    # 각 상점의 처음 매출이 발생한 월을 구한다.\n",
        "    start_time = min(store['year_month'])\n",
        "    # 모든 상점을 전체 기간 데이터로 만든다.\n",
        "    store = store.merge(year_month,how='outer')\n",
        "    # 데이터를 시간순으로 정렬한다.\n",
        "    store = store.sort_values(by=['year_month'],axis=0, ascending=False)\n",
        "    # 매출이 발생하지 않는 월은 2로 채운다.  << Why? :\n",
        "    store['amount'] = store['amount'].fillna(2)\n",
        "    # 상점 아이디 결측치를 채운다 \n",
        "    store['store_id'] = store['store_id'].fillna(i)\n",
        "    # 처음 매출이 발생한 월 이후만 뽑는다.\n",
        "    store = store[store['year_month']>=start_time]\n",
        "\n",
        "    new_data = pd.concat([new_data,store],axis=0)\n",
        "  return new_data"
      ],
      "execution_count": 1,
      "outputs": []
    },
    {
      "cell_type": "code",
      "metadata": {
        "id": "7BTxfP-2DyfC"
      },
      "source": [
        "resampling_data = month_resampling(positive_data)\n",
        "resampling_data['store_id'] = resampling_data['store_id'].astype(int)\n",
        "resampling_data # 다운 샘플링 간격(현재 1달)이 적절한지 확인이 필요함"
      ],
      "execution_count": null,
      "outputs": []
    },
    {
      "cell_type": "markdown",
      "metadata": {
        "id": "2GgP7_apEn84"
      },
      "source": [
        "### 날짜 지정 범위 생성 및 시리즈 객체 변환\n",
        "\n",
        "> 시계열 데이터 분석을 위해선 DF를 Series객체로 변환해야함.\n",
        "\n",
        "> ※ 정상성 확인을 위한 단위근 검정과 시계열 모델 구축 과정에서 Series 객체를 사용함.\n",
        "\n",
        "> 변환 Process \n",
        "1. 인덱스 날짜 지정 범위 설정(몇날 몇일부터 시작?)\n",
        "2. DF의 index를 시간 변수로 변환 ((by)pd.data_range 함수)"
      ]
    },
    {
      "cell_type": "code",
      "metadata": {
        "id": "sT1ZZZJDEqGC"
      },
      "source": [
        "print(type(resampling_data)) # 데이터 프레임 형태"
      ],
      "execution_count": null,
      "outputs": []
    },
    {
      "cell_type": "code",
      "metadata": {
        "id": "_rWNdg8MzfT-"
      },
      "source": [
        "## DF -> Series 변환 함수\n",
        "def time_series(df,i):\n",
        "  # 상점별로 데이터를 뽑는다\n",
        "  store = df[df['store_id']==i]\n",
        "  ## 날짜 지정 범위는 영업 시작월부터 2019년 3월 전까지 영업 마감일 기준\n",
        "  index = pd.data_range(min(store['year_month']),'2019-03',freq='BM') # freq=BM? >\n",
        "  ## 시리즈 객체로 변환\n",
        "  ts = pd.Series(store['amount'].values,index=index)\n",
        "  return ts"
      ],
      "execution_count": 2,
      "outputs": []
    },
    {
      "cell_type": "code",
      "metadata": {
        "id": "7332DksdHUWj"
      },
      "source": [
        "# 상점 아이디가 0번인 데이터를 시리즈 객체로 변환\n",
        "store_0 = time_series(resampling_data,0)\n",
        "store_0"
      ],
      "execution_count": null,
      "outputs": []
    },
    {
      "cell_type": "code",
      "metadata": {
        "id": "BLFlyLIQzbw0"
      },
      "source": [
        "# 데이터 타입을 출력\n",
        "store_1 = time_series(resampling_data,1)\n",
        "print(type(store_1))"
      ],
      "execution_count": null,
      "outputs": []
    },
    {
      "cell_type": "code",
      "metadata": {
        "id": "MVrAszDmHfq8"
      },
      "source": [
        "# 상점 아이디가 2번인 데이터를 시리즈 객체로 변환\n",
        "store_2 = time_series(resampling_data,2)\n",
        "store_2.plot()"
      ],
      "execution_count": null,
      "outputs": []
    },
    {
      "cell_type": "markdown",
      "metadata": {
        "id": "pwRSfQ8IHleE"
      },
      "source": [
        "## 4.3 EDA"
      ]
    },
    {
      "cell_type": "code",
      "metadata": {
        "id": "On1mQ42XHxxz"
      },
      "source": [
        ""
      ],
      "execution_count": null,
      "outputs": []
    },
    {
      "cell_type": "code",
      "metadata": {
        "id": "OOePhVlcHfpC"
      },
      "source": [
        ""
      ],
      "execution_count": 2,
      "outputs": []
    },
    {
      "cell_type": "code",
      "metadata": {
        "id": "GXLZpmQeHk4k"
      },
      "source": [
        ""
      ],
      "execution_count": null,
      "outputs": []
    }
  ]
}