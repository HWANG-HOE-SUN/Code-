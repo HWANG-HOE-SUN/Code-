{
  "nbformat": 4,
  "nbformat_minor": 0,
  "metadata": {
    "colab": {
      "name": "AutoMl_Reg.ipynb",
      "provenance": [],
      "authorship_tag": "ABX9TyPqRsTKBqJyAOIv833E8t5+",
      "include_colab_link": true
    },
    "kernelspec": {
      "name": "python3",
      "display_name": "Python 3"
    },
    "language_info": {
      "name": "python"
    }
  },
  "cells": [
    {
      "cell_type": "markdown",
      "metadata": {
        "id": "view-in-github",
        "colab_type": "text"
      },
      "source": [
        "<a href=\"https://colab.research.google.com/github/HWANG-HOE-SUN/Code-/blob/main/AutoMl_Reg.ipynb\" target=\"_parent\"><img src=\"https://colab.research.google.com/assets/colab-badge.svg\" alt=\"Open In Colab\"/></a>"
      ]
    },
    {
      "cell_type": "code",
      "metadata": {
        "colab": {
          "base_uri": "https://localhost:8080/"
        },
        "id": "lr9cfYSO4DdV",
        "outputId": "0792ba23-6119-4a8e-e528-78a1ba72551d"
      },
      "source": [
        "import sys\n",
        "print(sys.version)"
      ],
      "execution_count": null,
      "outputs": [
        {
          "output_type": "stream",
          "name": "stdout",
          "text": [
            "3.7.12 (default, Sep 10 2021, 00:21:48) \n",
            "[GCC 7.5.0]\n"
          ]
        }
      ]
    },
    {
      "cell_type": "code",
      "metadata": {
        "colab": {
          "base_uri": "https://localhost:8080/"
        },
        "id": "ypjWa2Vq4WW2",
        "outputId": "095668a7-d374-4ce1-ffc8-9b46852e7135"
      },
      "source": [
        "# 종속 패키지 설차\n",
        "!pip install requests\n",
        "!pip install tabulate\n",
        "!pip install \"colorama>=0.3.8\"\n",
        "!pip install future \n",
        "!pip install -f http://h2o-release.s3.amazonaws.com/h2o/latest_stable_Py.html h2o"
      ],
      "execution_count": null,
      "outputs": [
        {
          "output_type": "stream",
          "name": "stdout",
          "text": [
            "Requirement already satisfied: requests in /usr/local/lib/python3.7/dist-packages (2.23.0)\n",
            "Requirement already satisfied: certifi>=2017.4.17 in /usr/local/lib/python3.7/dist-packages (from requests) (2021.5.30)\n",
            "Requirement already satisfied: urllib3!=1.25.0,!=1.25.1,<1.26,>=1.21.1 in /usr/local/lib/python3.7/dist-packages (from requests) (1.24.3)\n",
            "Requirement already satisfied: idna<3,>=2.5 in /usr/local/lib/python3.7/dist-packages (from requests) (2.10)\n",
            "Requirement already satisfied: chardet<4,>=3.0.2 in /usr/local/lib/python3.7/dist-packages (from requests) (3.0.4)\n",
            "Requirement already satisfied: tabulate in /usr/local/lib/python3.7/dist-packages (0.8.9)\n",
            "Collecting colorama>=0.3.8\n",
            "  Downloading colorama-0.4.4-py2.py3-none-any.whl (16 kB)\n",
            "Installing collected packages: colorama\n",
            "Successfully installed colorama-0.4.4\n",
            "Requirement already satisfied: future in /usr/local/lib/python3.7/dist-packages (0.16.0)\n",
            "Looking in links: http://h2o-release.s3.amazonaws.com/h2o/latest_stable_Py.html\n",
            "\u001b[33mWARNING: The repository located at h2o-release.s3.amazonaws.com is not a trusted or secure host and is being ignored. If this repository is available via HTTPS we recommend you use HTTPS instead, otherwise you may silence this warning and allow it anyway with '--trusted-host h2o-release.s3.amazonaws.com'.\u001b[0m\n",
            "Collecting h2o\n",
            "  Downloading h2o-3.34.0.1.tar.gz (175.8 MB)\n",
            "\u001b[K     |████████████████████████████████| 175.8 MB 34 kB/s \n",
            "\u001b[?25hRequirement already satisfied: requests in /usr/local/lib/python3.7/dist-packages (from h2o) (2.23.0)\n",
            "Requirement already satisfied: tabulate in /usr/local/lib/python3.7/dist-packages (from h2o) (0.8.9)\n",
            "Requirement already satisfied: future in /usr/local/lib/python3.7/dist-packages (from h2o) (0.16.0)\n",
            "Requirement already satisfied: urllib3!=1.25.0,!=1.25.1,<1.26,>=1.21.1 in /usr/local/lib/python3.7/dist-packages (from requests->h2o) (1.24.3)\n",
            "Requirement already satisfied: chardet<4,>=3.0.2 in /usr/local/lib/python3.7/dist-packages (from requests->h2o) (3.0.4)\n",
            "Requirement already satisfied: idna<3,>=2.5 in /usr/local/lib/python3.7/dist-packages (from requests->h2o) (2.10)\n",
            "Requirement already satisfied: certifi>=2017.4.17 in /usr/local/lib/python3.7/dist-packages (from requests->h2o) (2021.5.30)\n",
            "Building wheels for collected packages: h2o\n",
            "  Building wheel for h2o (setup.py) ... \u001b[?25l\u001b[?25hdone\n",
            "  Created wheel for h2o: filename=h2o-3.34.0.1-py2.py3-none-any.whl size=175823552 sha256=1f63211762daff4b9536c3a93d7709c09b6b7c07faa5949b5e518962516ed2f5\n",
            "  Stored in directory: /root/.cache/pip/wheels/5c/7b/60/014a2b6d009793271276a9a41cb954659c8f23b8823ca21625\n",
            "Successfully built h2o\n",
            "Installing collected packages: h2o\n",
            "Successfully installed h2o-3.34.0.1\n"
          ]
        }
      ]
    },
    {
      "cell_type": "code",
      "metadata": {
        "colab": {
          "base_uri": "https://localhost:8080/",
          "height": 494
        },
        "id": "0lkGn8qu4eVA",
        "outputId": "af703eba-e852-4ceb-f2e9-475b60a926ad"
      },
      "source": [
        "#### 1. h2o 분석 준비하기 ####\n",
        "import numpy as np\n",
        "import pandas as pd\n",
        "from sklearn.model_selection import train_test_split\n",
        "import time\n",
        "import h2o\n",
        "from h2o.automl import H2OAutoML\n",
        "from h2o.estimators.gbm import H2OGradientBoostingEstimator\n",
        "%matplotlib inline\n",
        "h2o.init()\n",
        "h2o.no_progress()"
      ],
      "execution_count": null,
      "outputs": [
        {
          "output_type": "stream",
          "name": "stdout",
          "text": [
            "Checking whether there is an H2O instance running at http://localhost:54321 ..... not found.\n",
            "Attempting to start a local H2O server...\n",
            "  Java Version: openjdk version \"11.0.11\" 2021-04-20; OpenJDK Runtime Environment (build 11.0.11+9-Ubuntu-0ubuntu2.18.04); OpenJDK 64-Bit Server VM (build 11.0.11+9-Ubuntu-0ubuntu2.18.04, mixed mode, sharing)\n",
            "  Starting server from /usr/local/lib/python3.7/dist-packages/h2o/backend/bin/h2o.jar\n",
            "  Ice root: /tmp/tmpjdp5_kps\n",
            "  JVM stdout: /tmp/tmpjdp5_kps/h2o_unknownUser_started_from_python.out\n",
            "  JVM stderr: /tmp/tmpjdp5_kps/h2o_unknownUser_started_from_python.err\n",
            "  Server is running at http://127.0.0.1:54321\n",
            "Connecting to H2O server at http://127.0.0.1:54321 ... successful.\n"
          ]
        },
        {
          "output_type": "display_data",
          "data": {
            "text/html": [
              "<div style=\"overflow:auto\"><table style=\"width:50%\"><tr><td>H2O_cluster_uptime:</td>\n",
              "<td>02 secs</td></tr>\n",
              "<tr><td>H2O_cluster_timezone:</td>\n",
              "<td>Etc/UTC</td></tr>\n",
              "<tr><td>H2O_data_parsing_timezone:</td>\n",
              "<td>UTC</td></tr>\n",
              "<tr><td>H2O_cluster_version:</td>\n",
              "<td>3.34.0.1</td></tr>\n",
              "<tr><td>H2O_cluster_version_age:</td>\n",
              "<td>3 days </td></tr>\n",
              "<tr><td>H2O_cluster_name:</td>\n",
              "<td>H2O_from_python_unknownUser_qwwd0j</td></tr>\n",
              "<tr><td>H2O_cluster_total_nodes:</td>\n",
              "<td>1</td></tr>\n",
              "<tr><td>H2O_cluster_free_memory:</td>\n",
              "<td>3.172 Gb</td></tr>\n",
              "<tr><td>H2O_cluster_total_cores:</td>\n",
              "<td>2</td></tr>\n",
              "<tr><td>H2O_cluster_allowed_cores:</td>\n",
              "<td>2</td></tr>\n",
              "<tr><td>H2O_cluster_status:</td>\n",
              "<td>locked, healthy</td></tr>\n",
              "<tr><td>H2O_connection_url:</td>\n",
              "<td>http://127.0.0.1:54321</td></tr>\n",
              "<tr><td>H2O_connection_proxy:</td>\n",
              "<td>{\"http\": null, \"https\": null}</td></tr>\n",
              "<tr><td>H2O_internal_security:</td>\n",
              "<td>False</td></tr>\n",
              "<tr><td>H2O_API_Extensions:</td>\n",
              "<td>Amazon S3, XGBoost, Algos, AutoML, Core V3, TargetEncoder, Core V4</td></tr>\n",
              "<tr><td>Python_version:</td>\n",
              "<td>3.7.12 final</td></tr></table></div>"
            ],
            "text/plain": [
              "--------------------------  ------------------------------------------------------------------\n",
              "H2O_cluster_uptime:         02 secs\n",
              "H2O_cluster_timezone:       Etc/UTC\n",
              "H2O_data_parsing_timezone:  UTC\n",
              "H2O_cluster_version:        3.34.0.1\n",
              "H2O_cluster_version_age:    3 days\n",
              "H2O_cluster_name:           H2O_from_python_unknownUser_qwwd0j\n",
              "H2O_cluster_total_nodes:    1\n",
              "H2O_cluster_free_memory:    3.172 Gb\n",
              "H2O_cluster_total_cores:    2\n",
              "H2O_cluster_allowed_cores:  2\n",
              "H2O_cluster_status:         locked, healthy\n",
              "H2O_connection_url:         http://127.0.0.1:54321\n",
              "H2O_connection_proxy:       {\"http\": null, \"https\": null}\n",
              "H2O_internal_security:      False\n",
              "H2O_API_Extensions:         Amazon S3, XGBoost, Algos, AutoML, Core V3, TargetEncoder, Core V4\n",
              "Python_version:             3.7.12 final\n",
              "--------------------------  ------------------------------------------------------------------"
            ]
          },
          "metadata": {}
        }
      ]
    },
    {
      "cell_type": "code",
      "metadata": {
        "id": "WUkkhGqc379Y"
      },
      "source": [
        "#### 2. 데이터 불러오기 ####\n",
        "data_df = pd.read_csv('data.csv')\n",
        "data_df.head()\n",
        "# 데이터 확인\n",
        "data_df.describe()\n",
        "\n",
        "# var2~는 입력 feature\n",
        "feature = data_df.drop('var1', axis=1)\n",
        "feature.describe()\n",
        "\n",
        "# var1은 label\n",
        "label = data_df['var1']\n",
        "label.describe()"
      ],
      "execution_count": null,
      "outputs": []
    },
    {
      "cell_type": "code",
      "metadata": {
        "id": "8cBEqCO53764"
      },
      "source": [
        "## make dataset\n",
        "# Identify the response and set of predictors\n",
        "y = \"var1\"\n",
        "x = list(data_df.columns)  #if x is defined as all columns except the response, then x is not required\n",
        "x.remove(y)\n",
        "\n",
        "# data_df을 8:2로 나눈다, 50 : 13\n",
        "train, valid = train_test_split(data_df,\n",
        "                                test_size=0.2, \n",
        "                                shuffle=True)\n",
        "h2o_train = h2o.H2OFrame(train)\n",
        "h2o_valid = h2o.H2OFrame(valid)\n",
        "\n",
        "# For binary classification, response should be a factor\n",
        "h2o_train[y] = h2o_train[y].asfactor()\n",
        "h2o_valid[y] = h2o_valid[y].asfactor()"
      ],
      "execution_count": null,
      "outputs": []
    },
    {
      "cell_type": "code",
      "metadata": {
        "id": "aBEcTIcP374j"
      },
      "source": [
        "## Run AutoML for 120 seconds\n",
        "aml = H2OAutoML(max_runtime_secs=max_runtime_secs, exclude_algos =['XGBoost', 'StackedEnsemble'])\n",
        "aml.train(x = x, y = y, training_frame=h2o_train, leaderboard_frame=h2o_valid)"
      ],
      "execution_count": null,
      "outputs": []
    },
    {
      "cell_type": "code",
      "metadata": {
        "id": "M9Hm3JSd4rBX"
      },
      "source": [
        "## save metric\n",
        "# Print Leaderboard (ranked by xval metrics)\n",
        "leaderboard = aml.leaderboard\n",
        "performance = aml.leader.model_performance(h2o_valid)  # (Optional) Evaluate performance on a test set\n",
        "\n",
        "model_id   =aml.leader.model_id  # 최고 모델 명\n",
        "accuracy   =performance.accuracy()  # 정확도\n",
        "precision  =performance.precision()  # precision\n",
        "recall     =performance.recall()  # recall\n",
        "F1         =performance.F1()  # f1\n",
        "auc        =performance.auc()  # auc\n",
        "variable_importance=aml.leader.varimp()  # 중요한 입력 변수\n",
        "\n",
        "print(model_id, accuracy, precision, recall, F1, auc, variable_importance)\n",
        "print(performance)"
      ],
      "execution_count": null,
      "outputs": []
    },
    {
      "cell_type": "code",
      "metadata": {
        "id": "HgQzuQJh4q_S"
      },
      "source": [
        "## 중요 변수 시각화\n",
        "aml.leader.varimp_plot()\n",
        "\n",
        "## automl 결과 확인\n",
        "# Get AutoML object by `project_name`\n",
        "get_aml = h2o.automl.get_automl(aml.project_name)\n",
        "# Predict with top model from AutoML Leaderboard on a H2OFrame called 'test'\n",
        "label_predicted = get_aml.predict(h2o_valid)\n",
        "print(label_predicted['predict'])\n",
        "print(h2o_valid['var1'])"
      ],
      "execution_count": null,
      "outputs": []
    }
  ]
}