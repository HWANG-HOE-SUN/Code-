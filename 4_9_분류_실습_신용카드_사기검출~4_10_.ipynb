{
  "nbformat": 4,
  "nbformat_minor": 0,
  "metadata": {
    "kernelspec": {
      "display_name": "Python 3",
      "language": "python",
      "name": "python3"
    },
    "language_info": {
      "codemirror_mode": {
        "name": "ipython",
        "version": 3
      },
      "file_extension": ".py",
      "mimetype": "text/x-python",
      "name": "python",
      "nbconvert_exporter": "python",
      "pygments_lexer": "ipython3",
      "version": "3.6.5"
    },
    "colab": {
      "name": "4.9 분류 실습-신용카드_사기검출~4.10 .ipynb",
      "provenance": [],
      "collapsed_sections": [
        "XWVbYzWPMnC-"
      ],
      "include_colab_link": true
    }
  },
  "cells": [
    {
      "cell_type": "markdown",
      "metadata": {
        "id": "view-in-github",
        "colab_type": "text"
      },
      "source": [
        "<a href=\"https://colab.research.google.com/github/HWANG-HOE-SUN/Code-/blob/main/4_9_%EB%B6%84%EB%A5%98_%EC%8B%A4%EC%8A%B5_%EC%8B%A0%EC%9A%A9%EC%B9%B4%EB%93%9C_%EC%82%AC%EA%B8%B0%EA%B2%80%EC%B6%9C~4_10_.ipynb\" target=\"_parent\"><img src=\"https://colab.research.google.com/assets/colab-badge.svg\" alt=\"Open In Colab\"/></a>"
      ]
    },
    {
      "cell_type": "markdown",
      "metadata": {
        "id": "ccHio81XG6uY"
      },
      "source": [
        "## 4장 나머지"
      ]
    },
    {
      "cell_type": "markdown",
      "metadata": {
        "id": "qdoUJRXsG3Uc"
      },
      "source": [
        "### 카드사기검출 - 데이터 일차 가공 및 모델 학습/예측/평가"
      ]
    },
    {
      "cell_type": "code",
      "metadata": {
        "scrolled": true,
        "id": "JutzP4mBG3Uh",
        "colab": {
          "base_uri": "https://localhost:8080/",
          "height": 162
        },
        "outputId": "67500644-6a31-4218-dd77-d009dbff3fd7"
      },
      "source": [
        "import pandas as pd\n",
        "import numpy as np \n",
        "import matplotlib.pyplot as plt\n",
        "import warnings\n",
        "warnings.filterwarnings(\"ignore\")\n",
        "%matplotlib inline\n",
        "\n",
        "card_df = pd.read_csv('creditcard.csv')\n",
        "card_df.head(3)"
      ],
      "execution_count": 125,
      "outputs": [
        {
          "output_type": "execute_result",
          "data": {
            "text/html": [
              "<div>\n",
              "<style scoped>\n",
              "    .dataframe tbody tr th:only-of-type {\n",
              "        vertical-align: middle;\n",
              "    }\n",
              "\n",
              "    .dataframe tbody tr th {\n",
              "        vertical-align: top;\n",
              "    }\n",
              "\n",
              "    .dataframe thead th {\n",
              "        text-align: right;\n",
              "    }\n",
              "</style>\n",
              "<table border=\"1\" class=\"dataframe\">\n",
              "  <thead>\n",
              "    <tr style=\"text-align: right;\">\n",
              "      <th></th>\n",
              "      <th>Time</th>\n",
              "      <th>V1</th>\n",
              "      <th>V2</th>\n",
              "      <th>V3</th>\n",
              "      <th>V4</th>\n",
              "      <th>V5</th>\n",
              "      <th>V6</th>\n",
              "      <th>V7</th>\n",
              "      <th>V8</th>\n",
              "      <th>V9</th>\n",
              "      <th>V10</th>\n",
              "      <th>V11</th>\n",
              "      <th>V12</th>\n",
              "      <th>V13</th>\n",
              "      <th>V14</th>\n",
              "      <th>V15</th>\n",
              "      <th>V16</th>\n",
              "      <th>V17</th>\n",
              "      <th>V18</th>\n",
              "      <th>V19</th>\n",
              "      <th>V20</th>\n",
              "      <th>V21</th>\n",
              "      <th>V22</th>\n",
              "      <th>V23</th>\n",
              "      <th>V24</th>\n",
              "      <th>V25</th>\n",
              "      <th>V26</th>\n",
              "      <th>V27</th>\n",
              "      <th>V28</th>\n",
              "      <th>Amount</th>\n",
              "      <th>Class</th>\n",
              "    </tr>\n",
              "  </thead>\n",
              "  <tbody>\n",
              "    <tr>\n",
              "      <th>0</th>\n",
              "      <td>0</td>\n",
              "      <td>-1.359807</td>\n",
              "      <td>-0.072781</td>\n",
              "      <td>2.536347</td>\n",
              "      <td>1.378155</td>\n",
              "      <td>-0.338321</td>\n",
              "      <td>0.462388</td>\n",
              "      <td>0.239599</td>\n",
              "      <td>0.098698</td>\n",
              "      <td>0.363787</td>\n",
              "      <td>0.090794</td>\n",
              "      <td>-0.551600</td>\n",
              "      <td>-0.617801</td>\n",
              "      <td>-0.991390</td>\n",
              "      <td>-0.311169</td>\n",
              "      <td>1.468177</td>\n",
              "      <td>-0.470401</td>\n",
              "      <td>0.207971</td>\n",
              "      <td>0.025791</td>\n",
              "      <td>0.403993</td>\n",
              "      <td>0.251412</td>\n",
              "      <td>-0.018307</td>\n",
              "      <td>0.277838</td>\n",
              "      <td>-0.110474</td>\n",
              "      <td>0.066928</td>\n",
              "      <td>0.128539</td>\n",
              "      <td>-0.189115</td>\n",
              "      <td>0.133558</td>\n",
              "      <td>-0.021053</td>\n",
              "      <td>149.62</td>\n",
              "      <td>0.0</td>\n",
              "    </tr>\n",
              "    <tr>\n",
              "      <th>1</th>\n",
              "      <td>0</td>\n",
              "      <td>1.191857</td>\n",
              "      <td>0.266151</td>\n",
              "      <td>0.166480</td>\n",
              "      <td>0.448154</td>\n",
              "      <td>0.060018</td>\n",
              "      <td>-0.082361</td>\n",
              "      <td>-0.078803</td>\n",
              "      <td>0.085102</td>\n",
              "      <td>-0.255425</td>\n",
              "      <td>-0.166974</td>\n",
              "      <td>1.612727</td>\n",
              "      <td>1.065235</td>\n",
              "      <td>0.489095</td>\n",
              "      <td>-0.143772</td>\n",
              "      <td>0.635558</td>\n",
              "      <td>0.463917</td>\n",
              "      <td>-0.114805</td>\n",
              "      <td>-0.183361</td>\n",
              "      <td>-0.145783</td>\n",
              "      <td>-0.069083</td>\n",
              "      <td>-0.225775</td>\n",
              "      <td>-0.638672</td>\n",
              "      <td>0.101288</td>\n",
              "      <td>-0.339846</td>\n",
              "      <td>0.167170</td>\n",
              "      <td>0.125895</td>\n",
              "      <td>-0.008983</td>\n",
              "      <td>0.014724</td>\n",
              "      <td>2.69</td>\n",
              "      <td>0.0</td>\n",
              "    </tr>\n",
              "    <tr>\n",
              "      <th>2</th>\n",
              "      <td>1</td>\n",
              "      <td>-1.358354</td>\n",
              "      <td>-1.340163</td>\n",
              "      <td>1.773209</td>\n",
              "      <td>0.379780</td>\n",
              "      <td>-0.503198</td>\n",
              "      <td>1.800499</td>\n",
              "      <td>0.791461</td>\n",
              "      <td>0.247676</td>\n",
              "      <td>-1.514654</td>\n",
              "      <td>0.207643</td>\n",
              "      <td>0.624501</td>\n",
              "      <td>0.066084</td>\n",
              "      <td>0.717293</td>\n",
              "      <td>-0.165946</td>\n",
              "      <td>2.345865</td>\n",
              "      <td>-2.890083</td>\n",
              "      <td>1.109969</td>\n",
              "      <td>-0.121359</td>\n",
              "      <td>-2.261857</td>\n",
              "      <td>0.524980</td>\n",
              "      <td>0.247998</td>\n",
              "      <td>0.771679</td>\n",
              "      <td>0.909412</td>\n",
              "      <td>-0.689281</td>\n",
              "      <td>-0.327642</td>\n",
              "      <td>-0.139097</td>\n",
              "      <td>-0.055353</td>\n",
              "      <td>-0.059752</td>\n",
              "      <td>378.66</td>\n",
              "      <td>0.0</td>\n",
              "    </tr>\n",
              "  </tbody>\n",
              "</table>\n",
              "</div>"
            ],
            "text/plain": [
              "   Time        V1        V2        V3  ...       V27       V28  Amount  Class\n",
              "0     0 -1.359807 -0.072781  2.536347  ...  0.133558 -0.021053  149.62    0.0\n",
              "1     0  1.191857  0.266151  0.166480  ... -0.008983  0.014724    2.69    0.0\n",
              "2     1 -1.358354 -1.340163  1.773209  ... -0.055353 -0.059752  378.66    0.0\n",
              "\n",
              "[3 rows x 31 columns]"
            ]
          },
          "metadata": {},
          "execution_count": 125
        }
      ]
    },
    {
      "cell_type": "markdown",
      "metadata": {
        "id": "XWVbYzWPMnC-"
      },
      "source": [
        "### 오류 해결"
      ]
    },
    {
      "cell_type": "code",
      "metadata": {
        "colab": {
          "base_uri": "https://localhost:8080/"
        },
        "id": "NTFwnFS_K0Os",
        "outputId": "b512a2fe-1425-416f-dd7a-afa68b398602"
      },
      "source": [
        "isnan_column = (card_df.isnull().sum()!=0)\n",
        "\n",
        "for i,j in enumerate(isnan_column): # 13954번째 행(index=13953)에서 NaN값 있음.\n",
        "  if j==True:\n",
        "    print(card_df.columns[i])\n",
        "    print(card_df.iloc[:,i]) "
      ],
      "execution_count": 126,
      "outputs": [
        {
          "output_type": "stream",
          "text": [
            "Amount\n",
            "0        149.62\n",
            "1          2.69\n",
            "2        378.66\n",
            "3        123.50\n",
            "4         69.99\n",
            "          ...  \n",
            "13949     23.74\n",
            "13950    794.20\n",
            "13951     60.00\n",
            "13952     90.00\n",
            "13953       NaN\n",
            "Name: Amount, Length: 13954, dtype: float64\n",
            "Class\n",
            "0        0.0\n",
            "1        0.0\n",
            "2        0.0\n",
            "3        0.0\n",
            "4        0.0\n",
            "        ... \n",
            "13949    0.0\n",
            "13950    0.0\n",
            "13951    0.0\n",
            "13952    0.0\n",
            "13953    NaN\n",
            "Name: Class, Length: 13954, dtype: float64\n"
          ],
          "name": "stdout"
        }
      ]
    },
    {
      "cell_type": "code",
      "metadata": {
        "colab": {
          "base_uri": "https://localhost:8080/",
          "height": 0
        },
        "id": "1ARMLFDqMUcO",
        "outputId": "eefa0529-bc2b-4422-aea4-a1dc53c38f4e"
      },
      "source": [
        "card_df = card_df.dropna()\n",
        "# == card_df.drop(13953,axis=0,inplace=True)\n",
        "card_df"
      ],
      "execution_count": 127,
      "outputs": [
        {
          "output_type": "execute_result",
          "data": {
            "text/html": [
              "<div>\n",
              "<style scoped>\n",
              "    .dataframe tbody tr th:only-of-type {\n",
              "        vertical-align: middle;\n",
              "    }\n",
              "\n",
              "    .dataframe tbody tr th {\n",
              "        vertical-align: top;\n",
              "    }\n",
              "\n",
              "    .dataframe thead th {\n",
              "        text-align: right;\n",
              "    }\n",
              "</style>\n",
              "<table border=\"1\" class=\"dataframe\">\n",
              "  <thead>\n",
              "    <tr style=\"text-align: right;\">\n",
              "      <th></th>\n",
              "      <th>Time</th>\n",
              "      <th>V1</th>\n",
              "      <th>V2</th>\n",
              "      <th>V3</th>\n",
              "      <th>V4</th>\n",
              "      <th>V5</th>\n",
              "      <th>V6</th>\n",
              "      <th>V7</th>\n",
              "      <th>V8</th>\n",
              "      <th>V9</th>\n",
              "      <th>V10</th>\n",
              "      <th>V11</th>\n",
              "      <th>V12</th>\n",
              "      <th>V13</th>\n",
              "      <th>V14</th>\n",
              "      <th>V15</th>\n",
              "      <th>V16</th>\n",
              "      <th>V17</th>\n",
              "      <th>V18</th>\n",
              "      <th>V19</th>\n",
              "      <th>V20</th>\n",
              "      <th>V21</th>\n",
              "      <th>V22</th>\n",
              "      <th>V23</th>\n",
              "      <th>V24</th>\n",
              "      <th>V25</th>\n",
              "      <th>V26</th>\n",
              "      <th>V27</th>\n",
              "      <th>V28</th>\n",
              "      <th>Amount</th>\n",
              "      <th>Class</th>\n",
              "    </tr>\n",
              "  </thead>\n",
              "  <tbody>\n",
              "    <tr>\n",
              "      <th>0</th>\n",
              "      <td>0</td>\n",
              "      <td>-1.359807</td>\n",
              "      <td>-0.072781</td>\n",
              "      <td>2.536347</td>\n",
              "      <td>1.378155</td>\n",
              "      <td>-0.338321</td>\n",
              "      <td>0.462388</td>\n",
              "      <td>0.239599</td>\n",
              "      <td>0.098698</td>\n",
              "      <td>0.363787</td>\n",
              "      <td>0.090794</td>\n",
              "      <td>-0.551600</td>\n",
              "      <td>-0.617801</td>\n",
              "      <td>-0.991390</td>\n",
              "      <td>-0.311169</td>\n",
              "      <td>1.468177</td>\n",
              "      <td>-0.470401</td>\n",
              "      <td>0.207971</td>\n",
              "      <td>0.025791</td>\n",
              "      <td>0.403993</td>\n",
              "      <td>0.251412</td>\n",
              "      <td>-0.018307</td>\n",
              "      <td>0.277838</td>\n",
              "      <td>-0.110474</td>\n",
              "      <td>0.066928</td>\n",
              "      <td>0.128539</td>\n",
              "      <td>-0.189115</td>\n",
              "      <td>0.133558</td>\n",
              "      <td>-0.021053</td>\n",
              "      <td>149.62</td>\n",
              "      <td>0.0</td>\n",
              "    </tr>\n",
              "    <tr>\n",
              "      <th>1</th>\n",
              "      <td>0</td>\n",
              "      <td>1.191857</td>\n",
              "      <td>0.266151</td>\n",
              "      <td>0.166480</td>\n",
              "      <td>0.448154</td>\n",
              "      <td>0.060018</td>\n",
              "      <td>-0.082361</td>\n",
              "      <td>-0.078803</td>\n",
              "      <td>0.085102</td>\n",
              "      <td>-0.255425</td>\n",
              "      <td>-0.166974</td>\n",
              "      <td>1.612727</td>\n",
              "      <td>1.065235</td>\n",
              "      <td>0.489095</td>\n",
              "      <td>-0.143772</td>\n",
              "      <td>0.635558</td>\n",
              "      <td>0.463917</td>\n",
              "      <td>-0.114805</td>\n",
              "      <td>-0.183361</td>\n",
              "      <td>-0.145783</td>\n",
              "      <td>-0.069083</td>\n",
              "      <td>-0.225775</td>\n",
              "      <td>-0.638672</td>\n",
              "      <td>0.101288</td>\n",
              "      <td>-0.339846</td>\n",
              "      <td>0.167170</td>\n",
              "      <td>0.125895</td>\n",
              "      <td>-0.008983</td>\n",
              "      <td>0.014724</td>\n",
              "      <td>2.69</td>\n",
              "      <td>0.0</td>\n",
              "    </tr>\n",
              "    <tr>\n",
              "      <th>2</th>\n",
              "      <td>1</td>\n",
              "      <td>-1.358354</td>\n",
              "      <td>-1.340163</td>\n",
              "      <td>1.773209</td>\n",
              "      <td>0.379780</td>\n",
              "      <td>-0.503198</td>\n",
              "      <td>1.800499</td>\n",
              "      <td>0.791461</td>\n",
              "      <td>0.247676</td>\n",
              "      <td>-1.514654</td>\n",
              "      <td>0.207643</td>\n",
              "      <td>0.624501</td>\n",
              "      <td>0.066084</td>\n",
              "      <td>0.717293</td>\n",
              "      <td>-0.165946</td>\n",
              "      <td>2.345865</td>\n",
              "      <td>-2.890083</td>\n",
              "      <td>1.109969</td>\n",
              "      <td>-0.121359</td>\n",
              "      <td>-2.261857</td>\n",
              "      <td>0.524980</td>\n",
              "      <td>0.247998</td>\n",
              "      <td>0.771679</td>\n",
              "      <td>0.909412</td>\n",
              "      <td>-0.689281</td>\n",
              "      <td>-0.327642</td>\n",
              "      <td>-0.139097</td>\n",
              "      <td>-0.055353</td>\n",
              "      <td>-0.059752</td>\n",
              "      <td>378.66</td>\n",
              "      <td>0.0</td>\n",
              "    </tr>\n",
              "    <tr>\n",
              "      <th>3</th>\n",
              "      <td>1</td>\n",
              "      <td>-0.966272</td>\n",
              "      <td>-0.185226</td>\n",
              "      <td>1.792993</td>\n",
              "      <td>-0.863291</td>\n",
              "      <td>-0.010309</td>\n",
              "      <td>1.247203</td>\n",
              "      <td>0.237609</td>\n",
              "      <td>0.377436</td>\n",
              "      <td>-1.387024</td>\n",
              "      <td>-0.054952</td>\n",
              "      <td>-0.226487</td>\n",
              "      <td>0.178228</td>\n",
              "      <td>0.507757</td>\n",
              "      <td>-0.287924</td>\n",
              "      <td>-0.631418</td>\n",
              "      <td>-1.059647</td>\n",
              "      <td>-0.684093</td>\n",
              "      <td>1.965775</td>\n",
              "      <td>-1.232622</td>\n",
              "      <td>-0.208038</td>\n",
              "      <td>-0.108300</td>\n",
              "      <td>0.005274</td>\n",
              "      <td>-0.190321</td>\n",
              "      <td>-1.175575</td>\n",
              "      <td>0.647376</td>\n",
              "      <td>-0.221929</td>\n",
              "      <td>0.062723</td>\n",
              "      <td>0.061458</td>\n",
              "      <td>123.50</td>\n",
              "      <td>0.0</td>\n",
              "    </tr>\n",
              "    <tr>\n",
              "      <th>4</th>\n",
              "      <td>2</td>\n",
              "      <td>-1.158233</td>\n",
              "      <td>0.877737</td>\n",
              "      <td>1.548718</td>\n",
              "      <td>0.403034</td>\n",
              "      <td>-0.407193</td>\n",
              "      <td>0.095921</td>\n",
              "      <td>0.592941</td>\n",
              "      <td>-0.270533</td>\n",
              "      <td>0.817739</td>\n",
              "      <td>0.753074</td>\n",
              "      <td>-0.822843</td>\n",
              "      <td>0.538196</td>\n",
              "      <td>1.345852</td>\n",
              "      <td>-1.119670</td>\n",
              "      <td>0.175121</td>\n",
              "      <td>-0.451449</td>\n",
              "      <td>-0.237033</td>\n",
              "      <td>-0.038195</td>\n",
              "      <td>0.803487</td>\n",
              "      <td>0.408542</td>\n",
              "      <td>-0.009431</td>\n",
              "      <td>0.798278</td>\n",
              "      <td>-0.137458</td>\n",
              "      <td>0.141267</td>\n",
              "      <td>-0.206010</td>\n",
              "      <td>0.502292</td>\n",
              "      <td>0.219422</td>\n",
              "      <td>0.215153</td>\n",
              "      <td>69.99</td>\n",
              "      <td>0.0</td>\n",
              "    </tr>\n",
              "    <tr>\n",
              "      <th>...</th>\n",
              "      <td>...</td>\n",
              "      <td>...</td>\n",
              "      <td>...</td>\n",
              "      <td>...</td>\n",
              "      <td>...</td>\n",
              "      <td>...</td>\n",
              "      <td>...</td>\n",
              "      <td>...</td>\n",
              "      <td>...</td>\n",
              "      <td>...</td>\n",
              "      <td>...</td>\n",
              "      <td>...</td>\n",
              "      <td>...</td>\n",
              "      <td>...</td>\n",
              "      <td>...</td>\n",
              "      <td>...</td>\n",
              "      <td>...</td>\n",
              "      <td>...</td>\n",
              "      <td>...</td>\n",
              "      <td>...</td>\n",
              "      <td>...</td>\n",
              "      <td>...</td>\n",
              "      <td>...</td>\n",
              "      <td>...</td>\n",
              "      <td>...</td>\n",
              "      <td>...</td>\n",
              "      <td>...</td>\n",
              "      <td>...</td>\n",
              "      <td>...</td>\n",
              "      <td>...</td>\n",
              "      <td>...</td>\n",
              "    </tr>\n",
              "    <tr>\n",
              "      <th>13948</th>\n",
              "      <td>24753</td>\n",
              "      <td>-0.565780</td>\n",
              "      <td>0.754977</td>\n",
              "      <td>0.737825</td>\n",
              "      <td>0.030154</td>\n",
              "      <td>-1.383391</td>\n",
              "      <td>0.268107</td>\n",
              "      <td>0.687564</td>\n",
              "      <td>0.228757</td>\n",
              "      <td>0.648610</td>\n",
              "      <td>-0.813860</td>\n",
              "      <td>1.967346</td>\n",
              "      <td>-1.745376</td>\n",
              "      <td>2.149460</td>\n",
              "      <td>1.877504</td>\n",
              "      <td>-0.097994</td>\n",
              "      <td>0.629749</td>\n",
              "      <td>0.291085</td>\n",
              "      <td>0.620786</td>\n",
              "      <td>0.909800</td>\n",
              "      <td>-0.046313</td>\n",
              "      <td>-0.217212</td>\n",
              "      <td>-0.546207</td>\n",
              "      <td>0.358494</td>\n",
              "      <td>-0.016505</td>\n",
              "      <td>-0.793856</td>\n",
              "      <td>0.699716</td>\n",
              "      <td>-0.195727</td>\n",
              "      <td>-0.104007</td>\n",
              "      <td>232.00</td>\n",
              "      <td>0.0</td>\n",
              "    </tr>\n",
              "    <tr>\n",
              "      <th>13949</th>\n",
              "      <td>24754</td>\n",
              "      <td>1.252924</td>\n",
              "      <td>-0.182189</td>\n",
              "      <td>-0.802716</td>\n",
              "      <td>-0.210981</td>\n",
              "      <td>1.916713</td>\n",
              "      <td>3.643624</td>\n",
              "      <td>-0.778711</td>\n",
              "      <td>0.818295</td>\n",
              "      <td>1.706962</td>\n",
              "      <td>-0.539481</td>\n",
              "      <td>0.524218</td>\n",
              "      <td>-2.224983</td>\n",
              "      <td>1.506368</td>\n",
              "      <td>1.469584</td>\n",
              "      <td>-0.670082</td>\n",
              "      <td>0.122806</td>\n",
              "      <td>0.247449</td>\n",
              "      <td>-0.019811</td>\n",
              "      <td>0.418664</td>\n",
              "      <td>-0.001336</td>\n",
              "      <td>-0.497088</td>\n",
              "      <td>-1.211285</td>\n",
              "      <td>0.043809</td>\n",
              "      <td>0.964159</td>\n",
              "      <td>0.442030</td>\n",
              "      <td>0.261483</td>\n",
              "      <td>-0.051402</td>\n",
              "      <td>0.005112</td>\n",
              "      <td>23.74</td>\n",
              "      <td>0.0</td>\n",
              "    </tr>\n",
              "    <tr>\n",
              "      <th>13950</th>\n",
              "      <td>24756</td>\n",
              "      <td>-0.346979</td>\n",
              "      <td>-2.103284</td>\n",
              "      <td>-0.685061</td>\n",
              "      <td>1.961605</td>\n",
              "      <td>-0.401125</td>\n",
              "      <td>0.473632</td>\n",
              "      <td>1.133816</td>\n",
              "      <td>-0.256528</td>\n",
              "      <td>0.893409</td>\n",
              "      <td>-0.639733</td>\n",
              "      <td>2.069409</td>\n",
              "      <td>-1.105807</td>\n",
              "      <td>2.339853</td>\n",
              "      <td>1.921904</td>\n",
              "      <td>-1.153485</td>\n",
              "      <td>-0.336047</td>\n",
              "      <td>0.509636</td>\n",
              "      <td>0.060266</td>\n",
              "      <td>-0.535280</td>\n",
              "      <td>1.437054</td>\n",
              "      <td>0.359662</td>\n",
              "      <td>-0.316275</td>\n",
              "      <td>-0.864259</td>\n",
              "      <td>-0.279881</td>\n",
              "      <td>0.491802</td>\n",
              "      <td>-0.353996</td>\n",
              "      <td>-0.149931</td>\n",
              "      <td>0.129795</td>\n",
              "      <td>794.20</td>\n",
              "      <td>0.0</td>\n",
              "    </tr>\n",
              "    <tr>\n",
              "      <th>13951</th>\n",
              "      <td>24759</td>\n",
              "      <td>-6.053652</td>\n",
              "      <td>-5.988723</td>\n",
              "      <td>0.810413</td>\n",
              "      <td>-0.011811</td>\n",
              "      <td>1.308135</td>\n",
              "      <td>-0.590803</td>\n",
              "      <td>-0.725838</td>\n",
              "      <td>-0.234840</td>\n",
              "      <td>1.624646</td>\n",
              "      <td>0.816619</td>\n",
              "      <td>2.557427</td>\n",
              "      <td>-2.480679</td>\n",
              "      <td>1.757415</td>\n",
              "      <td>0.307835</td>\n",
              "      <td>-0.667360</td>\n",
              "      <td>1.424542</td>\n",
              "      <td>0.717358</td>\n",
              "      <td>-1.323944</td>\n",
              "      <td>-0.091943</td>\n",
              "      <td>-2.982379</td>\n",
              "      <td>-0.771970</td>\n",
              "      <td>1.474668</td>\n",
              "      <td>3.176363</td>\n",
              "      <td>-0.302410</td>\n",
              "      <td>0.052529</td>\n",
              "      <td>-0.373871</td>\n",
              "      <td>-0.700463</td>\n",
              "      <td>2.508443</td>\n",
              "      <td>60.00</td>\n",
              "      <td>0.0</td>\n",
              "    </tr>\n",
              "    <tr>\n",
              "      <th>13952</th>\n",
              "      <td>24759</td>\n",
              "      <td>1.169121</td>\n",
              "      <td>-1.284945</td>\n",
              "      <td>0.032717</td>\n",
              "      <td>-0.681670</td>\n",
              "      <td>0.660598</td>\n",
              "      <td>4.412578</td>\n",
              "      <td>-1.913115</td>\n",
              "      <td>1.076592</td>\n",
              "      <td>1.501230</td>\n",
              "      <td>0.089684</td>\n",
              "      <td>-0.085081</td>\n",
              "      <td>-2.392619</td>\n",
              "      <td>1.877502</td>\n",
              "      <td>0.643433</td>\n",
              "      <td>-1.206728</td>\n",
              "      <td>-1.262256</td>\n",
              "      <td>0.563295</td>\n",
              "      <td>1.845204</td>\n",
              "      <td>-0.471718</td>\n",
              "      <td>-0.265041</td>\n",
              "      <td>-0.557596</td>\n",
              "      <td>-0.882435</td>\n",
              "      <td>-0.041523</td>\n",
              "      <td>0.975445</td>\n",
              "      <td>0.297229</td>\n",
              "      <td>0.550515</td>\n",
              "      <td>0.015029</td>\n",
              "      <td>0.032067</td>\n",
              "      <td>90.00</td>\n",
              "      <td>0.0</td>\n",
              "    </tr>\n",
              "  </tbody>\n",
              "</table>\n",
              "<p>13953 rows × 31 columns</p>\n",
              "</div>"
            ],
            "text/plain": [
              "        Time        V1        V2        V3  ...       V27       V28  Amount  Class\n",
              "0          0 -1.359807 -0.072781  2.536347  ...  0.133558 -0.021053  149.62    0.0\n",
              "1          0  1.191857  0.266151  0.166480  ... -0.008983  0.014724    2.69    0.0\n",
              "2          1 -1.358354 -1.340163  1.773209  ... -0.055353 -0.059752  378.66    0.0\n",
              "3          1 -0.966272 -0.185226  1.792993  ...  0.062723  0.061458  123.50    0.0\n",
              "4          2 -1.158233  0.877737  1.548718  ...  0.219422  0.215153   69.99    0.0\n",
              "...      ...       ...       ...       ...  ...       ...       ...     ...    ...\n",
              "13948  24753 -0.565780  0.754977  0.737825  ... -0.195727 -0.104007  232.00    0.0\n",
              "13949  24754  1.252924 -0.182189 -0.802716  ... -0.051402  0.005112   23.74    0.0\n",
              "13950  24756 -0.346979 -2.103284 -0.685061  ... -0.149931  0.129795  794.20    0.0\n",
              "13951  24759 -6.053652 -5.988723  0.810413  ... -0.700463  2.508443   60.00    0.0\n",
              "13952  24759  1.169121 -1.284945  0.032717  ...  0.015029  0.032067   90.00    0.0\n",
              "\n",
              "[13953 rows x 31 columns]"
            ]
          },
          "metadata": {},
          "execution_count": 127
        }
      ]
    },
    {
      "cell_type": "markdown",
      "metadata": {
        "id": "Fp-JrhD_MpSF"
      },
      "source": [
        "### 본서 "
      ]
    },
    {
      "cell_type": "code",
      "metadata": {
        "id": "5R1mQel5G3Ul"
      },
      "source": [
        "from sklearn.model_selection import train_test_split\n",
        "\n",
        "# 인자로 입력받은 DataFrame을 복사 한 뒤 Time 컬럼만 삭제하고 복사된 DataFrame 반환\n",
        "def get_preprocessed_df(df=None):\n",
        "    df_copy = df.copy()\n",
        "    df_copy.drop('Time', axis=1, inplace=True)\n",
        "    return df_copy"
      ],
      "execution_count": 128,
      "outputs": []
    },
    {
      "cell_type": "code",
      "metadata": {
        "id": "uXjwYPSyG3Un"
      },
      "source": [
        "# 사전 데이터 가공 후 학습과 테스트 데이터 세트를 반환하는 함수.\n",
        "def get_train_test_dataset(df=None):\n",
        "    # 인자로 입력된 DataFrame의 사전 데이터 가공이 완료된 복사 DataFrame 반환\n",
        "    df_copy = get_preprocessed_df(df)\n",
        "    # DataFrame의 맨 마지막 컬럼이 레이블, 나머지는 피처들\n",
        "    X_features = df_copy.iloc[:, :-1]\n",
        "    y_target = df_copy.iloc[:, -1]\n",
        "    # train_test_split( )으로 학습과 테스트 데이터 분할. stratify=y_target으로 Stratified 기반 분할\n",
        "    X_train, X_test, y_train, y_test = \\\n",
        "    train_test_split(X_features, y_target, test_size=0.3, random_state=0, stratify=y_target)\n",
        "    # 학습과 테스트 데이터 세트 반환\n",
        "    return X_train, X_test, y_train, y_test\n",
        "\n",
        "X_train, X_test, y_train, y_test = get_train_test_dataset(card_df)"
      ],
      "execution_count": 129,
      "outputs": []
    },
    {
      "cell_type": "code",
      "metadata": {
        "id": "b5cp6r7QG3Us",
        "colab": {
          "base_uri": "https://localhost:8080/"
        },
        "outputId": "0855b74b-ce44-4c1c-a349-eb50cd816818"
      },
      "source": [
        "print('학습 데이터 레이블 값 비율')\n",
        "print(y_train.value_counts()/y_train.shape[0] * 100)\n",
        "print('테스트 데이터 레이블 값 비율')\n",
        "print(y_test.value_counts()/y_test.shape[0] * 100)"
      ],
      "execution_count": 130,
      "outputs": [
        {
          "output_type": "stream",
          "text": [
            "학습 데이터 레이블 값 비율\n",
            "0.0    99.600696\n",
            "1.0     0.399304\n",
            "Name: Class, dtype: float64\n",
            "테스트 데이터 레이블 값 비율\n",
            "0.0    99.593884\n",
            "1.0     0.406116\n",
            "Name: Class, dtype: float64\n"
          ],
          "name": "stdout"
        }
      ]
    },
    {
      "cell_type": "code",
      "metadata": {
        "id": "Km02jFDxG3Ut"
      },
      "source": [
        "from sklearn.metrics import confusion_matrix, accuracy_score, precision_score, recall_score, f1_score\n",
        "from sklearn.metrics import roc_auc_score\n",
        "\n",
        "def get_clf_eval(y_test, pred):\n",
        "    confusion = confusion_matrix( y_test, pred)\n",
        "    accuracy = accuracy_score(y_test , pred)\n",
        "    precision = precision_score(y_test , pred)\n",
        "    recall = recall_score(y_test , pred)\n",
        "    f1 = f1_score(y_test,pred)\n",
        "    # ROC-AUC 추가 \n",
        "    roc_auc = roc_auc_score(y_test, pred)\n",
        "    print('오차 행렬')\n",
        "    print(confusion)\n",
        "    # ROC-AUC print 추가\n",
        "    print('정확도: {0:.4f}, 정밀도: {1:.4f}, 재현율: {2:.4f},\\\n",
        "    F1: {3:.4f}, AUC:{4:.4f}'.format(accuracy, precision, recall, f1, roc_auc))"
      ],
      "execution_count": 131,
      "outputs": []
    },
    {
      "cell_type": "markdown",
      "metadata": {
        "id": "Gz0P8c1ISJmr"
      },
      "source": [
        "#### 로지스틱 회귀 적용\n",
        "\n",
        "> 참고 : https://hleecaster.com/ml-logistic-regression-concept/"
      ]
    },
    {
      "cell_type": "code",
      "metadata": {
        "id": "n13wKHYbG3Uv",
        "colab": {
          "base_uri": "https://localhost:8080/"
        },
        "outputId": "27545c38-9338-49bc-87a7-5bebbe48d785"
      },
      "source": [
        "from sklearn.linear_model import LogisticRegression\n",
        "\n",
        "lr_clf = LogisticRegression()\n",
        "lr_clf.fit(X_train, y_train)\n",
        "lr_pred = lr_clf.predict(X_test)\n",
        "# 3장에서 사용한 get_clf_eval() 함수를 이용하여 평가 수행. \n",
        "get_clf_eval(y_test, lr_pred)"
      ],
      "execution_count": 132,
      "outputs": [
        {
          "output_type": "stream",
          "text": [
            "오차 행렬\n",
            "[[4166    3]\n",
            " [   5   12]]\n",
            "정확도: 0.9981, 정밀도: 0.8000, 재현율: 0.7059,    F1: 0.7500, AUC:0.8526\n"
          ],
          "name": "stdout"
        }
      ]
    },
    {
      "cell_type": "markdown",
      "metadata": {
        "id": "8cILX3kRen9N"
      },
      "source": [
        "![오차행렬.png](data:image/png;base64,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)"
      ]
    },
    {
      "cell_type": "markdown",
      "metadata": {
        "id": "21F0MNp5gRGR"
      },
      "source": [
        "![AUC.PNG](data:image/png;base64,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)\n",
        "\n",
        ">  참고 : https://bioinformaticsandme.tistory.com/328"
      ]
    },
    {
      "cell_type": "code",
      "metadata": {
        "colab": {
          "base_uri": "https://localhost:8080/"
        },
        "id": "gw7MAAzsbW_G",
        "outputId": "66cd4060-a418-4c6f-93a8-273659a2f93f"
      },
      "source": [
        "lr_clf"
      ],
      "execution_count": 133,
      "outputs": [
        {
          "output_type": "execute_result",
          "data": {
            "text/plain": [
              "LogisticRegression(C=1.0, class_weight=None, dual=False, fit_intercept=True,\n",
              "                   intercept_scaling=1, l1_ratio=None, max_iter=100,\n",
              "                   multi_class='auto', n_jobs=None, penalty='l2',\n",
              "                   random_state=None, solver='lbfgs', tol=0.0001, verbose=0,\n",
              "                   warm_start=False)"
            ]
          },
          "metadata": {},
          "execution_count": 133
        }
      ]
    },
    {
      "cell_type": "code",
      "metadata": {
        "id": "Db4x55-yG3Ux"
      },
      "source": [
        "# 인자로 사이킷런의 Estimator객체와, 학습/테스트 데이터 세트를 입력 받아서 학습/예측/평가 수행.\n",
        "def get_model_train_eval(model, ftr_train=None, ftr_test=None, tgt_train=None, tgt_test=None):\n",
        "    model.fit(ftr_train, tgt_train)\n",
        "    pred = model.predict(ftr_test)\n",
        "    get_clf_eval(tgt_test, pred)"
      ],
      "execution_count": 134,
      "outputs": []
    },
    {
      "cell_type": "code",
      "metadata": {
        "id": "gRaiFTZ0G3U0",
        "colab": {
          "base_uri": "https://localhost:8080/"
        },
        "outputId": "1ab8c75d-a20a-42e2-f309-cfb3156e97bd"
      },
      "source": [
        "from lightgbm import LGBMClassifier\n",
        "\n",
        "lgbm_clf = LGBMClassifier(n_estimators=1000, num_leaves=64, n_jobs=-1, boost_from_average=False)\n",
        "get_model_train_eval(lgbm_clf, ftr_train=X_train, ftr_test=X_test, tgt_train=y_train, tgt_test=y_test)"
      ],
      "execution_count": 135,
      "outputs": [
        {
          "output_type": "stream",
          "text": [
            "오차 행렬\n",
            "[[4169    0]\n",
            " [   2   15]]\n",
            "정확도: 0.9995, 정밀도: 1.0000, 재현율: 0.8824,    F1: 0.9375, AUC:0.9412\n"
          ],
          "name": "stdout"
        }
      ]
    },
    {
      "cell_type": "code",
      "metadata": {
        "colab": {
          "base_uri": "https://localhost:8080/"
        },
        "id": "9UIA7krkgwXt",
        "outputId": "da4fd36a-0586-4e7f-c534-44610f3be8f5"
      },
      "source": [
        "lgbm_clf"
      ],
      "execution_count": 136,
      "outputs": [
        {
          "output_type": "execute_result",
          "data": {
            "text/plain": [
              "LGBMClassifier(boost_from_average=False, boosting_type='gbdt',\n",
              "               class_weight=None, colsample_bytree=1.0, importance_type='split',\n",
              "               learning_rate=0.1, max_depth=-1, min_child_samples=20,\n",
              "               min_child_weight=0.001, min_split_gain=0.0, n_estimators=1000,\n",
              "               n_jobs=-1, num_leaves=64, objective=None, random_state=None,\n",
              "               reg_alpha=0.0, reg_lambda=0.0, silent=True, subsample=1.0,\n",
              "               subsample_for_bin=200000, subsample_freq=0)"
            ]
          },
          "metadata": {},
          "execution_count": 136
        }
      ]
    },
    {
      "cell_type": "markdown",
      "metadata": {
        "id": "TbhJqotjG3U2"
      },
      "source": [
        "### 데이터 분포도 변환 후 모델 학습/예측/평가\n"
      ]
    },
    {
      "cell_type": "code",
      "metadata": {
        "id": "KzdxLZ9mG3U3",
        "colab": {
          "base_uri": "https://localhost:8080/",
          "height": 314
        },
        "outputId": "cf1f5975-fcf3-4618-895a-4270d098e4fa"
      },
      "source": [
        "import seaborn as sns\n",
        "\n",
        "plt.figure(figsize=(8, 4))\n",
        "plt.xticks(range(0, 30000, 1000), rotation=60)\n",
        "sns.distplot(card_df['Amount']) # 오른쪽 꼬리가 무지 길다."
      ],
      "execution_count": 137,
      "outputs": [
        {
          "output_type": "execute_result",
          "data": {
            "text/plain": [
              "<matplotlib.axes._subplots.AxesSubplot at 0x7f29ebf26410>"
            ]
          },
          "metadata": {},
          "execution_count": 137
        },
        {
          "output_type": "display_data",
          "data": {
            "image/png": "[encoded data removed]",
            "text/plain": [
              "<Figure size 576x288 with 1 Axes>"
            ]
          },
          "metadata": {
            "needs_background": "light"
          }
        }
      ]
    },
    {
      "cell_type": "code",
      "metadata": {
        "id": "uMJ8-H5VG3U3"
      },
      "source": [
        "from sklearn.preprocessing import StandardScaler\n",
        "# 사이킷런의 StandardScaler를 이용하여 정규분포 형태로 Amount 피처값 변환하는 로직으로 수정. \n",
        "def get_preprocessed_df(df=None):\n",
        "    df_copy = df.copy()\n",
        "    scaler = StandardScaler()\n",
        "    amount_n = scaler.fit_transform(df_copy['Amount'].values.reshape(-1, 1))\n",
        "    # 변환된 Amount를 Amount_Scaled로 피처명 변경후 DataFrame맨 앞 컬럼으로 입력\n",
        "    df_copy.insert(0, 'Amount_Scaled', amount_n)\n",
        "    # 기존 Time, Amount 피처 삭제\n",
        "    df_copy.drop(['Time','Amount'], axis=1, inplace=True)\n",
        "    return df_copy"
      ],
      "execution_count": 138,
      "outputs": []
    },
    {
      "cell_type": "code",
      "metadata": {
        "colab": {
          "base_uri": "https://localhost:8080/",
          "height": 284
        },
        "id": "kSpFGuKSiiSD",
        "outputId": "134e5112-3e5b-42c3-dfe4-d701cf9b0a35"
      },
      "source": [
        "sns.distplot(get_preprocessed_df(card_df))"
      ],
      "execution_count": 139,
      "outputs": [
        {
          "output_type": "execute_result",
          "data": {
            "text/plain": [
              "<matplotlib.axes._subplots.AxesSubplot at 0x7f29ebdedbd0>"
            ]
          },
          "metadata": {},
          "execution_count": 139
        },
        {
          "output_type": "display_data",
          "data": {
            "image/png": "[encoded data removed]",
            "text/plain": [
              "<Figure size 432x288 with 1 Axes>"
            ]
          },
          "metadata": {
            "needs_background": "light"
          }
        }
      ]
    },
    {
      "cell_type": "code",
      "metadata": {
        "id": "RRWPPU-fG3U4",
        "colab": {
          "base_uri": "https://localhost:8080/"
        },
        "outputId": "47779407-69a8-40a8-f523-64bb62febcbd"
      },
      "source": [
        "# Amount를 정규분포 형태로 변환 후 로지스틱 회귀 및 LightGBM 수행. \n",
        "X_train, X_test, y_train, y_test = get_train_test_dataset(card_df)\n",
        "\n",
        "print('### 로지스틱 회귀 예측 성능 ###')\n",
        "lr_clf = LogisticRegression()\n",
        "get_model_train_eval(lr_clf, ftr_train=X_train, ftr_test=X_test, tgt_train=y_train, tgt_test=y_test)\n",
        "\n",
        "print('### LightGBM 예측 성능 ###')\n",
        "lgbm_clf = LGBMClassifier(n_estimators=1000, num_leaves=64, n_jobs=-1, boost_from_average=False)\n",
        "get_model_train_eval(lgbm_clf, ftr_train=X_train, ftr_test=X_test, tgt_train=y_train, tgt_test=y_test)"
      ],
      "execution_count": 140,
      "outputs": [
        {
          "output_type": "stream",
          "text": [
            "### 로지스틱 회귀 예측 성능 ###\n",
            "오차 행렬\n",
            "[[4166    3]\n",
            " [   4   13]]\n",
            "정확도: 0.9983, 정밀도: 0.8125, 재현율: 0.7647,    F1: 0.7879, AUC:0.8820\n",
            "### LightGBM 예측 성능 ###\n",
            "오차 행렬\n",
            "[[4169    0]\n",
            " [   2   15]]\n",
            "정확도: 0.9995, 정밀도: 1.0000, 재현율: 0.8824,    F1: 0.9375, AUC:0.9412\n"
          ],
          "name": "stdout"
        }
      ]
    },
    {
      "cell_type": "code",
      "metadata": {
        "id": "rgT1091KG3U6"
      },
      "source": [
        "def get_preprocessed_df(df=None):\n",
        "    df_copy = df.copy()\n",
        "    # 넘파이의 log1p( )를 이용하여 Amount를 로그 변환 \n",
        "    amount_n = np.log1p(df_copy['Amount'])\n",
        "    df_copy.insert(0, 'Amount_Scaled', amount_n)\n",
        "    df_copy.drop(['Time','Amount'], axis=1, inplace=True)\n",
        "    return df_copy"
      ],
      "execution_count": 141,
      "outputs": []
    },
    {
      "cell_type": "code",
      "metadata": {
        "id": "vGpeLHqyG3U6",
        "colab": {
          "base_uri": "https://localhost:8080/"
        },
        "outputId": "532a2e33-7006-42b1-947f-a909714565de"
      },
      "source": [
        "X_train, X_test, y_train, y_test = get_train_test_dataset(card_df)\n",
        "\n",
        "print('### 로지스틱 회귀 예측 성능 ###')\n",
        "get_model_train_eval(lr_clf, ftr_train=X_train, ftr_test=X_test, tgt_train=y_train, tgt_test=y_test)\n",
        "\n",
        "print('### LightGBM 예측 성능 ###')\n",
        "get_model_train_eval(lgbm_clf, ftr_train=X_train, ftr_test=X_test, tgt_train=y_train, tgt_test=y_test)"
      ],
      "execution_count": 142,
      "outputs": [
        {
          "output_type": "stream",
          "text": [
            "### 로지스틱 회귀 예측 성능 ###\n",
            "오차 행렬\n",
            "[[4166    3]\n",
            " [   5   12]]\n",
            "정확도: 0.9981, 정밀도: 0.8000, 재현율: 0.7059,    F1: 0.7500, AUC:0.8526\n",
            "### LightGBM 예측 성능 ###\n",
            "오차 행렬\n",
            "[[4169    0]\n",
            " [   2   15]]\n",
            "정확도: 0.9995, 정밀도: 1.0000, 재현율: 0.8824,    F1: 0.9375, AUC:0.9412\n"
          ],
          "name": "stdout"
        }
      ]
    },
    {
      "cell_type": "markdown",
      "metadata": {
        "id": "AxzLQFBrG3U7"
      },
      "source": [
        "### 이상치 데이터 제거 후 모델 학습/예측/평가"
      ]
    },
    {
      "cell_type": "code",
      "metadata": {
        "id": "--eBJxGCG3U7",
        "colab": {
          "base_uri": "https://localhost:8080/",
          "height": 588
        },
        "outputId": "f3195807-33b6-477e-cef6-59dcbf87ac3a"
      },
      "source": [
        "import seaborn as sns\n",
        "\n",
        "plt.figure(figsize=(9, 9))\n",
        "corr = card_df.corr()\n",
        "sns.heatmap(corr, cmap='RdBu')"
      ],
      "execution_count": 143,
      "outputs": [
        {
          "output_type": "execute_result",
          "data": {
            "text/plain": [
              "<matplotlib.axes._subplots.AxesSubplot at 0x7f29f11b0e10>"
            ]
          },
          "metadata": {},
          "execution_count": 143
        },
        {
          "output_type": "display_data",
          "data": {
            "image/png": "[encoded data removed]",
            "text/plain": [
              "<Figure size 648x648 with 2 Axes>"
            ]
          },
          "metadata": {
            "needs_background": "light"
          }
        }
      ]
    },
    {
      "cell_type": "code",
      "metadata": {
        "id": "xWD2rXerG3U8"
      },
      "source": [
        "import numpy as np\n",
        "\n",
        "def get_outlier(df=None, column=None, weight=1.5):\n",
        "    # fraud에 해당하는 column 데이터만 추출, 1/4 분위와 3/4 분위 지점을 np.percentile로 구함. \n",
        "    fraud = df[df['Class']==1][column]\n",
        "    quantile_25 = np.percentile(fraud.values, 25)\n",
        "    quantile_75 = np.percentile(fraud.values, 75)\n",
        "    # IQR을 구하고, IQR에 1.5를 곱하여 최대값과 최소값 지점 구함. \n",
        "    iqr = quantile_75 - quantile_25\n",
        "    iqr_weight = iqr * weight\n",
        "    lowest_val = quantile_25 - iqr_weight\n",
        "    highest_val = quantile_75 + iqr_weight\n",
        "    # 최대값 보다 크거나, 최소값 보다 작은 값을 아웃라이어로 설정하고 DataFrame index 반환. \n",
        "    outlier_index = fraud[(fraud < lowest_val) | (fraud > highest_val)].index\n",
        "    return outlier_index"
      ],
      "execution_count": 144,
      "outputs": []
    },
    {
      "cell_type": "code",
      "metadata": {
        "id": "xpe_ibnXG3U8",
        "colab": {
          "base_uri": "https://localhost:8080/"
        },
        "outputId": "6c9d894e-35ed-41a4-d8ba-8f743182d453"
      },
      "source": [
        "outlier_index = get_outlier(df=card_df, column='V14', weight=1.5)\n",
        "print('이상치 데이터 인덱스:', outlier_index)"
      ],
      "execution_count": 145,
      "outputs": [
        {
          "output_type": "stream",
          "text": [
            "이상치 데이터 인덱스: Int64Index([], dtype='int64')\n"
          ],
          "name": "stdout"
        }
      ]
    },
    {
      "cell_type": "code",
      "metadata": {
        "id": "GCVHTd0KlYJr"
      },
      "source": [
        "total_out_index = []\n",
        "for col in card_df.columns:\n",
        "  temp_outlier_index = get_outlier(df=card_df, column=col, weight=1.5)\n",
        "  if len(temp_outlier_index)!=0:\n",
        "    total_out_index.append(temp_outlier_index)"
      ],
      "execution_count": 188,
      "outputs": []
    },
    {
      "cell_type": "code",
      "metadata": {
        "colab": {
          "base_uri": "https://localhost:8080/"
        },
        "id": "O8I6_CWOnqNF",
        "outputId": "23aa717a-80f2-4ed5-c68f-bc95da28a1cb"
      },
      "source": [
        "total_out_index[-1]"
      ],
      "execution_count": 200,
      "outputs": [
        {
          "output_type": "execute_result",
          "data": {
            "text/plain": [
              "Int64Index([  541,   623,  4920,  6108,  6882,  6971,  8842,  8845,  8972,\n",
              "            10204, 10484, 10497, 10498, 10630, 10690, 10891],\n",
              "           dtype='int64')"
            ]
          },
          "metadata": {},
          "execution_count": 200
        }
      ]
    },
    {
      "cell_type": "code",
      "metadata": {
        "colab": {
          "base_uri": "https://localhost:8080/"
        },
        "id": "G7AdxiXcmAib",
        "outputId": "b4e572b8-319b-469d-dd90-d560524c1243"
      },
      "source": [
        "print(\"전체 아웃라이어 개수: \",len(total_out_index))"
      ],
      "execution_count": 173,
      "outputs": [
        {
          "output_type": "stream",
          "text": [
            "전체 아웃라이어 개수:  12\n"
          ],
          "name": "stdout"
        }
      ]
    },
    {
      "cell_type": "code",
      "metadata": {
        "id": "PqgGZaceG3U9",
        "colab": {
          "base_uri": "https://localhost:8080/"
        },
        "outputId": "d4c3e4a1-c485-40d7-e956-5546652ab37f"
      },
      "source": [
        "# get_processed_df( )를 로그 변환 후 V14 피처의 이상치 데이터를 삭제하는 로직으로 변경. \n",
        "def get_preprocessed_df(df=None,total_out_index=total_out_index):\n",
        "    df_copy = df.copy()\n",
        "    amount_n = np.log1p(df_copy['Amount'])\n",
        "    df_copy.insert(0, 'Amount_Scaled', amount_n)\n",
        "    df_copy.drop(['Time','Amount'], axis=1, inplace=True)\n",
        "    # 이상치 데이터 삭제하는 로직 추가\n",
        "   #outlier_index = get_outlier(df=df_copy, column='V14', weight=1.5)\n",
        "    outlier_index = total_out_index[-1]\n",
        "    df_copy.drop(outlier_index, axis=0, inplace=True)\n",
        "    return df_copy\n",
        "\n",
        "X_train, X_test, y_train, y_test = get_train_test_dataset(card_df)\n",
        "print('### 로지스틱 회귀 예측 성능 ###')\n",
        "get_model_train_eval(lr_clf, ftr_train=X_train, ftr_test=X_test, tgt_train=y_train, tgt_test=y_test)\n",
        "print('### LightGBM 예측 성능 ###')\n",
        "get_model_train_eval(lgbm_clf, ftr_train=X_train, ftr_test=X_test, tgt_train=y_train, tgt_test=y_test)\n"
      ],
      "execution_count": 201,
      "outputs": [
        {
          "output_type": "stream",
          "text": [
            "### 로지스틱 회귀 예측 성능 ###\n",
            "오차 행렬\n",
            "[[4169    1]\n",
            " [   0   12]]\n",
            "정확도: 0.9998, 정밀도: 0.9231, 재현율: 1.0000,    F1: 0.9600, AUC:0.9999\n",
            "### LightGBM 예측 성능 ###\n",
            "오차 행렬\n",
            "[[4170    0]\n",
            " [   1   11]]\n",
            "정확도: 0.9998, 정밀도: 1.0000, 재현율: 0.9167,    F1: 0.9565, AUC:0.9583\n"
          ],
          "name": "stdout"
        }
      ]
    },
    {
      "cell_type": "code",
      "metadata": {
        "colab": {
          "base_uri": "https://localhost:8080/",
          "height": 283
        },
        "id": "y6ningCijVZw",
        "outputId": "3df7e0a1-1f7b-4d52-dd1f-e5a8f2cd367b"
      },
      "source": [
        "sns.distplot(get_preprocessed_df(card_df))"
      ],
      "execution_count": 202,
      "outputs": [
        {
          "output_type": "execute_result",
          "data": {
            "text/plain": [
              "<matplotlib.axes._subplots.AxesSubplot at 0x7f29eb8e0110>"
            ]
          },
          "metadata": {},
          "execution_count": 202
        },
        {
          "output_type": "display_data",
          "data": {
            "image/png": "[encoded data removed]",
            "text/plain": [
              "<Figure size 432x288 with 1 Axes>"
            ]
          },
          "metadata": {
            "needs_background": "light"
          }
        }
      ]
    },
    {
      "cell_type": "markdown",
      "metadata": {
        "id": "yzcWGspYG3U-"
      },
      "source": [
        "### SMOTE 오버 샘플링 적용 후 모델 학습/예측/평가"
      ]
    },
    {
      "cell_type": "markdown",
      "metadata": {
        "id": "tqn_yVzXosg_"
      },
      "source": [
        "> 참고 : https://john-analyst.medium.com/smote%EB%A1%9C-%EB%8D%B0%EC%9D%B4%ED%84%B0-%EB%B6%88%EA%B7%A0%ED%98%95-%ED%95%B4%EA%B2%B0%ED%95%98%EA%B8%B0-5ab674ef0b32"
      ]
    },
    {
      "cell_type": "code",
      "metadata": {
        "id": "WsImIRfrG3U-",
        "colab": {
          "base_uri": "https://localhost:8080/"
        },
        "outputId": "ae621638-b40b-4caf-b7ab-9f5efb376373"
      },
      "source": [
        "from imblearn.over_sampling import SMOTE\n",
        "\n",
        "smote = SMOTE(random_state=0)\n",
        "X_train_over, y_train_over = smote.fit_sample(X_train, y_train)\n",
        "print('SMOTE 적용 전 학습용 피처/레이블 데이터 세트: ', X_train.shape, y_train.shape)\n",
        "print('SMOTE 적용 후 학습용 피처/레이블 데이터 세트: ', X_train_over.shape, y_train_over.shape)\n",
        "print('SMOTE 적용 후 레이블 값 분포: \\n', pd.Series(y_train_over).value_counts())"
      ],
      "execution_count": 148,
      "outputs": [
        {
          "output_type": "stream",
          "text": [
            "SMOTE 적용 전 학습용 피처/레이블 데이터 세트:  (9767, 29) (9767,)\n",
            "SMOTE 적용 후 학습용 피처/레이블 데이터 세트:  (19456, 29) (19456,)\n",
            "SMOTE 적용 후 레이블 값 분포: \n",
            " 1.0    9728\n",
            "0.0    9728\n",
            "dtype: int64\n"
          ],
          "name": "stdout"
        }
      ]
    },
    {
      "cell_type": "code",
      "metadata": {
        "id": "d6Ih1i91G3U_",
        "colab": {
          "base_uri": "https://localhost:8080/"
        },
        "outputId": "705d6eb2-b59c-4e74-a457-31183d6ad64b"
      },
      "source": [
        "lr_clf = LogisticRegression()\n",
        "# ftr_train과 tgt_train 인자값이 SMOTE 증식된 X_train_over와 y_train_over로 변경됨에 유의\n",
        "get_model_train_eval(lr_clf, ftr_train=X_train_over, ftr_test=X_test, tgt_train=y_train_over, tgt_test=y_test)\n",
        "# 성능이 도리어 감소"
      ],
      "execution_count": 149,
      "outputs": [
        {
          "output_type": "stream",
          "text": [
            "오차 행렬\n",
            "[[4147   22]\n",
            " [   2   15]]\n",
            "정확도: 0.9943, 정밀도: 0.4054, 재현율: 0.8824,    F1: 0.5556, AUC:0.9385\n"
          ],
          "name": "stdout"
        }
      ]
    },
    {
      "cell_type": "code",
      "metadata": {
        "id": "mQxYxJcsG3U_"
      },
      "source": [
        "import matplotlib.pyplot as plt\n",
        "import matplotlib.ticker as ticker\n",
        "from sklearn.metrics import precision_recall_curve\n",
        "%matplotlib inline\n",
        "\n",
        "def precision_recall_curve_plot(y_test , pred_proba_c1):\n",
        "    # threshold ndarray와 이 threshold에 따른 정밀도, 재현율 ndarray 추출. \n",
        "    precisions, recalls, thresholds = precision_recall_curve( y_test, pred_proba_c1)\n",
        "    \n",
        "    # X축을 threshold값으로, Y축은 정밀도, 재현율 값으로 각각 Plot 수행. 정밀도는 점선으로 표시\n",
        "    plt.figure(figsize=(8,6))\n",
        "    threshold_boundary = thresholds.shape[0]\n",
        "    plt.plot(thresholds, precisions[0:threshold_boundary], linestyle='--', label='precision')\n",
        "    plt.plot(thresholds, recalls[0:threshold_boundary],label='recall')\n",
        "    \n",
        "    # threshold 값 X 축의 Scale을 0.1 단위로 변경\n",
        "    start, end = plt.xlim()\n",
        "    plt.xticks(np.round(np.arange(start, end, 0.1),2))\n",
        "    \n",
        "    # x축, y축 label과 legend, 그리고 grid 설정\n",
        "    plt.xlabel('Threshold value'); plt.ylabel('Precision and Recall value')\n",
        "    plt.legend(); plt.grid()\n",
        "    plt.show()"
      ],
      "execution_count": 150,
      "outputs": []
    },
    {
      "cell_type": "code",
      "metadata": {
        "id": "r7vBHYnSG3VA",
        "colab": {
          "base_uri": "https://localhost:8080/",
          "height": 388
        },
        "outputId": "7541fc9a-a633-43fc-8226-f182ae254283"
      },
      "source": [
        "precision_recall_curve_plot( y_test, lr_clf.predict_proba(X_test)[:, 1] )"
      ],
      "execution_count": 151,
      "outputs": [
        {
          "output_type": "display_data",
          "data": {
            "image/png": "[encoded data removed]",
            "text/plain": [
              "<Figure size 576x432 with 1 Axes>"
            ]
          },
          "metadata": {
            "needs_background": "light"
          }
        }
      ]
    },
    {
      "cell_type": "code",
      "metadata": {
        "id": "_66AxRKsG3VA",
        "colab": {
          "base_uri": "https://localhost:8080/"
        },
        "outputId": "ef98b5e8-9f88-4086-9f7b-1bd9d3a9f2f0"
      },
      "source": [
        "lgbm_clf = LGBMClassifier(n_estimators=1000, num_leaves=64, n_jobs=-1, boost_from_average=False)\n",
        "get_model_train_eval(lgbm_clf, ftr_train=X_train_over, ftr_test=X_test,\n",
        "                  tgt_train=y_train_over, tgt_test=y_test)\n",
        "# 성능이 증가"
      ],
      "execution_count": 152,
      "outputs": [
        {
          "output_type": "stream",
          "text": [
            "오차 행렬\n",
            "[[4166    3]\n",
            " [   1   16]]\n",
            "정확도: 0.9990, 정밀도: 0.8421, 재현율: 0.9412,    F1: 0.8889, AUC:0.9702\n"
          ],
          "name": "stdout"
        }
      ]
    },
    {
      "cell_type": "markdown",
      "metadata": {
        "id": "V7TL0eMdHQfG"
      },
      "source": [
        "### 4.10 스태킹, 앙상블"
      ]
    },
    {
      "cell_type": "code",
      "metadata": {
        "id": "CRXkMj08HSZH"
      },
      "source": [
        "from sklearn.neighbors import KNeighborsClassifier\n",
        "from sklearn.ensemble import RandomForestClassifier\n",
        "from sklearn.ensemble import AdaBoostClassifier\n",
        "from sklearn.tree import DecisionTreeClassifier\n",
        "from sklearn.linear_model import LogisticRegression\n",
        "\n",
        "from sklearn.datasets import load_breast_cancer\n",
        "from sklearn.model_selection import train_test_split\n",
        "from sklearn.metrics import accuracy_score\n",
        "\n",
        "cancer_data = load_breast_cancer()\n",
        "\n",
        "X_data = cancer_data.data\n",
        "y_label = cancer_data.target\n",
        "\n",
        "X_train , X_test , y_train , y_test = train_test_split(X_data , y_label , test_size=0.2 , random_state=0)"
      ],
      "execution_count": 153,
      "outputs": []
    },
    {
      "cell_type": "code",
      "metadata": {
        "id": "x3HtpPq-G3VA"
      },
      "source": [
        "# 개별 ML 모델을 위한 Classifier 생성.\n",
        "knn_clf  = KNeighborsClassifier(n_neighbors=4)\n",
        "rf_clf = RandomForestClassifier(n_estimators=100, random_state=0)\n",
        "dt_clf = DecisionTreeClassifier()\n",
        "ada_clf = AdaBoostClassifier(n_estimators=100)\n",
        "\n",
        "# 최종 Stacking 모델을 위한 Classifier생성. \n",
        "lr_final = LogisticRegression(C=10)"
      ],
      "execution_count": 154,
      "outputs": []
    },
    {
      "cell_type": "code",
      "metadata": {
        "id": "dpJplHF0HXnQ",
        "colab": {
          "base_uri": "https://localhost:8080/"
        },
        "outputId": "d7e983eb-1e2f-4228-f3ec-c36177e8bb12"
      },
      "source": [
        "# 개별 모델들을 학습. \n",
        "knn_clf.fit(X_train, y_train)\n",
        "rf_clf.fit(X_train , y_train)\n",
        "dt_clf.fit(X_train , y_train)\n",
        "ada_clf.fit(X_train, y_train)"
      ],
      "execution_count": 155,
      "outputs": [
        {
          "output_type": "execute_result",
          "data": {
            "text/plain": [
              "AdaBoostClassifier(algorithm='SAMME.R', base_estimator=None, learning_rate=1.0,\n",
              "                   n_estimators=100, random_state=None)"
            ]
          },
          "metadata": {},
          "execution_count": 155
        }
      ]
    },
    {
      "cell_type": "code",
      "metadata": {
        "id": "dlWIJjSdHYyP",
        "colab": {
          "base_uri": "https://localhost:8080/"
        },
        "outputId": "9f89e508-21ce-4d4c-c62d-01603ac16e93"
      },
      "source": [
        "# 학습된 개별 모델들이 각자 반환하는 예측 데이터 셋을 생성하고 개별 모델의 정확도 측정. \n",
        "knn_pred = knn_clf.predict(X_test)\n",
        "rf_pred = rf_clf.predict(X_test)\n",
        "dt_pred = dt_clf.predict(X_test)\n",
        "ada_pred = ada_clf.predict(X_test)\n",
        "\n",
        "print('KNN 정확도: {0:.4f}'.format(accuracy_score(y_test, knn_pred)))\n",
        "print('랜덤 포레스트 정확도: {0:.4f}'.format(accuracy_score(y_test, rf_pred)))\n",
        "print('결정 트리 정확도: {0:.4f}'.format(accuracy_score(y_test, dt_pred)))\n",
        "print('에이다부스트 정확도: {0:.4f} :'.format(accuracy_score(y_test, ada_pred)))"
      ],
      "execution_count": 156,
      "outputs": [
        {
          "output_type": "stream",
          "text": [
            "KNN 정확도: 0.9211\n",
            "랜덤 포레스트 정확도: 0.9649\n",
            "결정 트리 정확도: 0.9035\n",
            "에이다부스트 정확도: 0.9561 :\n"
          ],
          "name": "stdout"
        }
      ]
    },
    {
      "cell_type": "code",
      "metadata": {
        "id": "xDWZHeFrHY-0",
        "colab": {
          "base_uri": "https://localhost:8080/"
        },
        "outputId": "2d604b6b-6950-4e0e-da78-3cf328a0f81b"
      },
      "source": [
        "pred = np.array([knn_pred, rf_pred, dt_pred, ada_pred])\n",
        "print(pred.shape)\n",
        "\n",
        "# transpose를 이용해 행과 열의 위치 교환. 컬럼 레벨로 각 알고리즘의 예측 결과를 피처로 만듦. \n",
        "pred = np.transpose(pred)\n",
        "print(pred.shape)"
      ],
      "execution_count": 157,
      "outputs": [
        {
          "output_type": "stream",
          "text": [
            "(4, 114)\n",
            "(114, 4)\n"
          ],
          "name": "stdout"
        }
      ]
    },
    {
      "cell_type": "code",
      "metadata": {
        "colab": {
          "base_uri": "https://localhost:8080/"
        },
        "id": "8xk8MkKjqSdx",
        "outputId": "7a2c1971-242d-4fc8-89f3-440a937d3f64"
      },
      "source": [
        "pred"
      ],
      "execution_count": 205,
      "outputs": [
        {
          "output_type": "execute_result",
          "data": {
            "text/plain": [
              "array([[0, 0, 0, 0],\n",
              "       [1, 1, 1, 1],\n",
              "       [1, 1, 1, 1],\n",
              "       [0, 1, 0, 1],\n",
              "       [1, 1, 1, 1],\n",
              "       [1, 1, 1, 1],\n",
              "       [1, 1, 1, 1],\n",
              "       [1, 1, 1, 1],\n",
              "       [1, 1, 1, 1],\n",
              "       [1, 1, 1, 1],\n",
              "       [0, 0, 0, 1],\n",
              "       [1, 1, 1, 1],\n",
              "       [1, 1, 1, 1],\n",
              "       [0, 0, 0, 0],\n",
              "       [0, 0, 0, 1],\n",
              "       [0, 0, 0, 0],\n",
              "       [1, 1, 1, 1],\n",
              "       [0, 0, 0, 0],\n",
              "       [0, 0, 0, 0],\n",
              "       [0, 0, 0, 0],\n",
              "       [0, 0, 0, 0],\n",
              "       [0, 0, 0, 0],\n",
              "       [1, 1, 1, 1],\n",
              "       [1, 1, 1, 1],\n",
              "       [0, 0, 0, 0],\n",
              "       [1, 1, 1, 1],\n",
              "       [1, 1, 1, 1],\n",
              "       [1, 0, 0, 0],\n",
              "       [1, 1, 1, 1],\n",
              "       [0, 0, 0, 0],\n",
              "       [1, 1, 1, 1],\n",
              "       [0, 0, 0, 0],\n",
              "       [1, 1, 1, 1],\n",
              "       [0, 0, 0, 0],\n",
              "       [1, 1, 1, 1],\n",
              "       [0, 0, 0, 0],\n",
              "       [1, 1, 1, 1],\n",
              "       [0, 0, 0, 0],\n",
              "       [1, 1, 1, 1],\n",
              "       [0, 0, 0, 0],\n",
              "       [0, 0, 0, 0],\n",
              "       [1, 1, 1, 1],\n",
              "       [0, 0, 0, 0],\n",
              "       [1, 1, 1, 1],\n",
              "       [0, 1, 0, 1],\n",
              "       [0, 0, 0, 0],\n",
              "       [1, 1, 1, 1],\n",
              "       [1, 1, 1, 1],\n",
              "       [1, 1, 1, 1],\n",
              "       [0, 0, 0, 0],\n",
              "       [0, 0, 0, 0],\n",
              "       [1, 0, 0, 0],\n",
              "       [0, 0, 0, 0],\n",
              "       [1, 1, 1, 1],\n",
              "       [1, 1, 1, 1],\n",
              "       [1, 1, 1, 1],\n",
              "       [1, 1, 0, 1],\n",
              "       [1, 1, 1, 1],\n",
              "       [1, 1, 0, 1],\n",
              "       [0, 0, 0, 0],\n",
              "       [0, 0, 0, 0],\n",
              "       [0, 0, 0, 0],\n",
              "       [1, 1, 1, 1],\n",
              "       [1, 1, 1, 1],\n",
              "       [0, 0, 0, 0],\n",
              "       [1, 1, 0, 0],\n",
              "       [0, 0, 0, 0],\n",
              "       [0, 0, 0, 0],\n",
              "       [0, 0, 0, 0],\n",
              "       [1, 1, 1, 1],\n",
              "       [1, 1, 1, 1],\n",
              "       [0, 0, 0, 0],\n",
              "       [1, 1, 1, 1],\n",
              "       [1, 1, 1, 1],\n",
              "       [0, 0, 0, 0],\n",
              "       [1, 1, 1, 1],\n",
              "       [1, 1, 1, 1],\n",
              "       [1, 1, 1, 1],\n",
              "       [1, 1, 1, 1],\n",
              "       [1, 1, 1, 1],\n",
              "       [0, 0, 0, 0],\n",
              "       [0, 0, 0, 0],\n",
              "       [0, 0, 0, 0],\n",
              "       [1, 1, 1, 1],\n",
              "       [0, 0, 0, 0],\n",
              "       [1, 1, 1, 1],\n",
              "       [1, 1, 1, 1],\n",
              "       [1, 1, 1, 1],\n",
              "       [0, 0, 0, 0],\n",
              "       [0, 0, 0, 0],\n",
              "       [1, 1, 1, 1],\n",
              "       [0, 0, 0, 1],\n",
              "       [1, 1, 1, 1],\n",
              "       [0, 0, 0, 0],\n",
              "       [1, 1, 1, 1],\n",
              "       [1, 1, 1, 1],\n",
              "       [0, 0, 0, 0],\n",
              "       [1, 1, 1, 1],\n",
              "       [1, 1, 1, 1],\n",
              "       [1, 1, 1, 1],\n",
              "       [1, 1, 1, 1],\n",
              "       [1, 1, 1, 1],\n",
              "       [1, 1, 1, 1],\n",
              "       [1, 1, 0, 1],\n",
              "       [0, 0, 0, 0],\n",
              "       [1, 1, 1, 1],\n",
              "       [0, 0, 0, 0],\n",
              "       [0, 1, 1, 1],\n",
              "       [0, 0, 0, 1],\n",
              "       [0, 0, 1, 0],\n",
              "       [1, 1, 1, 1],\n",
              "       [0, 0, 0, 0],\n",
              "       [0, 0, 0, 0],\n",
              "       [1, 1, 1, 1]])"
            ]
          },
          "metadata": {},
          "execution_count": 205
        }
      ]
    },
    {
      "cell_type": "code",
      "metadata": {
        "id": "wROI9laCHZBC",
        "colab": {
          "base_uri": "https://localhost:8080/"
        },
        "outputId": "68b53f2d-0cdd-414d-ef11-ca1fc9bf442d"
      },
      "source": [
        "lr_final.fit(pred, y_test)\n",
        "final = lr_final.predict(pred)\n",
        "\n",
        "print('최종 메타 모델의 예측 정확도: {0:.4f}'.format(accuracy_score(y_test , final)))"
      ],
      "execution_count": 158,
      "outputs": [
        {
          "output_type": "stream",
          "text": [
            "최종 메타 모델의 예측 정확도: 0.9649\n"
          ],
          "name": "stdout"
        }
      ]
    },
    {
      "cell_type": "markdown",
      "metadata": {
        "id": "lVbGo0bdHb5W"
      },
      "source": [
        "### CV셋 기반 스태킹"
      ]
    },
    {
      "cell_type": "code",
      "metadata": {
        "id": "CIHHcLCzHZDS"
      },
      "source": [
        "from sklearn.model_selection import KFold\n",
        "from sklearn.metrics import mean_absolute_error\n",
        "\n",
        "# 개별 기반 모델에서 최종 메타 모델이 사용할 학습 및 테스트용 데이터를 생성하기 위한 함수. \n",
        "def get_stacking_base_datasets(model, X_train_n, y_train_n, X_test_n, n_folds ):\n",
        "    # 지정된 n_folds값으로 KFold 생성.\n",
        "    kf = KFold(n_splits=n_folds, shuffle=False, random_state=0)\n",
        "    #추후에 메타 모델이 사용할 학습 데이터 반환을 위한 넘파이 배열 초기화 \n",
        "    train_fold_pred = np.zeros((X_train_n.shape[0] ,1 ))\n",
        "    test_pred = np.zeros((X_test_n.shape[0],n_folds))\n",
        "    print(model.__class__.__name__ , ' model 시작 ')\n",
        "    \n",
        "    for folder_counter , (train_index, valid_index) in enumerate(kf.split(X_train_n)):\n",
        "        #입력된 학습 데이터에서 기반 모델이 학습/예측할 폴드 데이터 셋 추출 \n",
        "        print('\\t 폴드 세트: ',folder_counter,' 시작 ')\n",
        "        X_tr = X_train_n[train_index] \n",
        "        y_tr = y_train_n[train_index] \n",
        "        X_te = X_train_n[valid_index]  \n",
        "        \n",
        "        #폴드 세트 내부에서 다시 만들어진 학습 데이터로 기반 모델의 학습 수행.\n",
        "        model.fit(X_tr , y_tr)       \n",
        "        #폴드 세트 내부에서 다시 만들어진 검증 데이터로 기반 모델 예측 후 데이터 저장.\n",
        "        train_fold_pred[valid_index, :] = model.predict(X_te).reshape(-1,1)\n",
        "        #입력된 원본 테스트 데이터를 폴드 세트내 학습된 기반 모델에서 예측 후 데이터 저장. \n",
        "        test_pred[:, folder_counter] = model.predict(X_test_n)\n",
        "            \n",
        "    # 폴드 세트 내에서 원본 테스트 데이터를 예측한 데이터를 평균하여 테스트 데이터로 생성 \n",
        "    test_pred_mean = np.mean(test_pred, axis=1).reshape(-1,1)    \n",
        "    \n",
        "    #train_fold_pred는 최종 메타 모델이 사용하는 학습 데이터, test_pred_mean은 테스트 데이터\n",
        "    return train_fold_pred , test_pred_mean"
      ],
      "execution_count": 159,
      "outputs": []
    },
    {
      "cell_type": "code",
      "metadata": {
        "id": "jUdYjBAeHZFO",
        "colab": {
          "base_uri": "https://localhost:8080/"
        },
        "outputId": "851861b0-0d6f-4125-a7c5-b09a8bd49e29"
      },
      "source": [
        "knn_train, knn_test = get_stacking_base_datasets(knn_clf, X_train, y_train, X_test, 7)\n",
        "rf_train, rf_test = get_stacking_base_datasets(rf_clf, X_train, y_train, X_test, 7)\n",
        "dt_train, dt_test = get_stacking_base_datasets(dt_clf, X_train, y_train, X_test,  7)    \n",
        "ada_train, ada_test = get_stacking_base_datasets(ada_clf, X_train, y_train, X_test, 7)"
      ],
      "execution_count": 160,
      "outputs": [
        {
          "output_type": "stream",
          "text": [
            "KNeighborsClassifier  model 시작 \n",
            "\t 폴드 세트:  0  시작 \n",
            "\t 폴드 세트:  1  시작 \n",
            "\t 폴드 세트:  2  시작 \n",
            "\t 폴드 세트:  3  시작 \n",
            "\t 폴드 세트:  4  시작 \n",
            "\t 폴드 세트:  5  시작 \n",
            "\t 폴드 세트:  6  시작 \n",
            "RandomForestClassifier  model 시작 \n",
            "\t 폴드 세트:  0  시작 \n",
            "\t 폴드 세트:  1  시작 \n",
            "\t 폴드 세트:  2  시작 \n",
            "\t 폴드 세트:  3  시작 \n",
            "\t 폴드 세트:  4  시작 \n",
            "\t 폴드 세트:  5  시작 \n",
            "\t 폴드 세트:  6  시작 \n",
            "DecisionTreeClassifier  model 시작 \n",
            "\t 폴드 세트:  0  시작 \n",
            "\t 폴드 세트:  1  시작 \n",
            "\t 폴드 세트:  2  시작 \n",
            "\t 폴드 세트:  3  시작 \n",
            "\t 폴드 세트:  4  시작 \n",
            "\t 폴드 세트:  5  시작 \n",
            "\t 폴드 세트:  6  시작 \n",
            "AdaBoostClassifier  model 시작 \n",
            "\t 폴드 세트:  0  시작 \n",
            "\t 폴드 세트:  1  시작 \n",
            "\t 폴드 세트:  2  시작 \n",
            "\t 폴드 세트:  3  시작 \n",
            "\t 폴드 세트:  4  시작 \n",
            "\t 폴드 세트:  5  시작 \n",
            "\t 폴드 세트:  6  시작 \n"
          ],
          "name": "stdout"
        }
      ]
    },
    {
      "cell_type": "code",
      "metadata": {
        "id": "Eht42GE9HZHA",
        "colab": {
          "base_uri": "https://localhost:8080/"
        },
        "outputId": "40e5907a-8187-4776-fcf7-478ac4bd0730"
      },
      "source": [
        "Stack_final_X_train = np.concatenate((knn_train, rf_train, dt_train, ada_train), axis=1)\n",
        "Stack_final_X_test = np.concatenate((knn_test, rf_test, dt_test, ada_test), axis=1)\n",
        "print('원본 학습 피처 데이터 Shape:',X_train.shape, '원본 테스트 피처 Shape:',X_test.shape)\n",
        "print('스태킹 학습 피처 데이터 Shape:', Stack_final_X_train.shape,\n",
        "      '스태킹 테스트 피처 데이터 Shape:',Stack_final_X_test.shape)"
      ],
      "execution_count": 161,
      "outputs": [
        {
          "output_type": "stream",
          "text": [
            "원본 학습 피처 데이터 Shape: (455, 30) 원본 테스트 피처 Shape: (114, 30)\n",
            "스태킹 학습 피처 데이터 Shape: (455, 4) 스태킹 테스트 피처 데이터 Shape: (114, 4)\n"
          ],
          "name": "stdout"
        }
      ]
    },
    {
      "cell_type": "code",
      "metadata": {
        "id": "Sm1xgdLvHZIX",
        "colab": {
          "base_uri": "https://localhost:8080/"
        },
        "outputId": "63d9b357-f24d-44fa-afe8-745435dd8f3f"
      },
      "source": [
        "lr_final.fit(Stack_final_X_train, y_train)\n",
        "stack_final = lr_final.predict(Stack_final_X_test)\n",
        "\n",
        "print('최종 메타 모델의 예측 정확도: {0:.4f}'.format(accuracy_score(y_test, stack_final)))"
      ],
      "execution_count": 162,
      "outputs": [
        {
          "output_type": "stream",
          "text": [
            "최종 메타 모델의 예측 정확도: 0.9737\n"
          ],
          "name": "stdout"
        }
      ]
    }
  ]
}