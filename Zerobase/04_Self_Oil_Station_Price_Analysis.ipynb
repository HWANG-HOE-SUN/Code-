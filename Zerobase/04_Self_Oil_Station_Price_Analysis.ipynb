{
  "nbformat": 4,
  "nbformat_minor": 5,
  "metadata": {
    "kernelspec": {
      "display_name": "Python 3.8.10 64-bit ('ds_study': conda)",
      "language": "python",
      "name": "python3810jvsc74a57bd03610ee91c5c4f402e2a221b72d3f307d9026c816703f030e60b79f72e150867e"
    },
    "language_info": {
      "codemirror_mode": {
        "name": "ipython",
        "version": 3
      },
      "file_extension": ".py",
      "mimetype": "text/x-python",
      "name": "python",
      "nbconvert_exporter": "python",
      "pygments_lexer": "ipython3",
      "version": "3.8.10"
    },
    "colab": {
      "name": "04. Self Oil Station Price Analysis.ipynb",
      "provenance": [],
      "include_colab_link": true
    }
  },
  "cells": [
    {
      "cell_type": "markdown",
      "metadata": {
        "id": "view-in-github",
        "colab_type": "text"
      },
      "source": [
        "<a href=\"https://colab.research.google.com/github/HWANG-HOE-SUN/Code-/blob/main/Zerobase/04_Self_Oil_Station_Price_Analysis.ipynb\" target=\"_parent\"><img src=\"https://colab.research.google.com/assets/colab-badge.svg\" alt=\"Open In Colab\"/></a>"
      ]
    },
    {
      "cell_type": "markdown",
      "metadata": {
        "id": "256f049b"
      },
      "source": [
        "# 04. Self Oitl Station Prcie Analysis "
      ],
      "id": "256f049b"
    },
    {
      "cell_type": "markdown",
      "metadata": {
        "id": "79faff38"
      },
      "source": [
        "## 1. 셀레니움 설치\n",
        "- 윈도우, mac(intel) \n",
        "    - conda install selenium \n",
        "- mac(m1) \n",
        "    - pip install selenium \n",
        "    \n",
        "- chromedriver\n",
        "    - 크롬 버전 확인\n",
        "    - https://chromedriver.chromium.org/downloads"
      ],
      "id": "79faff38"
    },
    {
      "cell_type": "code",
      "metadata": {
        "colab": {
          "base_uri": "https://localhost:8080/"
        },
        "id": "bf712f96",
        "outputId": "114dca89-cdc5-445f-b769-7fb3ad1b16a8"
      },
      "source": [
        "!pip install selenium "
      ],
      "id": "bf712f96",
      "execution_count": 1,
      "outputs": [
        {
          "output_type": "stream",
          "name": "stdout",
          "text": [
            "Collecting selenium\n",
            "  Downloading selenium-3.141.0-py2.py3-none-any.whl (904 kB)\n",
            "\u001b[K     |████████████████████████████████| 904 kB 5.2 MB/s \n",
            "\u001b[?25hRequirement already satisfied: urllib3 in /usr/local/lib/python3.7/dist-packages (from selenium) (1.24.3)\n",
            "Installing collected packages: selenium\n",
            "Successfully installed selenium-3.141.0\n"
          ]
        }
      ]
    },
    {
      "cell_type": "code",
      "metadata": {
        "colab": {
          "base_uri": "https://localhost:8080/"
        },
        "id": "6038b9c5",
        "outputId": "4bdf7c50-9b61-4bea-c08c-d64adf144f24"
      },
      "source": [
        "!pip list | grep sele"
      ],
      "id": "6038b9c5",
      "execution_count": 2,
      "outputs": [
        {
          "output_type": "stream",
          "name": "stdout",
          "text": [
            "selenium                      3.141.0\n"
          ]
        }
      ]
    },
    {
      "cell_type": "code",
      "metadata": {
        "colab": {
          "base_uri": "https://localhost:8080/"
        },
        "id": "5ZfwJdlmgOzk",
        "outputId": "1fd2a38b-424b-45d0-9cf5-3fbe03763926"
      },
      "source": [
        "!apt-get update\n",
        "!apt install chromium-chromedriver"
      ],
      "id": "5ZfwJdlmgOzk",
      "execution_count": 3,
      "outputs": [
        {
          "output_type": "stream",
          "name": "stdout",
          "text": [
            "\r0% [Working]\r            \rGet:1 http://security.ubuntu.com/ubuntu bionic-security InRelease [88.7 kB]\n",
            "\r0% [Connecting to archive.ubuntu.com (91.189.88.142)] [1 InRelease 14.2 kB/88.7\r0% [Connecting to archive.ubuntu.com (91.189.88.142)] [Connected to cloud.r-pro\r                                                                               \rIgn:2 https://developer.download.nvidia.com/compute/cuda/repos/ubuntu1804/x86_64  InRelease\n",
            "Get:3 https://cloud.r-project.org/bin/linux/ubuntu bionic-cran40/ InRelease [3,626 B]\n",
            "Ign:4 https://developer.download.nvidia.com/compute/machine-learning/repos/ubuntu1804/x86_64  InRelease\n",
            "Get:5 http://ppa.launchpad.net/c2d4u.team/c2d4u4.0+/ubuntu bionic InRelease [15.9 kB]\n",
            "Hit:6 https://developer.download.nvidia.com/compute/cuda/repos/ubuntu1804/x86_64  Release\n",
            "Hit:7 https://developer.download.nvidia.com/compute/machine-learning/repos/ubuntu1804/x86_64  Release\n",
            "Hit:8 http://archive.ubuntu.com/ubuntu bionic InRelease\n",
            "Get:9 http://archive.ubuntu.com/ubuntu bionic-updates InRelease [88.7 kB]\n",
            "Get:10 http://security.ubuntu.com/ubuntu bionic-security/main amd64 Packages [2,365 kB]\n",
            "Hit:11 http://ppa.launchpad.net/cran/libgit2/ubuntu bionic InRelease\n",
            "Get:12 http://security.ubuntu.com/ubuntu bionic-security/universe amd64 Packages [1,431 kB]\n",
            "Get:13 http://archive.ubuntu.com/ubuntu bionic-backports InRelease [74.6 kB]\n",
            "Get:14 http://ppa.launchpad.net/deadsnakes/ppa/ubuntu bionic InRelease [15.9 kB]\n",
            "Hit:16 http://ppa.launchpad.net/graphics-drivers/ppa/ubuntu bionic InRelease\n",
            "Get:18 http://ppa.launchpad.net/c2d4u.team/c2d4u4.0+/ubuntu bionic/main Sources [1,802 kB]\n",
            "Get:19 http://archive.ubuntu.com/ubuntu bionic-updates/universe amd64 Packages [2,210 kB]\n",
            "Get:20 http://archive.ubuntu.com/ubuntu bionic-updates/main amd64 Packages [2,801 kB]\n",
            "Get:21 http://ppa.launchpad.net/c2d4u.team/c2d4u4.0+/ubuntu bionic/main amd64 Packages [922 kB]\n",
            "Get:22 http://ppa.launchpad.net/deadsnakes/ppa/ubuntu bionic/main amd64 Packages [40.8 kB]\n",
            "Fetched 11.9 MB in 3s (3,486 kB/s)\n",
            "Reading package lists... Done\n",
            "Reading package lists... Done\n",
            "Building dependency tree       \n",
            "Reading state information... Done\n",
            "The following additional packages will be installed:\n",
            "  chromium-browser chromium-browser-l10n chromium-codecs-ffmpeg-extra\n",
            "Suggested packages:\n",
            "  webaccounts-chromium-extension unity-chromium-extension\n",
            "The following NEW packages will be installed:\n",
            "  chromium-browser chromium-browser-l10n chromium-chromedriver\n",
            "  chromium-codecs-ffmpeg-extra\n",
            "0 upgraded, 4 newly installed, 0 to remove and 39 not upgraded.\n",
            "Need to get 95.4 MB of archives.\n",
            "After this operation, 323 MB of additional disk space will be used.\n",
            "Get:1 http://archive.ubuntu.com/ubuntu bionic-updates/universe amd64 chromium-codecs-ffmpeg-extra amd64 94.0.4606.71-0ubuntu0.18.04.1 [1,136 kB]\n",
            "Get:2 http://archive.ubuntu.com/ubuntu bionic-updates/universe amd64 chromium-browser amd64 94.0.4606.71-0ubuntu0.18.04.1 [85.1 MB]\n",
            "Get:3 http://archive.ubuntu.com/ubuntu bionic-updates/universe amd64 chromium-browser-l10n all 94.0.4606.71-0ubuntu0.18.04.1 [4,161 kB]\n",
            "Get:4 http://archive.ubuntu.com/ubuntu bionic-updates/universe amd64 chromium-chromedriver amd64 94.0.4606.71-0ubuntu0.18.04.1 [4,964 kB]\n",
            "Fetched 95.4 MB in 4s (23.8 MB/s)\n",
            "Selecting previously unselected package chromium-codecs-ffmpeg-extra.\n",
            "(Reading database ... 155047 files and directories currently installed.)\n",
            "Preparing to unpack .../chromium-codecs-ffmpeg-extra_94.0.4606.71-0ubuntu0.18.04.1_amd64.deb ...\n",
            "Unpacking chromium-codecs-ffmpeg-extra (94.0.4606.71-0ubuntu0.18.04.1) ...\n",
            "Selecting previously unselected package chromium-browser.\n",
            "Preparing to unpack .../chromium-browser_94.0.4606.71-0ubuntu0.18.04.1_amd64.deb ...\n",
            "Unpacking chromium-browser (94.0.4606.71-0ubuntu0.18.04.1) ...\n",
            "Selecting previously unselected package chromium-browser-l10n.\n",
            "Preparing to unpack .../chromium-browser-l10n_94.0.4606.71-0ubuntu0.18.04.1_all.deb ...\n",
            "Unpacking chromium-browser-l10n (94.0.4606.71-0ubuntu0.18.04.1) ...\n",
            "Selecting previously unselected package chromium-chromedriver.\n",
            "Preparing to unpack .../chromium-chromedriver_94.0.4606.71-0ubuntu0.18.04.1_amd64.deb ...\n",
            "Unpacking chromium-chromedriver (94.0.4606.71-0ubuntu0.18.04.1) ...\n",
            "Setting up chromium-codecs-ffmpeg-extra (94.0.4606.71-0ubuntu0.18.04.1) ...\n",
            "Setting up chromium-browser (94.0.4606.71-0ubuntu0.18.04.1) ...\n",
            "update-alternatives: using /usr/bin/chromium-browser to provide /usr/bin/x-www-browser (x-www-browser) in auto mode\n",
            "update-alternatives: using /usr/bin/chromium-browser to provide /usr/bin/gnome-www-browser (gnome-www-browser) in auto mode\n",
            "Setting up chromium-chromedriver (94.0.4606.71-0ubuntu0.18.04.1) ...\n",
            "Setting up chromium-browser-l10n (94.0.4606.71-0ubuntu0.18.04.1) ...\n",
            "Processing triggers for man-db (2.8.3-2ubuntu0.1) ...\n",
            "Processing triggers for hicolor-icon-theme (0.17-2) ...\n",
            "Processing triggers for mime-support (3.60ubuntu1) ...\n",
            "Processing triggers for libc-bin (2.27-3ubuntu1.3) ...\n",
            "/sbin/ldconfig.real: /usr/local/lib/python3.7/dist-packages/ideep4py/lib/libmkldnn.so.0 is not a symbolic link\n",
            "\n"
          ]
        }
      ]
    },
    {
      "cell_type": "code",
      "metadata": {
        "id": "nAFyseu5WgJ3"
      },
      "source": [
        "from selenium import webdriver\n",
        "from urllib.request import urlopen\n",
        "from bs4 import BeautifulSoup as bs\n",
        "from urllib.parse import quote_plus\n",
        "from selenium.webdriver.common.keys import Keys\n",
        "import time"
      ],
      "id": "nAFyseu5WgJ3",
      "execution_count": 4,
      "outputs": []
    },
    {
      "cell_type": "code",
      "metadata": {
        "id": "6OJMtTRiYmQ0"
      },
      "source": [
        "from selenium.webdriver.common.by import By\n",
        "from selenium.webdriver.support.ui import WebDriverWait   # 해당 태그를 기다림\n",
        "from selenium.webdriver.support import expected_conditions as EC\n",
        "from selenium.common.exceptions import TimeoutException    # 태그가 없는 예외 처리"
      ],
      "id": "6OJMtTRiYmQ0",
      "execution_count": 5,
      "outputs": []
    },
    {
      "cell_type": "code",
      "metadata": {
        "id": "GjSqd3NQWgOj"
      },
      "source": [
        "chrome_options = webdriver.ChromeOptions()\n",
        "chrome_options.add_argument('--headless')\n",
        "chrome_options.add_argument('--no-sandbox')\n",
        "chrome_options.add_argument('--disable-dev-shm-usage')"
      ],
      "id": "GjSqd3NQWgOj",
      "execution_count": 6,
      "outputs": []
    },
    {
      "cell_type": "markdown",
      "metadata": {
        "id": "38724860"
      },
      "source": [
        "## 2. 셀프 주유소가 정말 저렴하나요? - 데이터 확보하기 위한 작업\n",
        "- https://www.opinet.co.kr/searRgSelect.do\n",
        "- 사이트 구조 확인 \n",
        "- 목표 데이터 \n",
        "    - 브랜드 \n",
        "    - 가격 \n",
        "    - 셀프 주유 여부 \n",
        "    - 위치 "
      ],
      "id": "38724860"
    },
    {
      "cell_type": "markdown",
      "metadata": {
        "id": "e87d86d5"
      },
      "source": [
        "## 3. 셀레니움으로 접근"
      ],
      "id": "e87d86d5"
    },
    {
      "cell_type": "code",
      "metadata": {
        "id": "9fed7bdf"
      },
      "source": [
        "from selenium import webdriver"
      ],
      "id": "9fed7bdf",
      "execution_count": 7,
      "outputs": []
    },
    {
      "cell_type": "code",
      "metadata": {
        "id": "1c3b926e",
        "colab": {
          "base_uri": "https://localhost:8080/"
        },
        "outputId": "cc8fd008-9778-4605-dbb6-f3be32a86795"
      },
      "source": [
        "# 페이지 접근 \n",
        "url = \"https://www.opinet.co.kr/searRgSelect.do\"\n",
        "driver = webdriver.Chrome('chromedriver', chrome_options=chrome_options)"
      ],
      "id": "1c3b926e",
      "execution_count": 40,
      "outputs": [
        {
          "output_type": "stream",
          "name": "stderr",
          "text": [
            "/usr/local/lib/python3.7/dist-packages/ipykernel_launcher.py:3: DeprecationWarning: use options instead of chrome_options\n",
            "  This is separate from the ipykernel package so we can avoid doing imports until\n"
          ]
        }
      ]
    },
    {
      "cell_type": "code",
      "metadata": {
        "colab": {
          "base_uri": "https://localhost:8080/",
          "height": 636
        },
        "id": "LtsR70Z2y88u",
        "outputId": "f7b1dd80-6263-483f-f8c8-28f6b324631e"
      },
      "source": [
        "# 접근 페이지 이미지 출력\n",
        "from IPython.display import Image\n",
        "\n",
        "driver.get(url)\n",
        "driver.save_screenshot('ss.png')\n",
        "screenshot = Image('ss.png')\n",
        "screenshot"
      ],
      "id": "LtsR70Z2y88u",
      "execution_count": 42,
      "outputs": [
        {
          "output_type": "execute_result",
          "data": {
            "image/png": "[encoded data removed]",
            "text/plain": [
              "<IPython.core.display.Image object>"
            ]
          },
          "metadata": {},
          "execution_count": 42
        }
      ]
    },
    {
      "cell_type": "code",
      "metadata": {
        "id": "6f27f8fd"
      },
      "source": [
        "time.sleep(3)"
      ],
      "id": "6f27f8fd",
      "execution_count": 43,
      "outputs": []
    },
    {
      "cell_type": "markdown",
      "metadata": {
        "id": "4ae567c5"
      },
      "source": [
        "- 문제 \n",
        "    - 1. 해당 URL로 한 번에 접근이 안됩니다. \n",
        "    - 2. 메인페이지로 접속이 되고, 팝업창이 하나 나옵니다."
      ],
      "id": "4ae567c5"
    },
    {
      "cell_type": "code",
      "metadata": {
        "colab": {
          "base_uri": "https://localhost:8080/"
        },
        "id": "9a1cde4f",
        "outputId": "9a0ef990-3534-4751-c6e4-383c560c867f"
      },
      "source": [
        "# # 팝업창 화면 전환 후 닫아주기 \n",
        "# driver.switch_to_window(driver.window_handles[-1]) # 팝업창 비활성화를 하기 위해 팝업창을 활성화함."
      ],
      "id": "9a1cde4f",
      "execution_count": null,
      "outputs": [
        {
          "output_type": "stream",
          "name": "stderr",
          "text": [
            "/usr/local/lib/python3.7/dist-packages/ipykernel_launcher.py:2: DeprecationWarning: use driver.switch_to.window instead\n",
            "  \n"
          ]
        }
      ]
    },
    {
      "cell_type": "code",
      "metadata": {
        "id": "f7efec27"
      },
      "source": [
        "# driver.close() # 팝업창만 닫아짐"
      ],
      "id": "f7efec27",
      "execution_count": null,
      "outputs": []
    },
    {
      "cell_type": "code",
      "metadata": {
        "id": "0d21c421"
      },
      "source": [
        "import time \n",
        "\n",
        "def main_get():\n",
        "    # 페이지 접근 \n",
        "    url = \"https://www.opinet.co.kr/searRgSelect.do\"\n",
        "    driver = webdriver.Chrome('chromedriver', chrome_options=chrome_options)\n",
        "    driver.get(url)\n",
        "    time.sleep(3)\n",
        "    # 팝업창으로 전환 \n",
        "    driver.switch_to_window(driver.window_handles[-1])\n",
        "    # 팝업창 닫아주기\n",
        "    driver.close()\n",
        "    time.sleep(3)\n",
        "    # 메인화면 창으로 전환 \n",
        "    driver.switch_to_window(driver.window_handles[-1])\n",
        "    # 접근 URL 다시 요청 \n",
        "    driver.get(url)"
      ],
      "id": "0d21c421",
      "execution_count": 37,
      "outputs": []
    },
    {
      "cell_type": "code",
      "metadata": {
        "id": "A4QTDGIgey6j",
        "colab": {
          "base_uri": "https://localhost:8080/"
        },
        "outputId": "f74f9db0-887e-4d18-eb29-16a413383a6c"
      },
      "source": [
        "# main_get()"
      ],
      "id": "A4QTDGIgey6j",
      "execution_count": 34,
      "outputs": [
        {
          "output_type": "stream",
          "name": "stderr",
          "text": [
            "/usr/local/lib/python3.7/dist-packages/ipykernel_launcher.py:8: DeprecationWarning: use options instead of chrome_options\n",
            "  \n"
          ]
        }
      ]
    },
    {
      "cell_type": "code",
      "metadata": {
        "colab": {
          "base_uri": "https://localhost:8080/",
          "height": 571
        },
        "id": "JP4Qk37ryHLQ",
        "outputId": "9c134237-e066-4857-a8a4-e0c07a4fb876"
      },
      "source": [
        "# 3초 타임슬립 이후 출력창\n",
        "driver.save_screenshot('ss1.png')\n",
        "screenshot = Image('ss1.png')\n",
        "screenshot"
      ],
      "id": "JP4Qk37ryHLQ",
      "execution_count": 44,
      "outputs": [
        {
          "output_type": "execute_result",
          "data": {
            "image/png": "[encoded data removed]",
            "text/plain": [
              "<IPython.core.display.Image object>"
            ]
          },
          "metadata": {},
          "execution_count": 44
        }
      ]
    },
    {
      "cell_type": "code",
      "metadata": {
        "id": "1a99407b",
        "colab": {
          "base_uri": "https://localhost:8080/",
          "height": 213
        },
        "outputId": "53716159-b65b-43a2-8e7c-b0cc7dfce8f7"
      },
      "source": [
        "# 지역: 시/도 \n",
        "\n",
        "sido_list_raw = driver.find_element_by_id(\"SIDO_NM0\")\n",
        "sido_list_raw.text"
      ],
      "id": "1a99407b",
      "execution_count": 45,
      "outputs": [
        {
          "output_type": "execute_result",
          "data": {
            "application/vnd.google.colaboratory.intrinsic+json": {
              "type": "string"
            },
            "text/plain": [
              "'            시/도\\n            \\n             \\n              서울\\n             \\n             \\n            \\n             \\n             \\n              부산\\n             \\n            \\n             \\n             \\n              대구\\n             \\n            \\n             \\n             \\n              인천\\n             \\n            \\n             \\n             \\n              광주\\n             \\n            \\n             \\n             \\n              대전\\n             \\n            \\n             \\n             \\n              울산\\n             \\n            \\n             \\n             \\n              세종\\n             \\n            \\n             \\n             \\n              경기\\n             \\n            \\n             \\n             \\n              강원\\n             \\n            \\n             \\n             \\n              충북\\n             \\n            \\n             \\n             \\n              충남\\n             \\n            \\n             \\n             \\n              전북\\n             \\n            \\n             \\n             \\n              전남\\n             \\n            \\n             \\n             \\n              경북\\n             \\n            \\n             \\n             \\n              경남\\n             \\n            \\n             \\n             \\n              제주\\n             \\n            \\n           '"
            ]
          },
          "metadata": {},
          "execution_count": 45
        }
      ]
    },
    {
      "cell_type": "code",
      "metadata": {
        "id": "5f23df4e",
        "colab": {
          "base_uri": "https://localhost:8080/"
        },
        "outputId": "d056fd19-1a77-436b-c050-30fc849c9c97"
      },
      "source": [
        "sido_list = sido_list_raw.find_elements_by_tag_name(\"option\")\n",
        "len(sido_list), sido_list[17].text"
      ],
      "id": "5f23df4e",
      "execution_count": 46,
      "outputs": [
        {
          "output_type": "execute_result",
          "data": {
            "text/plain": [
              "(18, '제주')"
            ]
          },
          "metadata": {},
          "execution_count": 46
        }
      ]
    },
    {
      "cell_type": "code",
      "metadata": {
        "id": "f04ac438",
        "outputId": "03d053ac-e381-405e-eaca-e7f0606fe8ca"
      },
      "source": [
        "sido_list[1].get_attribute(\"value\")"
      ],
      "id": "f04ac438",
      "execution_count": null,
      "outputs": [
        {
          "data": {
            "text/plain": [
              "'서울특별시'"
            ]
          },
          "execution_count": 57,
          "metadata": {},
          "output_type": "execute_result"
        }
      ]
    },
    {
      "cell_type": "code",
      "metadata": {
        "id": "a3e9b19b",
        "outputId": "cbf32270-f83b-4d72-bc8f-8dba370be3fd"
      },
      "source": [
        "# 1. \n",
        "sido_names = [] \n",
        "\n",
        "for option in sido_list:\n",
        "    sido_names.append(option.get_attribute(\"value\"))\n",
        "sido_names"
      ],
      "id": "a3e9b19b",
      "execution_count": null,
      "outputs": [
        {
          "data": {
            "text/plain": [
              "['',\n",
              " '서울특별시',\n",
              " '부산광역시',\n",
              " '대구광역시',\n",
              " '인천광역시',\n",
              " '광주광역시',\n",
              " '대전광역시',\n",
              " '울산광역시',\n",
              " '세종특별자치시',\n",
              " '경기도',\n",
              " '강원도',\n",
              " '충청북도',\n",
              " '충청남도',\n",
              " '전라북도',\n",
              " '전라남도',\n",
              " '경상북도',\n",
              " '경상남도',\n",
              " '제주특별자치도']"
            ]
          },
          "execution_count": 58,
          "metadata": {},
          "output_type": "execute_result"
        }
      ]
    },
    {
      "cell_type": "code",
      "metadata": {
        "id": "0a0a87f3",
        "colab": {
          "base_uri": "https://localhost:8080/"
        },
        "outputId": "1556ef25-c98e-4f06-a267-94b741c636c7"
      },
      "source": [
        "# 2. \n",
        "sido_names = [option.get_attribute(\"value\") for option in sido_list]\n",
        "sido_names[:5] # 맨 앞에 빈 칸이 있음"
      ],
      "id": "0a0a87f3",
      "execution_count": 64,
      "outputs": [
        {
          "output_type": "execute_result",
          "data": {
            "text/plain": [
              "['', '서울특별시', '부산광역시', '대구광역시', '인천광역시']"
            ]
          },
          "metadata": {},
          "execution_count": 64
        }
      ]
    },
    {
      "cell_type": "code",
      "metadata": {
        "id": "1980a6dd",
        "colab": {
          "base_uri": "https://localhost:8080/"
        },
        "outputId": "dd7bb096-941f-4b45-f9a1-38985fb00f79"
      },
      "source": [
        "sido_names = sido_names[1:] # 처음 빈칸은 제외시키고 가져오기\n",
        "sido_names"
      ],
      "id": "1980a6dd",
      "execution_count": 65,
      "outputs": [
        {
          "output_type": "execute_result",
          "data": {
            "text/plain": [
              "['서울특별시',\n",
              " '부산광역시',\n",
              " '대구광역시',\n",
              " '인천광역시',\n",
              " '광주광역시',\n",
              " '대전광역시',\n",
              " '울산광역시',\n",
              " '세종특별자치시',\n",
              " '경기도',\n",
              " '강원도',\n",
              " '충청북도',\n",
              " '충청남도',\n",
              " '전라북도',\n",
              " '전라남도',\n",
              " '경상북도',\n",
              " '경상남도',\n",
              " '제주특별자치도']"
            ]
          },
          "metadata": {},
          "execution_count": 65
        }
      ]
    },
    {
      "cell_type": "code",
      "metadata": {
        "id": "e731f292",
        "outputId": "0e3ae55d-0812-41c1-d051-d85f52fb397f"
      },
      "source": [
        "sido_names[0]"
      ],
      "id": "e731f292",
      "execution_count": null,
      "outputs": [
        {
          "data": {
            "text/plain": [
              "'서울특별시'"
            ]
          },
          "execution_count": 62,
          "metadata": {},
          "output_type": "execute_result"
        }
      ]
    },
    {
      "cell_type": "code",
      "metadata": {
        "id": "92d58170"
      },
      "source": [
        "sido_list_raw.send_keys(sido_names[0])"
      ],
      "id": "92d58170",
      "execution_count": null,
      "outputs": []
    },
    {
      "cell_type": "code",
      "metadata": {
        "id": "8235c523",
        "outputId": "622cde52-9909-4a9a-f210-a4b2bfd78af9"
      },
      "source": [
        "# 구 \n",
        "\n",
        "gu_list_raw = driver.find_element_by_id(\"SIGUNGU_NM0\") # 부모 태그 \n",
        "gu_list = gu_list_raw.find_elements_by_tag_name(\"option\") # 자식 태그 \n",
        "\n",
        "gu_names = [option.get_attribute(\"value\") for option in gu_list]\n",
        "gu_names = gu_names[1:]\n",
        "gu_names[:5], len(gu_names)"
      ],
      "id": "8235c523",
      "execution_count": null,
      "outputs": [
        {
          "data": {
            "text/plain": [
              "(['강남구', '강동구', '강북구', '강서구', '관악구'], 25)"
            ]
          },
          "execution_count": 63,
          "metadata": {},
          "output_type": "execute_result"
        }
      ]
    },
    {
      "cell_type": "code",
      "metadata": {
        "id": "8f2ad43e"
      },
      "source": [
        "gu_list_raw.send_keys(gu_names[15])"
      ],
      "id": "8f2ad43e",
      "execution_count": null,
      "outputs": []
    },
    {
      "cell_type": "code",
      "metadata": {
        "id": "6fac76e2"
      },
      "source": [
        "# 엑셀 저장 \n",
        "\n",
        "driver.find_element_by_css_selector(\"#glopopd_excel\").click()"
      ],
      "id": "6fac76e2",
      "execution_count": null,
      "outputs": []
    },
    {
      "cell_type": "code",
      "metadata": {
        "id": "bd79d9cd"
      },
      "source": [
        "driver.find_element_by_xpath('//*[@id=\"glopopd_excel\"]').click()"
      ],
      "id": "bd79d9cd",
      "execution_count": null,
      "outputs": []
    },
    {
      "cell_type": "code",
      "metadata": {
        "id": "0ad87c7f"
      },
      "source": [
        "element_get_excel = driver.find_element_by_id(\"glopopd_excel\")\n",
        "element_get_excel.click()"
      ],
      "id": "0ad87c7f",
      "execution_count": null,
      "outputs": []
    },
    {
      "cell_type": "code",
      "metadata": {
        "colab": {
          "referenced_widgets": [
            "f3bfbec33d804399aff6b27ac685a671"
          ]
        },
        "id": "d83dbccb",
        "outputId": "9c91775b-e755-4421-abd4-b70c915789bc"
      },
      "source": [
        "import time \n",
        "from tqdm import tqdm_notebook\n",
        "\n",
        "for gu in tqdm_notebook(gu_names):\n",
        "    element = driver.find_element_by_id(\"SIGUNGU_NM0\")\n",
        "    element.send_keys(gu)\n",
        "    time.sleep(3)\n",
        "    \n",
        "    element_get_excel = driver.find_element_by_id(\"glopopd_excel\").click()\n",
        "    time.sleep(3)"
      ],
      "id": "d83dbccb",
      "execution_count": null,
      "outputs": [
        {
          "name": "stderr",
          "output_type": "stream",
          "text": [
            "/var/folders/8c/jb57288j6xlb3s_tkmys1kj00000gn/T/ipykernel_7183/2345753629.py:4: TqdmDeprecationWarning: This function will be removed in tqdm==5.0.0\n",
            "Please use `tqdm.notebook.tqdm` instead of `tqdm.tqdm_notebook`\n",
            "  for gu in tqdm_notebook(gu_names):\n"
          ]
        },
        {
          "data": {
            "application/vnd.jupyter.widget-view+json": {
              "model_id": "f3bfbec33d804399aff6b27ac685a671",
              "version_major": 2,
              "version_minor": 0
            },
            "text/plain": [
              "  0%|          | 0/25 [00:00<?, ?it/s]"
            ]
          },
          "metadata": {},
          "output_type": "display_data"
        }
      ]
    },
    {
      "cell_type": "code",
      "metadata": {
        "id": "d06d50fc"
      },
      "source": [
        "driver.close() "
      ],
      "id": "d06d50fc",
      "execution_count": null,
      "outputs": []
    },
    {
      "cell_type": "markdown",
      "metadata": {
        "id": "a06f3049"
      },
      "source": [
        "## 4. 데이터 정리하기 "
      ],
      "id": "a06f3049"
    },
    {
      "cell_type": "code",
      "metadata": {
        "id": "04ca9dc0"
      },
      "source": [
        "import pandas as pd \n",
        "from glob import glob "
      ],
      "id": "04ca9dc0",
      "execution_count": null,
      "outputs": []
    },
    {
      "cell_type": "code",
      "metadata": {
        "id": "49d7c41a"
      },
      "source": [
        "# !pip install glob"
      ],
      "id": "49d7c41a",
      "execution_count": null,
      "outputs": []
    },
    {
      "cell_type": "code",
      "metadata": {
        "id": "67bd7bc1",
        "outputId": "a3ba3c46-9c8d-4826-e112-00126216c141"
      },
      "source": [
        "# 파일 목록 한 번에 가져오기 \n",
        "glob(\"../data/지역_*.xls\")"
      ],
      "id": "67bd7bc1",
      "execution_count": null,
      "outputs": [
        {
          "data": {
            "text/plain": [
              "['../data/지역_위치별(주유소) (9).xls',\n",
              " '../data/지역_위치별(주유소) (12).xls',\n",
              " '../data/지역_위치별(주유소) (5).xls',\n",
              " '../data/지역_위치별(주유소) (24).xls',\n",
              " '../data/지역_위치별(주유소) (4).xls',\n",
              " '../data/지역_위치별(주유소) (13).xls',\n",
              " '../data/지역_위치별(주유소) (8).xls',\n",
              " '../data/지역_위치별(주유소) (3).xls',\n",
              " '../data/지역_위치별(주유소) (18).xls',\n",
              " '../data/지역_위치별(주유소) (22).xls',\n",
              " '../data/지역_위치별(주유소) (14).xls',\n",
              " '../data/지역_위치별(주유소) (15).xls',\n",
              " '../data/지역_위치별(주유소) (23).xls',\n",
              " '../data/지역_위치별(주유소) (19).xls',\n",
              " '../data/지역_위치별(주유소) (2).xls',\n",
              " '../data/지역_위치별(주유소) (20).xls',\n",
              " '../data/지역_위치별(주유소) (1).xls',\n",
              " '../data/지역_위치별(주유소) (16).xls',\n",
              " '../data/지역_위치별(주유소) (17).xls',\n",
              " '../data/지역_위치별(주유소) (21).xls',\n",
              " '../data/지역_위치별(주유소) (10).xls',\n",
              " '../data/지역_위치별(주유소).xls',\n",
              " '../data/지역_위치별(주유소) (7).xls',\n",
              " '../data/지역_위치별(주유소) (6).xls',\n",
              " '../data/지역_위치별(주유소) (11).xls']"
            ]
          },
          "execution_count": 68,
          "metadata": {},
          "output_type": "execute_result"
        }
      ]
    },
    {
      "cell_type": "code",
      "metadata": {
        "id": "5e028fec",
        "outputId": "8734dd08-35b3-4e61-8275-caab541d9b91"
      },
      "source": [
        "# 파일명 저장 \n",
        "stations_files = glob(\"../data/지역_*.xls\")\n",
        "stations_files[:5]"
      ],
      "id": "5e028fec",
      "execution_count": null,
      "outputs": [
        {
          "data": {
            "text/plain": [
              "['../data/지역_위치별(주유소) (9).xls',\n",
              " '../data/지역_위치별(주유소) (12).xls',\n",
              " '../data/지역_위치별(주유소) (5).xls',\n",
              " '../data/지역_위치별(주유소) (24).xls',\n",
              " '../data/지역_위치별(주유소) (4).xls']"
            ]
          },
          "execution_count": 69,
          "metadata": {},
          "output_type": "execute_result"
        }
      ]
    },
    {
      "cell_type": "code",
      "metadata": {
        "id": "2fcd3f62",
        "outputId": "2f59718c-e02b-476c-db10-06094a4bd7f5"
      },
      "source": [
        "# 하나만 읽어보기 \n",
        "tmp = pd.read_excel(stations_files[0], header=2)\n",
        "tmp.tail(2)"
      ],
      "id": "2fcd3f62",
      "execution_count": null,
      "outputs": [
        {
          "data": {
            "text/html": [
              "<div>\n",
              "<style scoped>\n",
              "    .dataframe tbody tr th:only-of-type {\n",
              "        vertical-align: middle;\n",
              "    }\n",
              "\n",
              "    .dataframe tbody tr th {\n",
              "        vertical-align: top;\n",
              "    }\n",
              "\n",
              "    .dataframe thead th {\n",
              "        text-align: right;\n",
              "    }\n",
              "</style>\n",
              "<table border=\"1\" class=\"dataframe\">\n",
              "  <thead>\n",
              "    <tr style=\"text-align: right;\">\n",
              "      <th></th>\n",
              "      <th>지역</th>\n",
              "      <th>상호</th>\n",
              "      <th>주소</th>\n",
              "      <th>상표</th>\n",
              "      <th>전화번호</th>\n",
              "      <th>셀프여부</th>\n",
              "      <th>고급휘발유</th>\n",
              "      <th>휘발유</th>\n",
              "      <th>경유</th>\n",
              "      <th>실내등유</th>\n",
              "    </tr>\n",
              "  </thead>\n",
              "  <tbody>\n",
              "    <tr>\n",
              "      <th>16</th>\n",
              "      <td>서울특별시</td>\n",
              "      <td>현대오일뱅크㈜직영 영신주유소</td>\n",
              "      <td>서울 도봉구 방학로 151</td>\n",
              "      <td>현대오일뱅크</td>\n",
              "      <td>02-956-5152</td>\n",
              "      <td>N</td>\n",
              "      <td>1898</td>\n",
              "      <td>1698</td>\n",
              "      <td>1498</td>\n",
              "      <td>1049</td>\n",
              "    </tr>\n",
              "    <tr>\n",
              "      <th>17</th>\n",
              "      <td>서울특별시</td>\n",
              "      <td>(주)자연에너지 햇살주유소</td>\n",
              "      <td>서울 도봉구 방학로 142 (방학동)</td>\n",
              "      <td>현대오일뱅크</td>\n",
              "      <td>02-2266-1448</td>\n",
              "      <td>Y</td>\n",
              "      <td>-</td>\n",
              "      <td>-</td>\n",
              "      <td>-</td>\n",
              "      <td>-</td>\n",
              "    </tr>\n",
              "  </tbody>\n",
              "</table>\n",
              "</div>"
            ],
            "text/plain": [
              "       지역               상호                    주소      상표          전화번호 셀프여부  \\\n",
              "16  서울특별시  현대오일뱅크㈜직영 영신주유소        서울 도봉구 방학로 151  현대오일뱅크   02-956-5152    N   \n",
              "17  서울특별시   (주)자연에너지 햇살주유소  서울 도봉구 방학로 142 (방학동)  현대오일뱅크  02-2266-1448    Y   \n",
              "\n",
              "   고급휘발유   휘발유    경유  실내등유  \n",
              "16  1898  1698  1498  1049  \n",
              "17     -     -     -     -  "
            ]
          },
          "execution_count": 71,
          "metadata": {},
          "output_type": "execute_result"
        }
      ]
    },
    {
      "cell_type": "code",
      "metadata": {
        "id": "0601d79d"
      },
      "source": [
        "tmp_raw = [] \n",
        "\n",
        "for file_name in stations_files:\n",
        "    tmp = pd.read_excel(file_name, header=2)\n",
        "    tmp_raw.append(tmp)"
      ],
      "id": "0601d79d",
      "execution_count": null,
      "outputs": []
    },
    {
      "cell_type": "markdown",
      "metadata": {
        "id": "a4918628"
      },
      "source": [
        "- 형식이 동일하고 연달아 붙이기만 하면 될 때는 concat "
      ],
      "id": "a4918628"
    },
    {
      "cell_type": "code",
      "metadata": {
        "id": "17f27ac2",
        "outputId": "bd5d2709-3434-45d4-bc77-692a52fee4a3"
      },
      "source": [
        "stations_raw = pd.concat(tmp_raw)\n",
        "stations_raw"
      ],
      "id": "17f27ac2",
      "execution_count": null,
      "outputs": [
        {
          "data": {
            "text/html": [
              "<div>\n",
              "<style scoped>\n",
              "    .dataframe tbody tr th:only-of-type {\n",
              "        vertical-align: middle;\n",
              "    }\n",
              "\n",
              "    .dataframe tbody tr th {\n",
              "        vertical-align: top;\n",
              "    }\n",
              "\n",
              "    .dataframe thead th {\n",
              "        text-align: right;\n",
              "    }\n",
              "</style>\n",
              "<table border=\"1\" class=\"dataframe\">\n",
              "  <thead>\n",
              "    <tr style=\"text-align: right;\">\n",
              "      <th></th>\n",
              "      <th>지역</th>\n",
              "      <th>상호</th>\n",
              "      <th>주소</th>\n",
              "      <th>상표</th>\n",
              "      <th>전화번호</th>\n",
              "      <th>셀프여부</th>\n",
              "      <th>고급휘발유</th>\n",
              "      <th>휘발유</th>\n",
              "      <th>경유</th>\n",
              "      <th>실내등유</th>\n",
              "    </tr>\n",
              "  </thead>\n",
              "  <tbody>\n",
              "    <tr>\n",
              "      <th>0</th>\n",
              "      <td>서울특별시</td>\n",
              "      <td>삼미북부셀프주유소</td>\n",
              "      <td>서울 도봉구 도봉로 437 (쌍문동)</td>\n",
              "      <td>SK에너지</td>\n",
              "      <td>02-992-5561</td>\n",
              "      <td>Y</td>\n",
              "      <td>-</td>\n",
              "      <td>1608</td>\n",
              "      <td>1408</td>\n",
              "      <td>1100</td>\n",
              "    </tr>\n",
              "    <tr>\n",
              "      <th>1</th>\n",
              "      <td>서울특별시</td>\n",
              "      <td>도봉제일주유소(주)송만에너지</td>\n",
              "      <td>서울 도봉구 도봉로 783 (도봉동)</td>\n",
              "      <td>현대오일뱅크</td>\n",
              "      <td>02-955-5185</td>\n",
              "      <td>N</td>\n",
              "      <td>-</td>\n",
              "      <td>1608</td>\n",
              "      <td>1408</td>\n",
              "      <td>990</td>\n",
              "    </tr>\n",
              "    <tr>\n",
              "      <th>2</th>\n",
              "      <td>서울특별시</td>\n",
              "      <td>한이에너지(주) 쌍문주유소</td>\n",
              "      <td>서울 도봉구 도봉로 547 (쌍문동)</td>\n",
              "      <td>S-OIL</td>\n",
              "      <td>02-992-0220</td>\n",
              "      <td>Y</td>\n",
              "      <td>-</td>\n",
              "      <td>1609</td>\n",
              "      <td>1409</td>\n",
              "      <td>-</td>\n",
              "    </tr>\n",
              "    <tr>\n",
              "      <th>3</th>\n",
              "      <td>서울특별시</td>\n",
              "      <td>한이에너지(주)KLP제1주유소</td>\n",
              "      <td>서울 도봉구 도봉로 596 (창동)</td>\n",
              "      <td>현대오일뱅크</td>\n",
              "      <td>02-902-5189</td>\n",
              "      <td>N</td>\n",
              "      <td>-</td>\n",
              "      <td>1613</td>\n",
              "      <td>1413</td>\n",
              "      <td>-</td>\n",
              "    </tr>\n",
              "    <tr>\n",
              "      <th>4</th>\n",
              "      <td>서울특별시</td>\n",
              "      <td>구도일주유소 도봉</td>\n",
              "      <td>서울 도봉구 도봉로 706 (방학동)</td>\n",
              "      <td>S-OIL</td>\n",
              "      <td>02-3491-3454</td>\n",
              "      <td>Y</td>\n",
              "      <td>1877</td>\n",
              "      <td>1613</td>\n",
              "      <td>1413</td>\n",
              "      <td>1000</td>\n",
              "    </tr>\n",
              "    <tr>\n",
              "      <th>...</th>\n",
              "      <td>...</td>\n",
              "      <td>...</td>\n",
              "      <td>...</td>\n",
              "      <td>...</td>\n",
              "      <td>...</td>\n",
              "      <td>...</td>\n",
              "      <td>...</td>\n",
              "      <td>...</td>\n",
              "      <td>...</td>\n",
              "      <td>...</td>\n",
              "    </tr>\n",
              "    <tr>\n",
              "      <th>5</th>\n",
              "      <td>서울특별시</td>\n",
              "      <td>현대오일뱅크㈜직영 흑석동셀프주유소</td>\n",
              "      <td>서울 동작구 현충로 101 (흑석동)</td>\n",
              "      <td>현대오일뱅크</td>\n",
              "      <td>02-815-0724</td>\n",
              "      <td>Y</td>\n",
              "      <td>1859</td>\n",
              "      <td>1693</td>\n",
              "      <td>1493</td>\n",
              "      <td>-</td>\n",
              "    </tr>\n",
              "    <tr>\n",
              "      <th>6</th>\n",
              "      <td>서울특별시</td>\n",
              "      <td>대성산업(주) 노량진주유소</td>\n",
              "      <td>서울 동작구 노량진로 172</td>\n",
              "      <td>GS칼텍스</td>\n",
              "      <td>02-815-2354</td>\n",
              "      <td>N</td>\n",
              "      <td>-</td>\n",
              "      <td>1699</td>\n",
              "      <td>1489</td>\n",
              "      <td>1150</td>\n",
              "    </tr>\n",
              "    <tr>\n",
              "      <th>7</th>\n",
              "      <td>서울특별시</td>\n",
              "      <td>(주)성림에너지 남성주유소</td>\n",
              "      <td>서울 동작구 동작대로 135 (사당동)</td>\n",
              "      <td>GS칼텍스</td>\n",
              "      <td>02-532-0606</td>\n",
              "      <td>Y</td>\n",
              "      <td>-</td>\n",
              "      <td>1699</td>\n",
              "      <td>1499</td>\n",
              "      <td>-</td>\n",
              "    </tr>\n",
              "    <tr>\n",
              "      <th>8</th>\n",
              "      <td>서울특별시</td>\n",
              "      <td>현대오일뱅크(주)직영 동작주유소</td>\n",
              "      <td>서울 동작구 상도로 403 (상도동)</td>\n",
              "      <td>현대오일뱅크</td>\n",
              "      <td>02-817-9179</td>\n",
              "      <td>N</td>\n",
              "      <td>1869</td>\n",
              "      <td>1714</td>\n",
              "      <td>1514</td>\n",
              "      <td>-</td>\n",
              "    </tr>\n",
              "    <tr>\n",
              "      <th>9</th>\n",
              "      <td>서울특별시</td>\n",
              "      <td>살피재주유소</td>\n",
              "      <td>서울 동작구 상도로 334</td>\n",
              "      <td>SK에너지</td>\n",
              "      <td>02-817-2559</td>\n",
              "      <td>N</td>\n",
              "      <td>-</td>\n",
              "      <td>1785</td>\n",
              "      <td>1575</td>\n",
              "      <td>-</td>\n",
              "    </tr>\n",
              "  </tbody>\n",
              "</table>\n",
              "<p>478 rows × 10 columns</p>\n",
              "</div>"
            ],
            "text/plain": [
              "       지역                  상호                     주소      상표          전화번호  \\\n",
              "0   서울특별시           삼미북부셀프주유소   서울 도봉구 도봉로 437 (쌍문동)   SK에너지   02-992-5561   \n",
              "1   서울특별시     도봉제일주유소(주)송만에너지   서울 도봉구 도봉로 783 (도봉동)  현대오일뱅크   02-955-5185   \n",
              "2   서울특별시      한이에너지(주) 쌍문주유소   서울 도봉구 도봉로 547 (쌍문동)   S-OIL   02-992-0220   \n",
              "3   서울특별시    한이에너지(주)KLP제1주유소    서울 도봉구 도봉로 596 (창동)  현대오일뱅크   02-902-5189   \n",
              "4   서울특별시           구도일주유소 도봉   서울 도봉구 도봉로 706 (방학동)   S-OIL  02-3491-3454   \n",
              "..    ...                 ...                    ...     ...           ...   \n",
              "5   서울특별시  현대오일뱅크㈜직영 흑석동셀프주유소   서울 동작구 현충로 101 (흑석동)  현대오일뱅크   02-815-0724   \n",
              "6   서울특별시      대성산업(주) 노량진주유소        서울 동작구 노량진로 172   GS칼텍스   02-815-2354   \n",
              "7   서울특별시      (주)성림에너지 남성주유소  서울 동작구 동작대로 135 (사당동)   GS칼텍스   02-532-0606   \n",
              "8   서울특별시   현대오일뱅크(주)직영 동작주유소   서울 동작구 상도로 403 (상도동)  현대오일뱅크   02-817-9179   \n",
              "9   서울특별시              살피재주유소         서울 동작구 상도로 334   SK에너지   02-817-2559   \n",
              "\n",
              "   셀프여부 고급휘발유   휘발유    경유  실내등유  \n",
              "0     Y     -  1608  1408  1100  \n",
              "1     N     -  1608  1408   990  \n",
              "2     Y     -  1609  1409     -  \n",
              "3     N     -  1613  1413     -  \n",
              "4     Y  1877  1613  1413  1000  \n",
              "..  ...   ...   ...   ...   ...  \n",
              "5     Y  1859  1693  1493     -  \n",
              "6     N     -  1699  1489  1150  \n",
              "7     Y     -  1699  1499     -  \n",
              "8     N  1869  1714  1514     -  \n",
              "9     N     -  1785  1575     -  \n",
              "\n",
              "[478 rows x 10 columns]"
            ]
          },
          "execution_count": 74,
          "metadata": {},
          "output_type": "execute_result"
        }
      ]
    },
    {
      "cell_type": "code",
      "metadata": {
        "id": "b99c0469",
        "outputId": "08d4725d-e6a8-428d-9246-93160b8c57dd"
      },
      "source": [
        "stations_raw.info()"
      ],
      "id": "b99c0469",
      "execution_count": null,
      "outputs": [
        {
          "name": "stdout",
          "output_type": "stream",
          "text": [
            "<class 'pandas.core.frame.DataFrame'>\n",
            "Int64Index: 478 entries, 0 to 9\n",
            "Data columns (total 10 columns):\n",
            " #   Column  Non-Null Count  Dtype \n",
            "---  ------  --------------  ----- \n",
            " 0   지역      478 non-null    object\n",
            " 1   상호      478 non-null    object\n",
            " 2   주소      478 non-null    object\n",
            " 3   상표      478 non-null    object\n",
            " 4   전화번호    478 non-null    object\n",
            " 5   셀프여부    478 non-null    object\n",
            " 6   고급휘발유   478 non-null    object\n",
            " 7   휘발유     478 non-null    object\n",
            " 8   경유      478 non-null    object\n",
            " 9   실내등유    478 non-null    object\n",
            "dtypes: object(10)\n",
            "memory usage: 41.1+ KB\n"
          ]
        }
      ]
    },
    {
      "cell_type": "code",
      "metadata": {
        "id": "44083457",
        "outputId": "52b87852-e151-4097-cb69-f1b20fc66248"
      },
      "source": [
        "stations_raw.columns"
      ],
      "id": "44083457",
      "execution_count": null,
      "outputs": [
        {
          "data": {
            "text/plain": [
              "Index(['지역', '상호', '주소', '상표', '전화번호', '셀프여부', '고급휘발유', '휘발유', '경유', '실내등유'], dtype='object')"
            ]
          },
          "execution_count": 76,
          "metadata": {},
          "output_type": "execute_result"
        }
      ]
    },
    {
      "cell_type": "code",
      "metadata": {
        "id": "3ae05555",
        "outputId": "88e810ac-7cb4-4a26-fe24-4726cf5cc8aa"
      },
      "source": [
        "stations = pd.DataFrame({\n",
        "    \"상호\": stations_raw[\"상호\"],\n",
        "    \"주소\": stations_raw[\"주소\"], \n",
        "    \"가격\": stations_raw[\"휘발유\"],\n",
        "    \"셀프\": stations_raw[\"셀프여부\"],\n",
        "    \"상표\": stations_raw[\"상표\"]\n",
        "})\n",
        "stations.tail()"
      ],
      "id": "3ae05555",
      "execution_count": null,
      "outputs": [
        {
          "data": {
            "text/html": [
              "<div>\n",
              "<style scoped>\n",
              "    .dataframe tbody tr th:only-of-type {\n",
              "        vertical-align: middle;\n",
              "    }\n",
              "\n",
              "    .dataframe tbody tr th {\n",
              "        vertical-align: top;\n",
              "    }\n",
              "\n",
              "    .dataframe thead th {\n",
              "        text-align: right;\n",
              "    }\n",
              "</style>\n",
              "<table border=\"1\" class=\"dataframe\">\n",
              "  <thead>\n",
              "    <tr style=\"text-align: right;\">\n",
              "      <th></th>\n",
              "      <th>상호</th>\n",
              "      <th>주소</th>\n",
              "      <th>가격</th>\n",
              "      <th>셀프</th>\n",
              "      <th>상표</th>\n",
              "    </tr>\n",
              "  </thead>\n",
              "  <tbody>\n",
              "    <tr>\n",
              "      <th>5</th>\n",
              "      <td>현대오일뱅크㈜직영 흑석동셀프주유소</td>\n",
              "      <td>서울 동작구 현충로 101 (흑석동)</td>\n",
              "      <td>1693</td>\n",
              "      <td>Y</td>\n",
              "      <td>현대오일뱅크</td>\n",
              "    </tr>\n",
              "    <tr>\n",
              "      <th>6</th>\n",
              "      <td>대성산업(주) 노량진주유소</td>\n",
              "      <td>서울 동작구 노량진로 172</td>\n",
              "      <td>1699</td>\n",
              "      <td>N</td>\n",
              "      <td>GS칼텍스</td>\n",
              "    </tr>\n",
              "    <tr>\n",
              "      <th>7</th>\n",
              "      <td>(주)성림에너지 남성주유소</td>\n",
              "      <td>서울 동작구 동작대로 135 (사당동)</td>\n",
              "      <td>1699</td>\n",
              "      <td>Y</td>\n",
              "      <td>GS칼텍스</td>\n",
              "    </tr>\n",
              "    <tr>\n",
              "      <th>8</th>\n",
              "      <td>현대오일뱅크(주)직영 동작주유소</td>\n",
              "      <td>서울 동작구 상도로 403 (상도동)</td>\n",
              "      <td>1714</td>\n",
              "      <td>N</td>\n",
              "      <td>현대오일뱅크</td>\n",
              "    </tr>\n",
              "    <tr>\n",
              "      <th>9</th>\n",
              "      <td>살피재주유소</td>\n",
              "      <td>서울 동작구 상도로 334</td>\n",
              "      <td>1785</td>\n",
              "      <td>N</td>\n",
              "      <td>SK에너지</td>\n",
              "    </tr>\n",
              "  </tbody>\n",
              "</table>\n",
              "</div>"
            ],
            "text/plain": [
              "                   상호                     주소    가격 셀프      상표\n",
              "5  현대오일뱅크㈜직영 흑석동셀프주유소   서울 동작구 현충로 101 (흑석동)  1693  Y  현대오일뱅크\n",
              "6      대성산업(주) 노량진주유소        서울 동작구 노량진로 172  1699  N   GS칼텍스\n",
              "7      (주)성림에너지 남성주유소  서울 동작구 동작대로 135 (사당동)  1699  Y   GS칼텍스\n",
              "8   현대오일뱅크(주)직영 동작주유소   서울 동작구 상도로 403 (상도동)  1714  N  현대오일뱅크\n",
              "9              살피재주유소         서울 동작구 상도로 334  1785  N   SK에너지"
            ]
          },
          "execution_count": 80,
          "metadata": {},
          "output_type": "execute_result"
        }
      ]
    },
    {
      "cell_type": "code",
      "metadata": {
        "collapsed": true,
        "id": "3b4576ee",
        "outputId": "7450e636-1786-4f72-9c5d-5dcf5c76313d"
      },
      "source": [
        "for eachAddress in stations[\"주소\"]:\n",
        "    print(eachAddress.split()[1])"
      ],
      "id": "3b4576ee",
      "execution_count": null,
      "outputs": [
        {
          "name": "stdout",
          "output_type": "stream",
          "text": [
            "도봉구\n",
            "도봉구\n",
            "도봉구\n",
            "도봉구\n",
            "도봉구\n",
            "도봉구\n",
            "도봉구\n",
            "도봉구\n",
            "도봉구\n",
            "도봉구\n",
            "도봉구\n",
            "도봉구\n",
            "도봉구\n",
            "도봉구\n",
            "도봉구\n",
            "도봉구\n",
            "도봉구\n",
            "도봉구\n",
            "마포구\n",
            "마포구\n",
            "마포구\n",
            "마포구\n",
            "마포구\n",
            "마포구\n",
            "마포구\n",
            "마포구\n",
            "마포구\n",
            "마포구\n",
            "마포구\n",
            "마포구\n",
            "광진구\n",
            "광진구\n",
            "광진구\n",
            "광진구\n",
            "광진구\n",
            "광진구\n",
            "광진구\n",
            "광진구\n",
            "광진구\n",
            "광진구\n",
            "광진구\n",
            "광진구\n",
            "광진구\n",
            "광진구\n",
            "광진구\n",
            "광진구\n",
            "중랑구\n",
            "중랑구\n",
            "중랑구\n",
            "중랑구\n",
            "중랑구\n",
            "중랑구\n",
            "중랑구\n",
            "중랑구\n",
            "중랑구\n",
            "중랑구\n",
            "중랑구\n",
            "중랑구\n",
            "중랑구\n",
            "중랑구\n",
            "중랑구\n",
            "관악구\n",
            "관악구\n",
            "관악구\n",
            "관악구\n",
            "관악구\n",
            "관악구\n",
            "관악구\n",
            "관악구\n",
            "관악구\n",
            "관악구\n",
            "관악구\n",
            "관악구\n",
            "관악구\n",
            "관악구\n",
            "관악구\n",
            "서대문구\n",
            "서대문구\n",
            "서대문구\n",
            "서대문구\n",
            "서대문구\n",
            "서대문구\n",
            "서대문구\n",
            "서대문구\n",
            "서대문구\n",
            "서대문구\n",
            "서대문구\n",
            "서대문구\n",
            "서대문구\n",
            "서대문구\n",
            "서대문구\n",
            "노원구\n",
            "노원구\n",
            "노원구\n",
            "노원구\n",
            "노원구\n",
            "노원구\n",
            "노원구\n",
            "노원구\n",
            "노원구\n",
            "노원구\n",
            "노원구\n",
            "노원구\n",
            "노원구\n",
            "노원구\n",
            "노원구\n",
            "강서구\n",
            "강서구\n",
            "강서구\n",
            "강서구\n",
            "강서구\n",
            "강서구\n",
            "강서구\n",
            "강서구\n",
            "강서구\n",
            "강서구\n",
            "강서구\n",
            "강서구\n",
            "강서구\n",
            "강서구\n",
            "강서구\n",
            "강서구\n",
            "강서구\n",
            "강서구\n",
            "강서구\n",
            "강서구\n",
            "강서구\n",
            "강서구\n",
            "강서구\n",
            "강서구\n",
            "강서구\n",
            "강서구\n",
            "강서구\n",
            "강서구\n",
            "강서구\n",
            "강서구\n",
            "강서구\n",
            "강서구\n",
            "양천구\n",
            "양천구\n",
            "양천구\n",
            "양천구\n",
            "양천구\n",
            "양천구\n",
            "양천구\n",
            "양천구\n",
            "양천구\n",
            "양천구\n",
            "양천구\n",
            "양천구\n",
            "양천구\n",
            "양천구\n",
            "양천구\n",
            "양천구\n",
            "양천구\n",
            "양천구\n",
            "양천구\n",
            "양천구\n",
            "양천구\n",
            "양천구\n",
            "양천구\n",
            "양천구\n",
            "양천구\n",
            "종로구\n",
            "종로구\n",
            "종로구\n",
            "종로구\n",
            "종로구\n",
            "종로구\n",
            "종로구\n",
            "종로구\n",
            "종로구\n",
            "서초구\n",
            "서초구\n",
            "서초구\n",
            "서초구\n",
            "서초구\n",
            "서초구\n",
            "서초구\n",
            "서초구\n",
            "서초구\n",
            "서초구\n",
            "서초구\n",
            "서초구\n",
            "서초구\n",
            "서초구\n",
            "서초구\n",
            "서초구\n",
            "서초구\n",
            "서초구\n",
            "서초구\n",
            "서초구\n",
            "서초구\n",
            "서초구\n",
            "서초구\n",
            "서초구\n",
            "서초구\n",
            "서초구\n",
            "서초구\n",
            "서초구\n",
            "서초구\n",
            "서초구\n",
            "서초구\n",
            "서초구\n",
            "서초구\n",
            "서초구\n",
            "서초구\n",
            "성동구\n",
            "성동구\n",
            "성동구\n",
            "성동구\n",
            "성동구\n",
            "성동구\n",
            "성동구\n",
            "성동구\n",
            "성동구\n",
            "성동구\n",
            "성동구\n",
            "성동구\n",
            "성동구\n",
            "성동구\n",
            "성동구\n",
            "성동구\n",
            "성동구\n",
            "중구\n",
            "중구\n",
            "중구\n",
            "중구\n",
            "중구\n",
            "중구\n",
            "중구\n",
            "중구\n",
            "중구\n",
            "중구\n",
            "중구\n",
            "영등포구\n",
            "영등포구\n",
            "영등포구\n",
            "영등포구\n",
            "영등포구\n",
            "영등포구\n",
            "영등포구\n",
            "영등포구\n",
            "영등포구\n",
            "영등포구\n",
            "영등포구\n",
            "영등포구\n",
            "영등포구\n",
            "영등포구\n",
            "영등포구\n",
            "영등포구\n",
            "영등포구\n",
            "영등포구\n",
            "영등포구\n",
            "영등포구\n",
            "영등포구\n",
            "영등포구\n",
            "영등포구\n",
            "영등포구\n",
            "영등포구\n",
            "영등포구\n",
            "영등포구\n",
            "영등포구\n",
            "강북구\n",
            "강북구\n",
            "강북구\n",
            "강북구\n",
            "강북구\n",
            "강북구\n",
            "강북구\n",
            "강북구\n",
            "강북구\n",
            "강북구\n",
            "강북구\n",
            "강북구\n",
            "강북구\n",
            "용산구\n",
            "용산구\n",
            "용산구\n",
            "용산구\n",
            "용산구\n",
            "용산구\n",
            "용산구\n",
            "용산구\n",
            "용산구\n",
            "용산구\n",
            "용산구\n",
            "용산구\n",
            "용산구\n",
            "강동구\n",
            "강동구\n",
            "강동구\n",
            "강동구\n",
            "강동구\n",
            "강동구\n",
            "강동구\n",
            "강동구\n",
            "강동구\n",
            "강동구\n",
            "강동구\n",
            "강동구\n",
            "강동구\n",
            "강동구\n",
            "강동구\n",
            "강동구\n",
            "성북구\n",
            "성북구\n",
            "성북구\n",
            "성북구\n",
            "성북구\n",
            "성북구\n",
            "성북구\n",
            "성북구\n",
            "성북구\n",
            "성북구\n",
            "성북구\n",
            "성북구\n",
            "성북구\n",
            "성북구\n",
            "성북구\n",
            "성북구\n",
            "성북구\n",
            "성북구\n",
            "성북구\n",
            "성북구\n",
            "성북구\n",
            "성북구\n",
            "성북구\n",
            "성북구\n",
            "송파구\n",
            "송파구\n",
            "송파구\n",
            "송파구\n",
            "송파구\n",
            "송파구\n",
            "송파구\n",
            "송파구\n",
            "송파구\n",
            "송파구\n",
            "송파구\n",
            "송파구\n",
            "송파구\n",
            "송파구\n",
            "송파구\n",
            "송파구\n",
            "송파구\n",
            "송파구\n",
            "송파구\n",
            "송파구\n",
            "송파구\n",
            "송파구\n",
            "송파구\n",
            "송파구\n",
            "송파구\n",
            "송파구\n",
            "송파구\n",
            "송파구\n",
            "송파구\n",
            "송파구\n",
            "송파구\n",
            "송파구\n",
            "은평구\n",
            "은평구\n",
            "은평구\n",
            "은평구\n",
            "은평구\n",
            "은평구\n",
            "은평구\n",
            "은평구\n",
            "은평구\n",
            "은평구\n",
            "은평구\n",
            "은평구\n",
            "은평구\n",
            "은평구\n",
            "은평구\n",
            "은평구\n",
            "은평구\n",
            "동대문구\n",
            "동대문구\n",
            "동대문구\n",
            "동대문구\n",
            "동대문구\n",
            "동대문구\n",
            "동대문구\n",
            "동대문구\n",
            "동대문구\n",
            "동대문구\n",
            "동대문구\n",
            "동대문구\n",
            "동대문구\n",
            "동대문구\n",
            "동대문구\n",
            "동대문구\n",
            "동대문구\n",
            "동대문구\n",
            "동대문구\n",
            "강남구\n",
            "강남구\n",
            "강남구\n",
            "강남구\n",
            "강남구\n",
            "강남구\n",
            "강남구\n",
            "강남구\n",
            "강남구\n",
            "강남구\n",
            "강남구\n",
            "강남구\n",
            "강남구\n",
            "강남구\n",
            "강남구\n",
            "강남구\n",
            "강남구\n",
            "강남구\n",
            "강남구\n",
            "강남구\n",
            "강남구\n",
            "강남구\n",
            "강남구\n",
            "강남구\n",
            "강남구\n",
            "강남구\n",
            "강남구\n",
            "강남구\n",
            "강남구\n",
            "강남구\n",
            "강남구\n",
            "강남구\n",
            "강남구\n",
            "강남구\n",
            "강남구\n",
            "강남구\n",
            "강남구\n",
            "강남구\n",
            "금천구\n",
            "금천구\n",
            "금천구\n",
            "금천구\n",
            "금천구\n",
            "금천구\n",
            "금천구\n",
            "금천구\n",
            "금천구\n",
            "금천구\n",
            "금천구\n",
            "구로구\n",
            "구로구\n",
            "구로구\n",
            "구로구\n",
            "구로구\n",
            "구로구\n",
            "구로구\n",
            "구로구\n",
            "구로구\n",
            "구로구\n",
            "구로구\n",
            "구로구\n",
            "구로구\n",
            "구로구\n",
            "구로구\n",
            "구로구\n",
            "구로구\n",
            "구로구\n",
            "구로구\n",
            "구로구\n",
            "구로구\n",
            "구로구\n",
            "동작구\n",
            "동작구\n",
            "동작구\n",
            "동작구\n",
            "동작구\n",
            "동작구\n",
            "동작구\n",
            "동작구\n",
            "동작구\n",
            "동작구\n"
          ]
        }
      ]
    },
    {
      "cell_type": "code",
      "metadata": {
        "id": "5df36cc7",
        "outputId": "4688c416-dad1-46ea-b06b-824924d1c676"
      },
      "source": [
        "stations[\"구\"] = [eachAddress.split()[1] for eachAddress in stations[\"주소\"]]\n",
        "stations"
      ],
      "id": "5df36cc7",
      "execution_count": null,
      "outputs": [
        {
          "data": {
            "text/html": [
              "<div>\n",
              "<style scoped>\n",
              "    .dataframe tbody tr th:only-of-type {\n",
              "        vertical-align: middle;\n",
              "    }\n",
              "\n",
              "    .dataframe tbody tr th {\n",
              "        vertical-align: top;\n",
              "    }\n",
              "\n",
              "    .dataframe thead th {\n",
              "        text-align: right;\n",
              "    }\n",
              "</style>\n",
              "<table border=\"1\" class=\"dataframe\">\n",
              "  <thead>\n",
              "    <tr style=\"text-align: right;\">\n",
              "      <th></th>\n",
              "      <th>상호</th>\n",
              "      <th>주소</th>\n",
              "      <th>가격</th>\n",
              "      <th>셀프</th>\n",
              "      <th>상표</th>\n",
              "      <th>구</th>\n",
              "    </tr>\n",
              "  </thead>\n",
              "  <tbody>\n",
              "    <tr>\n",
              "      <th>0</th>\n",
              "      <td>삼미북부셀프주유소</td>\n",
              "      <td>서울 도봉구 도봉로 437 (쌍문동)</td>\n",
              "      <td>1608</td>\n",
              "      <td>Y</td>\n",
              "      <td>SK에너지</td>\n",
              "      <td>도봉구</td>\n",
              "    </tr>\n",
              "    <tr>\n",
              "      <th>1</th>\n",
              "      <td>도봉제일주유소(주)송만에너지</td>\n",
              "      <td>서울 도봉구 도봉로 783 (도봉동)</td>\n",
              "      <td>1608</td>\n",
              "      <td>N</td>\n",
              "      <td>현대오일뱅크</td>\n",
              "      <td>도봉구</td>\n",
              "    </tr>\n",
              "    <tr>\n",
              "      <th>2</th>\n",
              "      <td>한이에너지(주) 쌍문주유소</td>\n",
              "      <td>서울 도봉구 도봉로 547 (쌍문동)</td>\n",
              "      <td>1609</td>\n",
              "      <td>Y</td>\n",
              "      <td>S-OIL</td>\n",
              "      <td>도봉구</td>\n",
              "    </tr>\n",
              "    <tr>\n",
              "      <th>3</th>\n",
              "      <td>한이에너지(주)KLP제1주유소</td>\n",
              "      <td>서울 도봉구 도봉로 596 (창동)</td>\n",
              "      <td>1613</td>\n",
              "      <td>N</td>\n",
              "      <td>현대오일뱅크</td>\n",
              "      <td>도봉구</td>\n",
              "    </tr>\n",
              "    <tr>\n",
              "      <th>4</th>\n",
              "      <td>구도일주유소 도봉</td>\n",
              "      <td>서울 도봉구 도봉로 706 (방학동)</td>\n",
              "      <td>1613</td>\n",
              "      <td>Y</td>\n",
              "      <td>S-OIL</td>\n",
              "      <td>도봉구</td>\n",
              "    </tr>\n",
              "    <tr>\n",
              "      <th>...</th>\n",
              "      <td>...</td>\n",
              "      <td>...</td>\n",
              "      <td>...</td>\n",
              "      <td>...</td>\n",
              "      <td>...</td>\n",
              "      <td>...</td>\n",
              "    </tr>\n",
              "    <tr>\n",
              "      <th>5</th>\n",
              "      <td>현대오일뱅크㈜직영 흑석동셀프주유소</td>\n",
              "      <td>서울 동작구 현충로 101 (흑석동)</td>\n",
              "      <td>1693</td>\n",
              "      <td>Y</td>\n",
              "      <td>현대오일뱅크</td>\n",
              "      <td>동작구</td>\n",
              "    </tr>\n",
              "    <tr>\n",
              "      <th>6</th>\n",
              "      <td>대성산업(주) 노량진주유소</td>\n",
              "      <td>서울 동작구 노량진로 172</td>\n",
              "      <td>1699</td>\n",
              "      <td>N</td>\n",
              "      <td>GS칼텍스</td>\n",
              "      <td>동작구</td>\n",
              "    </tr>\n",
              "    <tr>\n",
              "      <th>7</th>\n",
              "      <td>(주)성림에너지 남성주유소</td>\n",
              "      <td>서울 동작구 동작대로 135 (사당동)</td>\n",
              "      <td>1699</td>\n",
              "      <td>Y</td>\n",
              "      <td>GS칼텍스</td>\n",
              "      <td>동작구</td>\n",
              "    </tr>\n",
              "    <tr>\n",
              "      <th>8</th>\n",
              "      <td>현대오일뱅크(주)직영 동작주유소</td>\n",
              "      <td>서울 동작구 상도로 403 (상도동)</td>\n",
              "      <td>1714</td>\n",
              "      <td>N</td>\n",
              "      <td>현대오일뱅크</td>\n",
              "      <td>동작구</td>\n",
              "    </tr>\n",
              "    <tr>\n",
              "      <th>9</th>\n",
              "      <td>살피재주유소</td>\n",
              "      <td>서울 동작구 상도로 334</td>\n",
              "      <td>1785</td>\n",
              "      <td>N</td>\n",
              "      <td>SK에너지</td>\n",
              "      <td>동작구</td>\n",
              "    </tr>\n",
              "  </tbody>\n",
              "</table>\n",
              "<p>478 rows × 6 columns</p>\n",
              "</div>"
            ],
            "text/plain": [
              "                    상호                     주소    가격 셀프      상표    구\n",
              "0            삼미북부셀프주유소   서울 도봉구 도봉로 437 (쌍문동)  1608  Y   SK에너지  도봉구\n",
              "1      도봉제일주유소(주)송만에너지   서울 도봉구 도봉로 783 (도봉동)  1608  N  현대오일뱅크  도봉구\n",
              "2       한이에너지(주) 쌍문주유소   서울 도봉구 도봉로 547 (쌍문동)  1609  Y   S-OIL  도봉구\n",
              "3     한이에너지(주)KLP제1주유소    서울 도봉구 도봉로 596 (창동)  1613  N  현대오일뱅크  도봉구\n",
              "4            구도일주유소 도봉   서울 도봉구 도봉로 706 (방학동)  1613  Y   S-OIL  도봉구\n",
              "..                 ...                    ...   ... ..     ...  ...\n",
              "5   현대오일뱅크㈜직영 흑석동셀프주유소   서울 동작구 현충로 101 (흑석동)  1693  Y  현대오일뱅크  동작구\n",
              "6       대성산업(주) 노량진주유소        서울 동작구 노량진로 172  1699  N   GS칼텍스  동작구\n",
              "7       (주)성림에너지 남성주유소  서울 동작구 동작대로 135 (사당동)  1699  Y   GS칼텍스  동작구\n",
              "8    현대오일뱅크(주)직영 동작주유소   서울 동작구 상도로 403 (상도동)  1714  N  현대오일뱅크  동작구\n",
              "9               살피재주유소         서울 동작구 상도로 334  1785  N   SK에너지  동작구\n",
              "\n",
              "[478 rows x 6 columns]"
            ]
          },
          "execution_count": 85,
          "metadata": {},
          "output_type": "execute_result"
        }
      ]
    },
    {
      "cell_type": "code",
      "metadata": {
        "id": "e081d7fa",
        "outputId": "f580727d-95b2-454a-956e-4f8d5267bd32"
      },
      "source": [
        "stations[\"구\"].unique(), len(stations[\"구\"].unique())"
      ],
      "id": "e081d7fa",
      "execution_count": null,
      "outputs": [
        {
          "data": {
            "text/plain": [
              "(array(['도봉구', '마포구', '광진구', '중랑구', '관악구', '서대문구', '노원구', '강서구', '양천구',\n",
              "        '종로구', '서초구', '성동구', '중구', '영등포구', '강북구', '용산구', '강동구', '성북구',\n",
              "        '송파구', '은평구', '동대문구', '강남구', '금천구', '구로구', '동작구'], dtype=object),\n",
              " 25)"
            ]
          },
          "execution_count": 87,
          "metadata": {},
          "output_type": "execute_result"
        }
      ]
    },
    {
      "cell_type": "code",
      "metadata": {
        "id": "876f152b"
      },
      "source": [
        "# stations[stations[\"구\"] == \"서울특별시\"]\n",
        "# stations.loc[stations[\"구\"] == \"서울특별시\", \"구\"] = \"성동구\"\n",
        "# stations[stations[\"구\"] == \"특별시\"]\n",
        "# stations.loc[stations[\"구\"] == \"특별시\", \"구\"] = \"도봉구\""
      ],
      "id": "876f152b",
      "execution_count": null,
      "outputs": []
    },
    {
      "cell_type": "code",
      "metadata": {
        "id": "f63b6681",
        "outputId": "ec9ceb8c-73c9-4386-d3c3-1a6d756af94b"
      },
      "source": [
        "# 가격 데이터형 변환 object => float \n",
        "\n",
        "stations[\"가격\"] = stations[\"가격\"].astype(\"float\")"
      ],
      "id": "f63b6681",
      "execution_count": null,
      "outputs": [
        {
          "ename": "ValueError",
          "evalue": "could not convert string to float: '-'",
          "output_type": "error",
          "traceback": [
            "\u001b[0;31m---------------------------------------------------------------------------\u001b[0m",
            "\u001b[0;31mValueError\u001b[0m                                Traceback (most recent call last)",
            "\u001b[0;32m/var/folders/8c/jb57288j6xlb3s_tkmys1kj00000gn/T/ipykernel_7183/2685197829.py\u001b[0m in \u001b[0;36m<module>\u001b[0;34m\u001b[0m\n\u001b[1;32m      1\u001b[0m \u001b[0;31m# 가격 데이터형 변환 object => float\u001b[0m\u001b[0;34m\u001b[0m\u001b[0;34m\u001b[0m\u001b[0;34m\u001b[0m\u001b[0m\n\u001b[1;32m      2\u001b[0m \u001b[0;34m\u001b[0m\u001b[0m\n\u001b[0;32m----> 3\u001b[0;31m \u001b[0mstations\u001b[0m\u001b[0;34m[\u001b[0m\u001b[0;34m\"가격\"\u001b[0m\u001b[0;34m]\u001b[0m \u001b[0;34m=\u001b[0m \u001b[0mstations\u001b[0m\u001b[0;34m[\u001b[0m\u001b[0;34m\"가격\"\u001b[0m\u001b[0;34m]\u001b[0m\u001b[0;34m.\u001b[0m\u001b[0mastype\u001b[0m\u001b[0;34m(\u001b[0m\u001b[0;34m\"float\"\u001b[0m\u001b[0;34m)\u001b[0m\u001b[0;34m\u001b[0m\u001b[0;34m\u001b[0m\u001b[0m\n\u001b[0m",
            "\u001b[0;32m/opt/homebrew/Caskroom/miniforge/base/envs/ds_study/lib/python3.8/site-packages/pandas/core/generic.py\u001b[0m in \u001b[0;36mastype\u001b[0;34m(self, dtype, copy, errors)\u001b[0m\n\u001b[1;32m   5804\u001b[0m         \u001b[0;32melse\u001b[0m\u001b[0;34m:\u001b[0m\u001b[0;34m\u001b[0m\u001b[0;34m\u001b[0m\u001b[0m\n\u001b[1;32m   5805\u001b[0m             \u001b[0;31m# else, only a single dtype is given\u001b[0m\u001b[0;34m\u001b[0m\u001b[0;34m\u001b[0m\u001b[0;34m\u001b[0m\u001b[0m\n\u001b[0;32m-> 5806\u001b[0;31m             \u001b[0mnew_data\u001b[0m \u001b[0;34m=\u001b[0m \u001b[0mself\u001b[0m\u001b[0;34m.\u001b[0m\u001b[0m_mgr\u001b[0m\u001b[0;34m.\u001b[0m\u001b[0mastype\u001b[0m\u001b[0;34m(\u001b[0m\u001b[0mdtype\u001b[0m\u001b[0;34m=\u001b[0m\u001b[0mdtype\u001b[0m\u001b[0;34m,\u001b[0m \u001b[0mcopy\u001b[0m\u001b[0;34m=\u001b[0m\u001b[0mcopy\u001b[0m\u001b[0;34m,\u001b[0m \u001b[0merrors\u001b[0m\u001b[0;34m=\u001b[0m\u001b[0merrors\u001b[0m\u001b[0;34m)\u001b[0m\u001b[0;34m\u001b[0m\u001b[0;34m\u001b[0m\u001b[0m\n\u001b[0m\u001b[1;32m   5807\u001b[0m             \u001b[0;32mreturn\u001b[0m \u001b[0mself\u001b[0m\u001b[0;34m.\u001b[0m\u001b[0m_constructor\u001b[0m\u001b[0;34m(\u001b[0m\u001b[0mnew_data\u001b[0m\u001b[0;34m)\u001b[0m\u001b[0;34m.\u001b[0m\u001b[0m__finalize__\u001b[0m\u001b[0;34m(\u001b[0m\u001b[0mself\u001b[0m\u001b[0;34m,\u001b[0m \u001b[0mmethod\u001b[0m\u001b[0;34m=\u001b[0m\u001b[0;34m\"astype\"\u001b[0m\u001b[0;34m)\u001b[0m\u001b[0;34m\u001b[0m\u001b[0;34m\u001b[0m\u001b[0m\n\u001b[1;32m   5808\u001b[0m \u001b[0;34m\u001b[0m\u001b[0m\n",
            "\u001b[0;32m/opt/homebrew/Caskroom/miniforge/base/envs/ds_study/lib/python3.8/site-packages/pandas/core/internals/managers.py\u001b[0m in \u001b[0;36mastype\u001b[0;34m(self, dtype, copy, errors)\u001b[0m\n\u001b[1;32m    412\u001b[0m \u001b[0;34m\u001b[0m\u001b[0m\n\u001b[1;32m    413\u001b[0m     \u001b[0;32mdef\u001b[0m \u001b[0mastype\u001b[0m\u001b[0;34m(\u001b[0m\u001b[0mself\u001b[0m\u001b[0;34m:\u001b[0m \u001b[0mT\u001b[0m\u001b[0;34m,\u001b[0m \u001b[0mdtype\u001b[0m\u001b[0;34m,\u001b[0m \u001b[0mcopy\u001b[0m\u001b[0;34m:\u001b[0m \u001b[0mbool\u001b[0m \u001b[0;34m=\u001b[0m \u001b[0;32mFalse\u001b[0m\u001b[0;34m,\u001b[0m \u001b[0merrors\u001b[0m\u001b[0;34m:\u001b[0m \u001b[0mstr\u001b[0m \u001b[0;34m=\u001b[0m \u001b[0;34m\"raise\"\u001b[0m\u001b[0;34m)\u001b[0m \u001b[0;34m->\u001b[0m \u001b[0mT\u001b[0m\u001b[0;34m:\u001b[0m\u001b[0;34m\u001b[0m\u001b[0;34m\u001b[0m\u001b[0m\n\u001b[0;32m--> 414\u001b[0;31m         \u001b[0;32mreturn\u001b[0m \u001b[0mself\u001b[0m\u001b[0;34m.\u001b[0m\u001b[0mapply\u001b[0m\u001b[0;34m(\u001b[0m\u001b[0;34m\"astype\"\u001b[0m\u001b[0;34m,\u001b[0m \u001b[0mdtype\u001b[0m\u001b[0;34m=\u001b[0m\u001b[0mdtype\u001b[0m\u001b[0;34m,\u001b[0m \u001b[0mcopy\u001b[0m\u001b[0;34m=\u001b[0m\u001b[0mcopy\u001b[0m\u001b[0;34m,\u001b[0m \u001b[0merrors\u001b[0m\u001b[0;34m=\u001b[0m\u001b[0merrors\u001b[0m\u001b[0;34m)\u001b[0m\u001b[0;34m\u001b[0m\u001b[0;34m\u001b[0m\u001b[0m\n\u001b[0m\u001b[1;32m    415\u001b[0m \u001b[0;34m\u001b[0m\u001b[0m\n\u001b[1;32m    416\u001b[0m     def convert(\n",
            "\u001b[0;32m/opt/homebrew/Caskroom/miniforge/base/envs/ds_study/lib/python3.8/site-packages/pandas/core/internals/managers.py\u001b[0m in \u001b[0;36mapply\u001b[0;34m(self, f, align_keys, ignore_failures, **kwargs)\u001b[0m\n\u001b[1;32m    325\u001b[0m                     \u001b[0mapplied\u001b[0m \u001b[0;34m=\u001b[0m \u001b[0mb\u001b[0m\u001b[0;34m.\u001b[0m\u001b[0mapply\u001b[0m\u001b[0;34m(\u001b[0m\u001b[0mf\u001b[0m\u001b[0;34m,\u001b[0m \u001b[0;34m**\u001b[0m\u001b[0mkwargs\u001b[0m\u001b[0;34m)\u001b[0m\u001b[0;34m\u001b[0m\u001b[0;34m\u001b[0m\u001b[0m\n\u001b[1;32m    326\u001b[0m                 \u001b[0;32melse\u001b[0m\u001b[0;34m:\u001b[0m\u001b[0;34m\u001b[0m\u001b[0;34m\u001b[0m\u001b[0m\n\u001b[0;32m--> 327\u001b[0;31m                     \u001b[0mapplied\u001b[0m \u001b[0;34m=\u001b[0m \u001b[0mgetattr\u001b[0m\u001b[0;34m(\u001b[0m\u001b[0mb\u001b[0m\u001b[0;34m,\u001b[0m \u001b[0mf\u001b[0m\u001b[0;34m)\u001b[0m\u001b[0;34m(\u001b[0m\u001b[0;34m**\u001b[0m\u001b[0mkwargs\u001b[0m\u001b[0;34m)\u001b[0m\u001b[0;34m\u001b[0m\u001b[0;34m\u001b[0m\u001b[0m\n\u001b[0m\u001b[1;32m    328\u001b[0m             \u001b[0;32mexcept\u001b[0m \u001b[0;34m(\u001b[0m\u001b[0mTypeError\u001b[0m\u001b[0;34m,\u001b[0m \u001b[0mNotImplementedError\u001b[0m\u001b[0;34m)\u001b[0m\u001b[0;34m:\u001b[0m\u001b[0;34m\u001b[0m\u001b[0;34m\u001b[0m\u001b[0m\n\u001b[1;32m    329\u001b[0m                 \u001b[0;32mif\u001b[0m \u001b[0;32mnot\u001b[0m \u001b[0mignore_failures\u001b[0m\u001b[0;34m:\u001b[0m\u001b[0;34m\u001b[0m\u001b[0;34m\u001b[0m\u001b[0m\n",
            "\u001b[0;32m/opt/homebrew/Caskroom/miniforge/base/envs/ds_study/lib/python3.8/site-packages/pandas/core/internals/blocks.py\u001b[0m in \u001b[0;36mastype\u001b[0;34m(self, dtype, copy, errors)\u001b[0m\n\u001b[1;32m    590\u001b[0m         \u001b[0mvalues\u001b[0m \u001b[0;34m=\u001b[0m \u001b[0mself\u001b[0m\u001b[0;34m.\u001b[0m\u001b[0mvalues\u001b[0m\u001b[0;34m\u001b[0m\u001b[0;34m\u001b[0m\u001b[0m\n\u001b[1;32m    591\u001b[0m \u001b[0;34m\u001b[0m\u001b[0m\n\u001b[0;32m--> 592\u001b[0;31m         \u001b[0mnew_values\u001b[0m \u001b[0;34m=\u001b[0m \u001b[0mastype_array_safe\u001b[0m\u001b[0;34m(\u001b[0m\u001b[0mvalues\u001b[0m\u001b[0;34m,\u001b[0m \u001b[0mdtype\u001b[0m\u001b[0;34m,\u001b[0m \u001b[0mcopy\u001b[0m\u001b[0;34m=\u001b[0m\u001b[0mcopy\u001b[0m\u001b[0;34m,\u001b[0m \u001b[0merrors\u001b[0m\u001b[0;34m=\u001b[0m\u001b[0merrors\u001b[0m\u001b[0;34m)\u001b[0m\u001b[0;34m\u001b[0m\u001b[0;34m\u001b[0m\u001b[0m\n\u001b[0m\u001b[1;32m    593\u001b[0m \u001b[0;34m\u001b[0m\u001b[0m\n\u001b[1;32m    594\u001b[0m         \u001b[0mnew_values\u001b[0m \u001b[0;34m=\u001b[0m \u001b[0mmaybe_coerce_values\u001b[0m\u001b[0;34m(\u001b[0m\u001b[0mnew_values\u001b[0m\u001b[0;34m)\u001b[0m\u001b[0;34m\u001b[0m\u001b[0;34m\u001b[0m\u001b[0m\n",
            "\u001b[0;32m/opt/homebrew/Caskroom/miniforge/base/envs/ds_study/lib/python3.8/site-packages/pandas/core/dtypes/cast.py\u001b[0m in \u001b[0;36mastype_array_safe\u001b[0;34m(values, dtype, copy, errors)\u001b[0m\n\u001b[1;32m   1307\u001b[0m \u001b[0;34m\u001b[0m\u001b[0m\n\u001b[1;32m   1308\u001b[0m     \u001b[0;32mtry\u001b[0m\u001b[0;34m:\u001b[0m\u001b[0;34m\u001b[0m\u001b[0;34m\u001b[0m\u001b[0m\n\u001b[0;32m-> 1309\u001b[0;31m         \u001b[0mnew_values\u001b[0m \u001b[0;34m=\u001b[0m \u001b[0mastype_array\u001b[0m\u001b[0;34m(\u001b[0m\u001b[0mvalues\u001b[0m\u001b[0;34m,\u001b[0m \u001b[0mdtype\u001b[0m\u001b[0;34m,\u001b[0m \u001b[0mcopy\u001b[0m\u001b[0;34m=\u001b[0m\u001b[0mcopy\u001b[0m\u001b[0;34m)\u001b[0m\u001b[0;34m\u001b[0m\u001b[0;34m\u001b[0m\u001b[0m\n\u001b[0m\u001b[1;32m   1310\u001b[0m     \u001b[0;32mexcept\u001b[0m \u001b[0;34m(\u001b[0m\u001b[0mValueError\u001b[0m\u001b[0;34m,\u001b[0m \u001b[0mTypeError\u001b[0m\u001b[0;34m)\u001b[0m\u001b[0;34m:\u001b[0m\u001b[0;34m\u001b[0m\u001b[0;34m\u001b[0m\u001b[0m\n\u001b[1;32m   1311\u001b[0m         \u001b[0;31m# e.g. astype_nansafe can fail on object-dtype of strings\u001b[0m\u001b[0;34m\u001b[0m\u001b[0;34m\u001b[0m\u001b[0;34m\u001b[0m\u001b[0m\n",
            "\u001b[0;32m/opt/homebrew/Caskroom/miniforge/base/envs/ds_study/lib/python3.8/site-packages/pandas/core/dtypes/cast.py\u001b[0m in \u001b[0;36mastype_array\u001b[0;34m(values, dtype, copy)\u001b[0m\n\u001b[1;32m   1255\u001b[0m \u001b[0;34m\u001b[0m\u001b[0m\n\u001b[1;32m   1256\u001b[0m     \u001b[0;32melse\u001b[0m\u001b[0;34m:\u001b[0m\u001b[0;34m\u001b[0m\u001b[0;34m\u001b[0m\u001b[0m\n\u001b[0;32m-> 1257\u001b[0;31m         \u001b[0mvalues\u001b[0m \u001b[0;34m=\u001b[0m \u001b[0mastype_nansafe\u001b[0m\u001b[0;34m(\u001b[0m\u001b[0mvalues\u001b[0m\u001b[0;34m,\u001b[0m \u001b[0mdtype\u001b[0m\u001b[0;34m,\u001b[0m \u001b[0mcopy\u001b[0m\u001b[0;34m=\u001b[0m\u001b[0mcopy\u001b[0m\u001b[0;34m)\u001b[0m\u001b[0;34m\u001b[0m\u001b[0;34m\u001b[0m\u001b[0m\n\u001b[0m\u001b[1;32m   1258\u001b[0m \u001b[0;34m\u001b[0m\u001b[0m\n\u001b[1;32m   1259\u001b[0m     \u001b[0;31m# in pandas we don't store numpy str dtypes, so convert to object\u001b[0m\u001b[0;34m\u001b[0m\u001b[0;34m\u001b[0m\u001b[0;34m\u001b[0m\u001b[0m\n",
            "\u001b[0;32m/opt/homebrew/Caskroom/miniforge/base/envs/ds_study/lib/python3.8/site-packages/pandas/core/dtypes/cast.py\u001b[0m in \u001b[0;36mastype_nansafe\u001b[0;34m(arr, dtype, copy, skipna)\u001b[0m\n\u001b[1;32m   1199\u001b[0m     \u001b[0;32mif\u001b[0m \u001b[0mcopy\u001b[0m \u001b[0;32mor\u001b[0m \u001b[0mis_object_dtype\u001b[0m\u001b[0;34m(\u001b[0m\u001b[0marr\u001b[0m\u001b[0;34m.\u001b[0m\u001b[0mdtype\u001b[0m\u001b[0;34m)\u001b[0m \u001b[0;32mor\u001b[0m \u001b[0mis_object_dtype\u001b[0m\u001b[0;34m(\u001b[0m\u001b[0mdtype\u001b[0m\u001b[0;34m)\u001b[0m\u001b[0;34m:\u001b[0m\u001b[0;34m\u001b[0m\u001b[0;34m\u001b[0m\u001b[0m\n\u001b[1;32m   1200\u001b[0m         \u001b[0;31m# Explicit copy, or required since NumPy can't view from / to object.\u001b[0m\u001b[0;34m\u001b[0m\u001b[0;34m\u001b[0m\u001b[0;34m\u001b[0m\u001b[0m\n\u001b[0;32m-> 1201\u001b[0;31m         \u001b[0;32mreturn\u001b[0m \u001b[0marr\u001b[0m\u001b[0;34m.\u001b[0m\u001b[0mastype\u001b[0m\u001b[0;34m(\u001b[0m\u001b[0mdtype\u001b[0m\u001b[0;34m,\u001b[0m \u001b[0mcopy\u001b[0m\u001b[0;34m=\u001b[0m\u001b[0;32mTrue\u001b[0m\u001b[0;34m)\u001b[0m\u001b[0;34m\u001b[0m\u001b[0;34m\u001b[0m\u001b[0m\n\u001b[0m\u001b[1;32m   1202\u001b[0m \u001b[0;34m\u001b[0m\u001b[0m\n\u001b[1;32m   1203\u001b[0m     \u001b[0;32mreturn\u001b[0m \u001b[0marr\u001b[0m\u001b[0;34m.\u001b[0m\u001b[0mastype\u001b[0m\u001b[0;34m(\u001b[0m\u001b[0mdtype\u001b[0m\u001b[0;34m,\u001b[0m \u001b[0mcopy\u001b[0m\u001b[0;34m=\u001b[0m\u001b[0mcopy\u001b[0m\u001b[0;34m)\u001b[0m\u001b[0;34m\u001b[0m\u001b[0;34m\u001b[0m\u001b[0m\n",
            "\u001b[0;31mValueError\u001b[0m: could not convert string to float: '-'"
          ]
        }
      ]
    },
    {
      "cell_type": "code",
      "metadata": {
        "id": "b8b9a959",
        "outputId": "29fed619-4990-4489-e732-452d2ff44a8f"
      },
      "source": [
        "# 가격 정보 없는 주유소 \n",
        "stations[stations[\"가격\"] == \"-\"]"
      ],
      "id": "b8b9a959",
      "execution_count": null,
      "outputs": [
        {
          "data": {
            "text/html": [
              "<div>\n",
              "<style scoped>\n",
              "    .dataframe tbody tr th:only-of-type {\n",
              "        vertical-align: middle;\n",
              "    }\n",
              "\n",
              "    .dataframe tbody tr th {\n",
              "        vertical-align: top;\n",
              "    }\n",
              "\n",
              "    .dataframe thead th {\n",
              "        text-align: right;\n",
              "    }\n",
              "</style>\n",
              "<table border=\"1\" class=\"dataframe\">\n",
              "  <thead>\n",
              "    <tr style=\"text-align: right;\">\n",
              "      <th></th>\n",
              "      <th>상호</th>\n",
              "      <th>주소</th>\n",
              "      <th>가격</th>\n",
              "      <th>셀프</th>\n",
              "      <th>상표</th>\n",
              "      <th>구</th>\n",
              "    </tr>\n",
              "  </thead>\n",
              "  <tbody>\n",
              "    <tr>\n",
              "      <th>17</th>\n",
              "      <td>(주)자연에너지 햇살주유소</td>\n",
              "      <td>서울 도봉구 방학로 142 (방학동)</td>\n",
              "      <td>-</td>\n",
              "      <td>Y</td>\n",
              "      <td>현대오일뱅크</td>\n",
              "      <td>도봉구</td>\n",
              "    </tr>\n",
              "    <tr>\n",
              "      <th>15</th>\n",
              "      <td>구의스타주유소</td>\n",
              "      <td>서울 광진구 자양로 103</td>\n",
              "      <td>-</td>\n",
              "      <td>N</td>\n",
              "      <td>GS칼텍스</td>\n",
              "      <td>광진구</td>\n",
              "    </tr>\n",
              "    <tr>\n",
              "      <th>14</th>\n",
              "      <td>지에스칼텍스㈜ 소망주유소</td>\n",
              "      <td>서울 중랑구 망우로 475</td>\n",
              "      <td>-</td>\n",
              "      <td>Y</td>\n",
              "      <td>GS칼텍스</td>\n",
              "      <td>중랑구</td>\n",
              "    </tr>\n",
              "    <tr>\n",
              "      <th>14</th>\n",
              "      <td>양지진흥개발(주)상계주유소</td>\n",
              "      <td>서울 노원구 노해로 527 (상계동)</td>\n",
              "      <td>-</td>\n",
              "      <td>N</td>\n",
              "      <td>SK에너지</td>\n",
              "      <td>노원구</td>\n",
              "    </tr>\n",
              "    <tr>\n",
              "      <th>10</th>\n",
              "      <td>지에스칼텍스(주)직영 역전점</td>\n",
              "      <td>서울 중구 퇴계로 15</td>\n",
              "      <td>-</td>\n",
              "      <td>N</td>\n",
              "      <td>GS칼텍스</td>\n",
              "      <td>중구</td>\n",
              "    </tr>\n",
              "    <tr>\n",
              "      <th>27</th>\n",
              "      <td>지에스칼텍스㈜ 화일주유소</td>\n",
              "      <td>서울 영등포구 도림로 415</td>\n",
              "      <td>-</td>\n",
              "      <td>Y</td>\n",
              "      <td>GS칼텍스</td>\n",
              "      <td>영등포구</td>\n",
              "    </tr>\n",
              "    <tr>\n",
              "      <th>31</th>\n",
              "      <td>현대오일뱅크㈜직영 올림픽셀프주유소</td>\n",
              "      <td>서울 송파구 위례성대로 188 (오금동)</td>\n",
              "      <td>-</td>\n",
              "      <td>Y</td>\n",
              "      <td>현대오일뱅크</td>\n",
              "      <td>송파구</td>\n",
              "    </tr>\n",
              "    <tr>\n",
              "      <th>16</th>\n",
              "      <td>삼융주유소</td>\n",
              "      <td>서울 은평구 수색로 299 (수색동)</td>\n",
              "      <td>-</td>\n",
              "      <td>N</td>\n",
              "      <td>SK에너지</td>\n",
              "      <td>은평구</td>\n",
              "    </tr>\n",
              "    <tr>\n",
              "      <th>36</th>\n",
              "      <td>동우주유소</td>\n",
              "      <td>서울특별시 강남구  봉은사로 311 (논현동)</td>\n",
              "      <td>-</td>\n",
              "      <td>N</td>\n",
              "      <td>SK에너지</td>\n",
              "      <td>강남구</td>\n",
              "    </tr>\n",
              "    <tr>\n",
              "      <th>37</th>\n",
              "      <td>삼성주유소</td>\n",
              "      <td>서울 강남구 삼성로 521 (삼성동)</td>\n",
              "      <td>-</td>\n",
              "      <td>N</td>\n",
              "      <td>SK에너지</td>\n",
              "      <td>강남구</td>\n",
              "    </tr>\n",
              "  </tbody>\n",
              "</table>\n",
              "</div>"
            ],
            "text/plain": [
              "                    상호                         주소 가격 셀프      상표     구\n",
              "17      (주)자연에너지 햇살주유소       서울 도봉구 방학로 142 (방학동)  -  Y  현대오일뱅크   도봉구\n",
              "15             구의스타주유소             서울 광진구 자양로 103  -  N   GS칼텍스   광진구\n",
              "14       지에스칼텍스㈜ 소망주유소             서울 중랑구 망우로 475  -  Y   GS칼텍스   중랑구\n",
              "14      양지진흥개발(주)상계주유소       서울 노원구 노해로 527 (상계동)  -  N   SK에너지   노원구\n",
              "10     지에스칼텍스(주)직영 역전점               서울 중구 퇴계로 15  -  N   GS칼텍스    중구\n",
              "27       지에스칼텍스㈜ 화일주유소            서울 영등포구 도림로 415  -  Y   GS칼텍스  영등포구\n",
              "31  현대오일뱅크㈜직영 올림픽셀프주유소     서울 송파구 위례성대로 188 (오금동)  -  Y  현대오일뱅크   송파구\n",
              "16               삼융주유소       서울 은평구 수색로 299 (수색동)  -  N   SK에너지   은평구\n",
              "36               동우주유소  서울특별시 강남구  봉은사로 311 (논현동)  -  N   SK에너지   강남구\n",
              "37               삼성주유소       서울 강남구 삼성로 521 (삼성동)  -  N   SK에너지   강남구"
            ]
          },
          "execution_count": 92,
          "metadata": {},
          "output_type": "execute_result"
        }
      ]
    },
    {
      "cell_type": "code",
      "metadata": {
        "id": "c5d5b45f",
        "outputId": "634980a4-7d21-4b1a-9b4c-61c872620e5a"
      },
      "source": [
        "# 가격 정보가 있는 주유소만 사용 \n",
        "stations = stations[stations[\"가격\"] != \"-\"]\n",
        "stations.tail()"
      ],
      "id": "c5d5b45f",
      "execution_count": null,
      "outputs": [
        {
          "data": {
            "text/html": [
              "<div>\n",
              "<style scoped>\n",
              "    .dataframe tbody tr th:only-of-type {\n",
              "        vertical-align: middle;\n",
              "    }\n",
              "\n",
              "    .dataframe tbody tr th {\n",
              "        vertical-align: top;\n",
              "    }\n",
              "\n",
              "    .dataframe thead th {\n",
              "        text-align: right;\n",
              "    }\n",
              "</style>\n",
              "<table border=\"1\" class=\"dataframe\">\n",
              "  <thead>\n",
              "    <tr style=\"text-align: right;\">\n",
              "      <th></th>\n",
              "      <th>상호</th>\n",
              "      <th>주소</th>\n",
              "      <th>가격</th>\n",
              "      <th>셀프</th>\n",
              "      <th>상표</th>\n",
              "      <th>구</th>\n",
              "    </tr>\n",
              "  </thead>\n",
              "  <tbody>\n",
              "    <tr>\n",
              "      <th>5</th>\n",
              "      <td>현대오일뱅크㈜직영 흑석동셀프주유소</td>\n",
              "      <td>서울 동작구 현충로 101 (흑석동)</td>\n",
              "      <td>1693</td>\n",
              "      <td>Y</td>\n",
              "      <td>현대오일뱅크</td>\n",
              "      <td>동작구</td>\n",
              "    </tr>\n",
              "    <tr>\n",
              "      <th>6</th>\n",
              "      <td>대성산업(주) 노량진주유소</td>\n",
              "      <td>서울 동작구 노량진로 172</td>\n",
              "      <td>1699</td>\n",
              "      <td>N</td>\n",
              "      <td>GS칼텍스</td>\n",
              "      <td>동작구</td>\n",
              "    </tr>\n",
              "    <tr>\n",
              "      <th>7</th>\n",
              "      <td>(주)성림에너지 남성주유소</td>\n",
              "      <td>서울 동작구 동작대로 135 (사당동)</td>\n",
              "      <td>1699</td>\n",
              "      <td>Y</td>\n",
              "      <td>GS칼텍스</td>\n",
              "      <td>동작구</td>\n",
              "    </tr>\n",
              "    <tr>\n",
              "      <th>8</th>\n",
              "      <td>현대오일뱅크(주)직영 동작주유소</td>\n",
              "      <td>서울 동작구 상도로 403 (상도동)</td>\n",
              "      <td>1714</td>\n",
              "      <td>N</td>\n",
              "      <td>현대오일뱅크</td>\n",
              "      <td>동작구</td>\n",
              "    </tr>\n",
              "    <tr>\n",
              "      <th>9</th>\n",
              "      <td>살피재주유소</td>\n",
              "      <td>서울 동작구 상도로 334</td>\n",
              "      <td>1785</td>\n",
              "      <td>N</td>\n",
              "      <td>SK에너지</td>\n",
              "      <td>동작구</td>\n",
              "    </tr>\n",
              "  </tbody>\n",
              "</table>\n",
              "</div>"
            ],
            "text/plain": [
              "                   상호                     주소    가격 셀프      상표    구\n",
              "5  현대오일뱅크㈜직영 흑석동셀프주유소   서울 동작구 현충로 101 (흑석동)  1693  Y  현대오일뱅크  동작구\n",
              "6      대성산업(주) 노량진주유소        서울 동작구 노량진로 172  1699  N   GS칼텍스  동작구\n",
              "7      (주)성림에너지 남성주유소  서울 동작구 동작대로 135 (사당동)  1699  Y   GS칼텍스  동작구\n",
              "8   현대오일뱅크(주)직영 동작주유소   서울 동작구 상도로 403 (상도동)  1714  N  현대오일뱅크  동작구\n",
              "9              살피재주유소         서울 동작구 상도로 334  1785  N   SK에너지  동작구"
            ]
          },
          "execution_count": 93,
          "metadata": {},
          "output_type": "execute_result"
        }
      ]
    },
    {
      "cell_type": "code",
      "metadata": {
        "id": "def2d584",
        "outputId": "6c029f92-01c1-48e4-ceae-2c3ec1c80855"
      },
      "source": [
        "stations[\"가격\"] = stations[\"가격\"].astype(\"float\")"
      ],
      "id": "def2d584",
      "execution_count": null,
      "outputs": [
        {
          "name": "stderr",
          "output_type": "stream",
          "text": [
            "/var/folders/8c/jb57288j6xlb3s_tkmys1kj00000gn/T/ipykernel_7183/3747494062.py:1: SettingWithCopyWarning: \n",
            "A value is trying to be set on a copy of a slice from a DataFrame.\n",
            "Try using .loc[row_indexer,col_indexer] = value instead\n",
            "\n",
            "See the caveats in the documentation: https://pandas.pydata.org/pandas-docs/stable/user_guide/indexing.html#returning-a-view-versus-a-copy\n",
            "  stations[\"가격\"] = stations[\"가격\"].astype(\"float\")\n"
          ]
        }
      ]
    },
    {
      "cell_type": "code",
      "metadata": {
        "id": "ac238436",
        "outputId": "56616f6e-13aa-4172-e600-be0dfd0b20fb"
      },
      "source": [
        "stations.info()"
      ],
      "id": "ac238436",
      "execution_count": null,
      "outputs": [
        {
          "name": "stdout",
          "output_type": "stream",
          "text": [
            "<class 'pandas.core.frame.DataFrame'>\n",
            "Int64Index: 468 entries, 0 to 9\n",
            "Data columns (total 6 columns):\n",
            " #   Column  Non-Null Count  Dtype  \n",
            "---  ------  --------------  -----  \n",
            " 0   상호      468 non-null    object \n",
            " 1   주소      468 non-null    object \n",
            " 2   가격      468 non-null    float64\n",
            " 3   셀프      468 non-null    object \n",
            " 4   상표      468 non-null    object \n",
            " 5   구       468 non-null    object \n",
            "dtypes: float64(1), object(5)\n",
            "memory usage: 25.6+ KB\n"
          ]
        }
      ]
    },
    {
      "cell_type": "code",
      "metadata": {
        "id": "a919074b",
        "outputId": "9ea101e1-293e-41a7-d6bf-8f4cabecbe15"
      },
      "source": [
        "stations"
      ],
      "id": "a919074b",
      "execution_count": null,
      "outputs": [
        {
          "data": {
            "text/html": [
              "<div>\n",
              "<style scoped>\n",
              "    .dataframe tbody tr th:only-of-type {\n",
              "        vertical-align: middle;\n",
              "    }\n",
              "\n",
              "    .dataframe tbody tr th {\n",
              "        vertical-align: top;\n",
              "    }\n",
              "\n",
              "    .dataframe thead th {\n",
              "        text-align: right;\n",
              "    }\n",
              "</style>\n",
              "<table border=\"1\" class=\"dataframe\">\n",
              "  <thead>\n",
              "    <tr style=\"text-align: right;\">\n",
              "      <th></th>\n",
              "      <th>상호</th>\n",
              "      <th>주소</th>\n",
              "      <th>가격</th>\n",
              "      <th>셀프</th>\n",
              "      <th>상표</th>\n",
              "      <th>구</th>\n",
              "    </tr>\n",
              "  </thead>\n",
              "  <tbody>\n",
              "    <tr>\n",
              "      <th>0</th>\n",
              "      <td>삼미북부셀프주유소</td>\n",
              "      <td>서울 도봉구 도봉로 437 (쌍문동)</td>\n",
              "      <td>1608.0</td>\n",
              "      <td>Y</td>\n",
              "      <td>SK에너지</td>\n",
              "      <td>도봉구</td>\n",
              "    </tr>\n",
              "    <tr>\n",
              "      <th>1</th>\n",
              "      <td>도봉제일주유소(주)송만에너지</td>\n",
              "      <td>서울 도봉구 도봉로 783 (도봉동)</td>\n",
              "      <td>1608.0</td>\n",
              "      <td>N</td>\n",
              "      <td>현대오일뱅크</td>\n",
              "      <td>도봉구</td>\n",
              "    </tr>\n",
              "    <tr>\n",
              "      <th>2</th>\n",
              "      <td>한이에너지(주) 쌍문주유소</td>\n",
              "      <td>서울 도봉구 도봉로 547 (쌍문동)</td>\n",
              "      <td>1609.0</td>\n",
              "      <td>Y</td>\n",
              "      <td>S-OIL</td>\n",
              "      <td>도봉구</td>\n",
              "    </tr>\n",
              "    <tr>\n",
              "      <th>3</th>\n",
              "      <td>한이에너지(주)KLP제1주유소</td>\n",
              "      <td>서울 도봉구 도봉로 596 (창동)</td>\n",
              "      <td>1613.0</td>\n",
              "      <td>N</td>\n",
              "      <td>현대오일뱅크</td>\n",
              "      <td>도봉구</td>\n",
              "    </tr>\n",
              "    <tr>\n",
              "      <th>4</th>\n",
              "      <td>구도일주유소 도봉</td>\n",
              "      <td>서울 도봉구 도봉로 706 (방학동)</td>\n",
              "      <td>1613.0</td>\n",
              "      <td>Y</td>\n",
              "      <td>S-OIL</td>\n",
              "      <td>도봉구</td>\n",
              "    </tr>\n",
              "    <tr>\n",
              "      <th>...</th>\n",
              "      <td>...</td>\n",
              "      <td>...</td>\n",
              "      <td>...</td>\n",
              "      <td>...</td>\n",
              "      <td>...</td>\n",
              "      <td>...</td>\n",
              "    </tr>\n",
              "    <tr>\n",
              "      <th>5</th>\n",
              "      <td>현대오일뱅크㈜직영 흑석동셀프주유소</td>\n",
              "      <td>서울 동작구 현충로 101 (흑석동)</td>\n",
              "      <td>1693.0</td>\n",
              "      <td>Y</td>\n",
              "      <td>현대오일뱅크</td>\n",
              "      <td>동작구</td>\n",
              "    </tr>\n",
              "    <tr>\n",
              "      <th>6</th>\n",
              "      <td>대성산업(주) 노량진주유소</td>\n",
              "      <td>서울 동작구 노량진로 172</td>\n",
              "      <td>1699.0</td>\n",
              "      <td>N</td>\n",
              "      <td>GS칼텍스</td>\n",
              "      <td>동작구</td>\n",
              "    </tr>\n",
              "    <tr>\n",
              "      <th>7</th>\n",
              "      <td>(주)성림에너지 남성주유소</td>\n",
              "      <td>서울 동작구 동작대로 135 (사당동)</td>\n",
              "      <td>1699.0</td>\n",
              "      <td>Y</td>\n",
              "      <td>GS칼텍스</td>\n",
              "      <td>동작구</td>\n",
              "    </tr>\n",
              "    <tr>\n",
              "      <th>8</th>\n",
              "      <td>현대오일뱅크(주)직영 동작주유소</td>\n",
              "      <td>서울 동작구 상도로 403 (상도동)</td>\n",
              "      <td>1714.0</td>\n",
              "      <td>N</td>\n",
              "      <td>현대오일뱅크</td>\n",
              "      <td>동작구</td>\n",
              "    </tr>\n",
              "    <tr>\n",
              "      <th>9</th>\n",
              "      <td>살피재주유소</td>\n",
              "      <td>서울 동작구 상도로 334</td>\n",
              "      <td>1785.0</td>\n",
              "      <td>N</td>\n",
              "      <td>SK에너지</td>\n",
              "      <td>동작구</td>\n",
              "    </tr>\n",
              "  </tbody>\n",
              "</table>\n",
              "<p>468 rows × 6 columns</p>\n",
              "</div>"
            ],
            "text/plain": [
              "                    상호                     주소      가격 셀프      상표    구\n",
              "0            삼미북부셀프주유소   서울 도봉구 도봉로 437 (쌍문동)  1608.0  Y   SK에너지  도봉구\n",
              "1      도봉제일주유소(주)송만에너지   서울 도봉구 도봉로 783 (도봉동)  1608.0  N  현대오일뱅크  도봉구\n",
              "2       한이에너지(주) 쌍문주유소   서울 도봉구 도봉로 547 (쌍문동)  1609.0  Y   S-OIL  도봉구\n",
              "3     한이에너지(주)KLP제1주유소    서울 도봉구 도봉로 596 (창동)  1613.0  N  현대오일뱅크  도봉구\n",
              "4            구도일주유소 도봉   서울 도봉구 도봉로 706 (방학동)  1613.0  Y   S-OIL  도봉구\n",
              "..                 ...                    ...     ... ..     ...  ...\n",
              "5   현대오일뱅크㈜직영 흑석동셀프주유소   서울 동작구 현충로 101 (흑석동)  1693.0  Y  현대오일뱅크  동작구\n",
              "6       대성산업(주) 노량진주유소        서울 동작구 노량진로 172  1699.0  N   GS칼텍스  동작구\n",
              "7       (주)성림에너지 남성주유소  서울 동작구 동작대로 135 (사당동)  1699.0  Y   GS칼텍스  동작구\n",
              "8    현대오일뱅크(주)직영 동작주유소   서울 동작구 상도로 403 (상도동)  1714.0  N  현대오일뱅크  동작구\n",
              "9               살피재주유소         서울 동작구 상도로 334  1785.0  N   SK에너지  동작구\n",
              "\n",
              "[468 rows x 6 columns]"
            ]
          },
          "execution_count": 96,
          "metadata": {},
          "output_type": "execute_result"
        }
      ]
    },
    {
      "cell_type": "code",
      "metadata": {
        "id": "1f413ef0",
        "outputId": "ca43f147-1897-42cc-dde0-bdbb1362cefd"
      },
      "source": [
        "# 인덱스 재정렬 \n",
        "stations.reset_index(inplace=True)\n",
        "stations.tail()"
      ],
      "id": "1f413ef0",
      "execution_count": null,
      "outputs": [
        {
          "data": {
            "text/html": [
              "<div>\n",
              "<style scoped>\n",
              "    .dataframe tbody tr th:only-of-type {\n",
              "        vertical-align: middle;\n",
              "    }\n",
              "\n",
              "    .dataframe tbody tr th {\n",
              "        vertical-align: top;\n",
              "    }\n",
              "\n",
              "    .dataframe thead th {\n",
              "        text-align: right;\n",
              "    }\n",
              "</style>\n",
              "<table border=\"1\" class=\"dataframe\">\n",
              "  <thead>\n",
              "    <tr style=\"text-align: right;\">\n",
              "      <th></th>\n",
              "      <th>index</th>\n",
              "      <th>상호</th>\n",
              "      <th>주소</th>\n",
              "      <th>가격</th>\n",
              "      <th>셀프</th>\n",
              "      <th>상표</th>\n",
              "      <th>구</th>\n",
              "    </tr>\n",
              "  </thead>\n",
              "  <tbody>\n",
              "    <tr>\n",
              "      <th>463</th>\n",
              "      <td>5</td>\n",
              "      <td>현대오일뱅크㈜직영 흑석동셀프주유소</td>\n",
              "      <td>서울 동작구 현충로 101 (흑석동)</td>\n",
              "      <td>1693.0</td>\n",
              "      <td>Y</td>\n",
              "      <td>현대오일뱅크</td>\n",
              "      <td>동작구</td>\n",
              "    </tr>\n",
              "    <tr>\n",
              "      <th>464</th>\n",
              "      <td>6</td>\n",
              "      <td>대성산업(주) 노량진주유소</td>\n",
              "      <td>서울 동작구 노량진로 172</td>\n",
              "      <td>1699.0</td>\n",
              "      <td>N</td>\n",
              "      <td>GS칼텍스</td>\n",
              "      <td>동작구</td>\n",
              "    </tr>\n",
              "    <tr>\n",
              "      <th>465</th>\n",
              "      <td>7</td>\n",
              "      <td>(주)성림에너지 남성주유소</td>\n",
              "      <td>서울 동작구 동작대로 135 (사당동)</td>\n",
              "      <td>1699.0</td>\n",
              "      <td>Y</td>\n",
              "      <td>GS칼텍스</td>\n",
              "      <td>동작구</td>\n",
              "    </tr>\n",
              "    <tr>\n",
              "      <th>466</th>\n",
              "      <td>8</td>\n",
              "      <td>현대오일뱅크(주)직영 동작주유소</td>\n",
              "      <td>서울 동작구 상도로 403 (상도동)</td>\n",
              "      <td>1714.0</td>\n",
              "      <td>N</td>\n",
              "      <td>현대오일뱅크</td>\n",
              "      <td>동작구</td>\n",
              "    </tr>\n",
              "    <tr>\n",
              "      <th>467</th>\n",
              "      <td>9</td>\n",
              "      <td>살피재주유소</td>\n",
              "      <td>서울 동작구 상도로 334</td>\n",
              "      <td>1785.0</td>\n",
              "      <td>N</td>\n",
              "      <td>SK에너지</td>\n",
              "      <td>동작구</td>\n",
              "    </tr>\n",
              "  </tbody>\n",
              "</table>\n",
              "</div>"
            ],
            "text/plain": [
              "     index                  상호                     주소      가격 셀프      상표    구\n",
              "463      5  현대오일뱅크㈜직영 흑석동셀프주유소   서울 동작구 현충로 101 (흑석동)  1693.0  Y  현대오일뱅크  동작구\n",
              "464      6      대성산업(주) 노량진주유소        서울 동작구 노량진로 172  1699.0  N   GS칼텍스  동작구\n",
              "465      7      (주)성림에너지 남성주유소  서울 동작구 동작대로 135 (사당동)  1699.0  Y   GS칼텍스  동작구\n",
              "466      8   현대오일뱅크(주)직영 동작주유소   서울 동작구 상도로 403 (상도동)  1714.0  N  현대오일뱅크  동작구\n",
              "467      9              살피재주유소         서울 동작구 상도로 334  1785.0  N   SK에너지  동작구"
            ]
          },
          "execution_count": 97,
          "metadata": {},
          "output_type": "execute_result"
        }
      ]
    },
    {
      "cell_type": "code",
      "metadata": {
        "id": "f2eebab3",
        "outputId": "4d24347e-0077-4450-9304-29d1be2fa241"
      },
      "source": [
        "stations.head()"
      ],
      "id": "f2eebab3",
      "execution_count": null,
      "outputs": [
        {
          "data": {
            "text/html": [
              "<div>\n",
              "<style scoped>\n",
              "    .dataframe tbody tr th:only-of-type {\n",
              "        vertical-align: middle;\n",
              "    }\n",
              "\n",
              "    .dataframe tbody tr th {\n",
              "        vertical-align: top;\n",
              "    }\n",
              "\n",
              "    .dataframe thead th {\n",
              "        text-align: right;\n",
              "    }\n",
              "</style>\n",
              "<table border=\"1\" class=\"dataframe\">\n",
              "  <thead>\n",
              "    <tr style=\"text-align: right;\">\n",
              "      <th></th>\n",
              "      <th>index</th>\n",
              "      <th>상호</th>\n",
              "      <th>주소</th>\n",
              "      <th>가격</th>\n",
              "      <th>셀프</th>\n",
              "      <th>상표</th>\n",
              "      <th>구</th>\n",
              "    </tr>\n",
              "  </thead>\n",
              "  <tbody>\n",
              "    <tr>\n",
              "      <th>0</th>\n",
              "      <td>0</td>\n",
              "      <td>삼미북부셀프주유소</td>\n",
              "      <td>서울 도봉구 도봉로 437 (쌍문동)</td>\n",
              "      <td>1608.0</td>\n",
              "      <td>Y</td>\n",
              "      <td>SK에너지</td>\n",
              "      <td>도봉구</td>\n",
              "    </tr>\n",
              "    <tr>\n",
              "      <th>1</th>\n",
              "      <td>1</td>\n",
              "      <td>도봉제일주유소(주)송만에너지</td>\n",
              "      <td>서울 도봉구 도봉로 783 (도봉동)</td>\n",
              "      <td>1608.0</td>\n",
              "      <td>N</td>\n",
              "      <td>현대오일뱅크</td>\n",
              "      <td>도봉구</td>\n",
              "    </tr>\n",
              "    <tr>\n",
              "      <th>2</th>\n",
              "      <td>2</td>\n",
              "      <td>한이에너지(주) 쌍문주유소</td>\n",
              "      <td>서울 도봉구 도봉로 547 (쌍문동)</td>\n",
              "      <td>1609.0</td>\n",
              "      <td>Y</td>\n",
              "      <td>S-OIL</td>\n",
              "      <td>도봉구</td>\n",
              "    </tr>\n",
              "    <tr>\n",
              "      <th>3</th>\n",
              "      <td>3</td>\n",
              "      <td>한이에너지(주)KLP제1주유소</td>\n",
              "      <td>서울 도봉구 도봉로 596 (창동)</td>\n",
              "      <td>1613.0</td>\n",
              "      <td>N</td>\n",
              "      <td>현대오일뱅크</td>\n",
              "      <td>도봉구</td>\n",
              "    </tr>\n",
              "    <tr>\n",
              "      <th>4</th>\n",
              "      <td>4</td>\n",
              "      <td>구도일주유소 도봉</td>\n",
              "      <td>서울 도봉구 도봉로 706 (방학동)</td>\n",
              "      <td>1613.0</td>\n",
              "      <td>Y</td>\n",
              "      <td>S-OIL</td>\n",
              "      <td>도봉구</td>\n",
              "    </tr>\n",
              "  </tbody>\n",
              "</table>\n",
              "</div>"
            ],
            "text/plain": [
              "   index                상호                    주소      가격 셀프      상표    구\n",
              "0      0         삼미북부셀프주유소  서울 도봉구 도봉로 437 (쌍문동)  1608.0  Y   SK에너지  도봉구\n",
              "1      1   도봉제일주유소(주)송만에너지  서울 도봉구 도봉로 783 (도봉동)  1608.0  N  현대오일뱅크  도봉구\n",
              "2      2    한이에너지(주) 쌍문주유소  서울 도봉구 도봉로 547 (쌍문동)  1609.0  Y   S-OIL  도봉구\n",
              "3      3  한이에너지(주)KLP제1주유소   서울 도봉구 도봉로 596 (창동)  1613.0  N  현대오일뱅크  도봉구\n",
              "4      4         구도일주유소 도봉  서울 도봉구 도봉로 706 (방학동)  1613.0  Y   S-OIL  도봉구"
            ]
          },
          "execution_count": 98,
          "metadata": {},
          "output_type": "execute_result"
        }
      ]
    },
    {
      "cell_type": "code",
      "metadata": {
        "id": "f00de683",
        "outputId": "2738aca3-5a40-4b8c-de0a-f837d5a8a41d"
      },
      "source": [
        "del stations[\"index\"]\n",
        "stations.head()"
      ],
      "id": "f00de683",
      "execution_count": null,
      "outputs": [
        {
          "data": {
            "text/html": [
              "<div>\n",
              "<style scoped>\n",
              "    .dataframe tbody tr th:only-of-type {\n",
              "        vertical-align: middle;\n",
              "    }\n",
              "\n",
              "    .dataframe tbody tr th {\n",
              "        vertical-align: top;\n",
              "    }\n",
              "\n",
              "    .dataframe thead th {\n",
              "        text-align: right;\n",
              "    }\n",
              "</style>\n",
              "<table border=\"1\" class=\"dataframe\">\n",
              "  <thead>\n",
              "    <tr style=\"text-align: right;\">\n",
              "      <th></th>\n",
              "      <th>상호</th>\n",
              "      <th>주소</th>\n",
              "      <th>가격</th>\n",
              "      <th>셀프</th>\n",
              "      <th>상표</th>\n",
              "      <th>구</th>\n",
              "    </tr>\n",
              "  </thead>\n",
              "  <tbody>\n",
              "    <tr>\n",
              "      <th>0</th>\n",
              "      <td>삼미북부셀프주유소</td>\n",
              "      <td>서울 도봉구 도봉로 437 (쌍문동)</td>\n",
              "      <td>1608.0</td>\n",
              "      <td>Y</td>\n",
              "      <td>SK에너지</td>\n",
              "      <td>도봉구</td>\n",
              "    </tr>\n",
              "    <tr>\n",
              "      <th>1</th>\n",
              "      <td>도봉제일주유소(주)송만에너지</td>\n",
              "      <td>서울 도봉구 도봉로 783 (도봉동)</td>\n",
              "      <td>1608.0</td>\n",
              "      <td>N</td>\n",
              "      <td>현대오일뱅크</td>\n",
              "      <td>도봉구</td>\n",
              "    </tr>\n",
              "    <tr>\n",
              "      <th>2</th>\n",
              "      <td>한이에너지(주) 쌍문주유소</td>\n",
              "      <td>서울 도봉구 도봉로 547 (쌍문동)</td>\n",
              "      <td>1609.0</td>\n",
              "      <td>Y</td>\n",
              "      <td>S-OIL</td>\n",
              "      <td>도봉구</td>\n",
              "    </tr>\n",
              "    <tr>\n",
              "      <th>3</th>\n",
              "      <td>한이에너지(주)KLP제1주유소</td>\n",
              "      <td>서울 도봉구 도봉로 596 (창동)</td>\n",
              "      <td>1613.0</td>\n",
              "      <td>N</td>\n",
              "      <td>현대오일뱅크</td>\n",
              "      <td>도봉구</td>\n",
              "    </tr>\n",
              "    <tr>\n",
              "      <th>4</th>\n",
              "      <td>구도일주유소 도봉</td>\n",
              "      <td>서울 도봉구 도봉로 706 (방학동)</td>\n",
              "      <td>1613.0</td>\n",
              "      <td>Y</td>\n",
              "      <td>S-OIL</td>\n",
              "      <td>도봉구</td>\n",
              "    </tr>\n",
              "  </tbody>\n",
              "</table>\n",
              "</div>"
            ],
            "text/plain": [
              "                 상호                    주소      가격 셀프      상표    구\n",
              "0         삼미북부셀프주유소  서울 도봉구 도봉로 437 (쌍문동)  1608.0  Y   SK에너지  도봉구\n",
              "1   도봉제일주유소(주)송만에너지  서울 도봉구 도봉로 783 (도봉동)  1608.0  N  현대오일뱅크  도봉구\n",
              "2    한이에너지(주) 쌍문주유소  서울 도봉구 도봉로 547 (쌍문동)  1609.0  Y   S-OIL  도봉구\n",
              "3  한이에너지(주)KLP제1주유소   서울 도봉구 도봉로 596 (창동)  1613.0  N  현대오일뱅크  도봉구\n",
              "4         구도일주유소 도봉  서울 도봉구 도봉로 706 (방학동)  1613.0  Y   S-OIL  도봉구"
            ]
          },
          "execution_count": 99,
          "metadata": {},
          "output_type": "execute_result"
        }
      ]
    },
    {
      "cell_type": "code",
      "metadata": {
        "id": "d437f468",
        "outputId": "7983a8f0-9fc1-43c7-a7b2-9446d9ff7653"
      },
      "source": [
        "stations.tail()"
      ],
      "id": "d437f468",
      "execution_count": null,
      "outputs": [
        {
          "data": {
            "text/html": [
              "<div>\n",
              "<style scoped>\n",
              "    .dataframe tbody tr th:only-of-type {\n",
              "        vertical-align: middle;\n",
              "    }\n",
              "\n",
              "    .dataframe tbody tr th {\n",
              "        vertical-align: top;\n",
              "    }\n",
              "\n",
              "    .dataframe thead th {\n",
              "        text-align: right;\n",
              "    }\n",
              "</style>\n",
              "<table border=\"1\" class=\"dataframe\">\n",
              "  <thead>\n",
              "    <tr style=\"text-align: right;\">\n",
              "      <th></th>\n",
              "      <th>상호</th>\n",
              "      <th>주소</th>\n",
              "      <th>가격</th>\n",
              "      <th>셀프</th>\n",
              "      <th>상표</th>\n",
              "      <th>구</th>\n",
              "    </tr>\n",
              "  </thead>\n",
              "  <tbody>\n",
              "    <tr>\n",
              "      <th>463</th>\n",
              "      <td>현대오일뱅크㈜직영 흑석동셀프주유소</td>\n",
              "      <td>서울 동작구 현충로 101 (흑석동)</td>\n",
              "      <td>1693.0</td>\n",
              "      <td>Y</td>\n",
              "      <td>현대오일뱅크</td>\n",
              "      <td>동작구</td>\n",
              "    </tr>\n",
              "    <tr>\n",
              "      <th>464</th>\n",
              "      <td>대성산업(주) 노량진주유소</td>\n",
              "      <td>서울 동작구 노량진로 172</td>\n",
              "      <td>1699.0</td>\n",
              "      <td>N</td>\n",
              "      <td>GS칼텍스</td>\n",
              "      <td>동작구</td>\n",
              "    </tr>\n",
              "    <tr>\n",
              "      <th>465</th>\n",
              "      <td>(주)성림에너지 남성주유소</td>\n",
              "      <td>서울 동작구 동작대로 135 (사당동)</td>\n",
              "      <td>1699.0</td>\n",
              "      <td>Y</td>\n",
              "      <td>GS칼텍스</td>\n",
              "      <td>동작구</td>\n",
              "    </tr>\n",
              "    <tr>\n",
              "      <th>466</th>\n",
              "      <td>현대오일뱅크(주)직영 동작주유소</td>\n",
              "      <td>서울 동작구 상도로 403 (상도동)</td>\n",
              "      <td>1714.0</td>\n",
              "      <td>N</td>\n",
              "      <td>현대오일뱅크</td>\n",
              "      <td>동작구</td>\n",
              "    </tr>\n",
              "    <tr>\n",
              "      <th>467</th>\n",
              "      <td>살피재주유소</td>\n",
              "      <td>서울 동작구 상도로 334</td>\n",
              "      <td>1785.0</td>\n",
              "      <td>N</td>\n",
              "      <td>SK에너지</td>\n",
              "      <td>동작구</td>\n",
              "    </tr>\n",
              "  </tbody>\n",
              "</table>\n",
              "</div>"
            ],
            "text/plain": [
              "                     상호                     주소      가격 셀프      상표    구\n",
              "463  현대오일뱅크㈜직영 흑석동셀프주유소   서울 동작구 현충로 101 (흑석동)  1693.0  Y  현대오일뱅크  동작구\n",
              "464      대성산업(주) 노량진주유소        서울 동작구 노량진로 172  1699.0  N   GS칼텍스  동작구\n",
              "465      (주)성림에너지 남성주유소  서울 동작구 동작대로 135 (사당동)  1699.0  Y   GS칼텍스  동작구\n",
              "466   현대오일뱅크(주)직영 동작주유소   서울 동작구 상도로 403 (상도동)  1714.0  N  현대오일뱅크  동작구\n",
              "467              살피재주유소         서울 동작구 상도로 334  1785.0  N   SK에너지  동작구"
            ]
          },
          "execution_count": 100,
          "metadata": {},
          "output_type": "execute_result"
        }
      ]
    },
    {
      "cell_type": "markdown",
      "metadata": {
        "id": "7c066847"
      },
      "source": [
        "## 5. 주유 가격 정보 시각화"
      ],
      "id": "7c066847"
    },
    {
      "cell_type": "code",
      "metadata": {
        "id": "53bd3b50"
      },
      "source": [
        "import matplotlib.pyplot as plt \n",
        "import seaborn as sns \n",
        "import platform\n",
        "from matplotlib import font_manager, rc \n",
        "\n",
        "get_ipython().run_line_magic(\"matplotlib\", \"inline\")\n",
        "# %matplotlib inline \n",
        "\n",
        "path = \"C:/Windows/Fonts/malgun.ttf\"\n",
        "\n",
        "if platform.system() == \"Darwin\":\n",
        "    rc(\"font\", family=\"Arial Unicode MS\")\n",
        "elif platform.system == \"Windows\":\n",
        "    font_name = font_manager.Fontproperties(fname=path).get_name() \n",
        "    rc(\"font\", family=font_name)\n",
        "else:\n",
        "    print(\"Unkown system. sorry~~\")"
      ],
      "id": "53bd3b50",
      "execution_count": null,
      "outputs": []
    },
    {
      "cell_type": "code",
      "metadata": {
        "id": "d9a0c832",
        "outputId": "b3debdad-eee6-4657-d26e-9b30dea643f9"
      },
      "source": [
        "# boxplot(feat. pandas)\n",
        "\n",
        "stations.boxplot(column=\"가격\", by=\"셀프\", figsize=(12, 8));"
      ],
      "id": "d9a0c832",
      "execution_count": null,
      "outputs": [
        {
          "data": {
            "image/png": "[encoded data removed]",
            "text/plain": [
              "<Figure size 864x576 with 1 Axes>"
            ]
          },
          "metadata": {
            "image/png": {
              "height": 527,
              "width": 739
            },
            "needs_background": "light"
          },
          "output_type": "display_data"
        }
      ]
    },
    {
      "cell_type": "code",
      "metadata": {
        "id": "696335a1",
        "outputId": "5206b2d3-9e9c-46be-f010-53c5a136a282"
      },
      "source": [
        "# boxplot(feat. seaborn)\n",
        "\n",
        "plt.figure(figsize=(12, 8))\n",
        "sns.boxplot(x=\"셀프\", y=\"가격\", data=stations, palette=\"Set1\")\n",
        "plt.grid(True)\n",
        "plt.show()"
      ],
      "id": "696335a1",
      "execution_count": null,
      "outputs": [
        {
          "data": {
            "image/png": "[encoded data removed]",
            "text/plain": [
              "<Figure size 864x576 with 1 Axes>"
            ]
          },
          "metadata": {
            "image/png": {
              "height": 484,
              "width": 733
            },
            "needs_background": "light"
          },
          "output_type": "display_data"
        }
      ]
    },
    {
      "cell_type": "code",
      "metadata": {
        "id": "a7ce1a8b",
        "outputId": "a5322be5-89fa-47c6-a94e-15cadfe55b36"
      },
      "source": [
        "# boxplot(feat. seaborn)\n",
        "\n",
        "plt.figure(figsize=(12, 8))\n",
        "sns.boxplot(x=\"상표\", y=\"가격\", hue=\"셀프\", data=stations, palette=\"Set3\")\n",
        "plt.grid(True)\n",
        "plt.show()"
      ],
      "id": "a7ce1a8b",
      "execution_count": null,
      "outputs": [
        {
          "data": {
            "image/png": "[encoded data removed]",
            "text/plain": [
              "<Figure size 864x576 with 1 Axes>"
            ]
          },
          "metadata": {
            "image/png": {
              "height": 486,
              "width": 733
            },
            "needs_background": "light"
          },
          "output_type": "display_data"
        }
      ]
    },
    {
      "cell_type": "code",
      "metadata": {
        "id": "c7109756"
      },
      "source": [
        "# 지도 시각화 "
      ],
      "id": "c7109756",
      "execution_count": null,
      "outputs": []
    },
    {
      "cell_type": "code",
      "metadata": {
        "id": "757c5b1f"
      },
      "source": [
        "import json \n",
        "import folium\n",
        "import warnings\n",
        "warnings.simplefilter(action=\"ignore\", category=FutureWarning)"
      ],
      "id": "757c5b1f",
      "execution_count": null,
      "outputs": []
    },
    {
      "cell_type": "code",
      "metadata": {
        "id": "d64d70e0",
        "outputId": "7c4d77b0-e26b-4b0c-dd7e-d869172599df"
      },
      "source": [
        "# 가장 비싼 주유소 10개 \n",
        "stations.sort_values(by=\"가격\", ascending=False).head(10)"
      ],
      "id": "d64d70e0",
      "execution_count": null,
      "outputs": [
        {
          "data": {
            "text/html": [
              "<div>\n",
              "<style scoped>\n",
              "    .dataframe tbody tr th:only-of-type {\n",
              "        vertical-align: middle;\n",
              "    }\n",
              "\n",
              "    .dataframe tbody tr th {\n",
              "        vertical-align: top;\n",
              "    }\n",
              "\n",
              "    .dataframe thead th {\n",
              "        text-align: right;\n",
              "    }\n",
              "</style>\n",
              "<table border=\"1\" class=\"dataframe\">\n",
              "  <thead>\n",
              "    <tr style=\"text-align: right;\">\n",
              "      <th></th>\n",
              "      <th>상호</th>\n",
              "      <th>주소</th>\n",
              "      <th>가격</th>\n",
              "      <th>셀프</th>\n",
              "      <th>상표</th>\n",
              "      <th>구</th>\n",
              "    </tr>\n",
              "  </thead>\n",
              "  <tbody>\n",
              "    <tr>\n",
              "      <th>229</th>\n",
              "      <td>서남주유소</td>\n",
              "      <td>서울 중구 통일로 30</td>\n",
              "      <td>2511.0</td>\n",
              "      <td>N</td>\n",
              "      <td>SK에너지</td>\n",
              "      <td>중구</td>\n",
              "    </tr>\n",
              "    <tr>\n",
              "      <th>282</th>\n",
              "      <td>서계주유소</td>\n",
              "      <td>서울 용산구 청파로 367 (서계동)</td>\n",
              "      <td>2453.0</td>\n",
              "      <td>N</td>\n",
              "      <td>GS칼텍스</td>\n",
              "      <td>용산구</td>\n",
              "    </tr>\n",
              "    <tr>\n",
              "      <th>228</th>\n",
              "      <td>필동주유소</td>\n",
              "      <td>서울 중구  퇴계로 196 (필동2가)</td>\n",
              "      <td>2339.0</td>\n",
              "      <td>N</td>\n",
              "      <td>GS칼텍스</td>\n",
              "      <td>중구</td>\n",
              "    </tr>\n",
              "    <tr>\n",
              "      <th>227</th>\n",
              "      <td>SK에너지(주) 퇴계로주유소</td>\n",
              "      <td>서울 중구 퇴계로 228 (필동2가)</td>\n",
              "      <td>2305.0</td>\n",
              "      <td>N</td>\n",
              "      <td>SK에너지</td>\n",
              "      <td>중구</td>\n",
              "    </tr>\n",
              "    <tr>\n",
              "      <th>281</th>\n",
              "      <td>동자동주유소</td>\n",
              "      <td>서울 용산구 한강대로104길 6 (동자동)</td>\n",
              "      <td>2290.0</td>\n",
              "      <td>N</td>\n",
              "      <td>SK에너지</td>\n",
              "      <td>용산구</td>\n",
              "    </tr>\n",
              "    <tr>\n",
              "      <th>424</th>\n",
              "      <td>뉴서울(강남)</td>\n",
              "      <td>서울 강남구 언주로 716</td>\n",
              "      <td>2275.0</td>\n",
              "      <td>N</td>\n",
              "      <td>SK에너지</td>\n",
              "      <td>강남구</td>\n",
              "    </tr>\n",
              "    <tr>\n",
              "      <th>226</th>\n",
              "      <td>약수주유소</td>\n",
              "      <td>서울 중구 다산로 173</td>\n",
              "      <td>2218.0</td>\n",
              "      <td>N</td>\n",
              "      <td>GS칼텍스</td>\n",
              "      <td>중구</td>\n",
              "    </tr>\n",
              "    <tr>\n",
              "      <th>166</th>\n",
              "      <td>(주)대양씨앤씨 사직주유소</td>\n",
              "      <td>서울 종로구 사직로 65 (사직동)</td>\n",
              "      <td>2178.0</td>\n",
              "      <td>N</td>\n",
              "      <td>GS칼텍스</td>\n",
              "      <td>종로구</td>\n",
              "    </tr>\n",
              "    <tr>\n",
              "      <th>280</th>\n",
              "      <td>에너비스</td>\n",
              "      <td>서울 용산구 한남대로 82 (한남동)</td>\n",
              "      <td>2178.0</td>\n",
              "      <td>N</td>\n",
              "      <td>SK에너지</td>\n",
              "      <td>용산구</td>\n",
              "    </tr>\n",
              "    <tr>\n",
              "      <th>279</th>\n",
              "      <td>한남지점</td>\n",
              "      <td>서울 용산구 한남대로21길 4 (한남동)</td>\n",
              "      <td>2178.0</td>\n",
              "      <td>N</td>\n",
              "      <td>SK에너지</td>\n",
              "      <td>용산구</td>\n",
              "    </tr>\n",
              "  </tbody>\n",
              "</table>\n",
              "</div>"
            ],
            "text/plain": [
              "                  상호                       주소      가격 셀프     상표    구\n",
              "229            서남주유소             서울 중구 통일로 30  2511.0  N  SK에너지   중구\n",
              "282            서계주유소     서울 용산구 청파로 367 (서계동)  2453.0  N  GS칼텍스  용산구\n",
              "228            필동주유소    서울 중구  퇴계로 196 (필동2가)  2339.0  N  GS칼텍스   중구\n",
              "227  SK에너지(주) 퇴계로주유소     서울 중구 퇴계로 228 (필동2가)  2305.0  N  SK에너지   중구\n",
              "281           동자동주유소  서울 용산구 한강대로104길 6 (동자동)  2290.0  N  SK에너지  용산구\n",
              "424          뉴서울(강남)           서울 강남구 언주로 716  2275.0  N  SK에너지  강남구\n",
              "226            약수주유소            서울 중구 다산로 173  2218.0  N  GS칼텍스   중구\n",
              "166   (주)대양씨앤씨 사직주유소      서울 종로구 사직로 65 (사직동)  2178.0  N  GS칼텍스  종로구\n",
              "280             에너비스     서울 용산구 한남대로 82 (한남동)  2178.0  N  SK에너지  용산구\n",
              "279             한남지점   서울 용산구 한남대로21길 4 (한남동)  2178.0  N  SK에너지  용산구"
            ]
          },
          "execution_count": 111,
          "metadata": {},
          "output_type": "execute_result"
        }
      ]
    },
    {
      "cell_type": "code",
      "metadata": {
        "id": "0619320c",
        "outputId": "5ad5adb7-09ff-4dd5-e2ac-6fdd0ca06514"
      },
      "source": [
        "# 가장 값싼 주유소 10개 \n",
        "stations.sort_values(by=\"가격\", ascending=True).head(10)"
      ],
      "id": "0619320c",
      "execution_count": null,
      "outputs": [
        {
          "data": {
            "text/html": [
              "<div>\n",
              "<style scoped>\n",
              "    .dataframe tbody tr th:only-of-type {\n",
              "        vertical-align: middle;\n",
              "    }\n",
              "\n",
              "    .dataframe tbody tr th {\n",
              "        vertical-align: top;\n",
              "    }\n",
              "\n",
              "    .dataframe thead th {\n",
              "        text-align: right;\n",
              "    }\n",
              "</style>\n",
              "<table border=\"1\" class=\"dataframe\">\n",
              "  <thead>\n",
              "    <tr style=\"text-align: right;\">\n",
              "      <th></th>\n",
              "      <th>상호</th>\n",
              "      <th>주소</th>\n",
              "      <th>가격</th>\n",
              "      <th>셀프</th>\n",
              "      <th>상표</th>\n",
              "      <th>구</th>\n",
              "    </tr>\n",
              "  </thead>\n",
              "  <tbody>\n",
              "    <tr>\n",
              "      <th>102</th>\n",
              "      <td>화곡역주유소</td>\n",
              "      <td>서울 강서구 강서로 154 (화곡동)</td>\n",
              "      <td>1594.0</td>\n",
              "      <td>Y</td>\n",
              "      <td>알뜰주유소</td>\n",
              "      <td>강서구</td>\n",
              "    </tr>\n",
              "    <tr>\n",
              "      <th>103</th>\n",
              "      <td>뉴신정주유소</td>\n",
              "      <td>서울 강서구 곰달래로 207 (화곡동)</td>\n",
              "      <td>1594.0</td>\n",
              "      <td>N</td>\n",
              "      <td>알뜰주유소</td>\n",
              "      <td>강서구</td>\n",
              "    </tr>\n",
              "    <tr>\n",
              "      <th>134</th>\n",
              "      <td>가로공원주유소</td>\n",
              "      <td>서울 양천구 가로공원로 165 (신월동)</td>\n",
              "      <td>1594.0</td>\n",
              "      <td>N</td>\n",
              "      <td>SK에너지</td>\n",
              "      <td>양천구</td>\n",
              "    </tr>\n",
              "    <tr>\n",
              "      <th>88</th>\n",
              "      <td>배꽃나라주유소</td>\n",
              "      <td>서울 노원구 화랑로 466 (공릉동)</td>\n",
              "      <td>1595.0</td>\n",
              "      <td>Y</td>\n",
              "      <td>GS칼텍스</td>\n",
              "      <td>노원구</td>\n",
              "    </tr>\n",
              "    <tr>\n",
              "      <th>370</th>\n",
              "      <td>동서울고속주유소</td>\n",
              "      <td>서울 동대문구 한천로 414</td>\n",
              "      <td>1595.0</td>\n",
              "      <td>Y</td>\n",
              "      <td>SK에너지</td>\n",
              "      <td>동대문구</td>\n",
              "    </tr>\n",
              "    <tr>\n",
              "      <th>89</th>\n",
              "      <td>화랑대주유소</td>\n",
              "      <td>서울 노원구 화랑로 483</td>\n",
              "      <td>1595.0</td>\n",
              "      <td>Y</td>\n",
              "      <td>현대오일뱅크</td>\n",
              "      <td>노원구</td>\n",
              "    </tr>\n",
              "    <tr>\n",
              "      <th>135</th>\n",
              "      <td>현대주유소</td>\n",
              "      <td>서울 양천구 남부순환로 372 (신월동)</td>\n",
              "      <td>1597.0</td>\n",
              "      <td>Y</td>\n",
              "      <td>S-OIL</td>\n",
              "      <td>양천구</td>\n",
              "    </tr>\n",
              "    <tr>\n",
              "      <th>230</th>\n",
              "      <td>성락주유소</td>\n",
              "      <td>서울 영등포구 가마산로 414 (신길동)</td>\n",
              "      <td>1598.0</td>\n",
              "      <td>Y</td>\n",
              "      <td>S-OIL</td>\n",
              "      <td>영등포구</td>\n",
              "    </tr>\n",
              "    <tr>\n",
              "      <th>232</th>\n",
              "      <td>남서울고속주유소</td>\n",
              "      <td>서울 영등포구 가마산로 367 (대림동)</td>\n",
              "      <td>1598.0</td>\n",
              "      <td>Y</td>\n",
              "      <td>SK에너지</td>\n",
              "      <td>영등포구</td>\n",
              "    </tr>\n",
              "    <tr>\n",
              "      <th>233</th>\n",
              "      <td>영등포제일셀프주유소</td>\n",
              "      <td>서울 영등포구 가마산로 379</td>\n",
              "      <td>1598.0</td>\n",
              "      <td>Y</td>\n",
              "      <td>현대오일뱅크</td>\n",
              "      <td>영등포구</td>\n",
              "    </tr>\n",
              "  </tbody>\n",
              "</table>\n",
              "</div>"
            ],
            "text/plain": [
              "             상호                      주소      가격 셀프      상표     구\n",
              "102      화곡역주유소    서울 강서구 강서로 154 (화곡동)  1594.0  Y   알뜰주유소   강서구\n",
              "103      뉴신정주유소   서울 강서구 곰달래로 207 (화곡동)  1594.0  N   알뜰주유소   강서구\n",
              "134     가로공원주유소  서울 양천구 가로공원로 165 (신월동)  1594.0  N   SK에너지   양천구\n",
              "88      배꽃나라주유소    서울 노원구 화랑로 466 (공릉동)  1595.0  Y   GS칼텍스   노원구\n",
              "370    동서울고속주유소         서울 동대문구 한천로 414  1595.0  Y   SK에너지  동대문구\n",
              "89       화랑대주유소          서울 노원구 화랑로 483  1595.0  Y  현대오일뱅크   노원구\n",
              "135       현대주유소  서울 양천구 남부순환로 372 (신월동)  1597.0  Y   S-OIL   양천구\n",
              "230       성락주유소  서울 영등포구 가마산로 414 (신길동)  1598.0  Y   S-OIL  영등포구\n",
              "232    남서울고속주유소  서울 영등포구 가마산로 367 (대림동)  1598.0  Y   SK에너지  영등포구\n",
              "233  영등포제일셀프주유소        서울 영등포구 가마산로 379  1598.0  Y  현대오일뱅크  영등포구"
            ]
          },
          "execution_count": 112,
          "metadata": {},
          "output_type": "execute_result"
        }
      ]
    },
    {
      "cell_type": "code",
      "metadata": {
        "id": "8f913e68",
        "outputId": "1861d3b6-e2c2-45ea-91e5-a1a4ab4b87c0"
      },
      "source": [
        "import numpy as np \n",
        "\n",
        "gu_data = pd.pivot_table(data=stations, index=\"구\", values=\"가격\", aggfunc=np.mean)\n",
        "gu_data.head()"
      ],
      "id": "8f913e68",
      "execution_count": null,
      "outputs": [
        {
          "data": {
            "text/html": [
              "<div>\n",
              "<style scoped>\n",
              "    .dataframe tbody tr th:only-of-type {\n",
              "        vertical-align: middle;\n",
              "    }\n",
              "\n",
              "    .dataframe tbody tr th {\n",
              "        vertical-align: top;\n",
              "    }\n",
              "\n",
              "    .dataframe thead th {\n",
              "        text-align: right;\n",
              "    }\n",
              "</style>\n",
              "<table border=\"1\" class=\"dataframe\">\n",
              "  <thead>\n",
              "    <tr style=\"text-align: right;\">\n",
              "      <th></th>\n",
              "      <th>가격</th>\n",
              "    </tr>\n",
              "    <tr>\n",
              "      <th>구</th>\n",
              "      <th></th>\n",
              "    </tr>\n",
              "  </thead>\n",
              "  <tbody>\n",
              "    <tr>\n",
              "      <th>강남구</th>\n",
              "      <td>1861.750000</td>\n",
              "    </tr>\n",
              "    <tr>\n",
              "      <th>강동구</th>\n",
              "      <td>1762.562500</td>\n",
              "    </tr>\n",
              "    <tr>\n",
              "      <th>강북구</th>\n",
              "      <td>1623.692308</td>\n",
              "    </tr>\n",
              "    <tr>\n",
              "      <th>강서구</th>\n",
              "      <td>1678.281250</td>\n",
              "    </tr>\n",
              "    <tr>\n",
              "      <th>관악구</th>\n",
              "      <td>1702.866667</td>\n",
              "    </tr>\n",
              "  </tbody>\n",
              "</table>\n",
              "</div>"
            ],
            "text/plain": [
              "              가격\n",
              "구               \n",
              "강남구  1861.750000\n",
              "강동구  1762.562500\n",
              "강북구  1623.692308\n",
              "강서구  1678.281250\n",
              "관악구  1702.866667"
            ]
          },
          "execution_count": 113,
          "metadata": {},
          "output_type": "execute_result"
        }
      ]
    },
    {
      "cell_type": "code",
      "metadata": {
        "id": "7a57503b",
        "outputId": "6c05901f-2be5-4e9d-de66-130483bedd45"
      },
      "source": [
        "geo_path = \"../data/02. skorea_municipalities_geo_simple.json\"\n",
        "geo_str = json.load(open(geo_path, encoding=\"utf-8\"))\n",
        "\n",
        "my_map = folium.Map(location=[37.5502, 126.982], zoom_start=10.5, tiles=\"Stamen Toner\")\n",
        "my_map.choropleth(\n",
        "    geo_data=geo_str,\n",
        "    data=gu_data,\n",
        "    columns=[gu_data.index, \"가격\"],\n",
        "    key_on=\"feature.id\",\n",
        "    fill_color=\"PuRd\"\n",
        ")\n",
        "my_map"
      ],
      "id": "7a57503b",
      "execution_count": null,
      "outputs": [
        {
          "data": {
            "text/html": [
              "<div style=\"width:100%;\"><div style=\"position:relative;width:100%;height:0;padding-bottom:60%;\"><span style=\"color:#565656\">Make this Notebook Trusted to load map: File -> Trust Notebook</span><iframe src=\"about:blank\" style=\"position:absolute;width:100%;height:100%;left:0;top:0;border:none !important;\" data-html=%3C%21DOCTYPE%20html%3E%0A%3Chead%3E%20%20%20%20%0A%20%20%20%20%3Cmeta%20http-equiv%3D%22content-type%22%20content%3D%22text/html%3B%20charset%3DUTF-8%22%20/%3E%0A%20%20%20%20%0A%20%20%20%20%20%20%20%20%3Cscript%3E%0A%20%20%20%20%20%20%20%20%20%20%20%20L_NO_TOUCH%20%3D%20false%3B%0A%20%20%20%20%20%20%20%20%20%20%20%20L_DISABLE_3D%20%3D%20false%3B%0A%20%20%20%20%20%20%20%20%3C/script%3E%0A%20%20%20%20%0A%20%20%20%20%3Cscript%20src%3D%22https%3A//cdn.jsdelivr.net/npm/leaflet%401.6.0/dist/leaflet.js%22%3E%3C/script%3E%0A%20%20%20%20%3Cscript%20src%3D%22https%3A//code.jquery.com/jquery-1.12.4.min.js%22%3E%3C/script%3E%0A%20%20%20%20%3Cscript%20src%3D%22https%3A//maxcdn.bootstrapcdn.com/bootstrap/3.2.0/js/bootstrap.min.js%22%3E%3C/script%3E%0A%20%20%20%20%3Cscript%20src%3D%22https%3A//cdnjs.cloudflare.com/ajax/libs/Leaflet.awesome-markers/2.0.2/leaflet.awesome-markers.js%22%3E%3C/script%3E%0A%20%20%20%20%3Clink%20rel%3D%22stylesheet%22%20href%3D%22https%3A//cdn.jsdelivr.net/npm/leaflet%401.6.0/dist/leaflet.css%22/%3E%0A%20%20%20%20%3Clink%20rel%3D%22stylesheet%22%20href%3D%22https%3A//maxcdn.bootstrapcdn.com/bootstrap/3.2.0/css/bootstrap.min.css%22/%3E%0A%20%20%20%20%3Clink%20rel%3D%22stylesheet%22%20href%3D%22https%3A//maxcdn.bootstrapcdn.com/bootstrap/3.2.0/css/bootstrap-theme.min.css%22/%3E%0A%20%20%20%20%3Clink%20rel%3D%22stylesheet%22%20href%3D%22https%3A//maxcdn.bootstrapcdn.com/font-awesome/4.6.3/css/font-awesome.min.css%22/%3E%0A%20%20%20%20%3Clink%20rel%3D%22stylesheet%22%20href%3D%22https%3A//cdnjs.cloudflare.com/ajax/libs/Leaflet.awesome-markers/2.0.2/leaflet.awesome-markers.css%22/%3E%0A%20%20%20%20%3Clink%20rel%3D%22stylesheet%22%20href%3D%22https%3A//rawcdn.githack.com/python-visualization/folium/master/folium/templates/leaflet.awesome.rotate.css%22/%3E%0A%20%20%20%20%3Cstyle%3Ehtml%2C%20body%20%7Bwidth%3A%20100%25%3Bheight%3A%20100%25%3Bmargin%3A%200%3Bpadding%3A%200%3B%7D%3C/style%3E%0A%20%20%20%20%3Cstyle%3E%23map%20%7Bposition%3Aabsolute%3Btop%3A0%3Bbottom%3A0%3Bright%3A0%3Bleft%3A0%3B%7D%3C/style%3E%0A%20%20%20%20%0A%20%20%20%20%20%20%20%20%20%20%20%20%3Cmeta%20name%3D%22viewport%22%20content%3D%22width%3Ddevice-width%2C%0A%20%20%20%20%20%20%20%20%20%20%20%20%20%20%20%20initial-scale%3D1.0%2C%20maximum-scale%3D1.0%2C%20user-scalable%3Dno%22%20/%3E%0A%20%20%20%20%20%20%20%20%20%20%20%20%3Cstyle%3E%0A%20%20%20%20%20%20%20%20%20%20%20%20%20%20%20%20%23map_100ee81b660546f489f07690c3731f6a%20%7B%0A%20%20%20%20%20%20%20%20%20%20%20%20%20%20%20%20%20%20%20%20position%3A%20relative%3B%0A%20%20%20%20%20%20%20%20%20%20%20%20%20%20%20%20%20%20%20%20width%3A%20100.0%25%3B%0A%20%20%20%20%20%20%20%20%20%20%20%20%20%20%20%20%20%20%20%20height%3A%20100.0%25%3B%0A%20%20%20%20%20%20%20%20%20%20%20%20%20%20%20%20%20%20%20%20left%3A%200.0%25%3B%0A%20%20%20%20%20%20%20%20%20%20%20%20%20%20%20%20%20%20%20%20top%3A%200.0%25%3B%0A%20%20%20%20%20%20%20%20%20%20%20%20%20%20%20%20%7D%0A%20%20%20%20%20%20%20%20%20%20%20%20%3C/style%3E%0A%20%20%20%20%20%20%20%20%0A%20%20%20%20%3Cscript%20src%3D%22https%3A//cdnjs.cloudflare.com/ajax/libs/d3/3.5.5/d3.min.js%22%3E%3C/script%3E%0A%3C/head%3E%0A%3Cbody%3E%20%20%20%20%0A%20%20%20%20%0A%20%20%20%20%20%20%20%20%20%20%20%20%3Cdiv%20class%3D%22folium-map%22%20id%3D%22map_100ee81b660546f489f07690c3731f6a%22%20%3E%3C/div%3E%0A%20%20%20%20%20%20%20%20%0A%3C/body%3E%0A%3Cscript%3E%20%20%20%20%0A%20%20%20%20%0A%20%20%20%20%20%20%20%20%20%20%20%20var%20map_100ee81b660546f489f07690c3731f6a%20%3D%20L.map%28%0A%20%20%20%20%20%20%20%20%20%20%20%20%20%20%20%20%22map_100ee81b660546f489f07690c3731f6a%22%2C%0A%20%20%20%20%20%20%20%20%20%20%20%20%20%20%20%20%7B%0A%20%20%20%20%20%20%20%20%20%20%20%20%20%20%20%20%20%20%20%20center%3A%20%5B37.5502%2C%20126.982%5D%2C%0A%20%20%20%20%20%20%20%20%20%20%20%20%20%20%20%20%20%20%20%20crs%3A%20L.CRS.EPSG3857%2C%0A%20%20%20%20%20%20%20%20%20%20%20%20%20%20%20%20%20%20%20%20zoom%3A%2010.5%2C%0A%20%20%20%20%20%20%20%20%20%20%20%20%20%20%20%20%20%20%20%20zoomControl%3A%20true%2C%0A%20%20%20%20%20%20%20%20%20%20%20%20%20%20%20%20%20%20%20%20preferCanvas%3A%20false%2C%0A%20%20%20%20%20%20%20%20%20%20%20%20%20%20%20%20%7D%0A%20%20%20%20%20%20%20%20%20%20%20%20%29%3B%0A%0A%20%20%20%20%20%20%20%20%20%20%20%20%0A%0A%20%20%20%20%20%20%20%20%0A%20%20%20%20%0A%20%20%20%20%20%20%20%20%20%20%20%20var%20tile_layer_876f2098064f466dbd9cddd0d535eb7b%20%3D%20L.tileLayer%28%0A%20%20%20%20%20%20%20%20%20%20%20%20%20%20%20%20%22https%3A//stamen-tiles-%7Bs%7D.a.ssl.fastly.net/toner/%7Bz%7D/%7Bx%7D/%7By%7D.png%22%2C%0A%20%20%20%20%20%20%20%20%20%20%20%20%20%20%20%20%7B%22attribution%22%3A%20%22Map%20tiles%20by%20%5Cu003ca%20href%3D%5C%22http%3A//stamen.com%5C%22%5Cu003eStamen%20Design%5Cu003c/a%5Cu003e%2C%20under%20%5Cu003ca%20href%3D%5C%22http%3A//creativecommons.org/licenses/by/3.0%5C%22%5Cu003eCC%20BY%203.0%5Cu003c/a%5Cu003e.%20Data%20by%20%5Cu0026copy%3B%20%5Cu003ca%20href%3D%5C%22http%3A//openstreetmap.org%5C%22%5Cu003eOpenStreetMap%5Cu003c/a%5Cu003e%2C%20under%20%5Cu003ca%20href%3D%5C%22http%3A//www.openstreetmap.org/copyright%5C%22%5Cu003eODbL%5Cu003c/a%5Cu003e.%22%2C%20%22detectRetina%22%3A%20false%2C%20%22maxNativeZoom%22%3A%2018%2C%20%22maxZoom%22%3A%2018%2C%20%22minZoom%22%3A%200%2C%20%22noWrap%22%3A%20false%2C%20%22opacity%22%3A%201%2C%20%22subdomains%22%3A%20%22abc%22%2C%20%22tms%22%3A%20false%7D%0A%20%20%20%20%20%20%20%20%20%20%20%20%29.addTo%28map_100ee81b660546f489f07690c3731f6a%29%3B%0A%20%20%20%20%20%20%20%20%0A%20%20%20%20%0A%20%20%20%20%20%20%20%20%20%20%20%20var%20choropleth_617d679d236d49c58a5d2137ef06c030%20%3D%20L.featureGroup%28%0A%20%20%20%20%20%20%20%20%20%20%20%20%20%20%20%20%7B%7D%0A%20%20%20%20%20%20%20%20%20%20%20%20%29.addTo%28map_100ee81b660546f489f07690c3731f6a%29%3B%0A%20%20%20%20%20%20%20%20%0A%20%20%20%20%0A%20%20%20%20%20%20%20%20function%20geo_json_11c1a7e053294d808a01f4b0a8f5ae21_styler%28feature%29%20%7B%0A%20%20%20%20%20%20%20%20%20%20%20%20switch%28feature.id%29%20%7B%0A%20%20%20%20%20%20%20%20%20%20%20%20%20%20%20%20case%20%22%5Cuac15%5Cub3d9%5Cuad6c%22%3A%20case%20%22%5Cuc11c%5Cucd08%5Cuad6c%22%3A%20case%20%22%5Cuc601%5Cub4f1%5Cud3ec%5Cuad6c%22%3A%20case%20%22%5Cub9c8%5Cud3ec%5Cuad6c%22%3A%20case%20%22%5Cuc131%5Cub3d9%5Cuad6c%22%3A%20%0A%20%20%20%20%20%20%20%20%20%20%20%20%20%20%20%20%20%20%20%20return%20%7B%22color%22%3A%20%22black%22%2C%20%22fillColor%22%3A%20%22%23d4b9da%22%2C%20%22fillOpacity%22%3A%200.6%2C%20%22opacity%22%3A%201%2C%20%22weight%22%3A%201%7D%3B%0A%20%20%20%20%20%20%20%20%20%20%20%20%20%20%20%20case%20%22%5Cuac15%5Cub0a8%5Cuad6c%22%3A%20%0A%20%20%20%20%20%20%20%20%20%20%20%20%20%20%20%20%20%20%20%20return%20%7B%22color%22%3A%20%22black%22%2C%20%22fillColor%22%3A%20%22%23c994c7%22%2C%20%22fillOpacity%22%3A%200.6%2C%20%22opacity%22%3A%201%2C%20%22weight%22%3A%201%7D%3B%0A%20%20%20%20%20%20%20%20%20%20%20%20%20%20%20%20case%20%22%5Cuc6a9%5Cuc0b0%5Cuad6c%22%3A%20case%20%22%5Cuc911%5Cuad6c%22%3A%20%0A%20%20%20%20%20%20%20%20%20%20%20%20%20%20%20%20%20%20%20%20return%20%7B%22color%22%3A%20%22black%22%2C%20%22fillColor%22%3A%20%22%23980043%22%2C%20%22fillOpacity%22%3A%200.6%2C%20%22opacity%22%3A%201%2C%20%22weight%22%3A%201%7D%3B%0A%20%20%20%20%20%20%20%20%20%20%20%20%20%20%20%20case%20%22%5Cuc885%5Cub85c%5Cuad6c%22%3A%20%0A%20%20%20%20%20%20%20%20%20%20%20%20%20%20%20%20%20%20%20%20return%20%7B%22color%22%3A%20%22black%22%2C%20%22fillColor%22%3A%20%22%23dd1c77%22%2C%20%22fillOpacity%22%3A%200.6%2C%20%22opacity%22%3A%201%2C%20%22weight%22%3A%201%7D%3B%0A%20%20%20%20%20%20%20%20%20%20%20%20%20%20%20%20default%3A%0A%20%20%20%20%20%20%20%20%20%20%20%20%20%20%20%20%20%20%20%20return%20%7B%22color%22%3A%20%22black%22%2C%20%22fillColor%22%3A%20%22%23f1eef6%22%2C%20%22fillOpacity%22%3A%200.6%2C%20%22opacity%22%3A%201%2C%20%22weight%22%3A%201%7D%3B%0A%20%20%20%20%20%20%20%20%20%20%20%20%7D%0A%20%20%20%20%20%20%20%20%7D%0A%20%20%20%20%20%20%20%20function%20geo_json_11c1a7e053294d808a01f4b0a8f5ae21_onEachFeature%28feature%2C%20layer%29%20%7B%0A%20%20%20%20%20%20%20%20%20%20%20%20layer.on%28%7B%0A%20%20%20%20%20%20%20%20%20%20%20%20%20%20%20%20click%3A%20function%28e%29%20%7B%0A%20%20%20%20%20%20%20%20%20%20%20%20%20%20%20%20%20%20%20%20map_100ee81b660546f489f07690c3731f6a.fitBounds%28e.target.getBounds%28%29%29%3B%0A%20%20%20%20%20%20%20%20%20%20%20%20%20%20%20%20%7D%0A%20%20%20%20%20%20%20%20%20%20%20%20%7D%29%3B%0A%20%20%20%20%20%20%20%20%7D%3B%0A%20%20%20%20%20%20%20%20var%20geo_json_11c1a7e053294d808a01f4b0a8f5ae21%20%3D%20L.geoJson%28null%2C%20%7B%0A%20%20%20%20%20%20%20%20%20%20%20%20%20%20%20%20onEachFeature%3A%20geo_json_11c1a7e053294d808a01f4b0a8f5ae21_onEachFeature%2C%0A%20%20%20%20%20%20%20%20%20%20%20%20%0A%20%20%20%20%20%20%20%20%20%20%20%20%20%20%20%20style%3A%20geo_json_11c1a7e053294d808a01f4b0a8f5ae21_styler%2C%0A%20%20%20%20%20%20%20%20%7D%29.addTo%28choropleth_617d679d236d49c58a5d2137ef06c030%29%3B%0A%0A%20%20%20%20%20%20%20%20function%20geo_json_11c1a7e053294d808a01f4b0a8f5ae21_add%20%28data%29%20%7B%0A%20%20%20%20%20%20%20%20%20%20%20%20geo_json_11c1a7e053294d808a01f4b0a8f5ae21.addData%28data%29%3B%0A%20%20%20%20%20%20%20%20%7D%0A%20%20%20%20%20%20%20%20%20%20%20%20geo_json_11c1a7e053294d808a01f4b0a8f5ae21_add%28%7B%22features%22%3A%20%5B%7B%22geometry%22%3A%20%7B%22coordinates%22%3A%20%5B%5B%5B127.11519584981606%2C%2037.557533180704915%5D%2C%20%5B127.16683184366129%2C%2037.57672487388627%5D%2C%20%5B127.18408792330152%2C%2037.55814280369575%5D%2C%20%5B127.16530984307447%2C%2037.54221851258693%5D%2C%20%5B127.14672806823502%2C%2037.51415680680291%5D%2C%20%5B127.12123165719615%2C%2037.52528270089%5D%2C%20%5B127.1116764203608%2C%2037.540669955324965%5D%2C%20%5B127.11519584981606%2C%2037.557533180704915%5D%5D%5D%2C%20%22type%22%3A%20%22Polygon%22%7D%2C%20%22id%22%3A%20%22%5Cuac15%5Cub3d9%5Cuad6c%22%2C%20%22properties%22%3A%20%7B%22base_year%22%3A%20%222013%22%2C%20%22code%22%3A%20%2211250%22%2C%20%22name%22%3A%20%22%5Cuac15%5Cub3d9%5Cuad6c%22%2C%20%22name_eng%22%3A%20%22Gangdong-gu%22%7D%2C%20%22type%22%3A%20%22Feature%22%7D%2C%20%7B%22geometry%22%3A%20%7B%22coordinates%22%3A%20%5B%5B%5B127.0690698130372%2C%2037.522279423505026%5D%2C%20%5B127.10087519791962%2C%2037.524841220167055%5D%2C%20%5B127.1116764203608%2C%2037.540669955324965%5D%2C%20%5B127.12123165719615%2C%2037.52528270089%5D%2C%20%5B127.14672806823502%2C%2037.51415680680291%5D%2C%20%5B127.1634944215765%2C%2037.497445406097484%5D%2C%20%5B127.14206058413274%2C%2037.47089819098501%5D%2C%20%5B127.12440571080893%2C%2037.46240445587048%5D%2C%20%5B127.11117085201238%2C%2037.485708381512445%5D%2C%20%5B127.0719146000724%2C%2037.50224013587669%5D%2C%20%5B127.0690698130372%2C%2037.522279423505026%5D%5D%5D%2C%20%22type%22%3A%20%22Polygon%22%7D%2C%20%22id%22%3A%20%22%5Cuc1a1%5Cud30c%5Cuad6c%22%2C%20%22properties%22%3A%20%7B%22base_year%22%3A%20%222013%22%2C%20%22code%22%3A%20%2211240%22%2C%20%22name%22%3A%20%22%5Cuc1a1%5Cud30c%5Cuad6c%22%2C%20%22name_eng%22%3A%20%22Songpa-gu%22%7D%2C%20%22type%22%3A%20%22Feature%22%7D%2C%20%7B%22geometry%22%3A%20%7B%22coordinates%22%3A%20%5B%5B%5B127.05867359288398%2C%2037.52629974922568%5D%2C%20%5B127.0690698130372%2C%2037.522279423505026%5D%2C%20%5B127.0719146000724%2C%2037.50224013587669%5D%2C%20%5B127.11117085201238%2C%2037.485708381512445%5D%2C%20%5B127.12440571080893%2C%2037.46240445587048%5D%2C%20%5B127.09842759318751%2C%2037.45862253857461%5D%2C%20%5B127.08640440578156%2C%2037.472697935184655%5D%2C%20%5B127.0559170481904%2C%2037.4659228914077%5D%2C%20%5B127.03621915098798%2C%2037.48175802427603%5D%2C%20%5B127.01397119667513%2C%2037.52503988289669%5D%2C%20%5B127.02302831890559%2C%2037.53231899582663%5D%2C%20%5B127.05867359288398%2C%2037.52629974922568%5D%5D%5D%2C%20%22type%22%3A%20%22Polygon%22%7D%2C%20%22id%22%3A%20%22%5Cuac15%5Cub0a8%5Cuad6c%22%2C%20%22properties%22%3A%20%7B%22base_year%22%3A%20%222013%22%2C%20%22code%22%3A%20%2211230%22%2C%20%22name%22%3A%20%22%5Cuac15%5Cub0a8%5Cuad6c%22%2C%20%22name_eng%22%3A%20%22Gangnam-gu%22%7D%2C%20%22type%22%3A%20%22Feature%22%7D%2C%20%7B%22geometry%22%3A%20%7B%22coordinates%22%3A%20%5B%5B%5B127.01397119667513%2C%2037.52503988289669%5D%2C%20%5B127.03621915098798%2C%2037.48175802427603%5D%2C%20%5B127.0559170481904%2C%2037.4659228914077%5D%2C%20%5B127.08640440578156%2C%2037.472697935184655%5D%2C%20%5B127.09842759318751%2C%2037.45862253857461%5D%2C%20%5B127.09046928565951%2C%2037.44296826114185%5D%2C%20%5B127.06778107605433%2C%2037.426197424057314%5D%2C%20%5B127.04957232987142%2C%2037.42805836845694%5D%2C%20%5B127.03881782597922%2C%2037.45382039851715%5D%2C%20%5B126.99072073195462%2C%2037.455326143310025%5D%2C%20%5B126.98367668291802%2C%2037.473856492692086%5D%2C%20%5B126.98223807916081%2C%2037.509314966770326%5D%2C%20%5B127.01397119667513%2C%2037.52503988289669%5D%5D%5D%2C%20%22type%22%3A%20%22Polygon%22%7D%2C%20%22id%22%3A%20%22%5Cuc11c%5Cucd08%5Cuad6c%22%2C%20%22properties%22%3A%20%7B%22base_year%22%3A%20%222013%22%2C%20%22code%22%3A%20%2211220%22%2C%20%22name%22%3A%20%22%5Cuc11c%5Cucd08%5Cuad6c%22%2C%20%22name_eng%22%3A%20%22Seocho-gu%22%7D%2C%20%22type%22%3A%20%22Feature%22%7D%2C%20%7B%22geometry%22%3A%20%7B%22coordinates%22%3A%20%5B%5B%5B126.98367668291802%2C%2037.473856492692086%5D%2C%20%5B126.99072073195462%2C%2037.455326143310025%5D%2C%20%5B126.96520439085143%2C%2037.438249784006246%5D%2C%20%5B126.95000001010182%2C%2037.43613451165719%5D%2C%20%5B126.93084408056525%2C%2037.447382928333994%5D%2C%20%5B126.9167728146601%2C%2037.45490566423789%5D%2C%20%5B126.90156094129895%2C%2037.47753842789901%5D%2C%20%5B126.90531975801812%2C%2037.48218087575429%5D%2C%20%5B126.94922661389508%2C%2037.49125437495649%5D%2C%20%5B126.9725891850662%2C%2037.472561363278125%5D%2C%20%5B126.98367668291802%2C%2037.473856492692086%5D%5D%5D%2C%20%22type%22%3A%20%22Polygon%22%7D%2C%20%22id%22%3A%20%22%5Cuad00%5Cuc545%5Cuad6c%22%2C%20%22properties%22%3A%20%7B%22base_year%22%3A%20%222013%22%2C%20%22code%22%3A%20%2211210%22%2C%20%22name%22%3A%20%22%5Cuad00%5Cuc545%5Cuad6c%22%2C%20%22name_eng%22%3A%20%22Gwanak-gu%22%7D%2C%20%22type%22%3A%20%22Feature%22%7D%2C%20%7B%22geometry%22%3A%20%7B%22coordinates%22%3A%20%5B%5B%5B126.98223807916081%2C%2037.509314966770326%5D%2C%20%5B126.98367668291802%2C%2037.473856492692086%5D%2C%20%5B126.9725891850662%2C%2037.472561363278125%5D%2C%20%5B126.94922661389508%2C%2037.49125437495649%5D%2C%20%5B126.90531975801812%2C%2037.48218087575429%5D%2C%20%5B126.92177893174825%2C%2037.494889877415176%5D%2C%20%5B126.92810628828279%2C%2037.51329595732015%5D%2C%20%5B126.95249990298159%2C%2037.51722500741813%5D%2C%20%5B126.98223807916081%2C%2037.509314966770326%5D%5D%5D%2C%20%22type%22%3A%20%22Polygon%22%7D%2C%20%22id%22%3A%20%22%5Cub3d9%5Cuc791%5Cuad6c%22%2C%20%22properties%22%3A%20%7B%22base_year%22%3A%20%222013%22%2C%20%22code%22%3A%20%2211200%22%2C%20%22name%22%3A%20%22%5Cub3d9%5Cuc791%5Cuad6c%22%2C%20%22name_eng%22%3A%20%22Dongjak-gu%22%7D%2C%20%22type%22%3A%20%22Feature%22%7D%2C%20%7B%22geometry%22%3A%20%7B%22coordinates%22%3A%20%5B%5B%5B126.89184663862764%2C%2037.547373974997114%5D%2C%20%5B126.94566733083212%2C%2037.526617542453366%5D%2C%20%5B126.95249990298159%2C%2037.51722500741813%5D%2C%20%5B126.92810628828279%2C%2037.51329595732015%5D%2C%20%5B126.92177893174825%2C%2037.494889877415176%5D%2C%20%5B126.90531975801812%2C%2037.48218087575429%5D%2C%20%5B126.89594776782485%2C%2037.504675281309176%5D%2C%20%5B126.88156402353862%2C%2037.513970034765684%5D%2C%20%5B126.88825757860099%2C%2037.54079733630232%5D%2C%20%5B126.89184663862764%2C%2037.547373974997114%5D%5D%5D%2C%20%22type%22%3A%20%22Polygon%22%7D%2C%20%22id%22%3A%20%22%5Cuc601%5Cub4f1%5Cud3ec%5Cuad6c%22%2C%20%22properties%22%3A%20%7B%22base_year%22%3A%20%222013%22%2C%20%22code%22%3A%20%2211190%22%2C%20%22name%22%3A%20%22%5Cuc601%5Cub4f1%5Cud3ec%5Cuad6c%22%2C%20%22name_eng%22%3A%20%22Yeongdeungpo-gu%22%7D%2C%20%22type%22%3A%20%22Feature%22%7D%2C%20%7B%22geometry%22%3A%20%7B%22coordinates%22%3A%20%5B%5B%5B126.90156094129895%2C%2037.47753842789901%5D%2C%20%5B126.9167728146601%2C%2037.45490566423789%5D%2C%20%5B126.93084408056525%2C%2037.447382928333994%5D%2C%20%5B126.9025831711697%2C%2037.434549366349124%5D%2C%20%5B126.87683271502428%2C%2037.482576591607305%5D%2C%20%5B126.90156094129895%2C%2037.47753842789901%5D%5D%5D%2C%20%22type%22%3A%20%22Polygon%22%7D%2C%20%22id%22%3A%20%22%5Cuae08%5Cucc9c%5Cuad6c%22%2C%20%22properties%22%3A%20%7B%22base_year%22%3A%20%222013%22%2C%20%22code%22%3A%20%2211180%22%2C%20%22name%22%3A%20%22%5Cuae08%5Cucc9c%5Cuad6c%22%2C%20%22name_eng%22%3A%20%22Geumcheon-gu%22%7D%2C%20%22type%22%3A%20%22Feature%22%7D%2C%20%7B%22geometry%22%3A%20%7B%22coordinates%22%3A%20%5B%5B%5B126.82688081517314%2C%2037.50548972232896%5D%2C%20%5B126.88156402353862%2C%2037.513970034765684%5D%2C%20%5B126.89594776782485%2C%2037.504675281309176%5D%2C%20%5B126.90531975801812%2C%2037.48218087575429%5D%2C%20%5B126.90156094129895%2C%2037.47753842789901%5D%2C%20%5B126.87683271502428%2C%2037.482576591607305%5D%2C%20%5B126.84762676054953%2C%2037.47146723936323%5D%2C%20%5B126.83549485076196%2C%2037.474098236975095%5D%2C%20%5B126.82264796791348%2C%2037.4878476492147%5D%2C%20%5B126.82504736331406%2C%2037.50302612640443%5D%2C%20%5B126.82688081517314%2C%2037.50548972232896%5D%5D%5D%2C%20%22type%22%3A%20%22Polygon%22%7D%2C%20%22id%22%3A%20%22%5Cuad6c%5Cub85c%5Cuad6c%22%2C%20%22properties%22%3A%20%7B%22base_year%22%3A%20%222013%22%2C%20%22code%22%3A%20%2211170%22%2C%20%22name%22%3A%20%22%5Cuad6c%5Cub85c%5Cuad6c%22%2C%20%22name_eng%22%3A%20%22Guro-gu%22%7D%2C%20%22type%22%3A%20%22Feature%22%7D%2C%20%7B%22geometry%22%3A%20%7B%22coordinates%22%3A%20%5B%5B%5B126.79575768552907%2C%2037.57881087633202%5D%2C%20%5B126.80702115023597%2C%2037.60123001013228%5D%2C%20%5B126.82251438477105%2C%2037.5880430810082%5D%2C%20%5B126.85984199399667%2C%2037.571847855292745%5D%2C%20%5B126.89184663862764%2C%2037.547373974997114%5D%2C%20%5B126.88825757860099%2C%2037.54079733630232%5D%2C%20%5B126.86637464321238%2C%2037.54859191094823%5D%2C%20%5B126.86610073476395%2C%2037.52699964144669%5D%2C%20%5B126.84257291943153%2C%2037.52373707805596%5D%2C%20%5B126.8242331426722%2C%2037.53788078753248%5D%2C%20%5B126.77324417717703%2C%2037.5459123450554%5D%2C%20%5B126.76979180579352%2C%2037.55139183008809%5D%2C%20%5B126.79575768552907%2C%2037.57881087633202%5D%5D%5D%2C%20%22type%22%3A%20%22Polygon%22%7D%2C%20%22id%22%3A%20%22%5Cuac15%5Cuc11c%5Cuad6c%22%2C%20%22properties%22%3A%20%7B%22base_year%22%3A%20%222013%22%2C%20%22code%22%3A%20%2211160%22%2C%20%22name%22%3A%20%22%5Cuac15%5Cuc11c%5Cuad6c%22%2C%20%22name_eng%22%3A%20%22Gangseo-gu%22%7D%2C%20%22type%22%3A%20%22Feature%22%7D%2C%20%7B%22geometry%22%3A%20%7B%22coordinates%22%3A%20%5B%5B%5B126.8242331426722%2C%2037.53788078753248%5D%2C%20%5B126.84257291943153%2C%2037.52373707805596%5D%2C%20%5B126.86610073476395%2C%2037.52699964144669%5D%2C%20%5B126.86637464321238%2C%2037.54859191094823%5D%2C%20%5B126.88825757860099%2C%2037.54079733630232%5D%2C%20%5B126.88156402353862%2C%2037.513970034765684%5D%2C%20%5B126.82688081517314%2C%2037.50548972232896%5D%2C%20%5B126.8242331426722%2C%2037.53788078753248%5D%5D%5D%2C%20%22type%22%3A%20%22Polygon%22%7D%2C%20%22id%22%3A%20%22%5Cuc591%5Cucc9c%5Cuad6c%22%2C%20%22properties%22%3A%20%7B%22base_year%22%3A%20%222013%22%2C%20%22code%22%3A%20%2211150%22%2C%20%22name%22%3A%20%22%5Cuc591%5Cucc9c%5Cuad6c%22%2C%20%22name_eng%22%3A%20%22Yangcheon-gu%22%7D%2C%20%22type%22%3A%20%22Feature%22%7D%2C%20%7B%22geometry%22%3A%20%7B%22coordinates%22%3A%20%5B%5B%5B126.90522065831053%2C%2037.57409700522574%5D%2C%20%5B126.93898161798973%2C%2037.552310003728124%5D%2C%20%5B126.96358226710812%2C%2037.55605635475154%5D%2C%20%5B126.96448570553055%2C%2037.548705692021635%5D%2C%20%5B126.94566733083212%2C%2037.526617542453366%5D%2C%20%5B126.89184663862764%2C%2037.547373974997114%5D%2C%20%5B126.85984199399667%2C%2037.571847855292745%5D%2C%20%5B126.88433284773288%2C%2037.588143322880526%5D%2C%20%5B126.90522065831053%2C%2037.57409700522574%5D%5D%5D%2C%20%22type%22%3A%20%22Polygon%22%7D%2C%20%22id%22%3A%20%22%5Cub9c8%5Cud3ec%5Cuad6c%22%2C%20%22properties%22%3A%20%7B%22base_year%22%3A%20%222013%22%2C%20%22code%22%3A%20%2211140%22%2C%20%22name%22%3A%20%22%5Cub9c8%5Cud3ec%5Cuad6c%22%2C%20%22name_eng%22%3A%20%22Mapo-gu%22%7D%2C%20%22type%22%3A%20%22Feature%22%7D%2C%20%7B%22geometry%22%3A%20%7B%22coordinates%22%3A%20%5B%5B%5B126.9524752030572%2C%2037.60508692737045%5D%2C%20%5B126.95565425846463%2C%2037.576080790881456%5D%2C%20%5B126.96873633279075%2C%2037.56313604690827%5D%2C%20%5B126.96358226710812%2C%2037.55605635475154%5D%2C%20%5B126.93898161798973%2C%2037.552310003728124%5D%2C%20%5B126.90522065831053%2C%2037.57409700522574%5D%2C%20%5B126.9524752030572%2C%2037.60508692737045%5D%5D%5D%2C%20%22type%22%3A%20%22Polygon%22%7D%2C%20%22id%22%3A%20%22%5Cuc11c%5Cub300%5Cubb38%5Cuad6c%22%2C%20%22properties%22%3A%20%7B%22base_year%22%3A%20%222013%22%2C%20%22code%22%3A%20%2211130%22%2C%20%22name%22%3A%20%22%5Cuc11c%5Cub300%5Cubb38%5Cuad6c%22%2C%20%22name_eng%22%3A%20%22Seodaemun-gu%22%7D%2C%20%22type%22%3A%20%22Feature%22%7D%2C%20%7B%22geometry%22%3A%20%7B%22coordinates%22%3A%20%5B%5B%5B126.9738864128702%2C%2037.62949634786888%5D%2C%20%5B126.95427017006129%2C%2037.622033431339425%5D%2C%20%5B126.9524752030572%2C%2037.60508692737045%5D%2C%20%5B126.90522065831053%2C%2037.57409700522574%5D%2C%20%5B126.88433284773288%2C%2037.588143322880526%5D%2C%20%5B126.90396681003595%2C%2037.59227403419942%5D%2C%20%5B126.90303066177668%2C%2037.609977911401344%5D%2C%20%5B126.91455481429648%2C%2037.64150050996935%5D%2C%20%5B126.956473797387%2C%2037.652480737339445%5D%2C%20%5B126.9738864128702%2C%2037.62949634786888%5D%5D%5D%2C%20%22type%22%3A%20%22Polygon%22%7D%2C%20%22id%22%3A%20%22%5Cuc740%5Cud3c9%5Cuad6c%22%2C%20%22properties%22%3A%20%7B%22base_year%22%3A%20%222013%22%2C%20%22code%22%3A%20%2211120%22%2C%20%22name%22%3A%20%22%5Cuc740%5Cud3c9%5Cuad6c%22%2C%20%22name_eng%22%3A%20%22Eunpyeong-gu%22%7D%2C%20%22type%22%3A%20%22Feature%22%7D%2C%20%7B%22geometry%22%3A%20%7B%22coordinates%22%3A%20%5B%5B%5B127.0838752703195%2C%2037.69359534202034%5D%2C%20%5B127.09706391309695%2C%2037.686383719372294%5D%2C%20%5B127.09440766298717%2C%2037.64713490473045%5D%2C%20%5B127.11326795855199%2C%2037.639622905315925%5D%2C%20%5B127.10782277688129%2C%2037.61804244241069%5D%2C%20%5B127.07351243825278%2C%2037.61283660342313%5D%2C%20%5B127.05209373568619%2C%2037.62164065487782%5D%2C%20%5B127.04358800895609%2C%2037.62848931298715%5D%2C%20%5B127.05800075220091%2C%2037.64318263878276%5D%2C%20%5B127.05288479710485%2C%2037.68423857084347%5D%2C%20%5B127.0838752703195%2C%2037.69359534202034%5D%5D%5D%2C%20%22type%22%3A%20%22Polygon%22%7D%2C%20%22id%22%3A%20%22%5Cub178%5Cuc6d0%5Cuad6c%22%2C%20%22properties%22%3A%20%7B%22base_year%22%3A%20%222013%22%2C%20%22code%22%3A%20%2211110%22%2C%20%22name%22%3A%20%22%5Cub178%5Cuc6d0%5Cuad6c%22%2C%20%22name_eng%22%3A%20%22Nowon-gu%22%7D%2C%20%22type%22%3A%20%22Feature%22%7D%2C%20%7B%22geometry%22%3A%20%7B%22coordinates%22%3A%20%5B%5B%5B127.05288479710485%2C%2037.68423857084347%5D%2C%20%5B127.05800075220091%2C%2037.64318263878276%5D%2C%20%5B127.04358800895609%2C%2037.62848931298715%5D%2C%20%5B127.01465935892466%2C%2037.64943687496812%5D%2C%20%5B127.02062116141389%2C%2037.667173575971205%5D%2C%20%5B127.01039666042071%2C%2037.681894589603594%5D%2C%20%5B127.01795099203432%2C%2037.69824412775662%5D%2C%20%5B127.05288479710485%2C%2037.68423857084347%5D%5D%5D%2C%20%22type%22%3A%20%22Polygon%22%7D%2C%20%22id%22%3A%20%22%5Cub3c4%5Cubd09%5Cuad6c%22%2C%20%22properties%22%3A%20%7B%22base_year%22%3A%20%222013%22%2C%20%22code%22%3A%20%2211100%22%2C%20%22name%22%3A%20%22%5Cub3c4%5Cubd09%5Cuad6c%22%2C%20%22name_eng%22%3A%20%22Dobong-gu%22%7D%2C%20%22type%22%3A%20%22Feature%22%7D%2C%20%7B%22geometry%22%3A%20%7B%22coordinates%22%3A%20%5B%5B%5B126.99383903424%2C%2037.676681761199085%5D%2C%20%5B127.01039666042071%2C%2037.681894589603594%5D%2C%20%5B127.02062116141389%2C%2037.667173575971205%5D%2C%20%5B127.01465935892466%2C%2037.64943687496812%5D%2C%20%5B127.04358800895609%2C%2037.62848931298715%5D%2C%20%5B127.05209373568619%2C%2037.62164065487782%5D%2C%20%5B127.03892400992301%2C%2037.609715611023816%5D%2C%20%5B127.0128154749523%2C%2037.613652243470256%5D%2C%20%5B126.98672705513869%2C%2037.63377641288196%5D%2C%20%5B126.9817452676551%2C%2037.65209769387776%5D%2C%20%5B126.99383903424%2C%2037.676681761199085%5D%5D%5D%2C%20%22type%22%3A%20%22Polygon%22%7D%2C%20%22id%22%3A%20%22%5Cuac15%5Cubd81%5Cuad6c%22%2C%20%22properties%22%3A%20%7B%22base_year%22%3A%20%222013%22%2C%20%22code%22%3A%20%2211090%22%2C%20%22name%22%3A%20%22%5Cuac15%5Cubd81%5Cuad6c%22%2C%20%22name_eng%22%3A%20%22Gangbuk-gu%22%7D%2C%20%22type%22%3A%20%22Feature%22%7D%2C%20%7B%22geometry%22%3A%20%7B%22coordinates%22%3A%20%5B%5B%5B126.977175406416%2C%2037.62859715400388%5D%2C%20%5B126.98672705513869%2C%2037.63377641288196%5D%2C%20%5B127.0128154749523%2C%2037.613652243470256%5D%2C%20%5B127.03892400992301%2C%2037.609715611023816%5D%2C%20%5B127.05209373568619%2C%2037.62164065487782%5D%2C%20%5B127.07351243825278%2C%2037.61283660342313%5D%2C%20%5B127.07382707099227%2C%2037.60401928986419%5D%2C%20%5B127.042705222094%2C%2037.59239437593391%5D%2C%20%5B127.02527254528003%2C%2037.57524616245249%5D%2C%20%5B126.99348293358314%2C%2037.588565457216156%5D%2C%20%5B126.98879865992384%2C%2037.6118927319756%5D%2C%20%5B126.977175406416%2C%2037.62859715400388%5D%5D%5D%2C%20%22type%22%3A%20%22Polygon%22%7D%2C%20%22id%22%3A%20%22%5Cuc131%5Cubd81%5Cuad6c%22%2C%20%22properties%22%3A%20%7B%22base_year%22%3A%20%222013%22%2C%20%22code%22%3A%20%2211080%22%2C%20%22name%22%3A%20%22%5Cuc131%5Cubd81%5Cuad6c%22%2C%20%22name_eng%22%3A%20%22Seongbuk-gu%22%7D%2C%20%22type%22%3A%20%22Feature%22%7D%2C%20%7B%22geometry%22%3A%20%7B%22coordinates%22%3A%20%5B%5B%5B127.07351243825278%2C%2037.61283660342313%5D%2C%20%5B127.10782277688129%2C%2037.61804244241069%5D%2C%20%5B127.1201246020114%2C%2037.60178457598188%5D%2C%20%5B127.10304174249214%2C%2037.57076342290955%5D%2C%20%5B127.08068541280403%2C%2037.56906425519017%5D%2C%20%5B127.07382707099227%2C%2037.60401928986419%5D%2C%20%5B127.07351243825278%2C%2037.61283660342313%5D%5D%5D%2C%20%22type%22%3A%20%22Polygon%22%7D%2C%20%22id%22%3A%20%22%5Cuc911%5Cub791%5Cuad6c%22%2C%20%22properties%22%3A%20%7B%22base_year%22%3A%20%222013%22%2C%20%22code%22%3A%20%2211070%22%2C%20%22name%22%3A%20%22%5Cuc911%5Cub791%5Cuad6c%22%2C%20%22name_eng%22%3A%20%22Jungnang-gu%22%7D%2C%20%22type%22%3A%20%22Feature%22%7D%2C%20%7B%22geometry%22%3A%20%7B%22coordinates%22%3A%20%5B%5B%5B127.02527254528003%2C%2037.57524616245249%5D%2C%20%5B127.042705222094%2C%2037.59239437593391%5D%2C%20%5B127.07382707099227%2C%2037.60401928986419%5D%2C%20%5B127.08068541280403%2C%2037.56906425519017%5D%2C%20%5B127.07421053024362%2C%2037.55724769712085%5D%2C%20%5B127.05005601081567%2C%2037.567577612590846%5D%2C%20%5B127.02547266349976%2C%2037.568943552237734%5D%2C%20%5B127.02527254528003%2C%2037.57524616245249%5D%5D%5D%2C%20%22type%22%3A%20%22Polygon%22%7D%2C%20%22id%22%3A%20%22%5Cub3d9%5Cub300%5Cubb38%5Cuad6c%22%2C%20%22properties%22%3A%20%7B%22base_year%22%3A%20%222013%22%2C%20%22code%22%3A%20%2211060%22%2C%20%22name%22%3A%20%22%5Cub3d9%5Cub300%5Cubb38%5Cuad6c%22%2C%20%22name_eng%22%3A%20%22Dongdaemun-gu%22%7D%2C%20%22type%22%3A%20%22Feature%22%7D%2C%20%7B%22geometry%22%3A%20%7B%22coordinates%22%3A%20%5B%5B%5B127.08068541280403%2C%2037.56906425519017%5D%2C%20%5B127.10304174249214%2C%2037.57076342290955%5D%2C%20%5B127.11519584981606%2C%2037.557533180704915%5D%2C%20%5B127.1116764203608%2C%2037.540669955324965%5D%2C%20%5B127.10087519791962%2C%2037.524841220167055%5D%2C%20%5B127.0690698130372%2C%2037.522279423505026%5D%2C%20%5B127.05867359288398%2C%2037.52629974922568%5D%2C%20%5B127.07421053024362%2C%2037.55724769712085%5D%2C%20%5B127.08068541280403%2C%2037.56906425519017%5D%5D%5D%2C%20%22type%22%3A%20%22Polygon%22%7D%2C%20%22id%22%3A%20%22%5Cuad11%5Cuc9c4%5Cuad6c%22%2C%20%22properties%22%3A%20%7B%22base_year%22%3A%20%222013%22%2C%20%22code%22%3A%20%2211050%22%2C%20%22name%22%3A%20%22%5Cuad11%5Cuc9c4%5Cuad6c%22%2C%20%22name_eng%22%3A%20%22Gwangjin-gu%22%7D%2C%20%22type%22%3A%20%22Feature%22%7D%2C%20%7B%22geometry%22%3A%20%7B%22coordinates%22%3A%20%5B%5B%5B127.02547266349976%2C%2037.568943552237734%5D%2C%20%5B127.05005601081567%2C%2037.567577612590846%5D%2C%20%5B127.07421053024362%2C%2037.55724769712085%5D%2C%20%5B127.05867359288398%2C%2037.52629974922568%5D%2C%20%5B127.02302831890559%2C%2037.53231899582663%5D%2C%20%5B127.01070894177482%2C%2037.54118048964762%5D%2C%20%5B127.02547266349976%2C%2037.568943552237734%5D%5D%5D%2C%20%22type%22%3A%20%22Polygon%22%7D%2C%20%22id%22%3A%20%22%5Cuc131%5Cub3d9%5Cuad6c%22%2C%20%22properties%22%3A%20%7B%22base_year%22%3A%20%222013%22%2C%20%22code%22%3A%20%2211040%22%2C%20%22name%22%3A%20%22%5Cuc131%5Cub3d9%5Cuad6c%22%2C%20%22name_eng%22%3A%20%22Seongdong-gu%22%7D%2C%20%22type%22%3A%20%22Feature%22%7D%2C%20%7B%22geometry%22%3A%20%7B%22coordinates%22%3A%20%5B%5B%5B127.01070894177482%2C%2037.54118048964762%5D%2C%20%5B127.02302831890559%2C%2037.53231899582663%5D%2C%20%5B127.01397119667513%2C%2037.52503988289669%5D%2C%20%5B126.98223807916081%2C%2037.509314966770326%5D%2C%20%5B126.95249990298159%2C%2037.51722500741813%5D%2C%20%5B126.94566733083212%2C%2037.526617542453366%5D%2C%20%5B126.96448570553055%2C%2037.548705692021635%5D%2C%20%5B126.98752996903328%2C%2037.55094818807139%5D%2C%20%5B127.01070894177482%2C%2037.54118048964762%5D%5D%5D%2C%20%22type%22%3A%20%22Polygon%22%7D%2C%20%22id%22%3A%20%22%5Cuc6a9%5Cuc0b0%5Cuad6c%22%2C%20%22properties%22%3A%20%7B%22base_year%22%3A%20%222013%22%2C%20%22code%22%3A%20%2211030%22%2C%20%22name%22%3A%20%22%5Cuc6a9%5Cuc0b0%5Cuad6c%22%2C%20%22name_eng%22%3A%20%22Yongsan-gu%22%7D%2C%20%22type%22%3A%20%22Feature%22%7D%2C%20%7B%22geometry%22%3A%20%7B%22coordinates%22%3A%20%5B%5B%5B127.02547266349976%2C%2037.568943552237734%5D%2C%20%5B127.01070894177482%2C%2037.54118048964762%5D%2C%20%5B126.98752996903328%2C%2037.55094818807139%5D%2C%20%5B126.96448570553055%2C%2037.548705692021635%5D%2C%20%5B126.96358226710812%2C%2037.55605635475154%5D%2C%20%5B126.96873633279075%2C%2037.56313604690827%5D%2C%20%5B127.02547266349976%2C%2037.568943552237734%5D%5D%5D%2C%20%22type%22%3A%20%22Polygon%22%7D%2C%20%22id%22%3A%20%22%5Cuc911%5Cuad6c%22%2C%20%22properties%22%3A%20%7B%22base_year%22%3A%20%222013%22%2C%20%22code%22%3A%20%2211020%22%2C%20%22name%22%3A%20%22%5Cuc911%5Cuad6c%22%2C%20%22name_eng%22%3A%20%22Jung-gu%22%7D%2C%20%22type%22%3A%20%22Feature%22%7D%2C%20%7B%22geometry%22%3A%20%7B%22coordinates%22%3A%20%5B%5B%5B126.9738864128702%2C%2037.62949634786888%5D%2C%20%5B126.977175406416%2C%2037.62859715400388%5D%2C%20%5B126.98879865992384%2C%2037.6118927319756%5D%2C%20%5B126.99348293358314%2C%2037.588565457216156%5D%2C%20%5B127.02527254528003%2C%2037.57524616245249%5D%2C%20%5B127.02547266349976%2C%2037.568943552237734%5D%2C%20%5B126.96873633279075%2C%2037.56313604690827%5D%2C%20%5B126.95565425846463%2C%2037.576080790881456%5D%2C%20%5B126.9524752030572%2C%2037.60508692737045%5D%2C%20%5B126.95427017006129%2C%2037.622033431339425%5D%2C%20%5B126.9738864128702%2C%2037.62949634786888%5D%5D%5D%2C%20%22type%22%3A%20%22Polygon%22%7D%2C%20%22id%22%3A%20%22%5Cuc885%5Cub85c%5Cuad6c%22%2C%20%22properties%22%3A%20%7B%22base_year%22%3A%20%222013%22%2C%20%22code%22%3A%20%2211010%22%2C%20%22name%22%3A%20%22%5Cuc885%5Cub85c%5Cuad6c%22%2C%20%22name_eng%22%3A%20%22Jongno-gu%22%7D%2C%20%22type%22%3A%20%22Feature%22%7D%5D%2C%20%22type%22%3A%20%22FeatureCollection%22%7D%29%3B%0A%20%20%20%20%20%20%20%20%0A%20%20%20%20%0A%20%20%20%20var%20color_map_88b636616b7f4851bcd6ad1967fadca1%20%3D%20%7B%7D%3B%0A%0A%20%20%20%20%0A%20%20%20%20color_map_88b636616b7f4851bcd6ad1967fadca1.color%20%3D%20d3.scale.threshold%28%29%0A%20%20%20%20%20%20%20%20%20%20%20%20%20%20.domain%28%5B1623.6923076923076%2C%201624.6484353322028%2C%201625.604562972098%2C%201626.560690611993%2C%201627.5168182518883%2C%201628.4729458917834%2C%201629.4290735316786%2C%201630.385201171574%2C%201631.341328811469%2C%201632.2974564513643%2C%201633.2535840912594%2C%201634.2097117311546%2C%201635.1658393710497%2C%201636.121967010945%2C%201637.07809465084%2C%201638.0342222907352%2C%201638.9903499306304%2C%201639.9464775705255%2C%201640.9026052104207%2C%201641.8587328503158%2C%201642.8148604902112%2C%201643.7709881301064%2C%201644.7271157700015%2C%201645.6832434098967%2C%201646.6393710497919%2C%201647.595498689687%2C%201648.5516263295822%2C%201649.5077539694773%2C%201650.4638816093725%2C%201651.4200092492677%2C%201652.3761368891628%2C%201653.332264529058%2C%201654.2883921689531%2C%201655.2445198088485%2C%201656.2006474487437%2C%201657.1567750886388%2C%201658.112902728534%2C%201659.0690303684291%2C%201660.0251580083243%2C%201660.9812856482195%2C%201661.9374132881146%2C%201662.8935409280098%2C%201663.849668567905%2C%201664.8057962078%2C%201665.7619238476952%2C%201666.7180514875904%2C%201667.6741791274858%2C%201668.630306767381%2C%201669.586434407276%2C%201670.5425620471713%2C%201671.4986896870664%2C%201672.4548173269616%2C%201673.4109449668567%2C%201674.367072606752%2C%201675.323200246647%2C%201676.2793278865422%2C%201677.2354555264374%2C%201678.1915831663325%2C%201679.147710806228%2C%201680.103838446123%2C%201681.0599660860182%2C%201682.0160937259134%2C%201682.9722213658085%2C%201683.9283490057037%2C%201684.8844766455989%2C%201685.840604285494%2C%201686.7967319253892%2C%201687.7528595652843%2C%201688.7089872051795%2C%201689.6651148450746%2C%201690.62124248497%2C%201691.5773701248652%2C%201692.5334977647603%2C%201693.4896254046555%2C%201694.4457530445507%2C%201695.4018806844458%2C%201696.358008324341%2C%201697.3141359642361%2C%201698.2702636041313%2C%201699.2263912440264%2C%201700.1825188839216%2C%201701.1386465238168%2C%201702.094774163712%2C%201703.0509018036073%2C%201704.0070294435025%2C%201704.9631570833976%2C%201705.9192847232928%2C%201706.875412363188%2C%201707.831540003083%2C%201708.7876676429782%2C%201709.7437952828734%2C%201710.6999229227686%2C%201711.6560505626637%2C%201712.6121782025589%2C%201713.568305842454%2C%201714.5244334823492%2C%201715.4805611222446%2C%201716.4366887621397%2C%201717.392816402035%2C%201718.34894404193%2C%201719.3050716818252%2C%201720.2611993217204%2C%201721.2173269616155%2C%201722.1734546015107%2C%201723.1295822414058%2C%201724.085709881301%2C%201725.0418375211962%2C%201725.9979651610913%2C%201726.9540928009865%2C%201727.9102204408819%2C%201728.866348080777%2C%201729.8224757206722%2C%201730.7786033605673%2C%201731.7347310004625%2C%201732.6908586403576%2C%201733.6469862802528%2C%201734.603113920148%2C%201735.5592415600431%2C%201736.5153691999383%2C%201737.4714968398334%2C%201738.4276244797286%2C%201739.3837521196238%2C%201740.3398797595191%2C%201741.2960073994143%2C%201742.2521350393095%2C%201743.2082626792046%2C%201744.1643903190998%2C%201745.120517958995%2C%201746.07664559889%2C%201747.0327732387852%2C%201747.9889008786804%2C%201748.9450285185756%2C%201749.9011561584707%2C%201750.8572837983659%2C%201751.813411438261%2C%201752.7695390781564%2C%201753.7256667180516%2C%201754.6817943579467%2C%201755.6379219978419%2C%201756.594049637737%2C%201757.5501772776322%2C%201758.5063049175274%2C%201759.4624325574225%2C%201760.4185601973177%2C%201761.3746878372128%2C%201762.330815477108%2C%201763.2869431170031%2C%201764.2430707568983%2C%201765.1991983967937%2C%201766.1553260366888%2C%201767.111453676584%2C%201768.0675813164792%2C%201769.0237089563743%2C%201769.9798365962695%2C%201770.9359642361646%2C%201771.8920918760598%2C%201772.848219515955%2C%201773.80434715585%2C%201774.7604747957453%2C%201775.7166024356407%2C%201776.6727300755356%2C%201777.628857715431%2C%201778.5849853553261%2C%201779.5411129952213%2C%201780.4972406351164%2C%201781.4533682750116%2C%201782.4094959149068%2C%201783.365623554802%2C%201784.321751194697%2C%201785.2778788345922%2C%201786.2340064744874%2C%201787.1901341143825%2C%201788.146261754278%2C%201789.102389394173%2C%201790.0585170340682%2C%201791.0146446739634%2C%201791.9707723138586%2C%201792.9268999537537%2C%201793.8830275936489%2C%201794.839155233544%2C%201795.7952828734392%2C%201796.7514105133343%2C%201797.7075381532295%2C%201798.6636657931247%2C%201799.6197934330198%2C%201800.5759210729152%2C%201801.5320487128101%2C%201802.4881763527055%2C%201803.4443039926007%2C%201804.4004316324958%2C%201805.356559272391%2C%201806.3126869122862%2C%201807.2688145521813%2C%201808.2249421920765%2C%201809.1810698319716%2C%201810.1371974718668%2C%201811.093325111762%2C%201812.049452751657%2C%201813.0055803915525%2C%201813.9617080314476%2C%201814.9178356713428%2C%201815.873963311238%2C%201816.8300909511331%2C%201817.7862185910283%2C%201818.7423462309234%2C%201819.6984738708186%2C%201820.6546015107137%2C%201821.610729150609%2C%201822.566856790504%2C%201823.5229844303992%2C%201824.4791120702944%2C%201825.4352397101898%2C%201826.3913673500847%2C%201827.34749498998%2C%201828.3036226298752%2C%201829.2597502697704%2C%201830.2158779096656%2C%201831.1720055495607%2C%201832.1281331894559%2C%201833.084260829351%2C%201834.0403884692462%2C%201834.9965161091413%2C%201835.9526437490365%2C%201836.9087713889317%2C%201837.864899028827%2C%201838.8210266687222%2C%201839.7771543086174%2C%201840.7332819485125%2C%201841.6894095884077%2C%201842.6455372283028%2C%201843.601664868198%2C%201844.5577925080931%2C%201845.5139201479883%2C%201846.4700477878835%2C%201847.4261754277786%2C%201848.3823030676738%2C%201849.338430707569%2C%201850.2945583474643%2C%201851.2506859873595%2C%201852.2068136272546%2C%201853.1629412671498%2C%201854.119068907045%2C%201855.07519654694%2C%201856.0313241868353%2C%201856.9874518267304%2C%201857.9435794666256%2C%201858.8997071065207%2C%201859.855834746416%2C%201860.811962386311%2C%201861.7680900262062%2C%201862.7242176661016%2C%201863.6803453059968%2C%201864.636472945892%2C%201865.592600585787%2C%201866.5487282256822%2C%201867.5048558655774%2C%201868.4609835054725%2C%201869.4171111453677%2C%201870.3732387852629%2C%201871.329366425158%2C%201872.2854940650532%2C%201873.2416217049486%2C%201874.1977493448435%2C%201875.1538769847389%2C%201876.110004624634%2C%201877.0661322645292%2C%201878.0222599044243%2C%201878.9783875443195%2C%201879.9345151842147%2C%201880.8906428241098%2C%201881.846770464005%2C%201882.8028981039001%2C%201883.7590257437953%2C%201884.7151533836904%2C%201885.6712810235858%2C%201886.6274086634808%2C%201887.5835363033761%2C%201888.5396639432713%2C%201889.4957915831665%2C%201890.4519192230616%2C%201891.4080468629568%2C%201892.364174502852%2C%201893.320302142747%2C%201894.2764297826423%2C%201895.2325574225374%2C%201896.1886850624326%2C%201897.1448127023277%2C%201898.1009403422229%2C%201899.057067982118%2C%201900.0131956220134%2C%201900.9693232619086%2C%201901.9254509018037%2C%201902.881578541699%2C%201903.837706181594%2C%201904.7938338214892%2C%201905.7499614613844%2C%201906.7060891012795%2C%201907.6622167411747%2C%201908.61834438107%2C%201909.574472020965%2C%201910.5305996608604%2C%201911.4867273007553%2C%201912.4428549406507%2C%201913.3989825805456%2C%201914.355110220441%2C%201915.3112378603362%2C%201916.2673655002313%2C%201917.2234931401265%2C%201918.1796207800217%2C%201919.1357484199168%2C%201920.091876059812%2C%201921.0480036997071%2C%201922.0041313396023%2C%201922.9602589794977%2C%201923.9163866193928%2C%201924.872514259288%2C%201925.8286418991831%2C%201926.7847695390783%2C%201927.7408971789735%2C%201928.6970248188686%2C%201929.6531524587638%2C%201930.609280098659%2C%201931.565407738554%2C%201932.5215353784492%2C%201933.4776630183444%2C%201934.4337906582396%2C%201935.389918298135%2C%201936.3460459380299%2C%201937.3021735779253%2C%201938.2583012178204%2C%201939.2144288577156%2C%201940.1705564976107%2C%201941.126684137506%2C%201942.082811777401%2C%201943.0389394172962%2C%201943.9950670571914%2C%201944.9511946970865%2C%201945.907322336982%2C%201946.8634499768768%2C%201947.8195776167722%2C%201948.7757052566672%2C%201949.7318328965625%2C%201950.6879605364577%2C%201951.6440881763529%2C%201952.600215816248%2C%201953.5563434561432%2C%201954.5124710960383%2C%201955.4685987359335%2C%201956.4247263758286%2C%201957.3808540157238%2C%201958.3369816556192%2C%201959.2931092955141%2C%201960.2492369354095%2C%201961.2053645753047%2C%201962.1614922151998%2C%201963.117619855095%2C%201964.0737474949901%2C%201965.0298751348853%2C%201965.9860027747804%2C%201966.9421304146756%2C%201967.8982580545708%2C%201968.854385694466%2C%201969.810513334361%2C%201970.7666409742562%2C%201971.7227686141514%2C%201972.6788962540468%2C%201973.635023893942%2C%201974.591151533837%2C%201975.5472791737322%2C%201976.5034068136274%2C%201977.4595344535226%2C%201978.4156620934177%2C%201979.3717897333129%2C%201980.327917373208%2C%201981.2840450131032%2C%201982.2401726529984%2C%201983.1963002928937%2C%201984.1524279327887%2C%201985.108555572684%2C%201986.064683212579%2C%201987.0208108524744%2C%201987.9769384923695%2C%201988.9330661322647%2C%201989.8891937721598%2C%201990.845321412055%2C%201991.8014490519502%2C%201992.7575766918453%2C%201993.7137043317405%2C%201994.6698319716356%2C%201995.625959611531%2C%201996.582087251426%2C%201997.5382148913213%2C%201998.4943425312163%2C%201999.4504701711116%2C%202000.4065978110068%2C%202001.362725450902%2C%202002.3188530907971%2C%202003.2749807306923%2C%202004.2311083705874%2C%202005.1872360104826%2C%202006.1433636503778%2C%202007.099491290273%2C%202008.0556189301683%2C%202009.0117465700632%2C%202009.9678742099586%2C%202010.9240018498538%2C%202011.880129489749%2C%202012.836257129644%2C%202013.7923847695392%2C%202014.7485124094344%2C%202015.7046400493296%2C%202016.6607676892247%2C%202017.6168953291199%2C%202018.573022969015%2C%202019.5291506089102%2C%202020.4852782488053%2C%202021.4414058887005%2C%202022.3975335285959%2C%202023.353661168491%2C%202024.3097888083862%2C%202025.2659164482814%2C%202026.2220440881765%2C%202027.1781717280717%2C%202028.1342993679668%2C%202029.090427007862%2C%202030.0465546477571%2C%202031.0026822876525%2C%202031.9588099275475%2C%202032.9149375674428%2C%202033.8710652073378%2C%202034.8271928472332%2C%202035.783320487128%2C%202036.7394481270235%2C%202037.6955757669186%2C%202038.6517034068138%2C%202039.607831046709%2C%202040.563958686604%2C%202041.5200863264993%2C%202042.4762139663944%2C%202043.4323416062896%2C%202044.3884692461847%2C%202045.3445968860801%2C%202046.3007245259753%2C%202047.2568521658704%2C%202048.2129798057654%2C%202049.1691074456608%2C%202050.1252350855557%2C%202051.081362725451%2C%202052.0374903653465%2C%202052.9936180052414%2C%202053.9497456451368%2C%202054.9058732850317%2C%202055.862000924927%2C%202056.818128564822%2C%202057.7742562047174%2C%202058.7303838446123%2C%202059.6865114845077%2C%202060.6426391244026%2C%202061.598766764298%2C%202062.554894404193%2C%202063.5110220440883%2C%202064.4671496839837%2C%202065.4232773238787%2C%202066.3794049637736%2C%202067.335532603669%2C%202068.2916602435644%2C%202069.2477878834593%2C%202070.2039155233547%2C%202071.1600431632496%2C%202072.116170803145%2C%202073.07229844304%2C%202074.0284260829353%2C%202074.9845537228302%2C%202075.9406813627256%2C%202076.896809002621%2C%202077.852936642516%2C%202078.8090642824113%2C%202079.7651919223063%2C%202080.7213195622016%2C%202081.6774472020966%2C%202082.633574841992%2C%202083.589702481887%2C%202084.5458301217823%2C%202085.501957761677%2C%202086.4580854015726%2C%202087.4142130414675%2C%202088.370340681363%2C%202089.3264683212583%2C%202090.282595961153%2C%202091.2387236010486%2C%202092.1948512409435%2C%202093.150978880839%2C%202094.107106520734%2C%202095.0632341606292%2C%202096.019361800524%2C%202096.9754894404196%2C%202097.9316170803145%2C%202098.88774472021%2C%202099.843872360105%2C%202100.8%5D%29%0A%20%20%20%20%20%20%20%20%20%20%20%20%20%20.range%28%5B%27%23f1eef6ff%27%2C%20%27%23f1eef6ff%27%2C%20%27%23f1eef6ff%27%2C%20%27%23f1eef6ff%27%2C%20%27%23f1eef6ff%27%2C%20%27%23f1eef6ff%27%2C%20%27%23f1eef6ff%27%2C%20%27%23f1eef6ff%27%2C%20%27%23f1eef6ff%27%2C%20%27%23f1eef6ff%27%2C%20%27%23f1eef6ff%27%2C%20%27%23f1eef6ff%27%2C%20%27%23f1eef6ff%27%2C%20%27%23f1eef6ff%27%2C%20%27%23f1eef6ff%27%2C%20%27%23f1eef6ff%27%2C%20%27%23f1eef6ff%27%2C%20%27%23f1eef6ff%27%2C%20%27%23f1eef6ff%27%2C%20%27%23f1eef6ff%27%2C%20%27%23f1eef6ff%27%2C%20%27%23f1eef6ff%27%2C%20%27%23f1eef6ff%27%2C%20%27%23f1eef6ff%27%2C%20%27%23f1eef6ff%27%2C%20%27%23f1eef6ff%27%2C%20%27%23f1eef6ff%27%2C%20%27%23f1eef6ff%27%2C%20%27%23f1eef6ff%27%2C%20%27%23f1eef6ff%27%2C%20%27%23f1eef6ff%27%2C%20%27%23f1eef6ff%27%2C%20%27%23f1eef6ff%27%2C%20%27%23f1eef6ff%27%2C%20%27%23f1eef6ff%27%2C%20%27%23f1eef6ff%27%2C%20%27%23f1eef6ff%27%2C%20%27%23f1eef6ff%27%2C%20%27%23f1eef6ff%27%2C%20%27%23f1eef6ff%27%2C%20%27%23f1eef6ff%27%2C%20%27%23f1eef6ff%27%2C%20%27%23f1eef6ff%27%2C%20%27%23f1eef6ff%27%2C%20%27%23f1eef6ff%27%2C%20%27%23f1eef6ff%27%2C%20%27%23f1eef6ff%27%2C%20%27%23f1eef6ff%27%2C%20%27%23f1eef6ff%27%2C%20%27%23f1eef6ff%27%2C%20%27%23f1eef6ff%27%2C%20%27%23f1eef6ff%27%2C%20%27%23f1eef6ff%27%2C%20%27%23f1eef6ff%27%2C%20%27%23f1eef6ff%27%2C%20%27%23f1eef6ff%27%2C%20%27%23f1eef6ff%27%2C%20%27%23f1eef6ff%27%2C%20%27%23f1eef6ff%27%2C%20%27%23f1eef6ff%27%2C%20%27%23f1eef6ff%27%2C%20%27%23f1eef6ff%27%2C%20%27%23f1eef6ff%27%2C%20%27%23f1eef6ff%27%2C%20%27%23f1eef6ff%27%2C%20%27%23f1eef6ff%27%2C%20%27%23f1eef6ff%27%2C%20%27%23f1eef6ff%27%2C%20%27%23f1eef6ff%27%2C%20%27%23f1eef6ff%27%2C%20%27%23f1eef6ff%27%2C%20%27%23f1eef6ff%27%2C%20%27%23f1eef6ff%27%2C%20%27%23f1eef6ff%27%2C%20%27%23f1eef6ff%27%2C%20%27%23f1eef6ff%27%2C%20%27%23f1eef6ff%27%2C%20%27%23f1eef6ff%27%2C%20%27%23f1eef6ff%27%2C%20%27%23f1eef6ff%27%2C%20%27%23f1eef6ff%27%2C%20%27%23f1eef6ff%27%2C%20%27%23f1eef6ff%27%2C%20%27%23f1eef6ff%27%2C%20%27%23d4b9daff%27%2C%20%27%23d4b9daff%27%2C%20%27%23d4b9daff%27%2C%20%27%23d4b9daff%27%2C%20%27%23d4b9daff%27%2C%20%27%23d4b9daff%27%2C%20%27%23d4b9daff%27%2C%20%27%23d4b9daff%27%2C%20%27%23d4b9daff%27%2C%20%27%23d4b9daff%27%2C%20%27%23d4b9daff%27%2C%20%27%23d4b9daff%27%2C%20%27%23d4b9daff%27%2C%20%27%23d4b9daff%27%2C%20%27%23d4b9daff%27%2C%20%27%23d4b9daff%27%2C%20%27%23d4b9daff%27%2C%20%27%23d4b9daff%27%2C%20%27%23d4b9daff%27%2C%20%27%23d4b9daff%27%2C%20%27%23d4b9daff%27%2C%20%27%23d4b9daff%27%2C%20%27%23d4b9daff%27%2C%20%27%23d4b9daff%27%2C%20%27%23d4b9daff%27%2C%20%27%23d4b9daff%27%2C%20%27%23d4b9daff%27%2C%20%27%23d4b9daff%27%2C%20%27%23d4b9daff%27%2C%20%27%23d4b9daff%27%2C%20%27%23d4b9daff%27%2C%20%27%23d4b9daff%27%2C%20%27%23d4b9daff%27%2C%20%27%23d4b9daff%27%2C%20%27%23d4b9daff%27%2C%20%27%23d4b9daff%27%2C%20%27%23d4b9daff%27%2C%20%27%23d4b9daff%27%2C%20%27%23d4b9daff%27%2C%20%27%23d4b9daff%27%2C%20%27%23d4b9daff%27%2C%20%27%23d4b9daff%27%2C%20%27%23d4b9daff%27%2C%20%27%23d4b9daff%27%2C%20%27%23d4b9daff%27%2C%20%27%23d4b9daff%27%2C%20%27%23d4b9daff%27%2C%20%27%23d4b9daff%27%2C%20%27%23d4b9daff%27%2C%20%27%23d4b9daff%27%2C%20%27%23d4b9daff%27%2C%20%27%23d4b9daff%27%2C%20%27%23d4b9daff%27%2C%20%27%23d4b9daff%27%2C%20%27%23d4b9daff%27%2C%20%27%23d4b9daff%27%2C%20%27%23d4b9daff%27%2C%20%27%23d4b9daff%27%2C%20%27%23d4b9daff%27%2C%20%27%23d4b9daff%27%2C%20%27%23d4b9daff%27%2C%20%27%23d4b9daff%27%2C%20%27%23d4b9daff%27%2C%20%27%23d4b9daff%27%2C%20%27%23d4b9daff%27%2C%20%27%23d4b9daff%27%2C%20%27%23d4b9daff%27%2C%20%27%23d4b9daff%27%2C%20%27%23d4b9daff%27%2C%20%27%23d4b9daff%27%2C%20%27%23d4b9daff%27%2C%20%27%23d4b9daff%27%2C%20%27%23d4b9daff%27%2C%20%27%23d4b9daff%27%2C%20%27%23d4b9daff%27%2C%20%27%23d4b9daff%27%2C%20%27%23d4b9daff%27%2C%20%27%23d4b9daff%27%2C%20%27%23d4b9daff%27%2C%20%27%23d4b9daff%27%2C%20%27%23d4b9daff%27%2C%20%27%23d4b9daff%27%2C%20%27%23d4b9daff%27%2C%20%27%23c994c7ff%27%2C%20%27%23c994c7ff%27%2C%20%27%23c994c7ff%27%2C%20%27%23c994c7ff%27%2C%20%27%23c994c7ff%27%2C%20%27%23c994c7ff%27%2C%20%27%23c994c7ff%27%2C%20%27%23c994c7ff%27%2C%20%27%23c994c7ff%27%2C%20%27%23c994c7ff%27%2C%20%27%23c994c7ff%27%2C%20%27%23c994c7ff%27%2C%20%27%23c994c7ff%27%2C%20%27%23c994c7ff%27%2C%20%27%23c994c7ff%27%2C%20%27%23c994c7ff%27%2C%20%27%23c994c7ff%27%2C%20%27%23c994c7ff%27%2C%20%27%23c994c7ff%27%2C%20%27%23c994c7ff%27%2C%20%27%23c994c7ff%27%2C%20%27%23c994c7ff%27%2C%20%27%23c994c7ff%27%2C%20%27%23c994c7ff%27%2C%20%27%23c994c7ff%27%2C%20%27%23c994c7ff%27%2C%20%27%23c994c7ff%27%2C%20%27%23c994c7ff%27%2C%20%27%23c994c7ff%27%2C%20%27%23c994c7ff%27%2C%20%27%23c994c7ff%27%2C%20%27%23c994c7ff%27%2C%20%27%23c994c7ff%27%2C%20%27%23c994c7ff%27%2C%20%27%23c994c7ff%27%2C%20%27%23c994c7ff%27%2C%20%27%23c994c7ff%27%2C%20%27%23c994c7ff%27%2C%20%27%23c994c7ff%27%2C%20%27%23c994c7ff%27%2C%20%27%23c994c7ff%27%2C%20%27%23c994c7ff%27%2C%20%27%23c994c7ff%27%2C%20%27%23c994c7ff%27%2C%20%27%23c994c7ff%27%2C%20%27%23c994c7ff%27%2C%20%27%23c994c7ff%27%2C%20%27%23c994c7ff%27%2C%20%27%23c994c7ff%27%2C%20%27%23c994c7ff%27%2C%20%27%23c994c7ff%27%2C%20%27%23c994c7ff%27%2C%20%27%23c994c7ff%27%2C%20%27%23c994c7ff%27%2C%20%27%23c994c7ff%27%2C%20%27%23c994c7ff%27%2C%20%27%23c994c7ff%27%2C%20%27%23c994c7ff%27%2C%20%27%23c994c7ff%27%2C%20%27%23c994c7ff%27%2C%20%27%23c994c7ff%27%2C%20%27%23c994c7ff%27%2C%20%27%23c994c7ff%27%2C%20%27%23c994c7ff%27%2C%20%27%23c994c7ff%27%2C%20%27%23c994c7ff%27%2C%20%27%23c994c7ff%27%2C%20%27%23c994c7ff%27%2C%20%27%23c994c7ff%27%2C%20%27%23c994c7ff%27%2C%20%27%23c994c7ff%27%2C%20%27%23c994c7ff%27%2C%20%27%23c994c7ff%27%2C%20%27%23c994c7ff%27%2C%20%27%23c994c7ff%27%2C%20%27%23c994c7ff%27%2C%20%27%23c994c7ff%27%2C%20%27%23c994c7ff%27%2C%20%27%23c994c7ff%27%2C%20%27%23c994c7ff%27%2C%20%27%23c994c7ff%27%2C%20%27%23c994c7ff%27%2C%20%27%23c994c7ff%27%2C%20%27%23df65b0ff%27%2C%20%27%23df65b0ff%27%2C%20%27%23df65b0ff%27%2C%20%27%23df65b0ff%27%2C%20%27%23df65b0ff%27%2C%20%27%23df65b0ff%27%2C%20%27%23df65b0ff%27%2C%20%27%23df65b0ff%27%2C%20%27%23df65b0ff%27%2C%20%27%23df65b0ff%27%2C%20%27%23df65b0ff%27%2C%20%27%23df65b0ff%27%2C%20%27%23df65b0ff%27%2C%20%27%23df65b0ff%27%2C%20%27%23df65b0ff%27%2C%20%27%23df65b0ff%27%2C%20%27%23df65b0ff%27%2C%20%27%23df65b0ff%27%2C%20%27%23df65b0ff%27%2C%20%27%23df65b0ff%27%2C%20%27%23df65b0ff%27%2C%20%27%23df65b0ff%27%2C%20%27%23df65b0ff%27%2C%20%27%23df65b0ff%27%2C%20%27%23df65b0ff%27%2C%20%27%23df65b0ff%27%2C%20%27%23df65b0ff%27%2C%20%27%23df65b0ff%27%2C%20%27%23df65b0ff%27%2C%20%27%23df65b0ff%27%2C%20%27%23df65b0ff%27%2C%20%27%23df65b0ff%27%2C%20%27%23df65b0ff%27%2C%20%27%23df65b0ff%27%2C%20%27%23df65b0ff%27%2C%20%27%23df65b0ff%27%2C%20%27%23df65b0ff%27%2C%20%27%23df65b0ff%27%2C%20%27%23df65b0ff%27%2C%20%27%23df65b0ff%27%2C%20%27%23df65b0ff%27%2C%20%27%23df65b0ff%27%2C%20%27%23df65b0ff%27%2C%20%27%23df65b0ff%27%2C%20%27%23df65b0ff%27%2C%20%27%23df65b0ff%27%2C%20%27%23df65b0ff%27%2C%20%27%23df65b0ff%27%2C%20%27%23df65b0ff%27%2C%20%27%23df65b0ff%27%2C%20%27%23df65b0ff%27%2C%20%27%23df65b0ff%27%2C%20%27%23df65b0ff%27%2C%20%27%23df65b0ff%27%2C%20%27%23df65b0ff%27%2C%20%27%23df65b0ff%27%2C%20%27%23df65b0ff%27%2C%20%27%23df65b0ff%27%2C%20%27%23df65b0ff%27%2C%20%27%23df65b0ff%27%2C%20%27%23df65b0ff%27%2C%20%27%23df65b0ff%27%2C%20%27%23df65b0ff%27%2C%20%27%23df65b0ff%27%2C%20%27%23df65b0ff%27%2C%20%27%23df65b0ff%27%2C%20%27%23df65b0ff%27%2C%20%27%23df65b0ff%27%2C%20%27%23df65b0ff%27%2C%20%27%23df65b0ff%27%2C%20%27%23df65b0ff%27%2C%20%27%23df65b0ff%27%2C%20%27%23df65b0ff%27%2C%20%27%23df65b0ff%27%2C%20%27%23df65b0ff%27%2C%20%27%23df65b0ff%27%2C%20%27%23df65b0ff%27%2C%20%27%23df65b0ff%27%2C%20%27%23df65b0ff%27%2C%20%27%23df65b0ff%27%2C%20%27%23df65b0ff%27%2C%20%27%23df65b0ff%27%2C%20%27%23df65b0ff%27%2C%20%27%23dd1c77ff%27%2C%20%27%23dd1c77ff%27%2C%20%27%23dd1c77ff%27%2C%20%27%23dd1c77ff%27%2C%20%27%23dd1c77ff%27%2C%20%27%23dd1c77ff%27%2C%20%27%23dd1c77ff%27%2C%20%27%23dd1c77ff%27%2C%20%27%23dd1c77ff%27%2C%20%27%23dd1c77ff%27%2C%20%27%23dd1c77ff%27%2C%20%27%23dd1c77ff%27%2C%20%27%23dd1c77ff%27%2C%20%27%23dd1c77ff%27%2C%20%27%23dd1c77ff%27%2C%20%27%23dd1c77ff%27%2C%20%27%23dd1c77ff%27%2C%20%27%23dd1c77ff%27%2C%20%27%23dd1c77ff%27%2C%20%27%23dd1c77ff%27%2C%20%27%23dd1c77ff%27%2C%20%27%23dd1c77ff%27%2C%20%27%23dd1c77ff%27%2C%20%27%23dd1c77ff%27%2C%20%27%23dd1c77ff%27%2C%20%27%23dd1c77ff%27%2C%20%27%23dd1c77ff%27%2C%20%27%23dd1c77ff%27%2C%20%27%23dd1c77ff%27%2C%20%27%23dd1c77ff%27%2C%20%27%23dd1c77ff%27%2C%20%27%23dd1c77ff%27%2C%20%27%23dd1c77ff%27%2C%20%27%23dd1c77ff%27%2C%20%27%23dd1c77ff%27%2C%20%27%23dd1c77ff%27%2C%20%27%23dd1c77ff%27%2C%20%27%23dd1c77ff%27%2C%20%27%23dd1c77ff%27%2C%20%27%23dd1c77ff%27%2C%20%27%23dd1c77ff%27%2C%20%27%23dd1c77ff%27%2C%20%27%23dd1c77ff%27%2C%20%27%23dd1c77ff%27%2C%20%27%23dd1c77ff%27%2C%20%27%23dd1c77ff%27%2C%20%27%23dd1c77ff%27%2C%20%27%23dd1c77ff%27%2C%20%27%23dd1c77ff%27%2C%20%27%23dd1c77ff%27%2C%20%27%23dd1c77ff%27%2C%20%27%23dd1c77ff%27%2C%20%27%23dd1c77ff%27%2C%20%27%23dd1c77ff%27%2C%20%27%23dd1c77ff%27%2C%20%27%23dd1c77ff%27%2C%20%27%23dd1c77ff%27%2C%20%27%23dd1c77ff%27%2C%20%27%23dd1c77ff%27%2C%20%27%23dd1c77ff%27%2C%20%27%23dd1c77ff%27%2C%20%27%23dd1c77ff%27%2C%20%27%23dd1c77ff%27%2C%20%27%23dd1c77ff%27%2C%20%27%23dd1c77ff%27%2C%20%27%23dd1c77ff%27%2C%20%27%23dd1c77ff%27%2C%20%27%23dd1c77ff%27%2C%20%27%23dd1c77ff%27%2C%20%27%23dd1c77ff%27%2C%20%27%23dd1c77ff%27%2C%20%27%23dd1c77ff%27%2C%20%27%23dd1c77ff%27%2C%20%27%23dd1c77ff%27%2C%20%27%23dd1c77ff%27%2C%20%27%23dd1c77ff%27%2C%20%27%23dd1c77ff%27%2C%20%27%23dd1c77ff%27%2C%20%27%23dd1c77ff%27%2C%20%27%23dd1c77ff%27%2C%20%27%23dd1c77ff%27%2C%20%27%23dd1c77ff%27%2C%20%27%23dd1c77ff%27%2C%20%27%23980043ff%27%2C%20%27%23980043ff%27%2C%20%27%23980043ff%27%2C%20%27%23980043ff%27%2C%20%27%23980043ff%27%2C%20%27%23980043ff%27%2C%20%27%23980043ff%27%2C%20%27%23980043ff%27%2C%20%27%23980043ff%27%2C%20%27%23980043ff%27%2C%20%27%23980043ff%27%2C%20%27%23980043ff%27%2C%20%27%23980043ff%27%2C%20%27%23980043ff%27%2C%20%27%23980043ff%27%2C%20%27%23980043ff%27%2C%20%27%23980043ff%27%2C%20%27%23980043ff%27%2C%20%27%23980043ff%27%2C%20%27%23980043ff%27%2C%20%27%23980043ff%27%2C%20%27%23980043ff%27%2C%20%27%23980043ff%27%2C%20%27%23980043ff%27%2C%20%27%23980043ff%27%2C%20%27%23980043ff%27%2C%20%27%23980043ff%27%2C%20%27%23980043ff%27%2C%20%27%23980043ff%27%2C%20%27%23980043ff%27%2C%20%27%23980043ff%27%2C%20%27%23980043ff%27%2C%20%27%23980043ff%27%2C%20%27%23980043ff%27%2C%20%27%23980043ff%27%2C%20%27%23980043ff%27%2C%20%27%23980043ff%27%2C%20%27%23980043ff%27%2C%20%27%23980043ff%27%2C%20%27%23980043ff%27%2C%20%27%23980043ff%27%2C%20%27%23980043ff%27%2C%20%27%23980043ff%27%2C%20%27%23980043ff%27%2C%20%27%23980043ff%27%2C%20%27%23980043ff%27%2C%20%27%23980043ff%27%2C%20%27%23980043ff%27%2C%20%27%23980043ff%27%2C%20%27%23980043ff%27%2C%20%27%23980043ff%27%2C%20%27%23980043ff%27%2C%20%27%23980043ff%27%2C%20%27%23980043ff%27%2C%20%27%23980043ff%27%2C%20%27%23980043ff%27%2C%20%27%23980043ff%27%2C%20%27%23980043ff%27%2C%20%27%23980043ff%27%2C%20%27%23980043ff%27%2C%20%27%23980043ff%27%2C%20%27%23980043ff%27%2C%20%27%23980043ff%27%2C%20%27%23980043ff%27%2C%20%27%23980043ff%27%2C%20%27%23980043ff%27%2C%20%27%23980043ff%27%2C%20%27%23980043ff%27%2C%20%27%23980043ff%27%2C%20%27%23980043ff%27%2C%20%27%23980043ff%27%2C%20%27%23980043ff%27%2C%20%27%23980043ff%27%2C%20%27%23980043ff%27%2C%20%27%23980043ff%27%2C%20%27%23980043ff%27%2C%20%27%23980043ff%27%2C%20%27%23980043ff%27%2C%20%27%23980043ff%27%2C%20%27%23980043ff%27%2C%20%27%23980043ff%27%2C%20%27%23980043ff%27%2C%20%27%23980043ff%27%2C%20%27%23980043ff%27%5D%29%3B%0A%20%20%20%20%0A%0A%20%20%20%20color_map_88b636616b7f4851bcd6ad1967fadca1.x%20%3D%20d3.scale.linear%28%29%0A%20%20%20%20%20%20%20%20%20%20%20%20%20%20.domain%28%5B1623.6923076923076%2C%202100.8%5D%29%0A%20%20%20%20%20%20%20%20%20%20%20%20%20%20.range%28%5B0%2C%20400%5D%29%3B%0A%0A%20%20%20%20color_map_88b636616b7f4851bcd6ad1967fadca1.legend%20%3D%20L.control%28%7Bposition%3A%20%27topright%27%7D%29%3B%0A%20%20%20%20color_map_88b636616b7f4851bcd6ad1967fadca1.legend.onAdd%20%3D%20function%20%28map%29%20%7Bvar%20div%20%3D%20L.DomUtil.create%28%27div%27%2C%20%27legend%27%29%3B%20return%20div%7D%3B%0A%20%20%20%20color_map_88b636616b7f4851bcd6ad1967fadca1.legend.addTo%28map_100ee81b660546f489f07690c3731f6a%29%3B%0A%0A%20%20%20%20color_map_88b636616b7f4851bcd6ad1967fadca1.xAxis%20%3D%20d3.svg.axis%28%29%0A%20%20%20%20%20%20%20%20.scale%28color_map_88b636616b7f4851bcd6ad1967fadca1.x%29%0A%20%20%20%20%20%20%20%20.orient%28%22top%22%29%0A%20%20%20%20%20%20%20%20.tickSize%281%29%0A%20%20%20%20%20%20%20%20.tickValues%28%5B1623.6923076923076%2C%201703.2102564102563%2C%201782.7282051282052%2C%201862.246153846154%2C%201941.7641025641026%2C%202021.2820512820513%2C%202100.8%5D%29%3B%0A%0A%20%20%20%20color_map_88b636616b7f4851bcd6ad1967fadca1.svg%20%3D%20d3.select%28%22.legend.leaflet-control%22%29.append%28%22svg%22%29%0A%20%20%20%20%20%20%20%20.attr%28%22id%22%2C%20%27legend%27%29%0A%20%20%20%20%20%20%20%20.attr%28%22width%22%2C%20450%29%0A%20%20%20%20%20%20%20%20.attr%28%22height%22%2C%2040%29%3B%0A%0A%20%20%20%20color_map_88b636616b7f4851bcd6ad1967fadca1.g%20%3D%20color_map_88b636616b7f4851bcd6ad1967fadca1.svg.append%28%22g%22%29%0A%20%20%20%20%20%20%20%20.attr%28%22class%22%2C%20%22key%22%29%0A%20%20%20%20%20%20%20%20.attr%28%22transform%22%2C%20%22translate%2825%2C16%29%22%29%3B%0A%0A%20%20%20%20color_map_88b636616b7f4851bcd6ad1967fadca1.g.selectAll%28%22rect%22%29%0A%20%20%20%20%20%20%20%20.data%28color_map_88b636616b7f4851bcd6ad1967fadca1.color.range%28%29.map%28function%28d%2C%20i%29%20%7B%0A%20%20%20%20%20%20%20%20%20%20return%20%7B%0A%20%20%20%20%20%20%20%20%20%20%20%20x0%3A%20i%20%3F%20color_map_88b636616b7f4851bcd6ad1967fadca1.x%28color_map_88b636616b7f4851bcd6ad1967fadca1.color.domain%28%29%5Bi%20-%201%5D%29%20%3A%20color_map_88b636616b7f4851bcd6ad1967fadca1.x.range%28%29%5B0%5D%2C%0A%20%20%20%20%20%20%20%20%20%20%20%20x1%3A%20i%20%3C%20color_map_88b636616b7f4851bcd6ad1967fadca1.color.domain%28%29.length%20%3F%20color_map_88b636616b7f4851bcd6ad1967fadca1.x%28color_map_88b636616b7f4851bcd6ad1967fadca1.color.domain%28%29%5Bi%5D%29%20%3A%20color_map_88b636616b7f4851bcd6ad1967fadca1.x.range%28%29%5B1%5D%2C%0A%20%20%20%20%20%20%20%20%20%20%20%20z%3A%20d%0A%20%20%20%20%20%20%20%20%20%20%7D%3B%0A%20%20%20%20%20%20%20%20%7D%29%29%0A%20%20%20%20%20%20.enter%28%29.append%28%22rect%22%29%0A%20%20%20%20%20%20%20%20.attr%28%22height%22%2C%2010%29%0A%20%20%20%20%20%20%20%20.attr%28%22x%22%2C%20function%28d%29%20%7B%20return%20d.x0%3B%20%7D%29%0A%20%20%20%20%20%20%20%20.attr%28%22width%22%2C%20function%28d%29%20%7B%20return%20d.x1%20-%20d.x0%3B%20%7D%29%0A%20%20%20%20%20%20%20%20.style%28%22fill%22%2C%20function%28d%29%20%7B%20return%20d.z%3B%20%7D%29%3B%0A%0A%20%20%20%20color_map_88b636616b7f4851bcd6ad1967fadca1.g.call%28color_map_88b636616b7f4851bcd6ad1967fadca1.xAxis%29.append%28%22text%22%29%0A%20%20%20%20%20%20%20%20.attr%28%22class%22%2C%20%22caption%22%29%0A%20%20%20%20%20%20%20%20.attr%28%22y%22%2C%2021%29%0A%20%20%20%20%20%20%20%20.text%28%27%27%29%3B%0A%3C/script%3E onload=\"this.contentDocument.open();this.contentDocument.write(    decodeURIComponent(this.getAttribute('data-html')));this.contentDocument.close();\" allowfullscreen webkitallowfullscreen mozallowfullscreen></iframe></div></div>"
            ],
            "text/plain": [
              "<folium.folium.Map at 0x17f40aeb0>"
            ]
          },
          "execution_count": 115,
          "metadata": {},
          "output_type": "execute_result"
        }
      ]
    },
    {
      "cell_type": "code",
      "metadata": {
        "id": "a6ef3881"
      },
      "source": [
        ""
      ],
      "id": "a6ef3881",
      "execution_count": null,
      "outputs": []
    },
    {
      "cell_type": "code",
      "metadata": {
        "id": "tQLn0ngXxaeB"
      },
      "source": [
        ""
      ],
      "id": "tQLn0ngXxaeB",
      "execution_count": null,
      "outputs": []
    }
  ]
}