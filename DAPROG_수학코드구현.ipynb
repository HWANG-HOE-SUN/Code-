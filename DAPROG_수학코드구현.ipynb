{
  "nbformat": 4,
  "nbformat_minor": 0,
  "metadata": {
    "colab": {
      "name": "DAPROG_수학코드구현.ipynb",
      "provenance": [],
      "collapsed_sections": [],
      "authorship_tag": "ABX9TyMWbV2U2aYz8h8Rzlf6VdYB",
      "include_colab_link": true
    },
    "kernelspec": {
      "name": "python3",
      "display_name": "Python 3"
    },
    "language_info": {
      "name": "python"
    }
  },
  "cells": [
    {
      "cell_type": "markdown",
      "metadata": {
        "id": "view-in-github",
        "colab_type": "text"
      },
      "source": [
        "<a href=\"https://colab.research.google.com/github/HWANG-HOE-SUN/Code-/blob/main/DAPROG_%EC%88%98%ED%95%99%EC%BD%94%EB%93%9C%EA%B5%AC%ED%98%84.ipynb\" target=\"_parent\"><img src=\"https://colab.research.google.com/assets/colab-badge.svg\" alt=\"Open In Colab\"/></a>"
      ]
    },
    {
      "cell_type": "code",
      "metadata": {
        "id": "pb0uvVVE32Fi"
      },
      "source": [
        "from math import *\n",
        "import numpy as np\n",
        "import sys\n",
        "import matplotlib.pyplot as plt"
      ],
      "execution_count": null,
      "outputs": []
    },
    {
      "cell_type": "code",
      "metadata": {
        "id": "L5Hbx6rN33L1"
      },
      "source": [
        "def DTW(A, B, window=sys.maxsize, d=lambda x, y: abs(x - y)):\n",
        "  # 비용 행렬 초기화\n",
        "  A, B = np.array(A), np.array(B)\n",
        "  M, N = len(A), len(B)\n",
        "  cost = sys.maxsize * np.ones((M, N))\n",
        "\n",
        "  # 첫번째 로우,컬럼 채우기\n",
        "  cost[0, 0] = d(A[0], B[0])\n",
        "  for i in range(1, M):\n",
        "    cost[i, 0] = cost[i - 1, 0] + d(A[i], B[0])\n",
        "\n",
        "  for j in range(1, N):\n",
        "    cost[0, j] = cost[0, j - 1] + d(A[0], B[j])\n",
        "  # 나머지 행렬 채우기\n",
        "  for i in range(1, M):\n",
        "    for j in range(max(1, i - window), min(N, i + window)):\n",
        "      choices = cost[i - 1, j - 1], cost[i, j - 1], cost[i - 1, j]\n",
        "      cost[i, j] = min(choices) + d(A[i], B[j])\n",
        "\n",
        "  # 최적 경로 구하기\n",
        "  n, m = N - 1, M - 1\n",
        "  path = []\n",
        "\n",
        "  while (m, n) != (0, 0):\n",
        "    path.append((m, n))\n",
        "    m, n = min((m - 1, n), (m, n - 1), (m - 1, n - 1), key=lambda x: cost[x[0], x[1]])\n",
        "\n",
        "  path.append((0, 0))\n",
        "\n",
        "  return cost[-1, -1], path"
      ],
      "execution_count": null,
      "outputs": []
    },
    {
      "cell_type": "code",
      "metadata": {
        "id": "WXOHNrph4ARD"
      },
      "source": [
        "def main():\n",
        "  A = np.array([1,2,3,4,2,3])\n",
        "  B = np.array([7,8,5,9,11,9])\n",
        "\n",
        "  cost, path = DTW(A, B, window = 6)\n",
        "  print('Total Distance is ', cost)\n",
        "\n",
        "  offset = 5\n",
        "  plt.xlim([-1, max(len(A), len(B)) + 1])\n",
        "  plt.plot(A)\n",
        "  plt.plot(B + offset)\n",
        "  for (x1, x2) in path:\n",
        "    plt.plot([x1, x2], [A[x1], B[x2] + offset])\n",
        "  plt.show()\n"
      ],
      "execution_count": null,
      "outputs": []
    },
    {
      "cell_type": "code",
      "metadata": {
        "colab": {
          "base_uri": "https://localhost:8080/",
          "height": 283
        },
        "id": "fB1KWg5W4egf",
        "outputId": "6fde1476-1a63-4038-daaf-7dfa41046ea6"
      },
      "source": [
        "if __name__ == '__main__':\n",
        "  main()"
      ],
      "execution_count": null,
      "outputs": [
        {
          "output_type": "stream",
          "text": [
            "Total Distance is  34.0\n"
          ],
          "name": "stdout"
        },
        {
          "output_type": "display_data",
          "data": {
            "image/png": "[encoded data removed]",
            "text/plain": [
              "<Figure size 432x288 with 1 Axes>"
            ]
          },
          "metadata": {
            "tags": [],
            "needs_background": "light"
          }
        }
      ]
    },
    {
      "cell_type": "markdown",
      "metadata": {
        "id": "ybxuJBI_-cbG"
      },
      "source": [
        "### DAPROG 코드 구현"
      ]
    },
    {
      "cell_type": "code",
      "metadata": {
        "id": "zjmOfQl35wZd"
      },
      "source": [
        "A = np.array([4,6,5,4,2,7])\n",
        "B = np.array([7,8,5,9,11,9])\n",
        "\n",
        "dtw_result = DTW(A,B,window=6)"
      ],
      "execution_count": null,
      "outputs": []
    },
    {
      "cell_type": "code",
      "metadata": {
        "colab": {
          "base_uri": "https://localhost:8080/"
        },
        "id": "VdcXPupb6KCJ",
        "outputId": "fbc3a5b9-c8a9-4b49-90e6-9e47808f473e"
      },
      "source": [
        "dtw_result[1] # Path Matching(index,index)"
      ],
      "execution_count": null,
      "outputs": [
        {
          "output_type": "execute_result",
          "data": {
            "text/plain": [
              "[(5, 5), (5, 4), (5, 3), (4, 2), (3, 2), (2, 2), (1, 1), (0, 0)]"
            ]
          },
          "metadata": {
            "tags": []
          },
          "execution_count": 13
        }
      ]
    },
    {
      "cell_type": "code",
      "metadata": {
        "colab": {
          "base_uri": "https://localhost:8080/",
          "height": 283
        },
        "id": "TCg84SYM6PLp",
        "outputId": "be7c6d0b-18a4-4172-a0f6-bdb9b343f588"
      },
      "source": [
        "cost, path = DTW(A, B, window = 6)\n",
        "print('Total Distance is ', cost)\n",
        "\n",
        "offset = 5\n",
        "plt.xlim([-1, max(len(A), len(B)) + 1])\n",
        "plt.plot(A)\n",
        "plt.plot(B + offset)\n",
        "for (x1, x2) in path:\n",
        "  plt.plot([x1, x2], [A[x1], B[x2] + offset])\n",
        "plt.show()"
      ],
      "execution_count": null,
      "outputs": [
        {
          "output_type": "stream",
          "text": [
            "Total Distance is  17.0\n"
          ],
          "name": "stdout"
        },
        {
          "output_type": "display_data",
          "data": {
            "image/png": "[encoded data removed]",
            "text/plain": [
              "<Figure size 432x288 with 1 Axes>"
            ]
          },
          "metadata": {
            "tags": [],
            "needs_background": "light"
          }
        }
      ]
    },
    {
      "cell_type": "code",
      "metadata": {
        "colab": {
          "base_uri": "https://localhost:8080/"
        },
        "id": "VWqY1CIh7aVg",
        "outputId": "3f983d7f-9ada-4d96-d719-f7b9ed3f4ab5"
      },
      "source": [
        "path.reverse() # 마지막 매칭부터 되어있으므로 리스트 순서를 뒤집는다.\n",
        "path"
      ],
      "execution_count": null,
      "outputs": [
        {
          "output_type": "execute_result",
          "data": {
            "text/plain": [
              "[(0, 0), (1, 1), (2, 2), (3, 2), (4, 2), (5, 3), (5, 4), (5, 5)]"
            ]
          },
          "metadata": {
            "tags": []
          },
          "execution_count": 8
        }
      ]
    },
    {
      "cell_type": "code",
      "metadata": {
        "colab": {
          "base_uri": "https://localhost:8080/"
        },
        "id": "iarnyxm27tBF",
        "outputId": "bb61b0c5-5b7a-4d2c-aee4-ff8348e11337"
      },
      "source": [
        "[x[0] for x in path], [x[1] for x in path]"
      ],
      "execution_count": null,
      "outputs": [
        {
          "output_type": "execute_result",
          "data": {
            "text/plain": [
              "([0, 1, 2, 3, 4, 5, 5, 5], [0, 1, 2, 2, 2, 3, 4, 5])"
            ]
          },
          "metadata": {
            "tags": []
          },
          "execution_count": 9
        }
      ]
    },
    {
      "cell_type": "code",
      "metadata": {
        "id": "jN7o8aa18L9E"
      },
      "source": [
        "x_train = np.array([x[0] for x in path])\n",
        "y_train = np.array([x[1] for x in path])"
      ],
      "execution_count": null,
      "outputs": []
    },
    {
      "cell_type": "code",
      "metadata": {
        "colab": {
          "base_uri": "https://localhost:8080/"
        },
        "id": "egLXe0Ut-eSF",
        "outputId": "b8a6dafa-a916-4217-e20f-28d0e0a828be"
      },
      "source": [
        "# 그라디언트 부스트 방식으로 선형회귀 수행\n",
        "\n",
        "W = 0.0\n",
        "b = 0.0\n",
        "\n",
        "n_data = len(x_train)\n",
        "\n",
        "epochs = 5000\n",
        "learning_rate = 0.01\n",
        "\n",
        "for i in range(epochs):\n",
        "    hypothesis = x_train * W + b\n",
        "    cost = np.sum((hypothesis - y_train) ** 2) / n_data\n",
        "    gradient_w = np.sum((W * x_train - y_train + b) * 2 * x_train) / n_data\n",
        "    gradient_b = np.sum((W * x_train - y_train + b) * 2) / n_data\n",
        "\n",
        "    W -= learning_rate * gradient_w\n",
        "    b -= learning_rate * gradient_b\n",
        "\n",
        "    if i % 100 == 0:\n",
        "        print('Epoch ({:10d}/{:10d}) cost: {:10f}, W: {:10f}, b:{:10f}'.format(i, epochs, cost, W, b))\n",
        "\n",
        "print('W: {:10f}'.format(W))\n",
        "print('b: {:10f}'.format(b))\n",
        "print('result : ')\n",
        "print(x_train * W + b)"
      ],
      "execution_count": null,
      "outputs": [
        {
          "output_type": "stream",
          "text": [
            "Epoch (         0/      5000) cost:   7.875000, W:   0.197500, b:  0.047500\n",
            "Epoch (       100/      5000) cost:   0.443636, W:   0.718428, b:  0.141687\n",
            "Epoch (       200/      5000) cost:   0.443255, W:   0.722966, b:  0.122982\n",
            "Epoch (       300/      5000) cost:   0.443111, W:   0.725759, b:  0.111466\n",
            "Epoch (       400/      5000) cost:   0.443057, W:   0.727478, b:  0.104377\n",
            "Epoch (       500/      5000) cost:   0.443036, W:   0.728537, b:  0.100013\n",
            "Epoch (       600/      5000) cost:   0.443028, W:   0.729189, b:  0.097326\n",
            "Epoch (       700/      5000) cost:   0.443025, W:   0.729590, b:  0.095672\n",
            "Epoch (       800/      5000) cost:   0.443024, W:   0.729837, b:  0.094654\n",
            "Epoch (       900/      5000) cost:   0.443024, W:   0.729989, b:  0.094027\n",
            "Epoch (      1000/      5000) cost:   0.443023, W:   0.730083, b:  0.093641\n",
            "Epoch (      1100/      5000) cost:   0.443023, W:   0.730140, b:  0.093404\n",
            "Epoch (      1200/      5000) cost:   0.443023, W:   0.730176, b:  0.093257\n",
            "Epoch (      1300/      5000) cost:   0.443023, W:   0.730198, b:  0.093167\n",
            "Epoch (      1400/      5000) cost:   0.443023, W:   0.730211, b:  0.093112\n",
            "Epoch (      1500/      5000) cost:   0.443023, W:   0.730219, b:  0.093078\n",
            "Epoch (      1600/      5000) cost:   0.443023, W:   0.730224, b:  0.093057\n",
            "Epoch (      1700/      5000) cost:   0.443023, W:   0.730228, b:  0.093044\n",
            "Epoch (      1800/      5000) cost:   0.443023, W:   0.730229, b:  0.093036\n",
            "Epoch (      1900/      5000) cost:   0.443023, W:   0.730231, b:  0.093031\n",
            "Epoch (      2000/      5000) cost:   0.443023, W:   0.730231, b:  0.093028\n",
            "Epoch (      2100/      5000) cost:   0.443023, W:   0.730232, b:  0.093026\n",
            "Epoch (      2200/      5000) cost:   0.443023, W:   0.730232, b:  0.093025\n",
            "Epoch (      2300/      5000) cost:   0.443023, W:   0.730232, b:  0.093024\n",
            "Epoch (      2400/      5000) cost:   0.443023, W:   0.730232, b:  0.093024\n",
            "Epoch (      2500/      5000) cost:   0.443023, W:   0.730232, b:  0.093024\n",
            "Epoch (      2600/      5000) cost:   0.443023, W:   0.730232, b:  0.093024\n",
            "Epoch (      2700/      5000) cost:   0.443023, W:   0.730233, b:  0.093023\n",
            "Epoch (      2800/      5000) cost:   0.443023, W:   0.730233, b:  0.093023\n",
            "Epoch (      2900/      5000) cost:   0.443023, W:   0.730233, b:  0.093023\n",
            "Epoch (      3000/      5000) cost:   0.443023, W:   0.730233, b:  0.093023\n",
            "Epoch (      3100/      5000) cost:   0.443023, W:   0.730233, b:  0.093023\n",
            "Epoch (      3200/      5000) cost:   0.443023, W:   0.730233, b:  0.093023\n",
            "Epoch (      3300/      5000) cost:   0.443023, W:   0.730233, b:  0.093023\n",
            "Epoch (      3400/      5000) cost:   0.443023, W:   0.730233, b:  0.093023\n",
            "Epoch (      3500/      5000) cost:   0.443023, W:   0.730233, b:  0.093023\n",
            "Epoch (      3600/      5000) cost:   0.443023, W:   0.730233, b:  0.093023\n",
            "Epoch (      3700/      5000) cost:   0.443023, W:   0.730233, b:  0.093023\n",
            "Epoch (      3800/      5000) cost:   0.443023, W:   0.730233, b:  0.093023\n",
            "Epoch (      3900/      5000) cost:   0.443023, W:   0.730233, b:  0.093023\n",
            "Epoch (      4000/      5000) cost:   0.443023, W:   0.730233, b:  0.093023\n",
            "Epoch (      4100/      5000) cost:   0.443023, W:   0.730233, b:  0.093023\n",
            "Epoch (      4200/      5000) cost:   0.443023, W:   0.730233, b:  0.093023\n",
            "Epoch (      4300/      5000) cost:   0.443023, W:   0.730233, b:  0.093023\n",
            "Epoch (      4400/      5000) cost:   0.443023, W:   0.730233, b:  0.093023\n",
            "Epoch (      4500/      5000) cost:   0.443023, W:   0.730233, b:  0.093023\n",
            "Epoch (      4600/      5000) cost:   0.443023, W:   0.730233, b:  0.093023\n",
            "Epoch (      4700/      5000) cost:   0.443023, W:   0.730233, b:  0.093023\n",
            "Epoch (      4800/      5000) cost:   0.443023, W:   0.730233, b:  0.093023\n",
            "Epoch (      4900/      5000) cost:   0.443023, W:   0.730233, b:  0.093023\n",
            "W:   0.730233\n",
            "b:   0.093023\n",
            "result : \n",
            "[0.09302326 0.82325581 1.55348837 2.28372093 3.01395349 3.74418605\n",
            " 3.74418605 3.74418605]\n"
          ],
          "name": "stdout"
        }
      ]
    },
    {
      "cell_type": "code",
      "metadata": {
        "colab": {
          "base_uri": "https://localhost:8080/",
          "height": 297
        },
        "id": "EsFJYMG5-eY3",
        "outputId": "607a766a-f919-43fb-f8a6-0f56d59fefd4"
      },
      "source": [
        "plt.plot(x_train,y_train,'b',label='Real') # 참값(실제 DTW매칭)\n",
        "plt.plot(x_train,x_train * W + b,'r',label='Optimal Warping Path') # DTW매칭에 대한 선형 회귀\n",
        "plt.xlabel('Reference Point')\n",
        "plt.ylabel('Target Point')\n",
        "\n",
        "plt.legend()"
      ],
      "execution_count": null,
      "outputs": [
        {
          "output_type": "execute_result",
          "data": {
            "text/plain": [
              "<matplotlib.legend.Legend at 0x7fb69313b6d0>"
            ]
          },
          "metadata": {
            "tags": []
          },
          "execution_count": 19
        },
        {
          "output_type": "display_data",
          "data": {
            "image/png": "[encoded data removed]",
            "text/plain": [
              "<Figure size 432x288 with 1 Axes>"
            ]
          },
          "metadata": {
            "tags": [],
            "needs_background": "light"
          }
        }
      ]
    },
    {
      "cell_type": "markdown",
      "metadata": {
        "id": "x8KaTQ834m-L"
      },
      "source": [
        "![예측구간.PNG](data:image/png;base64,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)"
      ]
    },
    {
      "cell_type": "markdown",
      "metadata": {
        "id": "oH2076UjIa_g"
      },
      "source": [
        "> t값 자동으로 구하기(외부 싸이트 활용)"
      ]
    },
    {
      "cell_type": "code",
      "metadata": {
        "colab": {
          "base_uri": "https://localhost:8080/"
        },
        "id": "z79X3Mpn5v9b",
        "outputId": "dde1f25b-f7f5-4871-e988-9bfbdc706048"
      },
      "source": [
        "!pip install selenium\n",
        "!apt-get update\n",
        "!apt install chromium-chromedriver"
      ],
      "execution_count": 35,
      "outputs": [
        {
          "output_type": "stream",
          "text": [
            "Requirement already satisfied: selenium in /usr/local/lib/python3.7/dist-packages (3.141.0)\n",
            "Requirement already satisfied: urllib3 in /usr/local/lib/python3.7/dist-packages (from selenium) (1.24.3)\n",
            "Hit:1 http://security.ubuntu.com/ubuntu bionic-security InRelease\n",
            "Hit:2 https://cloud.r-project.org/bin/linux/ubuntu bionic-cran40/ InRelease\n",
            "Ign:3 https://developer.download.nvidia.com/compute/cuda/repos/ubuntu1804/x86_64  InRelease\n",
            "Hit:4 http://ppa.launchpad.net/c2d4u.team/c2d4u4.0+/ubuntu bionic InRelease\n",
            "Ign:5 https://developer.download.nvidia.com/compute/machine-learning/repos/ubuntu1804/x86_64  InRelease\n",
            "Hit:6 https://developer.download.nvidia.com/compute/cuda/repos/ubuntu1804/x86_64  Release\n",
            "Hit:7 http://archive.ubuntu.com/ubuntu bionic InRelease\n",
            "Hit:8 https://developer.download.nvidia.com/compute/machine-learning/repos/ubuntu1804/x86_64  Release\n",
            "Hit:9 http://archive.ubuntu.com/ubuntu bionic-updates InRelease\n",
            "Hit:10 http://ppa.launchpad.net/cran/libgit2/ubuntu bionic InRelease\n",
            "Hit:11 http://archive.ubuntu.com/ubuntu bionic-backports InRelease\n",
            "Hit:12 http://ppa.launchpad.net/deadsnakes/ppa/ubuntu bionic InRelease\n",
            "Hit:13 http://ppa.launchpad.net/graphics-drivers/ppa/ubuntu bionic InRelease\n",
            "Reading package lists... Done\n",
            "Reading package lists... Done\n",
            "Building dependency tree       \n",
            "Reading state information... Done\n",
            "chromium-chromedriver is already the newest version (91.0.4472.101-0ubuntu0.18.04.1).\n",
            "0 upgraded, 0 newly installed, 0 to remove and 98 not upgraded.\n"
          ],
          "name": "stdout"
        }
      ]
    },
    {
      "cell_type": "code",
      "metadata": {
        "id": "TI-88SVs5xph"
      },
      "source": [
        "from selenium import webdriver\n",
        "from urllib.request import urlopen\n",
        "from bs4 import BeautifulSoup as bs\n",
        "from urllib.parse import quote_plus\n",
        "from selenium.webdriver.common.keys import Keys\n",
        "import time"
      ],
      "execution_count": 36,
      "outputs": []
    },
    {
      "cell_type": "code",
      "metadata": {
        "id": "TsgsRAoK5xnx"
      },
      "source": [
        "url = 'http://www.ttable.org/student-t-value-calculator.html'"
      ],
      "execution_count": 37,
      "outputs": []
    },
    {
      "cell_type": "code",
      "metadata": {
        "id": "ENkX3q7R6G0j",
        "colab": {
          "base_uri": "https://localhost:8080/"
        },
        "outputId": "3a230216-36c7-4866-b2cf-073748ec8ab4"
      },
      "source": [
        "# 외부 사이트를 통해서 t값 계산\n",
        "chrome_options = webdriver.ChromeOptions()\n",
        "chrome_options.add_argument('--headless')\n",
        "chrome_options.add_argument('--no-sandbox')\n",
        "chrome_options.add_argument('--disable-dev-shm-usage')\n",
        "driver = webdriver.Chrome('chromedriver', chrome_options=chrome_options)\n",
        "driver.get(url)\n",
        "\n",
        "page_body_path = '//*[@id=\"wsite-content\"]/div/div/div/div' # 광고창 제거를 위해 page바디 클릭\n",
        "page_body = driver.find_element_by_xpath(page_body_path)\n",
        "page_body.click()\n",
        "\n",
        "last_height = driver.execute_script(\"return document.body.scrollHeight\")\n",
        "print(last_height) # 전체 페이지 스크롤 높이\n",
        "driver.execute_script(\"window.scrollTo(0, 350)\") \n",
        "\n",
        "input_freedom = driver.find_element_by_xpath('//*[@id=\"freedom\"]') # 3,5,6등\n",
        "input_alpha = driver.find_element_by_xpath('//*[@id=\"level\"]') # 0.05등\n",
        "calcul_button = driver.find_element_by_xpath('//*[@id=\"calculator\"]/div/div[1]/div[3]/div/button')\n",
        "\n",
        "print('Input Freedom : ')\n",
        "input_freedom.send_keys(input())\n",
        "print('Input Alpha : ')\n",
        "input_alpha.send_keys(input())\n",
        "\n",
        "# 계산 버튼 클릭\n",
        "driver.execute_script(\"arguments[0].click();\", calcul_button)\n",
        "\n",
        "# 스크롤 다운\n",
        "driver.execute_script(\"window.scrollTo(0, 200)\") \n",
        "# 밸류 얻어오기\n",
        "two_tail_value = driver.find_element_by_xpath('//*[@id=\"tright\"]')\n",
        "print(two_tail_value.text)\n",
        "two_tail_value = np.float(two_tail_value.text)"
      ],
      "execution_count": 60,
      "outputs": [
        {
          "output_type": "stream",
          "text": [
            "/usr/local/lib/python3.7/dist-packages/ipykernel_launcher.py:6: DeprecationWarning: use options instead of chrome_options\n",
            "  \n"
          ],
          "name": "stderr"
        },
        {
          "output_type": "stream",
          "text": [
            "1979\n",
            "Input Freedom : \n",
            "10\n",
            "Input Alpha : \n",
            "0.05\n",
            "2.2281\n"
          ],
          "name": "stdout"
        }
      ]
    },
    {
      "cell_type": "code",
      "metadata": {
        "id": "MNV5RHD4IPyU",
        "outputId": "ba635a75-ccaf-4f58-861f-5d5473f3555d",
        "colab": {
          "base_uri": "https://localhost:8080/"
        }
      },
      "source": [
        "two_tail_value"
      ],
      "execution_count": 61,
      "outputs": [
        {
          "output_type": "execute_result",
          "data": {
            "text/plain": [
              "2.2281"
            ]
          },
          "metadata": {
            "tags": []
          },
          "execution_count": 61
        }
      ]
    },
    {
      "cell_type": "code",
      "metadata": {
        "id": "ZD20b5NEyiM8"
      },
      "source": [
        "def calcul_PI(a,size):\n",
        "  upper_limit = 0\n",
        "  lower_limit = 0\n",
        "  \n",
        "  liberal = size-2\n",
        "  t_value = \n"
      ],
      "execution_count": null,
      "outputs": []
    }
  ]
}