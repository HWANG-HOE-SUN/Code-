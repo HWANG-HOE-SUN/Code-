{
  "nbformat": 4,
  "nbformat_minor": 0,
  "metadata": {
    "colab": {
      "name": "DAPROG_수학코드구현.ipynb",
      "provenance": [],
      "collapsed_sections": [],
      "authorship_tag": "ABX9TyO2QbowqsTDQAnchuZWl6fg",
      "include_colab_link": true
    },
    "kernelspec": {
      "name": "python3",
      "display_name": "Python 3"
    },
    "language_info": {
      "name": "python"
    }
  },
  "cells": [
    {
      "cell_type": "markdown",
      "metadata": {
        "id": "view-in-github",
        "colab_type": "text"
      },
      "source": [
        "<a href=\"https://colab.research.google.com/github/HWANG-HOE-SUN/Code-/blob/main/DAPROG_%EC%88%98%ED%95%99%EC%BD%94%EB%93%9C%EA%B5%AC%ED%98%84.ipynb\" target=\"_parent\"><img src=\"https://colab.research.google.com/assets/colab-badge.svg\" alt=\"Open In Colab\"/></a>"
      ]
    },
    {
      "cell_type": "code",
      "metadata": {
        "id": "pb0uvVVE32Fi"
      },
      "source": [
        "from math import *\n",
        "import numpy as np\n",
        "import sys\n",
        "import matplotlib.pyplot as plt"
      ],
      "execution_count": 1,
      "outputs": []
    },
    {
      "cell_type": "code",
      "metadata": {
        "id": "L5Hbx6rN33L1"
      },
      "source": [
        "def DTW(A, B, window=sys.maxsize, d=lambda x, y: abs(x - y)):\n",
        "  # 비용 행렬 초기화\n",
        "  A, B = np.array(A), np.array(B)\n",
        "  M, N = len(A), len(B)\n",
        "  cost = sys.maxsize * np.ones((M, N))\n",
        "\n",
        "  # 첫번째 로우,컬럼 채우기\n",
        "  cost[0, 0] = d(A[0], B[0])\n",
        "  for i in range(1, M):\n",
        "    cost[i, 0] = cost[i - 1, 0] + d(A[i], B[0])\n",
        "\n",
        "  for j in range(1, N):\n",
        "    cost[0, j] = cost[0, j - 1] + d(A[0], B[j])\n",
        "  # 나머지 행렬 채우기\n",
        "  for i in range(1, M):\n",
        "    for j in range(max(1, i - window), min(N, i + window)):\n",
        "      choices = cost[i - 1, j - 1], cost[i, j - 1], cost[i - 1, j]\n",
        "      cost[i, j] = min(choices) + d(A[i], B[j])\n",
        "\n",
        "  # 최적 경로 구하기\n",
        "  n, m = N - 1, M - 1\n",
        "  path = []\n",
        "\n",
        "  while (m, n) != (0, 0):\n",
        "    path.append((m, n))\n",
        "    m, n = min((m - 1, n), (m, n - 1), (m - 1, n - 1), key=lambda x: cost[x[0], x[1]])\n",
        "\n",
        "  path.append((0, 0))\n",
        "\n",
        "  return cost[-1, -1], path"
      ],
      "execution_count": 7,
      "outputs": []
    },
    {
      "cell_type": "code",
      "metadata": {
        "id": "WXOHNrph4ARD"
      },
      "source": [
        "def main():\n",
        "  A = np.array([1,2,3,4,2,3])\n",
        "  B = np.array([7,8,5,9,11,9])\n",
        "\n",
        "  cost, path = DTW(A, B, window = 6)\n",
        "  print('Total Distance is ', cost)\n",
        "\n",
        "  offset = 5\n",
        "  plt.xlim([-1, max(len(A), len(B)) + 1])\n",
        "  plt.plot(A)\n",
        "  plt.plot(B + offset)\n",
        "  for (x1, x2) in path:\n",
        "    plt.plot([x1, x2], [A[x1], B[x2] + offset])\n",
        "  plt.show()\n"
      ],
      "execution_count": 3,
      "outputs": []
    },
    {
      "cell_type": "code",
      "metadata": {
        "colab": {
          "base_uri": "https://localhost:8080/",
          "height": 283
        },
        "id": "fB1KWg5W4egf",
        "outputId": "6ff0fc2f-dd88-429e-f24f-0a673990b8f2"
      },
      "source": [
        "if __name__ == '__main__':\n",
        "  main()"
      ],
      "execution_count": 4,
      "outputs": [
        {
          "output_type": "stream",
          "text": [
            "Total Distance is  34.0\n"
          ],
          "name": "stdout"
        },
        {
          "output_type": "display_data",
          "data": {
            "image/png": "[encoded data removed]",
            "text/plain": [
              "<Figure size 432x288 with 1 Axes>"
            ]
          },
          "metadata": {
            "tags": [],
            "needs_background": "light"
          }
        }
      ]
    },
    {
      "cell_type": "markdown",
      "metadata": {
        "id": "ybxuJBI_-cbG"
      },
      "source": [
        "### DAPROG 코드 구현"
      ]
    },
    {
      "cell_type": "code",
      "metadata": {
        "id": "zjmOfQl35wZd"
      },
      "source": [
        "A = np.array([4,6,5,4,2,7])\n",
        "B = np.array([7,8,5,9,11,9])\n",
        "\n",
        "dtw_result = DTW(A,B,window=6)"
      ],
      "execution_count": 19,
      "outputs": []
    },
    {
      "cell_type": "code",
      "metadata": {
        "colab": {
          "base_uri": "https://localhost:8080/"
        },
        "id": "VdcXPupb6KCJ",
        "outputId": "b523f6cf-5ccf-49a8-ddd6-6d50ac63f5e0"
      },
      "source": [
        "dtw_result[1] # Path Matching(index,index)"
      ],
      "execution_count": 18,
      "outputs": [
        {
          "output_type": "execute_result",
          "data": {
            "text/plain": [
              "[(5, 5), (5, 4), (5, 3), (4, 2), (3, 2), (2, 2), (1, 1), (0, 0)]"
            ]
          },
          "metadata": {
            "tags": []
          },
          "execution_count": 18
        }
      ]
    },
    {
      "cell_type": "code",
      "metadata": {
        "colab": {
          "base_uri": "https://localhost:8080/",
          "height": 283
        },
        "id": "TCg84SYM6PLp",
        "outputId": "1064598f-874d-4358-af45-1f49e8f991a6"
      },
      "source": [
        "cost, path = DTW(A, B, window = 6)\n",
        "print('Total Distance is ', cost)\n",
        "\n",
        "offset = 5\n",
        "plt.xlim([-1, max(len(A), len(B)) + 1])\n",
        "plt.plot(A)\n",
        "plt.plot(B + offset)\n",
        "for (x1, x2) in path:\n",
        "  plt.plot([x1, x2], [A[x1], B[x2] + offset])\n",
        "plt.show()"
      ],
      "execution_count": 21,
      "outputs": [
        {
          "output_type": "stream",
          "text": [
            "Total Distance is  17.0\n"
          ],
          "name": "stdout"
        },
        {
          "output_type": "display_data",
          "data": {
            "image/png": "[encoded data removed]",
            "text/plain": [
              "<Figure size 432x288 with 1 Axes>"
            ]
          },
          "metadata": {
            "tags": [],
            "needs_background": "light"
          }
        }
      ]
    },
    {
      "cell_type": "code",
      "metadata": {
        "colab": {
          "base_uri": "https://localhost:8080/"
        },
        "id": "VWqY1CIh7aVg",
        "outputId": "41949ae4-787d-4d17-a2cb-a4d7ed3a42d7"
      },
      "source": [
        "path.reverse() # 마지막 매칭부터 되어있으므로 리스트 순서를 뒤집는다.\n",
        "path"
      ],
      "execution_count": 30,
      "outputs": [
        {
          "output_type": "execute_result",
          "data": {
            "text/plain": [
              "[(0, 0), (1, 1), (2, 2), (3, 2), (4, 2), (5, 3), (5, 4), (5, 5)]"
            ]
          },
          "metadata": {
            "tags": []
          },
          "execution_count": 30
        }
      ]
    },
    {
      "cell_type": "code",
      "metadata": {
        "colab": {
          "base_uri": "https://localhost:8080/"
        },
        "id": "iarnyxm27tBF",
        "outputId": "9c274896-c8eb-42f6-bda5-025e75b4bcdb"
      },
      "source": [
        "[x[0] for x in path], [x[1] for x in path]"
      ],
      "execution_count": 34,
      "outputs": [
        {
          "output_type": "execute_result",
          "data": {
            "text/plain": [
              "([0, 1, 2, 3, 4, 5, 5, 5], [0, 1, 2, 2, 2, 3, 4, 5])"
            ]
          },
          "metadata": {
            "tags": []
          },
          "execution_count": 34
        }
      ]
    },
    {
      "cell_type": "code",
      "metadata": {
        "id": "jN7o8aa18L9E"
      },
      "source": [
        "x_train = np.array([x[0] for x in path])\n",
        "y_train = np.array([x[1] for x in path])"
      ],
      "execution_count": 37,
      "outputs": []
    },
    {
      "cell_type": "code",
      "metadata": {
        "colab": {
          "base_uri": "https://localhost:8080/"
        },
        "id": "egLXe0Ut-eSF",
        "outputId": "4f43eb3e-03de-48ba-d853-6f9f61fe743a"
      },
      "source": [
        "# 그라디언트 부스트 방식으로 선형회귀 수행\n",
        "\n",
        "W = 0.0\n",
        "b = 0.0\n",
        "\n",
        "n_data = len(x_train)\n",
        "\n",
        "epochs = 5000\n",
        "learning_rate = 0.01\n",
        "\n",
        "for i in range(epochs):\n",
        "    hypothesis = x_train * W + b\n",
        "    cost = np.sum((hypothesis - y_train) ** 2) / n_data\n",
        "    gradient_w = np.sum((W * x_train - y_train + b) * 2 * x_train) / n_data\n",
        "    gradient_b = np.sum((W * x_train - y_train + b) * 2) / n_data\n",
        "\n",
        "    W -= learning_rate * gradient_w\n",
        "    b -= learning_rate * gradient_b\n",
        "\n",
        "    if i % 100 == 0:\n",
        "        print('Epoch ({:10d}/{:10d}) cost: {:10f}, W: {:10f}, b:{:10f}'.format(i, epochs, cost, W, b))\n",
        "\n",
        "print('W: {:10f}'.format(W))\n",
        "print('b: {:10f}'.format(b))\n",
        "print('result : ')\n",
        "print(x_train * W + b)"
      ],
      "execution_count": 39,
      "outputs": [
        {
          "output_type": "stream",
          "text": [
            "Epoch (         0/      5000) cost:   7.875000, W:   0.197500, b:  0.047500\n",
            "Epoch (       100/      5000) cost:   0.443636, W:   0.718428, b:  0.141687\n",
            "Epoch (       200/      5000) cost:   0.443255, W:   0.722966, b:  0.122982\n",
            "Epoch (       300/      5000) cost:   0.443111, W:   0.725759, b:  0.111466\n",
            "Epoch (       400/      5000) cost:   0.443057, W:   0.727478, b:  0.104377\n",
            "Epoch (       500/      5000) cost:   0.443036, W:   0.728537, b:  0.100013\n",
            "Epoch (       600/      5000) cost:   0.443028, W:   0.729189, b:  0.097326\n",
            "Epoch (       700/      5000) cost:   0.443025, W:   0.729590, b:  0.095672\n",
            "Epoch (       800/      5000) cost:   0.443024, W:   0.729837, b:  0.094654\n",
            "Epoch (       900/      5000) cost:   0.443024, W:   0.729989, b:  0.094027\n",
            "Epoch (      1000/      5000) cost:   0.443023, W:   0.730083, b:  0.093641\n",
            "Epoch (      1100/      5000) cost:   0.443023, W:   0.730140, b:  0.093404\n",
            "Epoch (      1200/      5000) cost:   0.443023, W:   0.730176, b:  0.093257\n",
            "Epoch (      1300/      5000) cost:   0.443023, W:   0.730198, b:  0.093167\n",
            "Epoch (      1400/      5000) cost:   0.443023, W:   0.730211, b:  0.093112\n",
            "Epoch (      1500/      5000) cost:   0.443023, W:   0.730219, b:  0.093078\n",
            "Epoch (      1600/      5000) cost:   0.443023, W:   0.730224, b:  0.093057\n",
            "Epoch (      1700/      5000) cost:   0.443023, W:   0.730228, b:  0.093044\n",
            "Epoch (      1800/      5000) cost:   0.443023, W:   0.730229, b:  0.093036\n",
            "Epoch (      1900/      5000) cost:   0.443023, W:   0.730231, b:  0.093031\n",
            "Epoch (      2000/      5000) cost:   0.443023, W:   0.730231, b:  0.093028\n",
            "Epoch (      2100/      5000) cost:   0.443023, W:   0.730232, b:  0.093026\n",
            "Epoch (      2200/      5000) cost:   0.443023, W:   0.730232, b:  0.093025\n",
            "Epoch (      2300/      5000) cost:   0.443023, W:   0.730232, b:  0.093024\n",
            "Epoch (      2400/      5000) cost:   0.443023, W:   0.730232, b:  0.093024\n",
            "Epoch (      2500/      5000) cost:   0.443023, W:   0.730232, b:  0.093024\n",
            "Epoch (      2600/      5000) cost:   0.443023, W:   0.730232, b:  0.093024\n",
            "Epoch (      2700/      5000) cost:   0.443023, W:   0.730233, b:  0.093023\n",
            "Epoch (      2800/      5000) cost:   0.443023, W:   0.730233, b:  0.093023\n",
            "Epoch (      2900/      5000) cost:   0.443023, W:   0.730233, b:  0.093023\n",
            "Epoch (      3000/      5000) cost:   0.443023, W:   0.730233, b:  0.093023\n",
            "Epoch (      3100/      5000) cost:   0.443023, W:   0.730233, b:  0.093023\n",
            "Epoch (      3200/      5000) cost:   0.443023, W:   0.730233, b:  0.093023\n",
            "Epoch (      3300/      5000) cost:   0.443023, W:   0.730233, b:  0.093023\n",
            "Epoch (      3400/      5000) cost:   0.443023, W:   0.730233, b:  0.093023\n",
            "Epoch (      3500/      5000) cost:   0.443023, W:   0.730233, b:  0.093023\n",
            "Epoch (      3600/      5000) cost:   0.443023, W:   0.730233, b:  0.093023\n",
            "Epoch (      3700/      5000) cost:   0.443023, W:   0.730233, b:  0.093023\n",
            "Epoch (      3800/      5000) cost:   0.443023, W:   0.730233, b:  0.093023\n",
            "Epoch (      3900/      5000) cost:   0.443023, W:   0.730233, b:  0.093023\n",
            "Epoch (      4000/      5000) cost:   0.443023, W:   0.730233, b:  0.093023\n",
            "Epoch (      4100/      5000) cost:   0.443023, W:   0.730233, b:  0.093023\n",
            "Epoch (      4200/      5000) cost:   0.443023, W:   0.730233, b:  0.093023\n",
            "Epoch (      4300/      5000) cost:   0.443023, W:   0.730233, b:  0.093023\n",
            "Epoch (      4400/      5000) cost:   0.443023, W:   0.730233, b:  0.093023\n",
            "Epoch (      4500/      5000) cost:   0.443023, W:   0.730233, b:  0.093023\n",
            "Epoch (      4600/      5000) cost:   0.443023, W:   0.730233, b:  0.093023\n",
            "Epoch (      4700/      5000) cost:   0.443023, W:   0.730233, b:  0.093023\n",
            "Epoch (      4800/      5000) cost:   0.443023, W:   0.730233, b:  0.093023\n",
            "Epoch (      4900/      5000) cost:   0.443023, W:   0.730233, b:  0.093023\n",
            "W:   0.730233\n",
            "b:   0.093023\n",
            "result : \n",
            "[0.09302326 0.82325581 1.55348837 2.28372093 3.01395349 3.74418605\n",
            " 3.74418605 3.74418605]\n"
          ],
          "name": "stdout"
        }
      ]
    },
    {
      "cell_type": "code",
      "metadata": {
        "colab": {
          "base_uri": "https://localhost:8080/",
          "height": 283
        },
        "id": "EsFJYMG5-eY3",
        "outputId": "1947d7c9-8c78-47e1-b98c-6a61ab6f6c7f"
      },
      "source": [
        "plt.plot(x_train,y_train,'b') # 참값(실제 DTW매칭)\n",
        "plt.plot(x_train,x_train * W + b,'r') # DTW매칭에 대한 선형 회귀"
      ],
      "execution_count": 55,
      "outputs": [
        {
          "output_type": "execute_result",
          "data": {
            "text/plain": [
              "[<matplotlib.lines.Line2D at 0x7f3c505bf750>]"
            ]
          },
          "metadata": {
            "tags": []
          },
          "execution_count": 55
        },
        {
          "output_type": "display_data",
          "data": {
            "image/png": "[encoded data removed]",
            "text/plain": [
              "<Figure size 432x288 with 1 Axes>"
            ]
          },
          "metadata": {
            "tags": [],
            "needs_background": "light"
          }
        }
      ]
    }
  ]
}